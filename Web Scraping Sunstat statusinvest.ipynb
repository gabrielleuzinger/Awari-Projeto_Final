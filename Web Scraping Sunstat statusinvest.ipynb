{
 "cells": [
  {
   "cell_type": "markdown",
   "metadata": {},
   "source": [
    "# Web Scraping Sunstat statusinvest"
   ]
  },
  {
   "cell_type": "markdown",
   "metadata": {},
   "source": [
    "Este notebook é parte das tarefas do curso de Data Science da [Awari](https://awari.com.br/). **O objetivo deste notebook é recuperar os dados fundamentalistas das empresas com ações na bolsa de valores do Brasil**.\n",
    "\n",
    "Foram recuperados 576 ações."
   ]
  },
  {
   "cell_type": "code",
   "execution_count": 1,
   "metadata": {},
   "outputs": [],
   "source": [
    "from selenium import webdriver\n",
    "from webdriver_manager.chrome import ChromeDriverManager\n",
    "from selenium.webdriver.common.keys import Keys\n",
    "from selenium.webdriver.common.action_chains import ActionChains\n",
    "from time import sleep\n",
    "from selenium.webdriver.support.ui import WebDriverWait\n",
    "from selenium.webdriver.support import expected_conditions as EC\n",
    "from selenium.webdriver.common.by import By\n",
    "import matplotlib.pyplot as plt\n",
    "import pandas as pd\n",
    "import numpy as np\n",
    "import warnings\n",
    "warnings.simplefilter(\"ignore\")"
   ]
  },
  {
   "cell_type": "code",
   "execution_count": 2,
   "metadata": {
    "scrolled": true
   },
   "outputs": [
    {
     "data": {
      "text/html": [
       "<div>\n",
       "<style scoped>\n",
       "    .dataframe tbody tr th:only-of-type {\n",
       "        vertical-align: middle;\n",
       "    }\n",
       "\n",
       "    .dataframe tbody tr th {\n",
       "        vertical-align: top;\n",
       "    }\n",
       "\n",
       "    .dataframe thead th {\n",
       "        text-align: right;\n",
       "    }\n",
       "</style>\n",
       "<table border=\"1\" class=\"dataframe\">\n",
       "  <thead>\n",
       "    <tr style=\"text-align: right;\">\n",
       "      <th></th>\n",
       "      <th>TICKER</th>\n",
       "      <th>PRECO</th>\n",
       "      <th>DY</th>\n",
       "      <th>P/L</th>\n",
       "      <th>P/VP</th>\n",
       "      <th>P/ATIVOS</th>\n",
       "      <th>MARGEM BRUTA</th>\n",
       "      <th>MARGEM EBIT</th>\n",
       "      <th>MARG. LIQUIDA</th>\n",
       "      <th>P/EBIT</th>\n",
       "      <th>...</th>\n",
       "      <th>PATRIMONIO / ATIVOS</th>\n",
       "      <th>PASSIVOS / ATIVOS</th>\n",
       "      <th>GIRO ATIVOS</th>\n",
       "      <th>CAGR RECEITAS 5 ANOS</th>\n",
       "      <th>CAGR LUCROS 5 ANOS</th>\n",
       "      <th>LIQUIDEZ MEDIA DIARIA</th>\n",
       "      <th>VPA</th>\n",
       "      <th>LPA</th>\n",
       "      <th>PEG Ratio</th>\n",
       "      <th>VALOR DE MERCADO</th>\n",
       "    </tr>\n",
       "  </thead>\n",
       "  <tbody>\n",
       "    <tr>\n",
       "      <th>0</th>\n",
       "      <td>AALR3</td>\n",
       "      <td>10,45</td>\n",
       "      <td>NaN</td>\n",
       "      <td>-18,84</td>\n",
       "      <td>1,03</td>\n",
       "      <td>0,48</td>\n",
       "      <td>21,41</td>\n",
       "      <td>2,55</td>\n",
       "      <td>-6,71</td>\n",
       "      <td>49,48</td>\n",
       "      <td>...</td>\n",
       "      <td>0,47</td>\n",
       "      <td>0,52</td>\n",
       "      <td>0,38</td>\n",
       "      <td>5,83</td>\n",
       "      <td>NaN</td>\n",
       "      <td>16.166.248,62</td>\n",
       "      <td>10,15</td>\n",
       "      <td>-0,55</td>\n",
       "      <td>0,02</td>\n",
       "      <td>1.232.611.142,72</td>\n",
       "    </tr>\n",
       "    <tr>\n",
       "      <th>1</th>\n",
       "      <td>ABCB4</td>\n",
       "      <td>15,09</td>\n",
       "      <td>6,16</td>\n",
       "      <td>9,39</td>\n",
       "      <td>0,78</td>\n",
       "      <td>0,07</td>\n",
       "      <td>13,55</td>\n",
       "      <td>8,97</td>\n",
       "      <td>8,56</td>\n",
       "      <td>8,96</td>\n",
       "      <td>...</td>\n",
       "      <td>0,09</td>\n",
       "      <td>0,91</td>\n",
       "      <td>0,09</td>\n",
       "      <td>1,17</td>\n",
       "      <td>-2,60</td>\n",
       "      <td>12.260.473,74</td>\n",
       "      <td>19,43</td>\n",
       "      <td>1,61</td>\n",
       "      <td>-0,45</td>\n",
       "      <td>3.411.699.880,62</td>\n",
       "    </tr>\n",
       "    <tr>\n",
       "      <th>2</th>\n",
       "      <td>ABEV3</td>\n",
       "      <td>17,07</td>\n",
       "      <td>2,87</td>\n",
       "      <td>20,81</td>\n",
       "      <td>3,28</td>\n",
       "      <td>2,01</td>\n",
       "      <td>52,95</td>\n",
       "      <td>27,05</td>\n",
       "      <td>20,69</td>\n",
       "      <td>15,92</td>\n",
       "      <td>...</td>\n",
       "      <td>0,61</td>\n",
       "      <td>0,37</td>\n",
       "      <td>0,47</td>\n",
       "      <td>4,56</td>\n",
       "      <td>-1,85</td>\n",
       "      <td>516.528.139,00</td>\n",
       "      <td>5,21</td>\n",
       "      <td>0,82</td>\n",
       "      <td>0,79</td>\n",
       "      <td>268.706.640.178,65</td>\n",
       "    </tr>\n",
       "    <tr>\n",
       "      <th>3</th>\n",
       "      <td>ADHM3</td>\n",
       "      <td>1,56</td>\n",
       "      <td>NaN</td>\n",
       "      <td>-4,09</td>\n",
       "      <td>-1,29</td>\n",
       "      <td>105,12</td>\n",
       "      <td>100,00</td>\n",
       "      <td>-13.548,48</td>\n",
       "      <td>-18.860,61</td>\n",
       "      <td>-5,69</td>\n",
       "      <td>...</td>\n",
       "      <td>-81,72</td>\n",
       "      <td>82,72</td>\n",
       "      <td>0,14</td>\n",
       "      <td>NaN</td>\n",
       "      <td>NaN</td>\n",
       "      <td>94.201,44</td>\n",
       "      <td>-1,21</td>\n",
       "      <td>-0,38</td>\n",
       "      <td>-0,58</td>\n",
       "      <td>25.439.770,20</td>\n",
       "    </tr>\n",
       "    <tr>\n",
       "      <th>4</th>\n",
       "      <td>AERI3</td>\n",
       "      <td>9,29</td>\n",
       "      <td>NaN</td>\n",
       "      <td>59,50</td>\n",
       "      <td>7,19</td>\n",
       "      <td>2,56</td>\n",
       "      <td>10,82</td>\n",
       "      <td>8,71</td>\n",
       "      <td>4,61</td>\n",
       "      <td>31,49</td>\n",
       "      <td>...</td>\n",
       "      <td>0,36</td>\n",
       "      <td>0,64</td>\n",
       "      <td>0,93</td>\n",
       "      <td>NaN</td>\n",
       "      <td>NaN</td>\n",
       "      <td>40.789.510,62</td>\n",
       "      <td>1,29</td>\n",
       "      <td>0,16</td>\n",
       "      <td>2,28</td>\n",
       "      <td>7.110.460.871,68</td>\n",
       "    </tr>\n",
       "  </tbody>\n",
       "</table>\n",
       "<p>5 rows × 30 columns</p>\n",
       "</div>"
      ],
      "text/plain": [
       "  TICKER  PRECO    DY     P/L   P/VP P/ATIVOS MARGEM BRUTA MARGEM EBIT  \\\n",
       "0  AALR3  10,45   NaN  -18,84   1,03     0,48        21,41        2,55   \n",
       "1  ABCB4  15,09  6,16    9,39   0,78     0,07        13,55        8,97   \n",
       "2  ABEV3  17,07  2,87   20,81   3,28     2,01        52,95       27,05   \n",
       "3  ADHM3   1,56   NaN   -4,09  -1,29   105,12       100,00  -13.548,48   \n",
       "4  AERI3   9,29   NaN   59,50   7,19     2,56        10,82        8,71   \n",
       "\n",
       "  MARG. LIQUIDA P/EBIT  ... PATRIMONIO / ATIVOS PASSIVOS / ATIVOS GIRO ATIVOS  \\\n",
       "0         -6,71  49,48  ...                0,47              0,52        0,38   \n",
       "1          8,56   8,96  ...                0,09              0,91        0,09   \n",
       "2         20,69  15,92  ...                0,61              0,37        0,47   \n",
       "3    -18.860,61  -5,69  ...              -81,72             82,72        0,14   \n",
       "4          4,61  31,49  ...                0,36              0,64        0,93   \n",
       "\n",
       "  CAGR RECEITAS 5 ANOS CAGR LUCROS 5 ANOS  LIQUIDEZ MEDIA DIARIA    VPA  \\\n",
       "0                 5,83                NaN          16.166.248,62  10,15   \n",
       "1                 1,17              -2,60          12.260.473,74  19,43   \n",
       "2                 4,56              -1,85         516.528.139,00   5,21   \n",
       "3                  NaN                NaN              94.201,44  -1,21   \n",
       "4                  NaN                NaN          40.789.510,62   1,29   \n",
       "\n",
       "     LPA  PEG Ratio    VALOR DE MERCADO  \n",
       "0  -0,55       0,02    1.232.611.142,72  \n",
       "1   1,61      -0,45    3.411.699.880,62  \n",
       "2   0,82       0,79  268.706.640.178,65  \n",
       "3  -0,38      -0,58       25.439.770,20  \n",
       "4   0,16       2,28    7.110.460.871,68  \n",
       "\n",
       "[5 rows x 30 columns]"
      ]
     },
     "execution_count": 2,
     "metadata": {},
     "output_type": "execute_result"
    }
   ],
   "source": [
    "df = pd.read_csv(r'/Users/leuzinger/Dropbox/Data Science/Awari/Projeto Final/statusinvest-acoes.csv',sep=';')\n",
    "df.head()"
   ]
  },
  {
   "cell_type": "code",
   "execution_count": 47,
   "metadata": {},
   "outputs": [],
   "source": [
    "def get_data(alvo):\n",
    "    #abrir a página da Status invest\n",
    "    driver = webdriver.Chrome(ChromeDriverManager().install())\n",
    "    driver.implicitly_wait(10)\n",
    "    driver.get(\"https://statusinvest.com.br/acoes\")\n",
    "    \n",
    "    #abrir pesquisa\n",
    "    botão_pesquisa = driver.find_elements_by_xpath('//*[@id=\"main-nav-nav\"]/div/div/div/ul/li[2]/a/i')[0]\n",
    "    botão_pesquisa.click()\n",
    "    \n",
    "    #procurar ação/empresa\n",
    "    caixa_pesquisa = driver.find_elements_by_xpath('//*[@id=\"main-search\"]/div[1]/span[1]/input[2]')[0]\n",
    "    caixa_pesquisa.send_keys(alvo)\n",
    "    sleep(1)\n",
    "    \n",
    "    resultado_final = pd.DataFrame(columns=['ATUAL','2020','2019','2018','2017','2016','2015','2014','2013','2012'])\n",
    "    \n",
    "    try:\n",
    "        resultado_pesquisa = driver.find_elements_by_xpath('//*[@id=\"main-search\"]/div[2]/div/div/a')[0]\n",
    "        resultado_pesquisa.click()\n",
    "        \n",
    "        \n",
    "        #abrir hisórico da empresa\n",
    "        botão_histórico = driver.find_elements_by_xpath('//*[@id=\"indicators-section\"]/div[1]/div/button[2]')[0]\n",
    "        botão_histórico.click()\n",
    "        \n",
    "        #coletar e salvar dados da empresa\n",
    "        for n in range(2,7):\n",
    "            índices = driver.find_elements_by_xpath(f'//*[@id=\"indicators-section\"]/div[3]/div[{n}]/div/div[1]')[0]\n",
    "            todos_índices = índices.find_elements_by_tag_name(\"h3\")\n",
    "            \n",
    "            linhas = []\n",
    "            for i in range(len(todos_índices)):\n",
    "                linhas.append(todos_índices[i].text)\n",
    "            \n",
    "            tabela = driver.find_element_by_xpath(f'//*[@id=\"indicators-section\"]/div[3]/div[{n}]/div/div[2]')\n",
    "            todos_elementos = tabela.find_elements_by_css_selector(\"*\")\n",
    "            \n",
    "            colunas = todos_elementos[1].text.split('\\n')\n",
    "            resultado = pd.DataFrame(index = linhas,columns=colunas)\n",
    "            dados = todos_elementos[0].text.split('\\n')\n",
    "        \n",
    "            for i in range(len(linhas)):\n",
    "                for k in range(len(colunas)):\n",
    "                    m = (i+1)*len(colunas)+k\n",
    "                    resultado.iloc[i,k] = todos_elementos[0].text.split('\\n')[m]\n",
    "            frames=[resultado_final,resultado]\n",
    "            resultado_final = pd.concat(frames)\n",
    "    except:\n",
    "        pass\n",
    "    driver.quit()\n",
    "\n",
    "    return resultado_final"
   ]
  },
  {
   "cell_type": "code",
   "execution_count": 48,
   "metadata": {},
   "outputs": [
    {
     "name": "stderr",
     "output_type": "stream",
     "text": [
      "\n",
      "\n",
      "INFO:WDM:\n",
      "\n",
      "====== WebDriver manager ======\n",
      "INFO:WDM:====== WebDriver manager ======\n",
      "Current google-chrome version is 92.0.4515\n",
      "INFO:WDM:Current google-chrome version is 92.0.4515\n",
      "Get LATEST driver version for 92.0.4515\n",
      "INFO:WDM:Get LATEST driver version for 92.0.4515\n",
      "Driver [/Users/leuzinger/.wdm/drivers/chromedriver/mac64/92.0.4515.107/chromedriver] found in cache\n",
      "INFO:WDM:Driver [/Users/leuzinger/.wdm/drivers/chromedriver/mac64/92.0.4515.107/chromedriver] found in cache\n"
     ]
    },
    {
     "data": {
      "text/html": [
       "<div>\n",
       "<style scoped>\n",
       "    .dataframe tbody tr th:only-of-type {\n",
       "        vertical-align: middle;\n",
       "    }\n",
       "\n",
       "    .dataframe tbody tr th {\n",
       "        vertical-align: top;\n",
       "    }\n",
       "\n",
       "    .dataframe thead th {\n",
       "        text-align: right;\n",
       "    }\n",
       "</style>\n",
       "<table border=\"1\" class=\"dataframe\">\n",
       "  <thead>\n",
       "    <tr style=\"text-align: right;\">\n",
       "      <th></th>\n",
       "      <th>ATUAL</th>\n",
       "      <th>2020</th>\n",
       "      <th>2019</th>\n",
       "      <th>2018</th>\n",
       "      <th>2017</th>\n",
       "      <th>2016</th>\n",
       "      <th>2015</th>\n",
       "      <th>2014</th>\n",
       "      <th>2013</th>\n",
       "      <th>2012</th>\n",
       "    </tr>\n",
       "  </thead>\n",
       "  <tbody>\n",
       "    <tr>\n",
       "      <th>D.Y</th>\n",
       "      <td>3,07%</td>\n",
       "      <td>1,38%</td>\n",
       "      <td>4,17%</td>\n",
       "      <td>1,62%</td>\n",
       "      <td>0,88%</td>\n",
       "      <td>1,71%</td>\n",
       "      <td>3,45%</td>\n",
       "      <td>1,41%</td>\n",
       "      <td>1,47%</td>\n",
       "      <td>2,46%</td>\n",
       "    </tr>\n",
       "    <tr>\n",
       "      <th>P/L</th>\n",
       "      <td>7,93</td>\n",
       "      <td>7,87</td>\n",
       "      <td>1,90</td>\n",
       "      <td>16,14</td>\n",
       "      <td>13,08</td>\n",
       "      <td>15,17</td>\n",
       "      <td>8,40</td>\n",
       "      <td>8,62</td>\n",
       "      <td>66,93</td>\n",
       "      <td>15,06</td>\n",
       "    </tr>\n",
       "    <tr>\n",
       "      <th>PEG RATIO</th>\n",
       "      <td>0,75</td>\n",
       "      <td>-</td>\n",
       "      <td>0,01</td>\n",
       "      <td>-2,03</td>\n",
       "      <td>0,33</td>\n",
       "      <td>-1,27</td>\n",
       "      <td>0,31</td>\n",
       "      <td>0,01</td>\n",
       "      <td>-1,35</td>\n",
       "      <td>-1,02</td>\n",
       "    </tr>\n",
       "    <tr>\n",
       "      <th>P/VP</th>\n",
       "      <td>2,25</td>\n",
       "      <td>2,24</td>\n",
       "      <td>0,57</td>\n",
       "      <td>2,65</td>\n",
       "      <td>2,73</td>\n",
       "      <td>2,68</td>\n",
       "      <td>1,95</td>\n",
       "      <td>1,94</td>\n",
       "      <td>1,95</td>\n",
       "      <td>0,95</td>\n",
       "    </tr>\n",
       "    <tr>\n",
       "      <th>EV/EBITDA</th>\n",
       "      <td>5,88</td>\n",
       "      <td>6,15</td>\n",
       "      <td>3,15</td>\n",
       "      <td>-</td>\n",
       "      <td>-</td>\n",
       "      <td>-</td>\n",
       "      <td>7,28</td>\n",
       "      <td>6,33</td>\n",
       "      <td>11,47</td>\n",
       "      <td>6,81</td>\n",
       "    </tr>\n",
       "    <tr>\n",
       "      <th>EV/EBIT</th>\n",
       "      <td>6,63</td>\n",
       "      <td>7,02</td>\n",
       "      <td>3,62</td>\n",
       "      <td>10,40</td>\n",
       "      <td>11,23</td>\n",
       "      <td>10,67</td>\n",
       "      <td>10,16</td>\n",
       "      <td>8,29</td>\n",
       "      <td>21,51</td>\n",
       "      <td>8,69</td>\n",
       "    </tr>\n",
       "    <tr>\n",
       "      <th>P/EBITDA</th>\n",
       "      <td>4,18</td>\n",
       "      <td>4,28</td>\n",
       "      <td>0,93</td>\n",
       "      <td>-</td>\n",
       "      <td>-</td>\n",
       "      <td>-</td>\n",
       "      <td>6,00</td>\n",
       "      <td>4,40</td>\n",
       "      <td>8,49</td>\n",
       "      <td>3,99</td>\n",
       "    </tr>\n",
       "    <tr>\n",
       "      <th>P/EBIT</th>\n",
       "      <td>4,72</td>\n",
       "      <td>4,89</td>\n",
       "      <td>1,07</td>\n",
       "      <td>7,13</td>\n",
       "      <td>9,25</td>\n",
       "      <td>9,16</td>\n",
       "      <td>8,37</td>\n",
       "      <td>5,76</td>\n",
       "      <td>15,92</td>\n",
       "      <td>5,09</td>\n",
       "    </tr>\n",
       "    <tr>\n",
       "      <th>VPA</th>\n",
       "      <td>10,46</td>\n",
       "      <td>10,35</td>\n",
       "      <td>40,20</td>\n",
       "      <td>28,16</td>\n",
       "      <td>24,09</td>\n",
       "      <td>20,26</td>\n",
       "      <td>17,53</td>\n",
       "      <td>14,29</td>\n",
       "      <td>11,86</td>\n",
       "      <td>19,74</td>\n",
       "    </tr>\n",
       "    <tr>\n",
       "      <th>P/ATIVO</th>\n",
       "      <td>0,55</td>\n",
       "      <td>0,53</td>\n",
       "      <td>0,12</td>\n",
       "      <td>0,58</td>\n",
       "      <td>0,75</td>\n",
       "      <td>0,76</td>\n",
       "      <td>0,54</td>\n",
       "      <td>0,49</td>\n",
       "      <td>0,50</td>\n",
       "      <td>0,22</td>\n",
       "    </tr>\n",
       "    <tr>\n",
       "      <th>LPA</th>\n",
       "      <td>2,96</td>\n",
       "      <td>2,94</td>\n",
       "      <td>11,97</td>\n",
       "      <td>4,62</td>\n",
       "      <td>5,02</td>\n",
       "      <td>3,59</td>\n",
       "      <td>4,07</td>\n",
       "      <td>3,21</td>\n",
       "      <td>0,35</td>\n",
       "      <td>1,24</td>\n",
       "    </tr>\n",
       "    <tr>\n",
       "      <th>P/SR</th>\n",
       "      <td>1,26</td>\n",
       "      <td>1,31</td>\n",
       "      <td>0,24</td>\n",
       "      <td>1,32</td>\n",
       "      <td>1,44</td>\n",
       "      <td>1,36</td>\n",
       "      <td>0,94</td>\n",
       "      <td>0,81</td>\n",
       "      <td>0,97</td>\n",
       "      <td>0,71</td>\n",
       "    </tr>\n",
       "    <tr>\n",
       "      <th>P/CAP. GIRO</th>\n",
       "      <td>3,06</td>\n",
       "      <td>3,94</td>\n",
       "      <td>0,87</td>\n",
       "      <td>4,96</td>\n",
       "      <td>3,81</td>\n",
       "      <td>4,30</td>\n",
       "      <td>3,35</td>\n",
       "      <td>4,45</td>\n",
       "      <td>3,30</td>\n",
       "      <td>2,84</td>\n",
       "    </tr>\n",
       "    <tr>\n",
       "      <th>P/ATIVO CIRC. LIQ.</th>\n",
       "      <td>-0,86</td>\n",
       "      <td>-0,79</td>\n",
       "      <td>-0,18</td>\n",
       "      <td>-0,92</td>\n",
       "      <td>-1,31</td>\n",
       "      <td>-1,30</td>\n",
       "      <td>-0,91</td>\n",
       "      <td>-0,80</td>\n",
       "      <td>-0,76</td>\n",
       "      <td>-0,34</td>\n",
       "    </tr>\n",
       "    <tr>\n",
       "      <th>DÍV. LÍQUIDA/PL</th>\n",
       "      <td>0,91</td>\n",
       "      <td>0,97</td>\n",
       "      <td>1,35</td>\n",
       "      <td>1,21</td>\n",
       "      <td>0,58</td>\n",
       "      <td>0,44</td>\n",
       "      <td>0,42</td>\n",
       "      <td>0,85</td>\n",
       "      <td>0,69</td>\n",
       "      <td>0,67</td>\n",
       "    </tr>\n",
       "    <tr>\n",
       "      <th>DÍV. LÍQUIDA/EBITDA</th>\n",
       "      <td>1,70</td>\n",
       "      <td>1,86</td>\n",
       "      <td>2,22</td>\n",
       "      <td>-</td>\n",
       "      <td>-</td>\n",
       "      <td>-</td>\n",
       "      <td>1,28</td>\n",
       "      <td>1,93</td>\n",
       "      <td>2,98</td>\n",
       "      <td>2,82</td>\n",
       "    </tr>\n",
       "    <tr>\n",
       "      <th>DÍV. LÍQUIDA/EBIT</th>\n",
       "      <td>1,92</td>\n",
       "      <td>2,13</td>\n",
       "      <td>2,55</td>\n",
       "      <td>3,27</td>\n",
       "      <td>1,98</td>\n",
       "      <td>1,51</td>\n",
       "      <td>1,79</td>\n",
       "      <td>2,53</td>\n",
       "      <td>5,59</td>\n",
       "      <td>3,60</td>\n",
       "    </tr>\n",
       "    <tr>\n",
       "      <th>PL/ATIVOS</th>\n",
       "      <td>0,24</td>\n",
       "      <td>0,24</td>\n",
       "      <td>0,22</td>\n",
       "      <td>0,22</td>\n",
       "      <td>0,27</td>\n",
       "      <td>0,28</td>\n",
       "      <td>0,28</td>\n",
       "      <td>0,25</td>\n",
       "      <td>0,26</td>\n",
       "      <td>0,23</td>\n",
       "    </tr>\n",
       "    <tr>\n",
       "      <th>PASSIVO/ATIVOS</th>\n",
       "      <td>0,71</td>\n",
       "      <td>0,72</td>\n",
       "      <td>0,74</td>\n",
       "      <td>0,74</td>\n",
       "      <td>0,67</td>\n",
       "      <td>0,66</td>\n",
       "      <td>0,66</td>\n",
       "      <td>0,69</td>\n",
       "      <td>0,69</td>\n",
       "      <td>0,73</td>\n",
       "    </tr>\n",
       "    <tr>\n",
       "      <th>LIQ. CORRENTE</th>\n",
       "      <td>1,97</td>\n",
       "      <td>1,68</td>\n",
       "      <td>1,86</td>\n",
       "      <td>1,46</td>\n",
       "      <td>1,84</td>\n",
       "      <td>1,74</td>\n",
       "      <td>1,65</td>\n",
       "      <td>1,39</td>\n",
       "      <td>1,82</td>\n",
       "      <td>1,30</td>\n",
       "    </tr>\n",
       "    <tr>\n",
       "      <th>M. BRUTA</th>\n",
       "      <td>33,21%</td>\n",
       "      <td>33,46%</td>\n",
       "      <td>30,48%</td>\n",
       "      <td>25,91%</td>\n",
       "      <td>28,94%</td>\n",
       "      <td>27,02%</td>\n",
       "      <td>24,87%</td>\n",
       "      <td>25,46%</td>\n",
       "      <td>22,10%</td>\n",
       "      <td>28,72%</td>\n",
       "    </tr>\n",
       "    <tr>\n",
       "      <th>M. EBITDA</th>\n",
       "      <td>30,04%</td>\n",
       "      <td>30,53%</td>\n",
       "      <td>26,31%</td>\n",
       "      <td>-%</td>\n",
       "      <td>-%</td>\n",
       "      <td>-%</td>\n",
       "      <td>15,61%</td>\n",
       "      <td>18,36%</td>\n",
       "      <td>11,48%</td>\n",
       "      <td>17,83%</td>\n",
       "    </tr>\n",
       "    <tr>\n",
       "      <th>M. EBIT</th>\n",
       "      <td>26,64%</td>\n",
       "      <td>26,73%</td>\n",
       "      <td>22,92%</td>\n",
       "      <td>18,47%</td>\n",
       "      <td>15,55%</td>\n",
       "      <td>14,83%</td>\n",
       "      <td>11,19%</td>\n",
       "      <td>14,02%</td>\n",
       "      <td>6,12%</td>\n",
       "      <td>13,97%</td>\n",
       "    </tr>\n",
       "    <tr>\n",
       "      <th>M. LÍQUIDA</th>\n",
       "      <td>15,84%</td>\n",
       "      <td>16,63%</td>\n",
       "      <td>12,85%</td>\n",
       "      <td>8,16%</td>\n",
       "      <td>10,99%</td>\n",
       "      <td>8,96%</td>\n",
       "      <td>11,15%</td>\n",
       "      <td>9,37%</td>\n",
       "      <td>1,46%</td>\n",
       "      <td>4,73%</td>\n",
       "    </tr>\n",
       "    <tr>\n",
       "      <th>ROE</th>\n",
       "      <td>28,31%</td>\n",
       "      <td>28,44%</td>\n",
       "      <td>29,78%</td>\n",
       "      <td>16,40%</td>\n",
       "      <td>20,84%</td>\n",
       "      <td>17,70%</td>\n",
       "      <td>23,24%</td>\n",
       "      <td>22,48%</td>\n",
       "      <td>2,92%</td>\n",
       "      <td>6,27%</td>\n",
       "    </tr>\n",
       "    <tr>\n",
       "      <th>ROA</th>\n",
       "      <td>6,88%</td>\n",
       "      <td>6,74%</td>\n",
       "      <td>6,44%</td>\n",
       "      <td>3,60%</td>\n",
       "      <td>5,70%</td>\n",
       "      <td>5,01%</td>\n",
       "      <td>6,42%</td>\n",
       "      <td>5,66%</td>\n",
       "      <td>0,75%</td>\n",
       "      <td>1,45%</td>\n",
       "    </tr>\n",
       "    <tr>\n",
       "      <th>ROIC</th>\n",
       "      <td>14,16%</td>\n",
       "      <td>12,88%</td>\n",
       "      <td>12,58%</td>\n",
       "      <td>10,74%</td>\n",
       "      <td>10,81%</td>\n",
       "      <td>10,32%</td>\n",
       "      <td>7,97%</td>\n",
       "      <td>11,32%</td>\n",
       "      <td>4,60%</td>\n",
       "      <td>5,23%</td>\n",
       "    </tr>\n",
       "    <tr>\n",
       "      <th>GIRO ATIVOS</th>\n",
       "      <td>0,43</td>\n",
       "      <td>0,41</td>\n",
       "      <td>0,50</td>\n",
       "      <td>0,44</td>\n",
       "      <td>0,52</td>\n",
       "      <td>0,56</td>\n",
       "      <td>0,58</td>\n",
       "      <td>0,60</td>\n",
       "      <td>0,52</td>\n",
       "      <td>0,31</td>\n",
       "    </tr>\n",
       "    <tr>\n",
       "      <th>CAGR RECEITAS 5 ANOS</th>\n",
       "      <td>19,79%</td>\n",
       "      <td>19,79%</td>\n",
       "      <td>22,53%</td>\n",
       "      <td>19,00%</td>\n",
       "      <td>25,75%</td>\n",
       "      <td>32,57%</td>\n",
       "      <td>32,16%</td>\n",
       "      <td>33,25%</td>\n",
       "      <td>-%</td>\n",
       "      <td>-%</td>\n",
       "    </tr>\n",
       "    <tr>\n",
       "      <th>CAGR LUCROS 5 ANOS</th>\n",
       "      <td>29,14%</td>\n",
       "      <td>29,14%</td>\n",
       "      <td>28,32%</td>\n",
       "      <td>71,39%</td>\n",
       "      <td>42,17%</td>\n",
       "      <td>28,82%</td>\n",
       "      <td>27,39%</td>\n",
       "      <td>21,14%</td>\n",
       "      <td>-%</td>\n",
       "      <td>-%</td>\n",
       "    </tr>\n",
       "  </tbody>\n",
       "</table>\n",
       "</div>"
      ],
      "text/plain": [
       "                       ATUAL    2020    2019    2018    2017    2016    2015  \\\n",
       "D.Y                    3,07%   1,38%   4,17%   1,62%   0,88%   1,71%   3,45%   \n",
       "P/L                     7,93    7,87    1,90   16,14   13,08   15,17    8,40   \n",
       "PEG RATIO               0,75       -    0,01   -2,03    0,33   -1,27    0,31   \n",
       "P/VP                    2,25    2,24    0,57    2,65    2,73    2,68    1,95   \n",
       "EV/EBITDA               5,88    6,15    3,15       -       -       -    7,28   \n",
       "EV/EBIT                 6,63    7,02    3,62   10,40   11,23   10,67   10,16   \n",
       "P/EBITDA                4,18    4,28    0,93       -       -       -    6,00   \n",
       "P/EBIT                  4,72    4,89    1,07    7,13    9,25    9,16    8,37   \n",
       "VPA                    10,46   10,35   40,20   28,16   24,09   20,26   17,53   \n",
       "P/ATIVO                 0,55    0,53    0,12    0,58    0,75    0,76    0,54   \n",
       "LPA                     2,96    2,94   11,97    4,62    5,02    3,59    4,07   \n",
       "P/SR                    1,26    1,31    0,24    1,32    1,44    1,36    0,94   \n",
       "P/CAP. GIRO             3,06    3,94    0,87    4,96    3,81    4,30    3,35   \n",
       "P/ATIVO CIRC. LIQ.     -0,86   -0,79   -0,18   -0,92   -1,31   -1,30   -0,91   \n",
       "DÍV. LÍQUIDA/PL         0,91    0,97    1,35    1,21    0,58    0,44    0,42   \n",
       "DÍV. LÍQUIDA/EBITDA     1,70    1,86    2,22       -       -       -    1,28   \n",
       "DÍV. LÍQUIDA/EBIT       1,92    2,13    2,55    3,27    1,98    1,51    1,79   \n",
       "PL/ATIVOS               0,24    0,24    0,22    0,22    0,27    0,28    0,28   \n",
       "PASSIVO/ATIVOS          0,71    0,72    0,74    0,74    0,67    0,66    0,66   \n",
       "LIQ. CORRENTE           1,97    1,68    1,86    1,46    1,84    1,74    1,65   \n",
       "M. BRUTA              33,21%  33,46%  30,48%  25,91%  28,94%  27,02%  24,87%   \n",
       "M. EBITDA             30,04%  30,53%  26,31%      -%      -%      -%  15,61%   \n",
       "M. EBIT               26,64%  26,73%  22,92%  18,47%  15,55%  14,83%  11,19%   \n",
       "M. LÍQUIDA            15,84%  16,63%  12,85%   8,16%  10,99%   8,96%  11,15%   \n",
       "ROE                   28,31%  28,44%  29,78%  16,40%  20,84%  17,70%  23,24%   \n",
       "ROA                    6,88%   6,74%   6,44%   3,60%   5,70%   5,01%   6,42%   \n",
       "ROIC                  14,16%  12,88%  12,58%  10,74%  10,81%  10,32%   7,97%   \n",
       "GIRO ATIVOS             0,43    0,41    0,50    0,44    0,52    0,56    0,58   \n",
       "CAGR RECEITAS 5 ANOS  19,79%  19,79%  22,53%  19,00%  25,75%  32,57%  32,16%   \n",
       "CAGR LUCROS 5 ANOS    29,14%  29,14%  28,32%  71,39%  42,17%  28,82%  27,39%   \n",
       "\n",
       "                        2014    2013    2012  \n",
       "D.Y                    1,41%   1,47%   2,46%  \n",
       "P/L                     8,62   66,93   15,06  \n",
       "PEG RATIO               0,01   -1,35   -1,02  \n",
       "P/VP                    1,94    1,95    0,95  \n",
       "EV/EBITDA               6,33   11,47    6,81  \n",
       "EV/EBIT                 8,29   21,51    8,69  \n",
       "P/EBITDA                4,40    8,49    3,99  \n",
       "P/EBIT                  5,76   15,92    5,09  \n",
       "VPA                    14,29   11,86   19,74  \n",
       "P/ATIVO                 0,49    0,50    0,22  \n",
       "LPA                     3,21    0,35    1,24  \n",
       "P/SR                    0,81    0,97    0,71  \n",
       "P/CAP. GIRO             4,45    3,30    2,84  \n",
       "P/ATIVO CIRC. LIQ.     -0,80   -0,76   -0,34  \n",
       "DÍV. LÍQUIDA/PL         0,85    0,69    0,67  \n",
       "DÍV. LÍQUIDA/EBITDA     1,93    2,98    2,82  \n",
       "DÍV. LÍQUIDA/EBIT       2,53    5,59    3,60  \n",
       "PL/ATIVOS               0,25    0,26    0,23  \n",
       "PASSIVO/ATIVOS          0,69    0,69    0,73  \n",
       "LIQ. CORRENTE           1,39    1,82    1,30  \n",
       "M. BRUTA              25,46%  22,10%  28,72%  \n",
       "M. EBITDA             18,36%  11,48%  17,83%  \n",
       "M. EBIT               14,02%   6,12%  13,97%  \n",
       "M. LÍQUIDA             9,37%   1,46%   4,73%  \n",
       "ROE                   22,48%   2,92%   6,27%  \n",
       "ROA                    5,66%   0,75%   1,45%  \n",
       "ROIC                  11,32%   4,60%   5,23%  \n",
       "GIRO ATIVOS             0,60    0,52    0,31  \n",
       "CAGR RECEITAS 5 ANOS  33,25%      -%      -%  \n",
       "CAGR LUCROS 5 ANOS    21,14%      -%      -%  "
      ]
     },
     "execution_count": 48,
     "metadata": {},
     "output_type": "execute_result"
    }
   ],
   "source": [
    "get_data('EQTL3')"
   ]
  },
  {
   "cell_type": "code",
   "execution_count": 5,
   "metadata": {
    "scrolled": true
   },
   "outputs": [
    {
     "name": "stderr",
     "output_type": "stream",
     "text": [
      "\n",
      "\n",
      "INFO:WDM:\n",
      "\n",
      "====== WebDriver manager ======\n",
      "INFO:WDM:====== WebDriver manager ======\n",
      "Current google-chrome version is 92.0.4515\n",
      "INFO:WDM:Current google-chrome version is 92.0.4515\n",
      "Get LATEST driver version for 92.0.4515\n",
      "INFO:WDM:Get LATEST driver version for 92.0.4515\n",
      "Driver [/Users/leuzinger/.wdm/drivers/chromedriver/mac64/92.0.4515.107/chromedriver] found in cache\n",
      "INFO:WDM:Driver [/Users/leuzinger/.wdm/drivers/chromedriver/mac64/92.0.4515.107/chromedriver] found in cache\n",
      "\n",
      "\n",
      "INFO:WDM:\n",
      "\n",
      "====== WebDriver manager ======\n",
      "INFO:WDM:====== WebDriver manager ======\n",
      "Current google-chrome version is 92.0.4515\n",
      "INFO:WDM:Current google-chrome version is 92.0.4515\n",
      "Get LATEST driver version for 92.0.4515\n",
      "INFO:WDM:Get LATEST driver version for 92.0.4515\n"
     ]
    },
    {
     "name": "stdout",
     "output_type": "stream",
     "text": [
      "AALR3 OK\n"
     ]
    },
    {
     "name": "stderr",
     "output_type": "stream",
     "text": [
      "Driver [/Users/leuzinger/.wdm/drivers/chromedriver/mac64/92.0.4515.107/chromedriver] found in cache\n",
      "INFO:WDM:Driver [/Users/leuzinger/.wdm/drivers/chromedriver/mac64/92.0.4515.107/chromedriver] found in cache\n",
      "\n",
      "\n",
      "INFO:WDM:\n",
      "\n",
      "====== WebDriver manager ======\n",
      "INFO:WDM:====== WebDriver manager ======\n",
      "Current google-chrome version is 92.0.4515\n",
      "INFO:WDM:Current google-chrome version is 92.0.4515\n",
      "Get LATEST driver version for 92.0.4515\n",
      "INFO:WDM:Get LATEST driver version for 92.0.4515\n"
     ]
    },
    {
     "name": "stdout",
     "output_type": "stream",
     "text": [
      "ABCB4 OK\n"
     ]
    },
    {
     "name": "stderr",
     "output_type": "stream",
     "text": [
      "Driver [/Users/leuzinger/.wdm/drivers/chromedriver/mac64/92.0.4515.107/chromedriver] found in cache\n",
      "INFO:WDM:Driver [/Users/leuzinger/.wdm/drivers/chromedriver/mac64/92.0.4515.107/chromedriver] found in cache\n",
      "\n",
      "\n",
      "INFO:WDM:\n",
      "\n",
      "====== WebDriver manager ======\n",
      "INFO:WDM:====== WebDriver manager ======\n",
      "Current google-chrome version is 92.0.4515\n",
      "INFO:WDM:Current google-chrome version is 92.0.4515\n",
      "Get LATEST driver version for 92.0.4515\n",
      "INFO:WDM:Get LATEST driver version for 92.0.4515\n"
     ]
    },
    {
     "name": "stdout",
     "output_type": "stream",
     "text": [
      "ABEV3 OK\n"
     ]
    },
    {
     "name": "stderr",
     "output_type": "stream",
     "text": [
      "Driver [/Users/leuzinger/.wdm/drivers/chromedriver/mac64/92.0.4515.107/chromedriver] found in cache\n",
      "INFO:WDM:Driver [/Users/leuzinger/.wdm/drivers/chromedriver/mac64/92.0.4515.107/chromedriver] found in cache\n",
      "\n",
      "\n",
      "INFO:WDM:\n",
      "\n",
      "====== WebDriver manager ======\n",
      "INFO:WDM:====== WebDriver manager ======\n",
      "Current google-chrome version is 92.0.4515\n",
      "INFO:WDM:Current google-chrome version is 92.0.4515\n",
      "Get LATEST driver version for 92.0.4515\n",
      "INFO:WDM:Get LATEST driver version for 92.0.4515\n"
     ]
    },
    {
     "name": "stdout",
     "output_type": "stream",
     "text": [
      "ADHM3 OK\n"
     ]
    },
    {
     "name": "stderr",
     "output_type": "stream",
     "text": [
      "Driver [/Users/leuzinger/.wdm/drivers/chromedriver/mac64/92.0.4515.107/chromedriver] found in cache\n",
      "INFO:WDM:Driver [/Users/leuzinger/.wdm/drivers/chromedriver/mac64/92.0.4515.107/chromedriver] found in cache\n",
      "\n",
      "\n",
      "INFO:WDM:\n",
      "\n",
      "====== WebDriver manager ======\n",
      "INFO:WDM:====== WebDriver manager ======\n",
      "Current google-chrome version is 92.0.4515\n",
      "INFO:WDM:Current google-chrome version is 92.0.4515\n",
      "Get LATEST driver version for 92.0.4515\n",
      "INFO:WDM:Get LATEST driver version for 92.0.4515\n"
     ]
    },
    {
     "name": "stdout",
     "output_type": "stream",
     "text": [
      "AERI3 OK\n"
     ]
    },
    {
     "name": "stderr",
     "output_type": "stream",
     "text": [
      "Driver [/Users/leuzinger/.wdm/drivers/chromedriver/mac64/92.0.4515.107/chromedriver] found in cache\n",
      "INFO:WDM:Driver [/Users/leuzinger/.wdm/drivers/chromedriver/mac64/92.0.4515.107/chromedriver] found in cache\n",
      "\n",
      "\n",
      "INFO:WDM:\n",
      "\n",
      "====== WebDriver manager ======\n",
      "INFO:WDM:====== WebDriver manager ======\n",
      "Current google-chrome version is 92.0.4515\n",
      "INFO:WDM:Current google-chrome version is 92.0.4515\n",
      "Get LATEST driver version for 92.0.4515\n",
      "INFO:WDM:Get LATEST driver version for 92.0.4515\n"
     ]
    },
    {
     "name": "stdout",
     "output_type": "stream",
     "text": [
      "AESB3 OK\n"
     ]
    },
    {
     "name": "stderr",
     "output_type": "stream",
     "text": [
      "Driver [/Users/leuzinger/.wdm/drivers/chromedriver/mac64/92.0.4515.107/chromedriver] found in cache\n",
      "INFO:WDM:Driver [/Users/leuzinger/.wdm/drivers/chromedriver/mac64/92.0.4515.107/chromedriver] found in cache\n",
      "\n",
      "\n",
      "INFO:WDM:\n",
      "\n",
      "====== WebDriver manager ======\n",
      "INFO:WDM:====== WebDriver manager ======\n",
      "Current google-chrome version is 92.0.4515\n",
      "INFO:WDM:Current google-chrome version is 92.0.4515\n",
      "Get LATEST driver version for 92.0.4515\n",
      "INFO:WDM:Get LATEST driver version for 92.0.4515\n"
     ]
    },
    {
     "name": "stdout",
     "output_type": "stream",
     "text": [
      "AFLT3 OK\n"
     ]
    },
    {
     "name": "stderr",
     "output_type": "stream",
     "text": [
      "Driver [/Users/leuzinger/.wdm/drivers/chromedriver/mac64/92.0.4515.107/chromedriver] found in cache\n",
      "INFO:WDM:Driver [/Users/leuzinger/.wdm/drivers/chromedriver/mac64/92.0.4515.107/chromedriver] found in cache\n",
      "\n",
      "\n",
      "INFO:WDM:\n",
      "\n",
      "====== WebDriver manager ======\n",
      "INFO:WDM:====== WebDriver manager ======\n",
      "Current google-chrome version is 92.0.4515\n",
      "INFO:WDM:Current google-chrome version is 92.0.4515\n",
      "Get LATEST driver version for 92.0.4515\n",
      "INFO:WDM:Get LATEST driver version for 92.0.4515\n"
     ]
    },
    {
     "name": "stdout",
     "output_type": "stream",
     "text": [
      "AGRO3 OK\n"
     ]
    },
    {
     "name": "stderr",
     "output_type": "stream",
     "text": [
      "Driver [/Users/leuzinger/.wdm/drivers/chromedriver/mac64/92.0.4515.107/chromedriver] found in cache\n",
      "INFO:WDM:Driver [/Users/leuzinger/.wdm/drivers/chromedriver/mac64/92.0.4515.107/chromedriver] found in cache\n",
      "\n",
      "\n",
      "INFO:WDM:\n",
      "\n",
      "====== WebDriver manager ======\n",
      "INFO:WDM:====== WebDriver manager ======\n",
      "Current google-chrome version is 92.0.4515\n",
      "INFO:WDM:Current google-chrome version is 92.0.4515\n",
      "Get LATEST driver version for 92.0.4515\n",
      "INFO:WDM:Get LATEST driver version for 92.0.4515\n"
     ]
    },
    {
     "name": "stdout",
     "output_type": "stream",
     "text": [
      "AHEB3 OK\n"
     ]
    },
    {
     "name": "stderr",
     "output_type": "stream",
     "text": [
      "Driver [/Users/leuzinger/.wdm/drivers/chromedriver/mac64/92.0.4515.107/chromedriver] found in cache\n",
      "INFO:WDM:Driver [/Users/leuzinger/.wdm/drivers/chromedriver/mac64/92.0.4515.107/chromedriver] found in cache\n",
      "\n",
      "\n",
      "INFO:WDM:\n",
      "\n",
      "====== WebDriver manager ======\n",
      "INFO:WDM:====== WebDriver manager ======\n",
      "Current google-chrome version is 92.0.4515\n",
      "INFO:WDM:Current google-chrome version is 92.0.4515\n",
      "Get LATEST driver version for 92.0.4515\n",
      "INFO:WDM:Get LATEST driver version for 92.0.4515\n"
     ]
    },
    {
     "name": "stdout",
     "output_type": "stream",
     "text": [
      "AHEB5 OK\n"
     ]
    },
    {
     "name": "stderr",
     "output_type": "stream",
     "text": [
      "Driver [/Users/leuzinger/.wdm/drivers/chromedriver/mac64/92.0.4515.107/chromedriver] found in cache\n",
      "INFO:WDM:Driver [/Users/leuzinger/.wdm/drivers/chromedriver/mac64/92.0.4515.107/chromedriver] found in cache\n",
      "\n",
      "\n",
      "INFO:WDM:\n",
      "\n",
      "====== WebDriver manager ======\n",
      "INFO:WDM:====== WebDriver manager ======\n",
      "Current google-chrome version is 92.0.4515\n",
      "INFO:WDM:Current google-chrome version is 92.0.4515\n",
      "Get LATEST driver version for 92.0.4515\n",
      "INFO:WDM:Get LATEST driver version for 92.0.4515\n"
     ]
    },
    {
     "name": "stdout",
     "output_type": "stream",
     "text": [
      "AHEB6 OK\n"
     ]
    },
    {
     "name": "stderr",
     "output_type": "stream",
     "text": [
      "Driver [/Users/leuzinger/.wdm/drivers/chromedriver/mac64/92.0.4515.107/chromedriver] found in cache\n",
      "INFO:WDM:Driver [/Users/leuzinger/.wdm/drivers/chromedriver/mac64/92.0.4515.107/chromedriver] found in cache\n",
      "\n",
      "\n",
      "INFO:WDM:\n",
      "\n",
      "====== WebDriver manager ======\n",
      "INFO:WDM:====== WebDriver manager ======\n",
      "Current google-chrome version is 92.0.4515\n",
      "INFO:WDM:Current google-chrome version is 92.0.4515\n",
      "Get LATEST driver version for 92.0.4515\n",
      "INFO:WDM:Get LATEST driver version for 92.0.4515\n"
     ]
    },
    {
     "name": "stdout",
     "output_type": "stream",
     "text": [
      "ALLD3 OK\n"
     ]
    },
    {
     "name": "stderr",
     "output_type": "stream",
     "text": [
      "Driver [/Users/leuzinger/.wdm/drivers/chromedriver/mac64/92.0.4515.107/chromedriver] found in cache\n",
      "INFO:WDM:Driver [/Users/leuzinger/.wdm/drivers/chromedriver/mac64/92.0.4515.107/chromedriver] found in cache\n",
      "\n",
      "\n",
      "INFO:WDM:\n",
      "\n",
      "====== WebDriver manager ======\n",
      "INFO:WDM:====== WebDriver manager ======\n",
      "Current google-chrome version is 92.0.4515\n",
      "INFO:WDM:Current google-chrome version is 92.0.4515\n",
      "Get LATEST driver version for 92.0.4515\n",
      "INFO:WDM:Get LATEST driver version for 92.0.4515\n"
     ]
    },
    {
     "name": "stdout",
     "output_type": "stream",
     "text": [
      "ALPA3 OK\n"
     ]
    },
    {
     "name": "stderr",
     "output_type": "stream",
     "text": [
      "Driver [/Users/leuzinger/.wdm/drivers/chromedriver/mac64/92.0.4515.107/chromedriver] found in cache\n",
      "INFO:WDM:Driver [/Users/leuzinger/.wdm/drivers/chromedriver/mac64/92.0.4515.107/chromedriver] found in cache\n",
      "\n",
      "\n",
      "INFO:WDM:\n",
      "\n",
      "====== WebDriver manager ======\n",
      "INFO:WDM:====== WebDriver manager ======\n",
      "Current google-chrome version is 92.0.4515\n",
      "INFO:WDM:Current google-chrome version is 92.0.4515\n",
      "Get LATEST driver version for 92.0.4515\n",
      "INFO:WDM:Get LATEST driver version for 92.0.4515\n"
     ]
    },
    {
     "name": "stdout",
     "output_type": "stream",
     "text": [
      "ALPA4 OK\n"
     ]
    },
    {
     "name": "stderr",
     "output_type": "stream",
     "text": [
      "Driver [/Users/leuzinger/.wdm/drivers/chromedriver/mac64/92.0.4515.107/chromedriver] found in cache\n",
      "INFO:WDM:Driver [/Users/leuzinger/.wdm/drivers/chromedriver/mac64/92.0.4515.107/chromedriver] found in cache\n",
      "\n",
      "\n",
      "INFO:WDM:\n",
      "\n",
      "====== WebDriver manager ======\n",
      "INFO:WDM:====== WebDriver manager ======\n",
      "Current google-chrome version is 92.0.4515\n",
      "INFO:WDM:Current google-chrome version is 92.0.4515\n",
      "Get LATEST driver version for 92.0.4515\n",
      "INFO:WDM:Get LATEST driver version for 92.0.4515\n"
     ]
    },
    {
     "name": "stdout",
     "output_type": "stream",
     "text": [
      "ALPK3 OK\n"
     ]
    },
    {
     "name": "stderr",
     "output_type": "stream",
     "text": [
      "Driver [/Users/leuzinger/.wdm/drivers/chromedriver/mac64/92.0.4515.107/chromedriver] found in cache\n",
      "INFO:WDM:Driver [/Users/leuzinger/.wdm/drivers/chromedriver/mac64/92.0.4515.107/chromedriver] found in cache\n",
      "\n",
      "\n",
      "INFO:WDM:\n",
      "\n",
      "====== WebDriver manager ======\n",
      "INFO:WDM:====== WebDriver manager ======\n",
      "Current google-chrome version is 92.0.4515\n",
      "INFO:WDM:Current google-chrome version is 92.0.4515\n",
      "Get LATEST driver version for 92.0.4515\n",
      "INFO:WDM:Get LATEST driver version for 92.0.4515\n"
     ]
    },
    {
     "name": "stdout",
     "output_type": "stream",
     "text": [
      "ALSO3 OK\n"
     ]
    },
    {
     "name": "stderr",
     "output_type": "stream",
     "text": [
      "Driver [/Users/leuzinger/.wdm/drivers/chromedriver/mac64/92.0.4515.107/chromedriver] found in cache\n",
      "INFO:WDM:Driver [/Users/leuzinger/.wdm/drivers/chromedriver/mac64/92.0.4515.107/chromedriver] found in cache\n",
      "\n",
      "\n",
      "INFO:WDM:\n",
      "\n",
      "====== WebDriver manager ======\n",
      "INFO:WDM:====== WebDriver manager ======\n",
      "Current google-chrome version is 92.0.4515\n",
      "INFO:WDM:Current google-chrome version is 92.0.4515\n",
      "Get LATEST driver version for 92.0.4515\n",
      "INFO:WDM:Get LATEST driver version for 92.0.4515\n"
     ]
    },
    {
     "name": "stdout",
     "output_type": "stream",
     "text": [
      "ALUP11 OK\n"
     ]
    },
    {
     "name": "stderr",
     "output_type": "stream",
     "text": [
      "Driver [/Users/leuzinger/.wdm/drivers/chromedriver/mac64/92.0.4515.107/chromedriver] found in cache\n",
      "INFO:WDM:Driver [/Users/leuzinger/.wdm/drivers/chromedriver/mac64/92.0.4515.107/chromedriver] found in cache\n",
      "\n",
      "\n",
      "INFO:WDM:\n",
      "\n",
      "====== WebDriver manager ======\n",
      "INFO:WDM:====== WebDriver manager ======\n",
      "Current google-chrome version is 92.0.4515\n",
      "INFO:WDM:Current google-chrome version is 92.0.4515\n",
      "Get LATEST driver version for 92.0.4515\n",
      "INFO:WDM:Get LATEST driver version for 92.0.4515\n"
     ]
    },
    {
     "name": "stdout",
     "output_type": "stream",
     "text": [
      "ALUP3 OK\n"
     ]
    },
    {
     "name": "stderr",
     "output_type": "stream",
     "text": [
      "Driver [/Users/leuzinger/.wdm/drivers/chromedriver/mac64/92.0.4515.107/chromedriver] found in cache\n",
      "INFO:WDM:Driver [/Users/leuzinger/.wdm/drivers/chromedriver/mac64/92.0.4515.107/chromedriver] found in cache\n",
      "\n",
      "\n",
      "INFO:WDM:\n",
      "\n",
      "====== WebDriver manager ======\n",
      "INFO:WDM:====== WebDriver manager ======\n",
      "Current google-chrome version is 92.0.4515\n",
      "INFO:WDM:Current google-chrome version is 92.0.4515\n",
      "Get LATEST driver version for 92.0.4515\n",
      "INFO:WDM:Get LATEST driver version for 92.0.4515\n"
     ]
    },
    {
     "name": "stdout",
     "output_type": "stream",
     "text": [
      "ALUP4 OK\n"
     ]
    },
    {
     "name": "stderr",
     "output_type": "stream",
     "text": [
      "Driver [/Users/leuzinger/.wdm/drivers/chromedriver/mac64/92.0.4515.107/chromedriver] found in cache\n",
      "INFO:WDM:Driver [/Users/leuzinger/.wdm/drivers/chromedriver/mac64/92.0.4515.107/chromedriver] found in cache\n",
      "\n",
      "\n",
      "INFO:WDM:\n",
      "\n",
      "====== WebDriver manager ======\n",
      "INFO:WDM:====== WebDriver manager ======\n"
     ]
    },
    {
     "name": "stdout",
     "output_type": "stream",
     "text": [
      "AMAR3 OK\n"
     ]
    },
    {
     "name": "stderr",
     "output_type": "stream",
     "text": [
      "Current google-chrome version is 92.0.4515\n",
      "INFO:WDM:Current google-chrome version is 92.0.4515\n",
      "Get LATEST driver version for 92.0.4515\n",
      "INFO:WDM:Get LATEST driver version for 92.0.4515\n",
      "Driver [/Users/leuzinger/.wdm/drivers/chromedriver/mac64/92.0.4515.107/chromedriver] found in cache\n",
      "INFO:WDM:Driver [/Users/leuzinger/.wdm/drivers/chromedriver/mac64/92.0.4515.107/chromedriver] found in cache\n",
      "\n",
      "\n",
      "INFO:WDM:\n",
      "\n",
      "====== WebDriver manager ======\n",
      "INFO:WDM:====== WebDriver manager ======\n",
      "Current google-chrome version is 92.0.4515\n",
      "INFO:WDM:Current google-chrome version is 92.0.4515\n",
      "Get LATEST driver version for 92.0.4515\n",
      "INFO:WDM:Get LATEST driver version for 92.0.4515\n"
     ]
    },
    {
     "name": "stdout",
     "output_type": "stream",
     "text": [
      "AMBP3 OK\n"
     ]
    },
    {
     "name": "stderr",
     "output_type": "stream",
     "text": [
      "Driver [/Users/leuzinger/.wdm/drivers/chromedriver/mac64/92.0.4515.107/chromedriver] found in cache\n",
      "INFO:WDM:Driver [/Users/leuzinger/.wdm/drivers/chromedriver/mac64/92.0.4515.107/chromedriver] found in cache\n",
      "\n",
      "\n",
      "INFO:WDM:\n",
      "\n",
      "====== WebDriver manager ======\n",
      "INFO:WDM:====== WebDriver manager ======\n",
      "Current google-chrome version is 92.0.4515\n",
      "INFO:WDM:Current google-chrome version is 92.0.4515\n",
      "Get LATEST driver version for 92.0.4515\n",
      "INFO:WDM:Get LATEST driver version for 92.0.4515\n"
     ]
    },
    {
     "name": "stdout",
     "output_type": "stream",
     "text": [
      "ANIM3 OK\n"
     ]
    },
    {
     "name": "stderr",
     "output_type": "stream",
     "text": [
      "Driver [/Users/leuzinger/.wdm/drivers/chromedriver/mac64/92.0.4515.107/chromedriver] found in cache\n",
      "INFO:WDM:Driver [/Users/leuzinger/.wdm/drivers/chromedriver/mac64/92.0.4515.107/chromedriver] found in cache\n",
      "\n",
      "\n",
      "INFO:WDM:\n",
      "\n",
      "====== WebDriver manager ======\n",
      "INFO:WDM:====== WebDriver manager ======\n",
      "Current google-chrome version is 92.0.4515\n",
      "INFO:WDM:Current google-chrome version is 92.0.4515\n",
      "Get LATEST driver version for 92.0.4515\n",
      "INFO:WDM:Get LATEST driver version for 92.0.4515\n"
     ]
    },
    {
     "name": "stdout",
     "output_type": "stream",
     "text": [
      "APER3 OK\n"
     ]
    },
    {
     "name": "stderr",
     "output_type": "stream",
     "text": [
      "Driver [/Users/leuzinger/.wdm/drivers/chromedriver/mac64/92.0.4515.107/chromedriver] found in cache\n",
      "INFO:WDM:Driver [/Users/leuzinger/.wdm/drivers/chromedriver/mac64/92.0.4515.107/chromedriver] found in cache\n",
      "\n",
      "\n",
      "INFO:WDM:\n",
      "\n",
      "====== WebDriver manager ======\n",
      "INFO:WDM:====== WebDriver manager ======\n",
      "Current google-chrome version is 92.0.4515\n",
      "INFO:WDM:Current google-chrome version is 92.0.4515\n",
      "Get LATEST driver version for 92.0.4515\n",
      "INFO:WDM:Get LATEST driver version for 92.0.4515\n"
     ]
    },
    {
     "name": "stdout",
     "output_type": "stream",
     "text": [
      "APTI3 OK\n"
     ]
    },
    {
     "name": "stderr",
     "output_type": "stream",
     "text": [
      "Driver [/Users/leuzinger/.wdm/drivers/chromedriver/mac64/92.0.4515.107/chromedriver] found in cache\n",
      "INFO:WDM:Driver [/Users/leuzinger/.wdm/drivers/chromedriver/mac64/92.0.4515.107/chromedriver] found in cache\n",
      "\n",
      "\n",
      "INFO:WDM:\n",
      "\n",
      "====== WebDriver manager ======\n",
      "INFO:WDM:====== WebDriver manager ======\n",
      "Current google-chrome version is 92.0.4515\n",
      "INFO:WDM:Current google-chrome version is 92.0.4515\n",
      "Get LATEST driver version for 92.0.4515\n",
      "INFO:WDM:Get LATEST driver version for 92.0.4515\n"
     ]
    },
    {
     "name": "stdout",
     "output_type": "stream",
     "text": [
      "APTI4 OK\n"
     ]
    },
    {
     "name": "stderr",
     "output_type": "stream",
     "text": [
      "Driver [/Users/leuzinger/.wdm/drivers/chromedriver/mac64/92.0.4515.107/chromedriver] found in cache\n",
      "INFO:WDM:Driver [/Users/leuzinger/.wdm/drivers/chromedriver/mac64/92.0.4515.107/chromedriver] found in cache\n",
      "\n",
      "\n",
      "INFO:WDM:\n",
      "\n",
      "====== WebDriver manager ======\n",
      "INFO:WDM:====== WebDriver manager ======\n",
      "Current google-chrome version is 92.0.4515\n",
      "INFO:WDM:Current google-chrome version is 92.0.4515\n",
      "Get LATEST driver version for 92.0.4515\n",
      "INFO:WDM:Get LATEST driver version for 92.0.4515\n"
     ]
    },
    {
     "name": "stdout",
     "output_type": "stream",
     "text": [
      "ARZZ3 OK\n"
     ]
    },
    {
     "name": "stderr",
     "output_type": "stream",
     "text": [
      "Driver [/Users/leuzinger/.wdm/drivers/chromedriver/mac64/92.0.4515.107/chromedriver] found in cache\n",
      "INFO:WDM:Driver [/Users/leuzinger/.wdm/drivers/chromedriver/mac64/92.0.4515.107/chromedriver] found in cache\n",
      "\n",
      "\n",
      "INFO:WDM:\n",
      "\n",
      "====== WebDriver manager ======\n",
      "INFO:WDM:====== WebDriver manager ======\n",
      "Current google-chrome version is 92.0.4515\n",
      "INFO:WDM:Current google-chrome version is 92.0.4515\n",
      "Get LATEST driver version for 92.0.4515\n",
      "INFO:WDM:Get LATEST driver version for 92.0.4515\n"
     ]
    },
    {
     "name": "stdout",
     "output_type": "stream",
     "text": [
      "ASAI3 OK\n"
     ]
    },
    {
     "name": "stderr",
     "output_type": "stream",
     "text": [
      "Driver [/Users/leuzinger/.wdm/drivers/chromedriver/mac64/92.0.4515.107/chromedriver] found in cache\n",
      "INFO:WDM:Driver [/Users/leuzinger/.wdm/drivers/chromedriver/mac64/92.0.4515.107/chromedriver] found in cache\n",
      "\n",
      "\n",
      "INFO:WDM:\n",
      "\n",
      "====== WebDriver manager ======\n",
      "INFO:WDM:====== WebDriver manager ======\n",
      "Current google-chrome version is 92.0.4515\n",
      "INFO:WDM:Current google-chrome version is 92.0.4515\n",
      "Get LATEST driver version for 92.0.4515\n",
      "INFO:WDM:Get LATEST driver version for 92.0.4515\n"
     ]
    },
    {
     "name": "stdout",
     "output_type": "stream",
     "text": [
      "ATMP3 OK\n"
     ]
    },
    {
     "name": "stderr",
     "output_type": "stream",
     "text": [
      "Driver [/Users/leuzinger/.wdm/drivers/chromedriver/mac64/92.0.4515.107/chromedriver] found in cache\n",
      "INFO:WDM:Driver [/Users/leuzinger/.wdm/drivers/chromedriver/mac64/92.0.4515.107/chromedriver] found in cache\n",
      "\n",
      "\n",
      "INFO:WDM:\n",
      "\n",
      "====== WebDriver manager ======\n",
      "INFO:WDM:====== WebDriver manager ======\n",
      "Current google-chrome version is 92.0.4515\n",
      "INFO:WDM:Current google-chrome version is 92.0.4515\n",
      "Get LATEST driver version for 92.0.4515\n",
      "INFO:WDM:Get LATEST driver version for 92.0.4515\n"
     ]
    },
    {
     "name": "stdout",
     "output_type": "stream",
     "text": [
      "ATOM3 OK\n"
     ]
    },
    {
     "name": "stderr",
     "output_type": "stream",
     "text": [
      "Driver [/Users/leuzinger/.wdm/drivers/chromedriver/mac64/92.0.4515.107/chromedriver] found in cache\n",
      "INFO:WDM:Driver [/Users/leuzinger/.wdm/drivers/chromedriver/mac64/92.0.4515.107/chromedriver] found in cache\n",
      "\n",
      "\n",
      "INFO:WDM:\n",
      "\n",
      "====== WebDriver manager ======\n",
      "INFO:WDM:====== WebDriver manager ======\n",
      "Current google-chrome version is 92.0.4515\n",
      "INFO:WDM:Current google-chrome version is 92.0.4515\n",
      "Get LATEST driver version for 92.0.4515\n",
      "INFO:WDM:Get LATEST driver version for 92.0.4515\n"
     ]
    },
    {
     "name": "stdout",
     "output_type": "stream",
     "text": [
      "AURA33 OK\n"
     ]
    },
    {
     "name": "stderr",
     "output_type": "stream",
     "text": [
      "Driver [/Users/leuzinger/.wdm/drivers/chromedriver/mac64/92.0.4515.107/chromedriver] found in cache\n",
      "INFO:WDM:Driver [/Users/leuzinger/.wdm/drivers/chromedriver/mac64/92.0.4515.107/chromedriver] found in cache\n",
      "\n",
      "\n",
      "INFO:WDM:\n",
      "\n",
      "====== WebDriver manager ======\n",
      "INFO:WDM:====== WebDriver manager ======\n",
      "Current google-chrome version is 92.0.4515\n",
      "INFO:WDM:Current google-chrome version is 92.0.4515\n",
      "Get LATEST driver version for 92.0.4515\n",
      "INFO:WDM:Get LATEST driver version for 92.0.4515\n"
     ]
    },
    {
     "name": "stdout",
     "output_type": "stream",
     "text": [
      "AVLL3 OK\n"
     ]
    },
    {
     "name": "stderr",
     "output_type": "stream",
     "text": [
      "Driver [/Users/leuzinger/.wdm/drivers/chromedriver/mac64/92.0.4515.107/chromedriver] found in cache\n",
      "INFO:WDM:Driver [/Users/leuzinger/.wdm/drivers/chromedriver/mac64/92.0.4515.107/chromedriver] found in cache\n",
      "\n",
      "\n",
      "INFO:WDM:\n",
      "\n",
      "====== WebDriver manager ======\n",
      "INFO:WDM:====== WebDriver manager ======\n",
      "Current google-chrome version is 92.0.4515\n",
      "INFO:WDM:Current google-chrome version is 92.0.4515\n",
      "Get LATEST driver version for 92.0.4515\n",
      "INFO:WDM:Get LATEST driver version for 92.0.4515\n"
     ]
    },
    {
     "name": "stdout",
     "output_type": "stream",
     "text": [
      "AZEV3 OK\n"
     ]
    },
    {
     "name": "stderr",
     "output_type": "stream",
     "text": [
      "Driver [/Users/leuzinger/.wdm/drivers/chromedriver/mac64/92.0.4515.107/chromedriver] found in cache\n",
      "INFO:WDM:Driver [/Users/leuzinger/.wdm/drivers/chromedriver/mac64/92.0.4515.107/chromedriver] found in cache\n",
      "\n",
      "\n",
      "INFO:WDM:\n",
      "\n",
      "====== WebDriver manager ======\n",
      "INFO:WDM:====== WebDriver manager ======\n",
      "Current google-chrome version is 92.0.4515\n",
      "INFO:WDM:Current google-chrome version is 92.0.4515\n",
      "Get LATEST driver version for 92.0.4515\n",
      "INFO:WDM:Get LATEST driver version for 92.0.4515\n"
     ]
    },
    {
     "name": "stdout",
     "output_type": "stream",
     "text": [
      "AZEV4 OK\n"
     ]
    },
    {
     "name": "stderr",
     "output_type": "stream",
     "text": [
      "Driver [/Users/leuzinger/.wdm/drivers/chromedriver/mac64/92.0.4515.107/chromedriver] found in cache\n",
      "INFO:WDM:Driver [/Users/leuzinger/.wdm/drivers/chromedriver/mac64/92.0.4515.107/chromedriver] found in cache\n",
      "\n",
      "\n",
      "INFO:WDM:\n",
      "\n",
      "====== WebDriver manager ======\n",
      "INFO:WDM:====== WebDriver manager ======\n",
      "Current google-chrome version is 92.0.4515\n",
      "INFO:WDM:Current google-chrome version is 92.0.4515\n",
      "Get LATEST driver version for 92.0.4515\n",
      "INFO:WDM:Get LATEST driver version for 92.0.4515\n"
     ]
    },
    {
     "name": "stdout",
     "output_type": "stream",
     "text": [
      "AZUL4 OK\n"
     ]
    },
    {
     "name": "stderr",
     "output_type": "stream",
     "text": [
      "Driver [/Users/leuzinger/.wdm/drivers/chromedriver/mac64/92.0.4515.107/chromedriver] found in cache\n",
      "INFO:WDM:Driver [/Users/leuzinger/.wdm/drivers/chromedriver/mac64/92.0.4515.107/chromedriver] found in cache\n",
      "\n",
      "\n",
      "INFO:WDM:\n",
      "\n",
      "====== WebDriver manager ======\n",
      "INFO:WDM:====== WebDriver manager ======\n",
      "Current google-chrome version is 92.0.4515\n",
      "INFO:WDM:Current google-chrome version is 92.0.4515\n",
      "Get LATEST driver version for 92.0.4515\n",
      "INFO:WDM:Get LATEST driver version for 92.0.4515\n"
     ]
    },
    {
     "name": "stdout",
     "output_type": "stream",
     "text": [
      "B3SA3 OK\n"
     ]
    },
    {
     "name": "stderr",
     "output_type": "stream",
     "text": [
      "Driver [/Users/leuzinger/.wdm/drivers/chromedriver/mac64/92.0.4515.107/chromedriver] found in cache\n",
      "INFO:WDM:Driver [/Users/leuzinger/.wdm/drivers/chromedriver/mac64/92.0.4515.107/chromedriver] found in cache\n",
      "\n",
      "\n",
      "INFO:WDM:\n",
      "\n",
      "====== WebDriver manager ======\n",
      "INFO:WDM:====== WebDriver manager ======\n",
      "Current google-chrome version is 92.0.4515\n",
      "INFO:WDM:Current google-chrome version is 92.0.4515\n",
      "Get LATEST driver version for 92.0.4515\n",
      "INFO:WDM:Get LATEST driver version for 92.0.4515\n"
     ]
    },
    {
     "name": "stdout",
     "output_type": "stream",
     "text": [
      "BAHI3 OK\n"
     ]
    },
    {
     "name": "stderr",
     "output_type": "stream",
     "text": [
      "Driver [/Users/leuzinger/.wdm/drivers/chromedriver/mac64/92.0.4515.107/chromedriver] found in cache\n",
      "INFO:WDM:Driver [/Users/leuzinger/.wdm/drivers/chromedriver/mac64/92.0.4515.107/chromedriver] found in cache\n",
      "\n",
      "\n",
      "INFO:WDM:\n",
      "\n",
      "====== WebDriver manager ======\n",
      "INFO:WDM:====== WebDriver manager ======\n",
      "Current google-chrome version is 92.0.4515\n",
      "INFO:WDM:Current google-chrome version is 92.0.4515\n",
      "Get LATEST driver version for 92.0.4515\n",
      "INFO:WDM:Get LATEST driver version for 92.0.4515\n"
     ]
    },
    {
     "name": "stdout",
     "output_type": "stream",
     "text": [
      "BALM3 OK\n"
     ]
    },
    {
     "name": "stderr",
     "output_type": "stream",
     "text": [
      "Driver [/Users/leuzinger/.wdm/drivers/chromedriver/mac64/92.0.4515.107/chromedriver] found in cache\n",
      "INFO:WDM:Driver [/Users/leuzinger/.wdm/drivers/chromedriver/mac64/92.0.4515.107/chromedriver] found in cache\n",
      "\n",
      "\n",
      "INFO:WDM:\n",
      "\n",
      "====== WebDriver manager ======\n",
      "INFO:WDM:====== WebDriver manager ======\n",
      "Current google-chrome version is 92.0.4515\n",
      "INFO:WDM:Current google-chrome version is 92.0.4515\n",
      "Get LATEST driver version for 92.0.4515\n",
      "INFO:WDM:Get LATEST driver version for 92.0.4515\n"
     ]
    },
    {
     "name": "stdout",
     "output_type": "stream",
     "text": [
      "BALM4 OK\n"
     ]
    },
    {
     "name": "stderr",
     "output_type": "stream",
     "text": [
      "Driver [/Users/leuzinger/.wdm/drivers/chromedriver/mac64/92.0.4515.107/chromedriver] found in cache\n",
      "INFO:WDM:Driver [/Users/leuzinger/.wdm/drivers/chromedriver/mac64/92.0.4515.107/chromedriver] found in cache\n",
      "\n",
      "\n",
      "INFO:WDM:\n",
      "\n",
      "====== WebDriver manager ======\n",
      "INFO:WDM:====== WebDriver manager ======\n",
      "Current google-chrome version is 92.0.4515\n",
      "INFO:WDM:Current google-chrome version is 92.0.4515\n",
      "Get LATEST driver version for 92.0.4515\n",
      "INFO:WDM:Get LATEST driver version for 92.0.4515\n"
     ]
    },
    {
     "name": "stdout",
     "output_type": "stream",
     "text": [
      "BAUH4 OK\n"
     ]
    },
    {
     "name": "stderr",
     "output_type": "stream",
     "text": [
      "Driver [/Users/leuzinger/.wdm/drivers/chromedriver/mac64/92.0.4515.107/chromedriver] found in cache\n",
      "INFO:WDM:Driver [/Users/leuzinger/.wdm/drivers/chromedriver/mac64/92.0.4515.107/chromedriver] found in cache\n",
      "\n",
      "\n",
      "INFO:WDM:\n",
      "\n",
      "====== WebDriver manager ======\n",
      "INFO:WDM:====== WebDriver manager ======\n",
      "Current google-chrome version is 92.0.4515\n",
      "INFO:WDM:Current google-chrome version is 92.0.4515\n",
      "Get LATEST driver version for 92.0.4515\n",
      "INFO:WDM:Get LATEST driver version for 92.0.4515\n"
     ]
    },
    {
     "name": "stdout",
     "output_type": "stream",
     "text": [
      "BAZA3 OK\n"
     ]
    },
    {
     "name": "stderr",
     "output_type": "stream",
     "text": [
      "Driver [/Users/leuzinger/.wdm/drivers/chromedriver/mac64/92.0.4515.107/chromedriver] found in cache\n",
      "INFO:WDM:Driver [/Users/leuzinger/.wdm/drivers/chromedriver/mac64/92.0.4515.107/chromedriver] found in cache\n",
      "\n",
      "\n",
      "INFO:WDM:\n",
      "\n",
      "====== WebDriver manager ======\n",
      "INFO:WDM:====== WebDriver manager ======\n",
      "Current google-chrome version is 92.0.4515\n",
      "INFO:WDM:Current google-chrome version is 92.0.4515\n",
      "Get LATEST driver version for 92.0.4515\n",
      "INFO:WDM:Get LATEST driver version for 92.0.4515\n"
     ]
    },
    {
     "name": "stdout",
     "output_type": "stream",
     "text": [
      "BBAS3 OK\n"
     ]
    },
    {
     "name": "stderr",
     "output_type": "stream",
     "text": [
      "Driver [/Users/leuzinger/.wdm/drivers/chromedriver/mac64/92.0.4515.107/chromedriver] found in cache\n",
      "INFO:WDM:Driver [/Users/leuzinger/.wdm/drivers/chromedriver/mac64/92.0.4515.107/chromedriver] found in cache\n",
      "\n",
      "\n",
      "INFO:WDM:\n",
      "\n",
      "====== WebDriver manager ======\n",
      "INFO:WDM:====== WebDriver manager ======\n",
      "Current google-chrome version is 92.0.4515\n",
      "INFO:WDM:Current google-chrome version is 92.0.4515\n",
      "Get LATEST driver version for 92.0.4515\n",
      "INFO:WDM:Get LATEST driver version for 92.0.4515\n"
     ]
    },
    {
     "name": "stdout",
     "output_type": "stream",
     "text": [
      "BBDC3 OK\n"
     ]
    },
    {
     "name": "stderr",
     "output_type": "stream",
     "text": [
      "Driver [/Users/leuzinger/.wdm/drivers/chromedriver/mac64/92.0.4515.107/chromedriver] found in cache\n",
      "INFO:WDM:Driver [/Users/leuzinger/.wdm/drivers/chromedriver/mac64/92.0.4515.107/chromedriver] found in cache\n",
      "\n",
      "\n",
      "INFO:WDM:\n",
      "\n",
      "====== WebDriver manager ======\n",
      "INFO:WDM:====== WebDriver manager ======\n",
      "Current google-chrome version is 92.0.4515\n",
      "INFO:WDM:Current google-chrome version is 92.0.4515\n",
      "Get LATEST driver version for 92.0.4515\n",
      "INFO:WDM:Get LATEST driver version for 92.0.4515\n"
     ]
    },
    {
     "name": "stdout",
     "output_type": "stream",
     "text": [
      "BBDC4 OK\n"
     ]
    },
    {
     "name": "stderr",
     "output_type": "stream",
     "text": [
      "Driver [/Users/leuzinger/.wdm/drivers/chromedriver/mac64/92.0.4515.107/chromedriver] found in cache\n",
      "INFO:WDM:Driver [/Users/leuzinger/.wdm/drivers/chromedriver/mac64/92.0.4515.107/chromedriver] found in cache\n",
      "\n",
      "\n",
      "INFO:WDM:\n",
      "\n",
      "====== WebDriver manager ======\n",
      "INFO:WDM:====== WebDriver manager ======\n",
      "Current google-chrome version is 92.0.4515\n",
      "INFO:WDM:Current google-chrome version is 92.0.4515\n",
      "Get LATEST driver version for 92.0.4515\n",
      "INFO:WDM:Get LATEST driver version for 92.0.4515\n"
     ]
    },
    {
     "name": "stdout",
     "output_type": "stream",
     "text": [
      "BBML3 OK\n"
     ]
    },
    {
     "name": "stderr",
     "output_type": "stream",
     "text": [
      "Driver [/Users/leuzinger/.wdm/drivers/chromedriver/mac64/92.0.4515.107/chromedriver] found in cache\n",
      "INFO:WDM:Driver [/Users/leuzinger/.wdm/drivers/chromedriver/mac64/92.0.4515.107/chromedriver] found in cache\n",
      "\n",
      "\n",
      "INFO:WDM:\n",
      "\n",
      "====== WebDriver manager ======\n",
      "INFO:WDM:====== WebDriver manager ======\n",
      "Current google-chrome version is 92.0.4515\n",
      "INFO:WDM:Current google-chrome version is 92.0.4515\n",
      "Get LATEST driver version for 92.0.4515\n",
      "INFO:WDM:Get LATEST driver version for 92.0.4515\n"
     ]
    },
    {
     "name": "stdout",
     "output_type": "stream",
     "text": [
      "BBRK3 OK\n"
     ]
    },
    {
     "name": "stderr",
     "output_type": "stream",
     "text": [
      "Driver [/Users/leuzinger/.wdm/drivers/chromedriver/mac64/92.0.4515.107/chromedriver] found in cache\n",
      "INFO:WDM:Driver [/Users/leuzinger/.wdm/drivers/chromedriver/mac64/92.0.4515.107/chromedriver] found in cache\n",
      "\n",
      "\n",
      "INFO:WDM:\n",
      "\n",
      "====== WebDriver manager ======\n",
      "INFO:WDM:====== WebDriver manager ======\n",
      "Current google-chrome version is 92.0.4515\n",
      "INFO:WDM:Current google-chrome version is 92.0.4515\n",
      "Get LATEST driver version for 92.0.4515\n",
      "INFO:WDM:Get LATEST driver version for 92.0.4515\n"
     ]
    },
    {
     "name": "stdout",
     "output_type": "stream",
     "text": [
      "BBSE3 OK\n"
     ]
    },
    {
     "name": "stderr",
     "output_type": "stream",
     "text": [
      "Driver [/Users/leuzinger/.wdm/drivers/chromedriver/mac64/92.0.4515.107/chromedriver] found in cache\n",
      "INFO:WDM:Driver [/Users/leuzinger/.wdm/drivers/chromedriver/mac64/92.0.4515.107/chromedriver] found in cache\n",
      "\n",
      "\n",
      "INFO:WDM:\n",
      "\n",
      "====== WebDriver manager ======\n",
      "INFO:WDM:====== WebDriver manager ======\n",
      "Current google-chrome version is 92.0.4515\n",
      "INFO:WDM:Current google-chrome version is 92.0.4515\n",
      "Get LATEST driver version for 92.0.4515\n",
      "INFO:WDM:Get LATEST driver version for 92.0.4515\n"
     ]
    },
    {
     "name": "stdout",
     "output_type": "stream",
     "text": [
      "BDLL3 OK\n"
     ]
    },
    {
     "name": "stderr",
     "output_type": "stream",
     "text": [
      "Driver [/Users/leuzinger/.wdm/drivers/chromedriver/mac64/92.0.4515.107/chromedriver] found in cache\n",
      "INFO:WDM:Driver [/Users/leuzinger/.wdm/drivers/chromedriver/mac64/92.0.4515.107/chromedriver] found in cache\n",
      "\n",
      "\n",
      "INFO:WDM:\n",
      "\n",
      "====== WebDriver manager ======\n",
      "INFO:WDM:====== WebDriver manager ======\n",
      "Current google-chrome version is 92.0.4515\n",
      "INFO:WDM:Current google-chrome version is 92.0.4515\n",
      "Get LATEST driver version for 92.0.4515\n",
      "INFO:WDM:Get LATEST driver version for 92.0.4515\n"
     ]
    },
    {
     "name": "stdout",
     "output_type": "stream",
     "text": [
      "BDLL4 OK\n"
     ]
    },
    {
     "name": "stderr",
     "output_type": "stream",
     "text": [
      "Driver [/Users/leuzinger/.wdm/drivers/chromedriver/mac64/92.0.4515.107/chromedriver] found in cache\n",
      "INFO:WDM:Driver [/Users/leuzinger/.wdm/drivers/chromedriver/mac64/92.0.4515.107/chromedriver] found in cache\n",
      "\n",
      "\n",
      "INFO:WDM:\n",
      "\n",
      "====== WebDriver manager ======\n",
      "INFO:WDM:====== WebDriver manager ======\n",
      "Current google-chrome version is 92.0.4515\n",
      "INFO:WDM:Current google-chrome version is 92.0.4515\n",
      "Get LATEST driver version for 92.0.4515\n",
      "INFO:WDM:Get LATEST driver version for 92.0.4515\n"
     ]
    },
    {
     "name": "stdout",
     "output_type": "stream",
     "text": [
      "BEEF3 OK\n"
     ]
    },
    {
     "name": "stderr",
     "output_type": "stream",
     "text": [
      "Driver [/Users/leuzinger/.wdm/drivers/chromedriver/mac64/92.0.4515.107/chromedriver] found in cache\n",
      "INFO:WDM:Driver [/Users/leuzinger/.wdm/drivers/chromedriver/mac64/92.0.4515.107/chromedriver] found in cache\n",
      "\n",
      "\n",
      "INFO:WDM:\n",
      "\n",
      "====== WebDriver manager ======\n",
      "INFO:WDM:====== WebDriver manager ======\n",
      "Current google-chrome version is 92.0.4515\n",
      "INFO:WDM:Current google-chrome version is 92.0.4515\n",
      "Get LATEST driver version for 92.0.4515\n",
      "INFO:WDM:Get LATEST driver version for 92.0.4515\n"
     ]
    },
    {
     "name": "stdout",
     "output_type": "stream",
     "text": [
      "BEES3 OK\n"
     ]
    },
    {
     "name": "stderr",
     "output_type": "stream",
     "text": [
      "Driver [/Users/leuzinger/.wdm/drivers/chromedriver/mac64/92.0.4515.107/chromedriver] found in cache\n",
      "INFO:WDM:Driver [/Users/leuzinger/.wdm/drivers/chromedriver/mac64/92.0.4515.107/chromedriver] found in cache\n",
      "\n",
      "\n",
      "INFO:WDM:\n",
      "\n",
      "====== WebDriver manager ======\n",
      "INFO:WDM:====== WebDriver manager ======\n",
      "Current google-chrome version is 92.0.4515\n",
      "INFO:WDM:Current google-chrome version is 92.0.4515\n",
      "Get LATEST driver version for 92.0.4515\n",
      "INFO:WDM:Get LATEST driver version for 92.0.4515\n"
     ]
    },
    {
     "name": "stdout",
     "output_type": "stream",
     "text": [
      "BEES4 OK\n"
     ]
    },
    {
     "name": "stderr",
     "output_type": "stream",
     "text": [
      "Driver [/Users/leuzinger/.wdm/drivers/chromedriver/mac64/92.0.4515.107/chromedriver] found in cache\n",
      "INFO:WDM:Driver [/Users/leuzinger/.wdm/drivers/chromedriver/mac64/92.0.4515.107/chromedriver] found in cache\n",
      "\n",
      "\n",
      "INFO:WDM:\n",
      "\n",
      "====== WebDriver manager ======\n",
      "INFO:WDM:====== WebDriver manager ======\n",
      "Current google-chrome version is 92.0.4515\n",
      "INFO:WDM:Current google-chrome version is 92.0.4515\n",
      "Get LATEST driver version for 92.0.4515\n",
      "INFO:WDM:Get LATEST driver version for 92.0.4515\n"
     ]
    },
    {
     "name": "stdout",
     "output_type": "stream",
     "text": [
      "BFRE11 OK\n"
     ]
    },
    {
     "name": "stderr",
     "output_type": "stream",
     "text": [
      "Driver [/Users/leuzinger/.wdm/drivers/chromedriver/mac64/92.0.4515.107/chromedriver] found in cache\n",
      "INFO:WDM:Driver [/Users/leuzinger/.wdm/drivers/chromedriver/mac64/92.0.4515.107/chromedriver] found in cache\n",
      "\n",
      "\n",
      "INFO:WDM:\n",
      "\n",
      "====== WebDriver manager ======\n",
      "INFO:WDM:====== WebDriver manager ======\n",
      "Current google-chrome version is 92.0.4515\n",
      "INFO:WDM:Current google-chrome version is 92.0.4515\n",
      "Get LATEST driver version for 92.0.4515\n",
      "INFO:WDM:Get LATEST driver version for 92.0.4515\n"
     ]
    },
    {
     "name": "stdout",
     "output_type": "stream",
     "text": [
      "BFRE12 OK\n"
     ]
    },
    {
     "name": "stderr",
     "output_type": "stream",
     "text": [
      "Driver [/Users/leuzinger/.wdm/drivers/chromedriver/mac64/92.0.4515.107/chromedriver] found in cache\n",
      "INFO:WDM:Driver [/Users/leuzinger/.wdm/drivers/chromedriver/mac64/92.0.4515.107/chromedriver] found in cache\n",
      "\n",
      "\n",
      "INFO:WDM:\n",
      "\n",
      "====== WebDriver manager ======\n",
      "INFO:WDM:====== WebDriver manager ======\n",
      "Current google-chrome version is 92.0.4515\n",
      "INFO:WDM:Current google-chrome version is 92.0.4515\n",
      "Get LATEST driver version for 92.0.4515\n",
      "INFO:WDM:Get LATEST driver version for 92.0.4515\n"
     ]
    },
    {
     "name": "stdout",
     "output_type": "stream",
     "text": [
      "BGIP3 OK\n"
     ]
    },
    {
     "name": "stderr",
     "output_type": "stream",
     "text": [
      "Driver [/Users/leuzinger/.wdm/drivers/chromedriver/mac64/92.0.4515.107/chromedriver] found in cache\n",
      "INFO:WDM:Driver [/Users/leuzinger/.wdm/drivers/chromedriver/mac64/92.0.4515.107/chromedriver] found in cache\n",
      "\n",
      "\n",
      "INFO:WDM:\n",
      "\n",
      "====== WebDriver manager ======\n",
      "INFO:WDM:====== WebDriver manager ======\n",
      "Current google-chrome version is 92.0.4515\n",
      "INFO:WDM:Current google-chrome version is 92.0.4515\n",
      "Get LATEST driver version for 92.0.4515\n",
      "INFO:WDM:Get LATEST driver version for 92.0.4515\n"
     ]
    },
    {
     "name": "stdout",
     "output_type": "stream",
     "text": [
      "BGIP4 OK\n"
     ]
    },
    {
     "name": "stderr",
     "output_type": "stream",
     "text": [
      "Driver [/Users/leuzinger/.wdm/drivers/chromedriver/mac64/92.0.4515.107/chromedriver] found in cache\n",
      "INFO:WDM:Driver [/Users/leuzinger/.wdm/drivers/chromedriver/mac64/92.0.4515.107/chromedriver] found in cache\n",
      "\n",
      "\n",
      "INFO:WDM:\n",
      "\n",
      "====== WebDriver manager ======\n",
      "INFO:WDM:====== WebDriver manager ======\n",
      "Current google-chrome version is 92.0.4515\n",
      "INFO:WDM:Current google-chrome version is 92.0.4515\n",
      "Get LATEST driver version for 92.0.4515\n",
      "INFO:WDM:Get LATEST driver version for 92.0.4515\n"
     ]
    },
    {
     "name": "stdout",
     "output_type": "stream",
     "text": [
      "BIDI11 OK\n"
     ]
    },
    {
     "name": "stderr",
     "output_type": "stream",
     "text": [
      "Driver [/Users/leuzinger/.wdm/drivers/chromedriver/mac64/92.0.4515.107/chromedriver] found in cache\n",
      "INFO:WDM:Driver [/Users/leuzinger/.wdm/drivers/chromedriver/mac64/92.0.4515.107/chromedriver] found in cache\n",
      "\n",
      "\n",
      "INFO:WDM:\n",
      "\n",
      "====== WebDriver manager ======\n",
      "INFO:WDM:====== WebDriver manager ======\n",
      "Current google-chrome version is 92.0.4515\n",
      "INFO:WDM:Current google-chrome version is 92.0.4515\n",
      "Get LATEST driver version for 92.0.4515\n",
      "INFO:WDM:Get LATEST driver version for 92.0.4515\n"
     ]
    },
    {
     "name": "stdout",
     "output_type": "stream",
     "text": [
      "BIDI3 OK\n"
     ]
    },
    {
     "name": "stderr",
     "output_type": "stream",
     "text": [
      "Driver [/Users/leuzinger/.wdm/drivers/chromedriver/mac64/92.0.4515.107/chromedriver] found in cache\n",
      "INFO:WDM:Driver [/Users/leuzinger/.wdm/drivers/chromedriver/mac64/92.0.4515.107/chromedriver] found in cache\n",
      "\n",
      "\n",
      "INFO:WDM:\n",
      "\n",
      "====== WebDriver manager ======\n",
      "INFO:WDM:====== WebDriver manager ======\n",
      "Current google-chrome version is 92.0.4515\n",
      "INFO:WDM:Current google-chrome version is 92.0.4515\n",
      "Get LATEST driver version for 92.0.4515\n",
      "INFO:WDM:Get LATEST driver version for 92.0.4515\n"
     ]
    },
    {
     "name": "stdout",
     "output_type": "stream",
     "text": [
      "BIDI4 OK\n"
     ]
    },
    {
     "name": "stderr",
     "output_type": "stream",
     "text": [
      "Driver [/Users/leuzinger/.wdm/drivers/chromedriver/mac64/92.0.4515.107/chromedriver] found in cache\n",
      "INFO:WDM:Driver [/Users/leuzinger/.wdm/drivers/chromedriver/mac64/92.0.4515.107/chromedriver] found in cache\n",
      "\n",
      "\n",
      "INFO:WDM:\n",
      "\n",
      "====== WebDriver manager ======\n",
      "INFO:WDM:====== WebDriver manager ======\n",
      "Current google-chrome version is 92.0.4515\n",
      "INFO:WDM:Current google-chrome version is 92.0.4515\n",
      "Get LATEST driver version for 92.0.4515\n",
      "INFO:WDM:Get LATEST driver version for 92.0.4515\n"
     ]
    },
    {
     "name": "stdout",
     "output_type": "stream",
     "text": [
      "BIOM3 OK\n"
     ]
    },
    {
     "name": "stderr",
     "output_type": "stream",
     "text": [
      "Driver [/Users/leuzinger/.wdm/drivers/chromedriver/mac64/92.0.4515.107/chromedriver] found in cache\n",
      "INFO:WDM:Driver [/Users/leuzinger/.wdm/drivers/chromedriver/mac64/92.0.4515.107/chromedriver] found in cache\n",
      "\n",
      "\n",
      "INFO:WDM:\n",
      "\n",
      "====== WebDriver manager ======\n",
      "INFO:WDM:====== WebDriver manager ======\n",
      "Current google-chrome version is 92.0.4515\n",
      "INFO:WDM:Current google-chrome version is 92.0.4515\n",
      "Get LATEST driver version for 92.0.4515\n",
      "INFO:WDM:Get LATEST driver version for 92.0.4515\n"
     ]
    },
    {
     "name": "stdout",
     "output_type": "stream",
     "text": [
      "BKBR3 OK\n"
     ]
    },
    {
     "name": "stderr",
     "output_type": "stream",
     "text": [
      "Driver [/Users/leuzinger/.wdm/drivers/chromedriver/mac64/92.0.4515.107/chromedriver] found in cache\n",
      "INFO:WDM:Driver [/Users/leuzinger/.wdm/drivers/chromedriver/mac64/92.0.4515.107/chromedriver] found in cache\n",
      "\n",
      "\n",
      "INFO:WDM:\n",
      "\n",
      "====== WebDriver manager ======\n",
      "INFO:WDM:====== WebDriver manager ======\n",
      "Current google-chrome version is 92.0.4515\n",
      "INFO:WDM:Current google-chrome version is 92.0.4515\n",
      "Get LATEST driver version for 92.0.4515\n",
      "INFO:WDM:Get LATEST driver version for 92.0.4515\n"
     ]
    },
    {
     "name": "stdout",
     "output_type": "stream",
     "text": [
      "BLAU3 OK\n"
     ]
    },
    {
     "name": "stderr",
     "output_type": "stream",
     "text": [
      "Driver [/Users/leuzinger/.wdm/drivers/chromedriver/mac64/92.0.4515.107/chromedriver] found in cache\n",
      "INFO:WDM:Driver [/Users/leuzinger/.wdm/drivers/chromedriver/mac64/92.0.4515.107/chromedriver] found in cache\n",
      "\n",
      "\n",
      "INFO:WDM:\n",
      "\n",
      "====== WebDriver manager ======\n",
      "INFO:WDM:====== WebDriver manager ======\n",
      "Current google-chrome version is 92.0.4515\n",
      "INFO:WDM:Current google-chrome version is 92.0.4515\n",
      "Get LATEST driver version for 92.0.4515\n",
      "INFO:WDM:Get LATEST driver version for 92.0.4515\n"
     ]
    },
    {
     "name": "stdout",
     "output_type": "stream",
     "text": [
      "BMEB3 OK\n"
     ]
    },
    {
     "name": "stderr",
     "output_type": "stream",
     "text": [
      "Driver [/Users/leuzinger/.wdm/drivers/chromedriver/mac64/92.0.4515.107/chromedriver] found in cache\n",
      "INFO:WDM:Driver [/Users/leuzinger/.wdm/drivers/chromedriver/mac64/92.0.4515.107/chromedriver] found in cache\n",
      "\n",
      "\n",
      "INFO:WDM:\n",
      "\n",
      "====== WebDriver manager ======\n",
      "INFO:WDM:====== WebDriver manager ======\n",
      "Current google-chrome version is 92.0.4515\n",
      "INFO:WDM:Current google-chrome version is 92.0.4515\n",
      "Get LATEST driver version for 92.0.4515\n",
      "INFO:WDM:Get LATEST driver version for 92.0.4515\n"
     ]
    },
    {
     "name": "stdout",
     "output_type": "stream",
     "text": [
      "BMEB4 OK\n"
     ]
    },
    {
     "name": "stderr",
     "output_type": "stream",
     "text": [
      "Driver [/Users/leuzinger/.wdm/drivers/chromedriver/mac64/92.0.4515.107/chromedriver] found in cache\n",
      "INFO:WDM:Driver [/Users/leuzinger/.wdm/drivers/chromedriver/mac64/92.0.4515.107/chromedriver] found in cache\n",
      "\n",
      "\n",
      "INFO:WDM:\n",
      "\n",
      "====== WebDriver manager ======\n",
      "INFO:WDM:====== WebDriver manager ======\n",
      "Current google-chrome version is 92.0.4515\n",
      "INFO:WDM:Current google-chrome version is 92.0.4515\n",
      "Get LATEST driver version for 92.0.4515\n",
      "INFO:WDM:Get LATEST driver version for 92.0.4515\n"
     ]
    },
    {
     "name": "stdout",
     "output_type": "stream",
     "text": [
      "BMGB4 OK\n"
     ]
    },
    {
     "name": "stderr",
     "output_type": "stream",
     "text": [
      "Driver [/Users/leuzinger/.wdm/drivers/chromedriver/mac64/92.0.4515.107/chromedriver] found in cache\n",
      "INFO:WDM:Driver [/Users/leuzinger/.wdm/drivers/chromedriver/mac64/92.0.4515.107/chromedriver] found in cache\n",
      "\n",
      "\n",
      "INFO:WDM:\n",
      "\n",
      "====== WebDriver manager ======\n",
      "INFO:WDM:====== WebDriver manager ======\n",
      "Current google-chrome version is 92.0.4515\n",
      "INFO:WDM:Current google-chrome version is 92.0.4515\n",
      "Get LATEST driver version for 92.0.4515\n",
      "INFO:WDM:Get LATEST driver version for 92.0.4515\n"
     ]
    },
    {
     "name": "stdout",
     "output_type": "stream",
     "text": [
      "BMIN3 OK\n"
     ]
    },
    {
     "name": "stderr",
     "output_type": "stream",
     "text": [
      "Driver [/Users/leuzinger/.wdm/drivers/chromedriver/mac64/92.0.4515.107/chromedriver] found in cache\n",
      "INFO:WDM:Driver [/Users/leuzinger/.wdm/drivers/chromedriver/mac64/92.0.4515.107/chromedriver] found in cache\n",
      "\n",
      "\n",
      "INFO:WDM:\n",
      "\n",
      "====== WebDriver manager ======\n",
      "INFO:WDM:====== WebDriver manager ======\n",
      "Current google-chrome version is 92.0.4515\n",
      "INFO:WDM:Current google-chrome version is 92.0.4515\n",
      "Get LATEST driver version for 92.0.4515\n",
      "INFO:WDM:Get LATEST driver version for 92.0.4515\n"
     ]
    },
    {
     "name": "stdout",
     "output_type": "stream",
     "text": [
      "BMIN4 OK\n"
     ]
    },
    {
     "name": "stderr",
     "output_type": "stream",
     "text": [
      "Driver [/Users/leuzinger/.wdm/drivers/chromedriver/mac64/92.0.4515.107/chromedriver] found in cache\n",
      "INFO:WDM:Driver [/Users/leuzinger/.wdm/drivers/chromedriver/mac64/92.0.4515.107/chromedriver] found in cache\n",
      "\n",
      "\n",
      "INFO:WDM:\n",
      "\n",
      "====== WebDriver manager ======\n",
      "INFO:WDM:====== WebDriver manager ======\n",
      "Current google-chrome version is 92.0.4515\n",
      "INFO:WDM:Current google-chrome version is 92.0.4515\n",
      "Get LATEST driver version for 92.0.4515\n",
      "INFO:WDM:Get LATEST driver version for 92.0.4515\n"
     ]
    },
    {
     "name": "stdout",
     "output_type": "stream",
     "text": [
      "BMKS3 OK\n"
     ]
    },
    {
     "name": "stderr",
     "output_type": "stream",
     "text": [
      "Driver [/Users/leuzinger/.wdm/drivers/chromedriver/mac64/92.0.4515.107/chromedriver] found in cache\n",
      "INFO:WDM:Driver [/Users/leuzinger/.wdm/drivers/chromedriver/mac64/92.0.4515.107/chromedriver] found in cache\n",
      "\n",
      "\n",
      "INFO:WDM:\n",
      "\n",
      "====== WebDriver manager ======\n",
      "INFO:WDM:====== WebDriver manager ======\n",
      "Current google-chrome version is 92.0.4515\n",
      "INFO:WDM:Current google-chrome version is 92.0.4515\n",
      "Get LATEST driver version for 92.0.4515\n",
      "INFO:WDM:Get LATEST driver version for 92.0.4515\n"
     ]
    },
    {
     "name": "stdout",
     "output_type": "stream",
     "text": [
      "BMOB3 OK\n"
     ]
    },
    {
     "name": "stderr",
     "output_type": "stream",
     "text": [
      "Driver [/Users/leuzinger/.wdm/drivers/chromedriver/mac64/92.0.4515.107/chromedriver] found in cache\n",
      "INFO:WDM:Driver [/Users/leuzinger/.wdm/drivers/chromedriver/mac64/92.0.4515.107/chromedriver] found in cache\n",
      "\n",
      "\n",
      "INFO:WDM:\n",
      "\n",
      "====== WebDriver manager ======\n",
      "INFO:WDM:====== WebDriver manager ======\n",
      "Current google-chrome version is 92.0.4515\n",
      "INFO:WDM:Current google-chrome version is 92.0.4515\n",
      "Get LATEST driver version for 92.0.4515\n",
      "INFO:WDM:Get LATEST driver version for 92.0.4515\n"
     ]
    },
    {
     "name": "stdout",
     "output_type": "stream",
     "text": [
      "BNBR3 OK\n"
     ]
    },
    {
     "name": "stderr",
     "output_type": "stream",
     "text": [
      "Driver [/Users/leuzinger/.wdm/drivers/chromedriver/mac64/92.0.4515.107/chromedriver] found in cache\n",
      "INFO:WDM:Driver [/Users/leuzinger/.wdm/drivers/chromedriver/mac64/92.0.4515.107/chromedriver] found in cache\n",
      "\n",
      "\n",
      "INFO:WDM:\n",
      "\n",
      "====== WebDriver manager ======\n",
      "INFO:WDM:====== WebDriver manager ======\n",
      "Current google-chrome version is 92.0.4515\n",
      "INFO:WDM:Current google-chrome version is 92.0.4515\n",
      "Get LATEST driver version for 92.0.4515\n",
      "INFO:WDM:Get LATEST driver version for 92.0.4515\n"
     ]
    },
    {
     "name": "stdout",
     "output_type": "stream",
     "text": [
      "BOAS3 OK\n"
     ]
    },
    {
     "name": "stderr",
     "output_type": "stream",
     "text": [
      "Driver [/Users/leuzinger/.wdm/drivers/chromedriver/mac64/92.0.4515.107/chromedriver] found in cache\n",
      "INFO:WDM:Driver [/Users/leuzinger/.wdm/drivers/chromedriver/mac64/92.0.4515.107/chromedriver] found in cache\n",
      "\n",
      "\n",
      "INFO:WDM:\n",
      "\n",
      "====== WebDriver manager ======\n",
      "INFO:WDM:====== WebDriver manager ======\n",
      "Current google-chrome version is 92.0.4515\n",
      "INFO:WDM:Current google-chrome version is 92.0.4515\n",
      "Get LATEST driver version for 92.0.4515\n",
      "INFO:WDM:Get LATEST driver version for 92.0.4515\n"
     ]
    },
    {
     "name": "stdout",
     "output_type": "stream",
     "text": [
      "BOBR3 OK\n"
     ]
    },
    {
     "name": "stderr",
     "output_type": "stream",
     "text": [
      "Driver [/Users/leuzinger/.wdm/drivers/chromedriver/mac64/92.0.4515.107/chromedriver] found in cache\n",
      "INFO:WDM:Driver [/Users/leuzinger/.wdm/drivers/chromedriver/mac64/92.0.4515.107/chromedriver] found in cache\n",
      "\n",
      "\n",
      "INFO:WDM:\n",
      "\n",
      "====== WebDriver manager ======\n",
      "INFO:WDM:====== WebDriver manager ======\n",
      "Current google-chrome version is 92.0.4515\n",
      "INFO:WDM:Current google-chrome version is 92.0.4515\n",
      "Get LATEST driver version for 92.0.4515\n",
      "INFO:WDM:Get LATEST driver version for 92.0.4515\n"
     ]
    },
    {
     "name": "stdout",
     "output_type": "stream",
     "text": [
      "BOBR4 OK\n"
     ]
    },
    {
     "name": "stderr",
     "output_type": "stream",
     "text": [
      "Driver [/Users/leuzinger/.wdm/drivers/chromedriver/mac64/92.0.4515.107/chromedriver] found in cache\n",
      "INFO:WDM:Driver [/Users/leuzinger/.wdm/drivers/chromedriver/mac64/92.0.4515.107/chromedriver] found in cache\n",
      "\n",
      "\n",
      "INFO:WDM:\n",
      "\n",
      "====== WebDriver manager ======\n",
      "INFO:WDM:====== WebDriver manager ======\n",
      "Current google-chrome version is 92.0.4515\n",
      "INFO:WDM:Current google-chrome version is 92.0.4515\n",
      "Get LATEST driver version for 92.0.4515\n",
      "INFO:WDM:Get LATEST driver version for 92.0.4515\n"
     ]
    },
    {
     "name": "stdout",
     "output_type": "stream",
     "text": [
      "BPAC11 OK\n"
     ]
    },
    {
     "name": "stderr",
     "output_type": "stream",
     "text": [
      "Driver [/Users/leuzinger/.wdm/drivers/chromedriver/mac64/92.0.4515.107/chromedriver] found in cache\n",
      "INFO:WDM:Driver [/Users/leuzinger/.wdm/drivers/chromedriver/mac64/92.0.4515.107/chromedriver] found in cache\n",
      "\n",
      "\n",
      "INFO:WDM:\n",
      "\n",
      "====== WebDriver manager ======\n",
      "INFO:WDM:====== WebDriver manager ======\n",
      "Current google-chrome version is 92.0.4515\n",
      "INFO:WDM:Current google-chrome version is 92.0.4515\n",
      "Get LATEST driver version for 92.0.4515\n",
      "INFO:WDM:Get LATEST driver version for 92.0.4515\n"
     ]
    },
    {
     "name": "stdout",
     "output_type": "stream",
     "text": [
      "BPAC3 OK\n"
     ]
    },
    {
     "name": "stderr",
     "output_type": "stream",
     "text": [
      "Driver [/Users/leuzinger/.wdm/drivers/chromedriver/mac64/92.0.4515.107/chromedriver] found in cache\n",
      "INFO:WDM:Driver [/Users/leuzinger/.wdm/drivers/chromedriver/mac64/92.0.4515.107/chromedriver] found in cache\n",
      "\n",
      "\n",
      "INFO:WDM:\n",
      "\n",
      "====== WebDriver manager ======\n",
      "INFO:WDM:====== WebDriver manager ======\n",
      "Current google-chrome version is 92.0.4515\n",
      "INFO:WDM:Current google-chrome version is 92.0.4515\n",
      "Get LATEST driver version for 92.0.4515\n",
      "INFO:WDM:Get LATEST driver version for 92.0.4515\n"
     ]
    },
    {
     "name": "stdout",
     "output_type": "stream",
     "text": [
      "BPAC5 OK\n"
     ]
    },
    {
     "name": "stderr",
     "output_type": "stream",
     "text": [
      "Driver [/Users/leuzinger/.wdm/drivers/chromedriver/mac64/92.0.4515.107/chromedriver] found in cache\n",
      "INFO:WDM:Driver [/Users/leuzinger/.wdm/drivers/chromedriver/mac64/92.0.4515.107/chromedriver] found in cache\n",
      "\n",
      "\n",
      "INFO:WDM:\n",
      "\n",
      "====== WebDriver manager ======\n",
      "INFO:WDM:====== WebDriver manager ======\n",
      "Current google-chrome version is 92.0.4515\n",
      "INFO:WDM:Current google-chrome version is 92.0.4515\n",
      "Get LATEST driver version for 92.0.4515\n",
      "INFO:WDM:Get LATEST driver version for 92.0.4515\n"
     ]
    },
    {
     "name": "stdout",
     "output_type": "stream",
     "text": [
      "BPAN4 OK\n"
     ]
    },
    {
     "name": "stderr",
     "output_type": "stream",
     "text": [
      "Driver [/Users/leuzinger/.wdm/drivers/chromedriver/mac64/92.0.4515.107/chromedriver] found in cache\n",
      "INFO:WDM:Driver [/Users/leuzinger/.wdm/drivers/chromedriver/mac64/92.0.4515.107/chromedriver] found in cache\n",
      "\n",
      "\n",
      "INFO:WDM:\n",
      "\n",
      "====== WebDriver manager ======\n",
      "INFO:WDM:====== WebDriver manager ======\n",
      "Current google-chrome version is 92.0.4515\n",
      "INFO:WDM:Current google-chrome version is 92.0.4515\n",
      "Get LATEST driver version for 92.0.4515\n",
      "INFO:WDM:Get LATEST driver version for 92.0.4515\n"
     ]
    },
    {
     "name": "stdout",
     "output_type": "stream",
     "text": [
      "BPAR3 OK\n"
     ]
    },
    {
     "name": "stderr",
     "output_type": "stream",
     "text": [
      "Driver [/Users/leuzinger/.wdm/drivers/chromedriver/mac64/92.0.4515.107/chromedriver] found in cache\n",
      "INFO:WDM:Driver [/Users/leuzinger/.wdm/drivers/chromedriver/mac64/92.0.4515.107/chromedriver] found in cache\n",
      "\n",
      "\n",
      "INFO:WDM:\n",
      "\n",
      "====== WebDriver manager ======\n",
      "INFO:WDM:====== WebDriver manager ======\n",
      "Current google-chrome version is 92.0.4515\n",
      "INFO:WDM:Current google-chrome version is 92.0.4515\n",
      "Get LATEST driver version for 92.0.4515\n",
      "INFO:WDM:Get LATEST driver version for 92.0.4515\n"
     ]
    },
    {
     "name": "stdout",
     "output_type": "stream",
     "text": [
      "BPAT33 OK\n"
     ]
    },
    {
     "name": "stderr",
     "output_type": "stream",
     "text": [
      "Driver [/Users/leuzinger/.wdm/drivers/chromedriver/mac64/92.0.4515.107/chromedriver] found in cache\n",
      "INFO:WDM:Driver [/Users/leuzinger/.wdm/drivers/chromedriver/mac64/92.0.4515.107/chromedriver] found in cache\n",
      "\n",
      "\n",
      "INFO:WDM:\n",
      "\n",
      "====== WebDriver manager ======\n",
      "INFO:WDM:====== WebDriver manager ======\n",
      "Current google-chrome version is 92.0.4515\n",
      "INFO:WDM:Current google-chrome version is 92.0.4515\n",
      "Get LATEST driver version for 92.0.4515\n",
      "INFO:WDM:Get LATEST driver version for 92.0.4515\n"
     ]
    },
    {
     "name": "stdout",
     "output_type": "stream",
     "text": [
      "BPHA3 OK\n"
     ]
    },
    {
     "name": "stderr",
     "output_type": "stream",
     "text": [
      "Driver [/Users/leuzinger/.wdm/drivers/chromedriver/mac64/92.0.4515.107/chromedriver] found in cache\n",
      "INFO:WDM:Driver [/Users/leuzinger/.wdm/drivers/chromedriver/mac64/92.0.4515.107/chromedriver] found in cache\n",
      "\n",
      "\n",
      "INFO:WDM:\n",
      "\n",
      "====== WebDriver manager ======\n",
      "INFO:WDM:====== WebDriver manager ======\n",
      "Current google-chrome version is 92.0.4515\n",
      "INFO:WDM:Current google-chrome version is 92.0.4515\n",
      "Get LATEST driver version for 92.0.4515\n",
      "INFO:WDM:Get LATEST driver version for 92.0.4515\n"
     ]
    },
    {
     "name": "stdout",
     "output_type": "stream",
     "text": [
      "BRAP3 OK\n"
     ]
    },
    {
     "name": "stderr",
     "output_type": "stream",
     "text": [
      "Driver [/Users/leuzinger/.wdm/drivers/chromedriver/mac64/92.0.4515.107/chromedriver] found in cache\n",
      "INFO:WDM:Driver [/Users/leuzinger/.wdm/drivers/chromedriver/mac64/92.0.4515.107/chromedriver] found in cache\n",
      "\n",
      "\n",
      "INFO:WDM:\n",
      "\n",
      "====== WebDriver manager ======\n",
      "INFO:WDM:====== WebDriver manager ======\n",
      "Current google-chrome version is 92.0.4515\n",
      "INFO:WDM:Current google-chrome version is 92.0.4515\n",
      "Get LATEST driver version for 92.0.4515\n",
      "INFO:WDM:Get LATEST driver version for 92.0.4515\n"
     ]
    },
    {
     "name": "stdout",
     "output_type": "stream",
     "text": [
      "BRAP4 OK\n"
     ]
    },
    {
     "name": "stderr",
     "output_type": "stream",
     "text": [
      "Driver [/Users/leuzinger/.wdm/drivers/chromedriver/mac64/92.0.4515.107/chromedriver] found in cache\n",
      "INFO:WDM:Driver [/Users/leuzinger/.wdm/drivers/chromedriver/mac64/92.0.4515.107/chromedriver] found in cache\n",
      "\n",
      "\n",
      "INFO:WDM:\n",
      "\n",
      "====== WebDriver manager ======\n",
      "INFO:WDM:====== WebDriver manager ======\n",
      "Current google-chrome version is 92.0.4515\n",
      "INFO:WDM:Current google-chrome version is 92.0.4515\n",
      "Get LATEST driver version for 92.0.4515\n",
      "INFO:WDM:Get LATEST driver version for 92.0.4515\n"
     ]
    },
    {
     "name": "stdout",
     "output_type": "stream",
     "text": [
      "BRBI11 OK\n"
     ]
    },
    {
     "name": "stderr",
     "output_type": "stream",
     "text": [
      "Driver [/Users/leuzinger/.wdm/drivers/chromedriver/mac64/92.0.4515.107/chromedriver] found in cache\n",
      "INFO:WDM:Driver [/Users/leuzinger/.wdm/drivers/chromedriver/mac64/92.0.4515.107/chromedriver] found in cache\n",
      "\n",
      "\n",
      "INFO:WDM:\n",
      "\n",
      "====== WebDriver manager ======\n",
      "INFO:WDM:====== WebDriver manager ======\n",
      "Current google-chrome version is 92.0.4515\n",
      "INFO:WDM:Current google-chrome version is 92.0.4515\n",
      "Get LATEST driver version for 92.0.4515\n",
      "INFO:WDM:Get LATEST driver version for 92.0.4515\n"
     ]
    },
    {
     "name": "stdout",
     "output_type": "stream",
     "text": [
      "BRDT3 OK\n"
     ]
    },
    {
     "name": "stderr",
     "output_type": "stream",
     "text": [
      "Driver [/Users/leuzinger/.wdm/drivers/chromedriver/mac64/92.0.4515.107/chromedriver] found in cache\n",
      "INFO:WDM:Driver [/Users/leuzinger/.wdm/drivers/chromedriver/mac64/92.0.4515.107/chromedriver] found in cache\n",
      "\n",
      "\n",
      "INFO:WDM:\n",
      "\n",
      "====== WebDriver manager ======\n",
      "INFO:WDM:====== WebDriver manager ======\n",
      "Current google-chrome version is 92.0.4515\n",
      "INFO:WDM:Current google-chrome version is 92.0.4515\n",
      "Get LATEST driver version for 92.0.4515\n",
      "INFO:WDM:Get LATEST driver version for 92.0.4515\n"
     ]
    },
    {
     "name": "stdout",
     "output_type": "stream",
     "text": [
      "BRFS3 OK\n"
     ]
    },
    {
     "name": "stderr",
     "output_type": "stream",
     "text": [
      "Driver [/Users/leuzinger/.wdm/drivers/chromedriver/mac64/92.0.4515.107/chromedriver] found in cache\n",
      "INFO:WDM:Driver [/Users/leuzinger/.wdm/drivers/chromedriver/mac64/92.0.4515.107/chromedriver] found in cache\n",
      "\n",
      "\n",
      "INFO:WDM:\n",
      "\n",
      "====== WebDriver manager ======\n",
      "INFO:WDM:====== WebDriver manager ======\n",
      "Current google-chrome version is 92.0.4515\n",
      "INFO:WDM:Current google-chrome version is 92.0.4515\n",
      "Get LATEST driver version for 92.0.4515\n",
      "INFO:WDM:Get LATEST driver version for 92.0.4515\n"
     ]
    },
    {
     "name": "stdout",
     "output_type": "stream",
     "text": [
      "BRGE11 OK\n"
     ]
    },
    {
     "name": "stderr",
     "output_type": "stream",
     "text": [
      "Driver [/Users/leuzinger/.wdm/drivers/chromedriver/mac64/92.0.4515.107/chromedriver] found in cache\n",
      "INFO:WDM:Driver [/Users/leuzinger/.wdm/drivers/chromedriver/mac64/92.0.4515.107/chromedriver] found in cache\n",
      "\n",
      "\n",
      "INFO:WDM:\n",
      "\n",
      "====== WebDriver manager ======\n",
      "INFO:WDM:====== WebDriver manager ======\n",
      "Current google-chrome version is 92.0.4515\n",
      "INFO:WDM:Current google-chrome version is 92.0.4515\n",
      "Get LATEST driver version for 92.0.4515\n",
      "INFO:WDM:Get LATEST driver version for 92.0.4515\n"
     ]
    },
    {
     "name": "stdout",
     "output_type": "stream",
     "text": [
      "BRGE12 OK\n"
     ]
    },
    {
     "name": "stderr",
     "output_type": "stream",
     "text": [
      "Driver [/Users/leuzinger/.wdm/drivers/chromedriver/mac64/92.0.4515.107/chromedriver] found in cache\n",
      "INFO:WDM:Driver [/Users/leuzinger/.wdm/drivers/chromedriver/mac64/92.0.4515.107/chromedriver] found in cache\n",
      "\n",
      "\n",
      "INFO:WDM:\n",
      "\n",
      "====== WebDriver manager ======\n",
      "INFO:WDM:====== WebDriver manager ======\n",
      "Current google-chrome version is 92.0.4515\n",
      "INFO:WDM:Current google-chrome version is 92.0.4515\n",
      "Get LATEST driver version for 92.0.4515\n",
      "INFO:WDM:Get LATEST driver version for 92.0.4515\n"
     ]
    },
    {
     "name": "stdout",
     "output_type": "stream",
     "text": [
      "BRGE3 OK\n"
     ]
    },
    {
     "name": "stderr",
     "output_type": "stream",
     "text": [
      "Driver [/Users/leuzinger/.wdm/drivers/chromedriver/mac64/92.0.4515.107/chromedriver] found in cache\n",
      "INFO:WDM:Driver [/Users/leuzinger/.wdm/drivers/chromedriver/mac64/92.0.4515.107/chromedriver] found in cache\n",
      "\n",
      "\n",
      "INFO:WDM:\n",
      "\n",
      "====== WebDriver manager ======\n",
      "INFO:WDM:====== WebDriver manager ======\n",
      "Current google-chrome version is 92.0.4515\n",
      "INFO:WDM:Current google-chrome version is 92.0.4515\n",
      "Get LATEST driver version for 92.0.4515\n",
      "INFO:WDM:Get LATEST driver version for 92.0.4515\n"
     ]
    },
    {
     "name": "stdout",
     "output_type": "stream",
     "text": [
      "BRGE5 OK\n"
     ]
    },
    {
     "name": "stderr",
     "output_type": "stream",
     "text": [
      "Driver [/Users/leuzinger/.wdm/drivers/chromedriver/mac64/92.0.4515.107/chromedriver] found in cache\n",
      "INFO:WDM:Driver [/Users/leuzinger/.wdm/drivers/chromedriver/mac64/92.0.4515.107/chromedriver] found in cache\n",
      "\n",
      "\n",
      "INFO:WDM:\n",
      "\n",
      "====== WebDriver manager ======\n",
      "INFO:WDM:====== WebDriver manager ======\n",
      "Current google-chrome version is 92.0.4515\n",
      "INFO:WDM:Current google-chrome version is 92.0.4515\n",
      "Get LATEST driver version for 92.0.4515\n",
      "INFO:WDM:Get LATEST driver version for 92.0.4515\n"
     ]
    },
    {
     "name": "stdout",
     "output_type": "stream",
     "text": [
      "BRGE6 OK\n"
     ]
    },
    {
     "name": "stderr",
     "output_type": "stream",
     "text": [
      "Driver [/Users/leuzinger/.wdm/drivers/chromedriver/mac64/92.0.4515.107/chromedriver] found in cache\n",
      "INFO:WDM:Driver [/Users/leuzinger/.wdm/drivers/chromedriver/mac64/92.0.4515.107/chromedriver] found in cache\n",
      "\n",
      "\n",
      "INFO:WDM:\n",
      "\n",
      "====== WebDriver manager ======\n",
      "INFO:WDM:====== WebDriver manager ======\n",
      "Current google-chrome version is 92.0.4515\n",
      "INFO:WDM:Current google-chrome version is 92.0.4515\n",
      "Get LATEST driver version for 92.0.4515\n",
      "INFO:WDM:Get LATEST driver version for 92.0.4515\n"
     ]
    },
    {
     "name": "stdout",
     "output_type": "stream",
     "text": [
      "BRGE7 OK\n"
     ]
    },
    {
     "name": "stderr",
     "output_type": "stream",
     "text": [
      "Driver [/Users/leuzinger/.wdm/drivers/chromedriver/mac64/92.0.4515.107/chromedriver] found in cache\n",
      "INFO:WDM:Driver [/Users/leuzinger/.wdm/drivers/chromedriver/mac64/92.0.4515.107/chromedriver] found in cache\n",
      "\n",
      "\n",
      "INFO:WDM:\n",
      "\n",
      "====== WebDriver manager ======\n",
      "INFO:WDM:====== WebDriver manager ======\n",
      "Current google-chrome version is 92.0.4515\n",
      "INFO:WDM:Current google-chrome version is 92.0.4515\n",
      "Get LATEST driver version for 92.0.4515\n",
      "INFO:WDM:Get LATEST driver version for 92.0.4515\n"
     ]
    },
    {
     "name": "stdout",
     "output_type": "stream",
     "text": [
      "BRGE8 OK\n"
     ]
    },
    {
     "name": "stderr",
     "output_type": "stream",
     "text": [
      "Driver [/Users/leuzinger/.wdm/drivers/chromedriver/mac64/92.0.4515.107/chromedriver] found in cache\n",
      "INFO:WDM:Driver [/Users/leuzinger/.wdm/drivers/chromedriver/mac64/92.0.4515.107/chromedriver] found in cache\n",
      "\n",
      "\n",
      "INFO:WDM:\n",
      "\n",
      "====== WebDriver manager ======\n",
      "INFO:WDM:====== WebDriver manager ======\n",
      "Current google-chrome version is 92.0.4515\n",
      "INFO:WDM:Current google-chrome version is 92.0.4515\n",
      "Get LATEST driver version for 92.0.4515\n",
      "INFO:WDM:Get LATEST driver version for 92.0.4515\n"
     ]
    },
    {
     "name": "stdout",
     "output_type": "stream",
     "text": [
      "BRIV3 OK\n"
     ]
    },
    {
     "name": "stderr",
     "output_type": "stream",
     "text": [
      "Driver [/Users/leuzinger/.wdm/drivers/chromedriver/mac64/92.0.4515.107/chromedriver] found in cache\n",
      "INFO:WDM:Driver [/Users/leuzinger/.wdm/drivers/chromedriver/mac64/92.0.4515.107/chromedriver] found in cache\n",
      "\n",
      "\n",
      "INFO:WDM:\n",
      "\n",
      "====== WebDriver manager ======\n",
      "INFO:WDM:====== WebDriver manager ======\n",
      "Current google-chrome version is 92.0.4515\n",
      "INFO:WDM:Current google-chrome version is 92.0.4515\n",
      "Get LATEST driver version for 92.0.4515\n",
      "INFO:WDM:Get LATEST driver version for 92.0.4515\n"
     ]
    },
    {
     "name": "stdout",
     "output_type": "stream",
     "text": [
      "BRIV4 OK\n"
     ]
    },
    {
     "name": "stderr",
     "output_type": "stream",
     "text": [
      "Driver [/Users/leuzinger/.wdm/drivers/chromedriver/mac64/92.0.4515.107/chromedriver] found in cache\n",
      "INFO:WDM:Driver [/Users/leuzinger/.wdm/drivers/chromedriver/mac64/92.0.4515.107/chromedriver] found in cache\n",
      "\n",
      "\n",
      "INFO:WDM:\n",
      "\n",
      "====== WebDriver manager ======\n",
      "INFO:WDM:====== WebDriver manager ======\n",
      "Current google-chrome version is 92.0.4515\n",
      "INFO:WDM:Current google-chrome version is 92.0.4515\n",
      "Get LATEST driver version for 92.0.4515\n",
      "INFO:WDM:Get LATEST driver version for 92.0.4515\n"
     ]
    },
    {
     "name": "stdout",
     "output_type": "stream",
     "text": [
      "BRKM3 OK\n"
     ]
    },
    {
     "name": "stderr",
     "output_type": "stream",
     "text": [
      "Driver [/Users/leuzinger/.wdm/drivers/chromedriver/mac64/92.0.4515.107/chromedriver] found in cache\n",
      "INFO:WDM:Driver [/Users/leuzinger/.wdm/drivers/chromedriver/mac64/92.0.4515.107/chromedriver] found in cache\n",
      "\n",
      "\n",
      "INFO:WDM:\n",
      "\n",
      "====== WebDriver manager ======\n",
      "INFO:WDM:====== WebDriver manager ======\n",
      "Current google-chrome version is 92.0.4515\n",
      "INFO:WDM:Current google-chrome version is 92.0.4515\n",
      "Get LATEST driver version for 92.0.4515\n",
      "INFO:WDM:Get LATEST driver version for 92.0.4515\n"
     ]
    },
    {
     "name": "stdout",
     "output_type": "stream",
     "text": [
      "BRKM5 OK\n"
     ]
    },
    {
     "name": "stderr",
     "output_type": "stream",
     "text": [
      "Driver [/Users/leuzinger/.wdm/drivers/chromedriver/mac64/92.0.4515.107/chromedriver] found in cache\n",
      "INFO:WDM:Driver [/Users/leuzinger/.wdm/drivers/chromedriver/mac64/92.0.4515.107/chromedriver] found in cache\n",
      "\n",
      "\n",
      "INFO:WDM:\n",
      "\n",
      "====== WebDriver manager ======\n",
      "INFO:WDM:====== WebDriver manager ======\n",
      "Current google-chrome version is 92.0.4515\n",
      "INFO:WDM:Current google-chrome version is 92.0.4515\n",
      "Get LATEST driver version for 92.0.4515\n",
      "INFO:WDM:Get LATEST driver version for 92.0.4515\n"
     ]
    },
    {
     "name": "stdout",
     "output_type": "stream",
     "text": [
      "BRKM6 OK\n"
     ]
    },
    {
     "name": "stderr",
     "output_type": "stream",
     "text": [
      "Driver [/Users/leuzinger/.wdm/drivers/chromedriver/mac64/92.0.4515.107/chromedriver] found in cache\n",
      "INFO:WDM:Driver [/Users/leuzinger/.wdm/drivers/chromedriver/mac64/92.0.4515.107/chromedriver] found in cache\n",
      "\n",
      "\n",
      "INFO:WDM:\n",
      "\n",
      "====== WebDriver manager ======\n",
      "INFO:WDM:====== WebDriver manager ======\n",
      "Current google-chrome version is 92.0.4515\n",
      "INFO:WDM:Current google-chrome version is 92.0.4515\n",
      "Get LATEST driver version for 92.0.4515\n",
      "INFO:WDM:Get LATEST driver version for 92.0.4515\n"
     ]
    },
    {
     "name": "stdout",
     "output_type": "stream",
     "text": [
      "BRML3 OK\n"
     ]
    },
    {
     "name": "stderr",
     "output_type": "stream",
     "text": [
      "Driver [/Users/leuzinger/.wdm/drivers/chromedriver/mac64/92.0.4515.107/chromedriver] found in cache\n",
      "INFO:WDM:Driver [/Users/leuzinger/.wdm/drivers/chromedriver/mac64/92.0.4515.107/chromedriver] found in cache\n",
      "\n",
      "\n",
      "INFO:WDM:\n",
      "\n",
      "====== WebDriver manager ======\n",
      "INFO:WDM:====== WebDriver manager ======\n",
      "Current google-chrome version is 92.0.4515\n",
      "INFO:WDM:Current google-chrome version is 92.0.4515\n",
      "Get LATEST driver version for 92.0.4515\n",
      "INFO:WDM:Get LATEST driver version for 92.0.4515\n"
     ]
    },
    {
     "name": "stdout",
     "output_type": "stream",
     "text": [
      "BRPR3 OK\n"
     ]
    },
    {
     "name": "stderr",
     "output_type": "stream",
     "text": [
      "Driver [/Users/leuzinger/.wdm/drivers/chromedriver/mac64/92.0.4515.107/chromedriver] found in cache\n",
      "INFO:WDM:Driver [/Users/leuzinger/.wdm/drivers/chromedriver/mac64/92.0.4515.107/chromedriver] found in cache\n",
      "\n",
      "\n",
      "INFO:WDM:\n",
      "\n",
      "====== WebDriver manager ======\n",
      "INFO:WDM:====== WebDriver manager ======\n",
      "Current google-chrome version is 92.0.4515\n",
      "INFO:WDM:Current google-chrome version is 92.0.4515\n",
      "Get LATEST driver version for 92.0.4515\n",
      "INFO:WDM:Get LATEST driver version for 92.0.4515\n"
     ]
    },
    {
     "name": "stdout",
     "output_type": "stream",
     "text": [
      "BRQB3 OK\n"
     ]
    },
    {
     "name": "stderr",
     "output_type": "stream",
     "text": [
      "Driver [/Users/leuzinger/.wdm/drivers/chromedriver/mac64/92.0.4515.107/chromedriver] found in cache\n",
      "INFO:WDM:Driver [/Users/leuzinger/.wdm/drivers/chromedriver/mac64/92.0.4515.107/chromedriver] found in cache\n",
      "\n",
      "\n",
      "INFO:WDM:\n",
      "\n",
      "====== WebDriver manager ======\n",
      "INFO:WDM:====== WebDriver manager ======\n",
      "Current google-chrome version is 92.0.4515\n",
      "INFO:WDM:Current google-chrome version is 92.0.4515\n",
      "Get LATEST driver version for 92.0.4515\n",
      "INFO:WDM:Get LATEST driver version for 92.0.4515\n"
     ]
    },
    {
     "name": "stdout",
     "output_type": "stream",
     "text": [
      "BRSR3 OK\n"
     ]
    },
    {
     "name": "stderr",
     "output_type": "stream",
     "text": [
      "Driver [/Users/leuzinger/.wdm/drivers/chromedriver/mac64/92.0.4515.107/chromedriver] found in cache\n",
      "INFO:WDM:Driver [/Users/leuzinger/.wdm/drivers/chromedriver/mac64/92.0.4515.107/chromedriver] found in cache\n",
      "\n",
      "\n",
      "INFO:WDM:\n",
      "\n",
      "====== WebDriver manager ======\n",
      "INFO:WDM:====== WebDriver manager ======\n",
      "Current google-chrome version is 92.0.4515\n",
      "INFO:WDM:Current google-chrome version is 92.0.4515\n",
      "Get LATEST driver version for 92.0.4515\n",
      "INFO:WDM:Get LATEST driver version for 92.0.4515\n"
     ]
    },
    {
     "name": "stdout",
     "output_type": "stream",
     "text": [
      "BRSR5 OK\n"
     ]
    },
    {
     "name": "stderr",
     "output_type": "stream",
     "text": [
      "Driver [/Users/leuzinger/.wdm/drivers/chromedriver/mac64/92.0.4515.107/chromedriver] found in cache\n",
      "INFO:WDM:Driver [/Users/leuzinger/.wdm/drivers/chromedriver/mac64/92.0.4515.107/chromedriver] found in cache\n",
      "\n",
      "\n",
      "INFO:WDM:\n",
      "\n",
      "====== WebDriver manager ======\n",
      "INFO:WDM:====== WebDriver manager ======\n",
      "Current google-chrome version is 92.0.4515\n",
      "INFO:WDM:Current google-chrome version is 92.0.4515\n",
      "Get LATEST driver version for 92.0.4515\n",
      "INFO:WDM:Get LATEST driver version for 92.0.4515\n"
     ]
    },
    {
     "name": "stdout",
     "output_type": "stream",
     "text": [
      "BRSR6 OK\n"
     ]
    },
    {
     "name": "stderr",
     "output_type": "stream",
     "text": [
      "Driver [/Users/leuzinger/.wdm/drivers/chromedriver/mac64/92.0.4515.107/chromedriver] found in cache\n",
      "INFO:WDM:Driver [/Users/leuzinger/.wdm/drivers/chromedriver/mac64/92.0.4515.107/chromedriver] found in cache\n",
      "\n",
      "\n",
      "INFO:WDM:\n",
      "\n",
      "====== WebDriver manager ======\n",
      "INFO:WDM:====== WebDriver manager ======\n",
      "Current google-chrome version is 92.0.4515\n",
      "INFO:WDM:Current google-chrome version is 92.0.4515\n",
      "Get LATEST driver version for 92.0.4515\n",
      "INFO:WDM:Get LATEST driver version for 92.0.4515\n"
     ]
    },
    {
     "name": "stdout",
     "output_type": "stream",
     "text": [
      "BSEV3 OK\n"
     ]
    },
    {
     "name": "stderr",
     "output_type": "stream",
     "text": [
      "Driver [/Users/leuzinger/.wdm/drivers/chromedriver/mac64/92.0.4515.107/chromedriver] found in cache\n",
      "INFO:WDM:Driver [/Users/leuzinger/.wdm/drivers/chromedriver/mac64/92.0.4515.107/chromedriver] found in cache\n",
      "\n",
      "\n",
      "INFO:WDM:\n",
      "\n",
      "====== WebDriver manager ======\n",
      "INFO:WDM:====== WebDriver manager ======\n",
      "Current google-chrome version is 92.0.4515\n",
      "INFO:WDM:Current google-chrome version is 92.0.4515\n",
      "Get LATEST driver version for 92.0.4515\n",
      "INFO:WDM:Get LATEST driver version for 92.0.4515\n"
     ]
    },
    {
     "name": "stdout",
     "output_type": "stream",
     "text": [
      "BSLI3 OK\n"
     ]
    },
    {
     "name": "stderr",
     "output_type": "stream",
     "text": [
      "Driver [/Users/leuzinger/.wdm/drivers/chromedriver/mac64/92.0.4515.107/chromedriver] found in cache\n",
      "INFO:WDM:Driver [/Users/leuzinger/.wdm/drivers/chromedriver/mac64/92.0.4515.107/chromedriver] found in cache\n",
      "\n",
      "\n",
      "INFO:WDM:\n",
      "\n",
      "====== WebDriver manager ======\n",
      "INFO:WDM:====== WebDriver manager ======\n",
      "Current google-chrome version is 92.0.4515\n",
      "INFO:WDM:Current google-chrome version is 92.0.4515\n",
      "Get LATEST driver version for 92.0.4515\n",
      "INFO:WDM:Get LATEST driver version for 92.0.4515\n"
     ]
    },
    {
     "name": "stdout",
     "output_type": "stream",
     "text": [
      "BSLI4 OK\n"
     ]
    },
    {
     "name": "stderr",
     "output_type": "stream",
     "text": [
      "Driver [/Users/leuzinger/.wdm/drivers/chromedriver/mac64/92.0.4515.107/chromedriver] found in cache\n",
      "INFO:WDM:Driver [/Users/leuzinger/.wdm/drivers/chromedriver/mac64/92.0.4515.107/chromedriver] found in cache\n",
      "\n",
      "\n",
      "INFO:WDM:\n",
      "\n",
      "====== WebDriver manager ======\n",
      "INFO:WDM:====== WebDriver manager ======\n",
      "Current google-chrome version is 92.0.4515\n",
      "INFO:WDM:Current google-chrome version is 92.0.4515\n",
      "Get LATEST driver version for 92.0.4515\n",
      "INFO:WDM:Get LATEST driver version for 92.0.4515\n"
     ]
    },
    {
     "name": "stdout",
     "output_type": "stream",
     "text": [
      "BTOW3 OK\n"
     ]
    },
    {
     "name": "stderr",
     "output_type": "stream",
     "text": [
      "Driver [/Users/leuzinger/.wdm/drivers/chromedriver/mac64/92.0.4515.107/chromedriver] found in cache\n",
      "INFO:WDM:Driver [/Users/leuzinger/.wdm/drivers/chromedriver/mac64/92.0.4515.107/chromedriver] found in cache\n",
      "\n",
      "\n",
      "INFO:WDM:\n",
      "\n",
      "====== WebDriver manager ======\n",
      "INFO:WDM:====== WebDriver manager ======\n",
      "Current google-chrome version is 92.0.4515\n",
      "INFO:WDM:Current google-chrome version is 92.0.4515\n",
      "Get LATEST driver version for 92.0.4515\n",
      "INFO:WDM:Get LATEST driver version for 92.0.4515\n"
     ]
    },
    {
     "name": "stdout",
     "output_type": "stream",
     "text": [
      "BTTL4 OK\n"
     ]
    },
    {
     "name": "stderr",
     "output_type": "stream",
     "text": [
      "Driver [/Users/leuzinger/.wdm/drivers/chromedriver/mac64/92.0.4515.107/chromedriver] found in cache\n",
      "INFO:WDM:Driver [/Users/leuzinger/.wdm/drivers/chromedriver/mac64/92.0.4515.107/chromedriver] found in cache\n",
      "\n",
      "\n",
      "INFO:WDM:\n",
      "\n",
      "====== WebDriver manager ======\n",
      "INFO:WDM:====== WebDriver manager ======\n",
      "Current google-chrome version is 92.0.4515\n",
      "INFO:WDM:Current google-chrome version is 92.0.4515\n",
      "Get LATEST driver version for 92.0.4515\n",
      "INFO:WDM:Get LATEST driver version for 92.0.4515\n"
     ]
    },
    {
     "name": "stdout",
     "output_type": "stream",
     "text": [
      "CALI3 OK\n"
     ]
    },
    {
     "name": "stderr",
     "output_type": "stream",
     "text": [
      "Driver [/Users/leuzinger/.wdm/drivers/chromedriver/mac64/92.0.4515.107/chromedriver] found in cache\n",
      "INFO:WDM:Driver [/Users/leuzinger/.wdm/drivers/chromedriver/mac64/92.0.4515.107/chromedriver] found in cache\n",
      "\n",
      "\n",
      "INFO:WDM:\n",
      "\n",
      "====== WebDriver manager ======\n",
      "INFO:WDM:====== WebDriver manager ======\n",
      "Current google-chrome version is 92.0.4515\n",
      "INFO:WDM:Current google-chrome version is 92.0.4515\n",
      "Get LATEST driver version for 92.0.4515\n",
      "INFO:WDM:Get LATEST driver version for 92.0.4515\n"
     ]
    },
    {
     "name": "stdout",
     "output_type": "stream",
     "text": [
      "CALI4 OK\n"
     ]
    },
    {
     "name": "stderr",
     "output_type": "stream",
     "text": [
      "Driver [/Users/leuzinger/.wdm/drivers/chromedriver/mac64/92.0.4515.107/chromedriver] found in cache\n",
      "INFO:WDM:Driver [/Users/leuzinger/.wdm/drivers/chromedriver/mac64/92.0.4515.107/chromedriver] found in cache\n",
      "\n",
      "\n",
      "INFO:WDM:\n",
      "\n",
      "====== WebDriver manager ======\n",
      "INFO:WDM:====== WebDriver manager ======\n",
      "Current google-chrome version is 92.0.4515\n",
      "INFO:WDM:Current google-chrome version is 92.0.4515\n",
      "Get LATEST driver version for 92.0.4515\n",
      "INFO:WDM:Get LATEST driver version for 92.0.4515\n"
     ]
    },
    {
     "name": "stdout",
     "output_type": "stream",
     "text": [
      "CAMB3 OK\n"
     ]
    },
    {
     "name": "stderr",
     "output_type": "stream",
     "text": [
      "Driver [/Users/leuzinger/.wdm/drivers/chromedriver/mac64/92.0.4515.107/chromedriver] found in cache\n",
      "INFO:WDM:Driver [/Users/leuzinger/.wdm/drivers/chromedriver/mac64/92.0.4515.107/chromedriver] found in cache\n",
      "\n",
      "\n",
      "INFO:WDM:\n",
      "\n",
      "====== WebDriver manager ======\n",
      "INFO:WDM:====== WebDriver manager ======\n",
      "Current google-chrome version is 92.0.4515\n",
      "INFO:WDM:Current google-chrome version is 92.0.4515\n",
      "Get LATEST driver version for 92.0.4515\n",
      "INFO:WDM:Get LATEST driver version for 92.0.4515\n"
     ]
    },
    {
     "name": "stdout",
     "output_type": "stream",
     "text": [
      "CAMB4 OK\n"
     ]
    },
    {
     "name": "stderr",
     "output_type": "stream",
     "text": [
      "Driver [/Users/leuzinger/.wdm/drivers/chromedriver/mac64/92.0.4515.107/chromedriver] found in cache\n",
      "INFO:WDM:Driver [/Users/leuzinger/.wdm/drivers/chromedriver/mac64/92.0.4515.107/chromedriver] found in cache\n",
      "\n",
      "\n",
      "INFO:WDM:\n",
      "\n",
      "====== WebDriver manager ======\n",
      "INFO:WDM:====== WebDriver manager ======\n",
      "Current google-chrome version is 92.0.4515\n",
      "INFO:WDM:Current google-chrome version is 92.0.4515\n",
      "Get LATEST driver version for 92.0.4515\n",
      "INFO:WDM:Get LATEST driver version for 92.0.4515\n"
     ]
    },
    {
     "name": "stdout",
     "output_type": "stream",
     "text": [
      "CAML3 OK\n"
     ]
    },
    {
     "name": "stderr",
     "output_type": "stream",
     "text": [
      "Driver [/Users/leuzinger/.wdm/drivers/chromedriver/mac64/92.0.4515.107/chromedriver] found in cache\n",
      "INFO:WDM:Driver [/Users/leuzinger/.wdm/drivers/chromedriver/mac64/92.0.4515.107/chromedriver] found in cache\n",
      "\n",
      "\n",
      "INFO:WDM:\n",
      "\n",
      "====== WebDriver manager ======\n",
      "INFO:WDM:====== WebDriver manager ======\n",
      "Current google-chrome version is 92.0.4515\n",
      "INFO:WDM:Current google-chrome version is 92.0.4515\n",
      "Get LATEST driver version for 92.0.4515\n",
      "INFO:WDM:Get LATEST driver version for 92.0.4515\n"
     ]
    },
    {
     "name": "stdout",
     "output_type": "stream",
     "text": [
      "CARD3 OK\n"
     ]
    },
    {
     "name": "stderr",
     "output_type": "stream",
     "text": [
      "Driver [/Users/leuzinger/.wdm/drivers/chromedriver/mac64/92.0.4515.107/chromedriver] found in cache\n",
      "INFO:WDM:Driver [/Users/leuzinger/.wdm/drivers/chromedriver/mac64/92.0.4515.107/chromedriver] found in cache\n",
      "\n",
      "\n",
      "INFO:WDM:\n",
      "\n",
      "====== WebDriver manager ======\n",
      "INFO:WDM:====== WebDriver manager ======\n",
      "Current google-chrome version is 92.0.4515\n",
      "INFO:WDM:Current google-chrome version is 92.0.4515\n",
      "Get LATEST driver version for 92.0.4515\n",
      "INFO:WDM:Get LATEST driver version for 92.0.4515\n"
     ]
    },
    {
     "name": "stdout",
     "output_type": "stream",
     "text": [
      "CASH3 OK\n"
     ]
    },
    {
     "name": "stderr",
     "output_type": "stream",
     "text": [
      "Driver [/Users/leuzinger/.wdm/drivers/chromedriver/mac64/92.0.4515.107/chromedriver] found in cache\n",
      "INFO:WDM:Driver [/Users/leuzinger/.wdm/drivers/chromedriver/mac64/92.0.4515.107/chromedriver] found in cache\n",
      "\n",
      "\n",
      "INFO:WDM:\n",
      "\n",
      "====== WebDriver manager ======\n",
      "INFO:WDM:====== WebDriver manager ======\n",
      "Current google-chrome version is 92.0.4515\n",
      "INFO:WDM:Current google-chrome version is 92.0.4515\n",
      "Get LATEST driver version for 92.0.4515\n",
      "INFO:WDM:Get LATEST driver version for 92.0.4515\n"
     ]
    },
    {
     "name": "stdout",
     "output_type": "stream",
     "text": [
      "CASN3 OK\n"
     ]
    },
    {
     "name": "stderr",
     "output_type": "stream",
     "text": [
      "Driver [/Users/leuzinger/.wdm/drivers/chromedriver/mac64/92.0.4515.107/chromedriver] found in cache\n",
      "INFO:WDM:Driver [/Users/leuzinger/.wdm/drivers/chromedriver/mac64/92.0.4515.107/chromedriver] found in cache\n",
      "\n",
      "\n",
      "INFO:WDM:\n",
      "\n",
      "====== WebDriver manager ======\n",
      "INFO:WDM:====== WebDriver manager ======\n",
      "Current google-chrome version is 92.0.4515\n",
      "INFO:WDM:Current google-chrome version is 92.0.4515\n",
      "Get LATEST driver version for 92.0.4515\n",
      "INFO:WDM:Get LATEST driver version for 92.0.4515\n"
     ]
    },
    {
     "name": "stdout",
     "output_type": "stream",
     "text": [
      "CASN4 OK\n"
     ]
    },
    {
     "name": "stderr",
     "output_type": "stream",
     "text": [
      "Driver [/Users/leuzinger/.wdm/drivers/chromedriver/mac64/92.0.4515.107/chromedriver] found in cache\n",
      "INFO:WDM:Driver [/Users/leuzinger/.wdm/drivers/chromedriver/mac64/92.0.4515.107/chromedriver] found in cache\n",
      "\n",
      "\n",
      "INFO:WDM:\n",
      "\n",
      "====== WebDriver manager ======\n",
      "INFO:WDM:====== WebDriver manager ======\n",
      "Current google-chrome version is 92.0.4515\n",
      "INFO:WDM:Current google-chrome version is 92.0.4515\n",
      "Get LATEST driver version for 92.0.4515\n",
      "INFO:WDM:Get LATEST driver version for 92.0.4515\n"
     ]
    },
    {
     "name": "stdout",
     "output_type": "stream",
     "text": [
      "CATA3 OK\n"
     ]
    },
    {
     "name": "stderr",
     "output_type": "stream",
     "text": [
      "Driver [/Users/leuzinger/.wdm/drivers/chromedriver/mac64/92.0.4515.107/chromedriver] found in cache\n",
      "INFO:WDM:Driver [/Users/leuzinger/.wdm/drivers/chromedriver/mac64/92.0.4515.107/chromedriver] found in cache\n",
      "\n",
      "\n",
      "INFO:WDM:\n",
      "\n",
      "====== WebDriver manager ======\n",
      "INFO:WDM:====== WebDriver manager ======\n",
      "Current google-chrome version is 92.0.4515\n",
      "INFO:WDM:Current google-chrome version is 92.0.4515\n",
      "Get LATEST driver version for 92.0.4515\n",
      "INFO:WDM:Get LATEST driver version for 92.0.4515\n"
     ]
    },
    {
     "name": "stdout",
     "output_type": "stream",
     "text": [
      "CATA4 OK\n"
     ]
    },
    {
     "name": "stderr",
     "output_type": "stream",
     "text": [
      "Driver [/Users/leuzinger/.wdm/drivers/chromedriver/mac64/92.0.4515.107/chromedriver] found in cache\n",
      "INFO:WDM:Driver [/Users/leuzinger/.wdm/drivers/chromedriver/mac64/92.0.4515.107/chromedriver] found in cache\n",
      "\n",
      "\n",
      "INFO:WDM:\n",
      "\n",
      "====== WebDriver manager ======\n",
      "INFO:WDM:====== WebDriver manager ======\n",
      "Current google-chrome version is 92.0.4515\n",
      "INFO:WDM:Current google-chrome version is 92.0.4515\n",
      "Get LATEST driver version for 92.0.4515\n",
      "INFO:WDM:Get LATEST driver version for 92.0.4515\n"
     ]
    },
    {
     "name": "stdout",
     "output_type": "stream",
     "text": [
      "CBAV3 OK\n"
     ]
    },
    {
     "name": "stderr",
     "output_type": "stream",
     "text": [
      "Driver [/Users/leuzinger/.wdm/drivers/chromedriver/mac64/92.0.4515.107/chromedriver] found in cache\n",
      "INFO:WDM:Driver [/Users/leuzinger/.wdm/drivers/chromedriver/mac64/92.0.4515.107/chromedriver] found in cache\n",
      "\n",
      "\n",
      "INFO:WDM:\n",
      "\n",
      "====== WebDriver manager ======\n",
      "INFO:WDM:====== WebDriver manager ======\n",
      "Current google-chrome version is 92.0.4515\n",
      "INFO:WDM:Current google-chrome version is 92.0.4515\n",
      "Get LATEST driver version for 92.0.4515\n",
      "INFO:WDM:Get LATEST driver version for 92.0.4515\n"
     ]
    },
    {
     "name": "stdout",
     "output_type": "stream",
     "text": [
      "CBEE3 OK\n"
     ]
    },
    {
     "name": "stderr",
     "output_type": "stream",
     "text": [
      "Driver [/Users/leuzinger/.wdm/drivers/chromedriver/mac64/92.0.4515.107/chromedriver] found in cache\n",
      "INFO:WDM:Driver [/Users/leuzinger/.wdm/drivers/chromedriver/mac64/92.0.4515.107/chromedriver] found in cache\n",
      "\n",
      "\n",
      "INFO:WDM:\n",
      "\n",
      "====== WebDriver manager ======\n",
      "INFO:WDM:====== WebDriver manager ======\n",
      "Current google-chrome version is 92.0.4515\n",
      "INFO:WDM:Current google-chrome version is 92.0.4515\n",
      "Get LATEST driver version for 92.0.4515\n",
      "INFO:WDM:Get LATEST driver version for 92.0.4515\n"
     ]
    },
    {
     "name": "stdout",
     "output_type": "stream",
     "text": [
      "CCPR3 OK\n"
     ]
    },
    {
     "name": "stderr",
     "output_type": "stream",
     "text": [
      "Driver [/Users/leuzinger/.wdm/drivers/chromedriver/mac64/92.0.4515.107/chromedriver] found in cache\n",
      "INFO:WDM:Driver [/Users/leuzinger/.wdm/drivers/chromedriver/mac64/92.0.4515.107/chromedriver] found in cache\n",
      "\n",
      "\n",
      "INFO:WDM:\n",
      "\n",
      "====== WebDriver manager ======\n",
      "INFO:WDM:====== WebDriver manager ======\n",
      "Current google-chrome version is 92.0.4515\n",
      "INFO:WDM:Current google-chrome version is 92.0.4515\n",
      "Get LATEST driver version for 92.0.4515\n",
      "INFO:WDM:Get LATEST driver version for 92.0.4515\n"
     ]
    },
    {
     "name": "stdout",
     "output_type": "stream",
     "text": [
      "CCRO3 OK\n"
     ]
    },
    {
     "name": "stderr",
     "output_type": "stream",
     "text": [
      "Driver [/Users/leuzinger/.wdm/drivers/chromedriver/mac64/92.0.4515.107/chromedriver] found in cache\n",
      "INFO:WDM:Driver [/Users/leuzinger/.wdm/drivers/chromedriver/mac64/92.0.4515.107/chromedriver] found in cache\n",
      "\n",
      "\n",
      "INFO:WDM:\n",
      "\n",
      "====== WebDriver manager ======\n",
      "INFO:WDM:====== WebDriver manager ======\n",
      "Current google-chrome version is 92.0.4515\n",
      "INFO:WDM:Current google-chrome version is 92.0.4515\n",
      "Get LATEST driver version for 92.0.4515\n",
      "INFO:WDM:Get LATEST driver version for 92.0.4515\n"
     ]
    },
    {
     "name": "stdout",
     "output_type": "stream",
     "text": [
      "CCXC3 OK\n"
     ]
    },
    {
     "name": "stderr",
     "output_type": "stream",
     "text": [
      "Driver [/Users/leuzinger/.wdm/drivers/chromedriver/mac64/92.0.4515.107/chromedriver] found in cache\n",
      "INFO:WDM:Driver [/Users/leuzinger/.wdm/drivers/chromedriver/mac64/92.0.4515.107/chromedriver] found in cache\n",
      "\n",
      "\n",
      "INFO:WDM:\n",
      "\n",
      "====== WebDriver manager ======\n",
      "INFO:WDM:====== WebDriver manager ======\n",
      "Current google-chrome version is 92.0.4515\n",
      "INFO:WDM:Current google-chrome version is 92.0.4515\n",
      "Get LATEST driver version for 92.0.4515\n",
      "INFO:WDM:Get LATEST driver version for 92.0.4515\n"
     ]
    },
    {
     "name": "stdout",
     "output_type": "stream",
     "text": [
      "CEAB3 OK\n"
     ]
    },
    {
     "name": "stderr",
     "output_type": "stream",
     "text": [
      "Driver [/Users/leuzinger/.wdm/drivers/chromedriver/mac64/92.0.4515.107/chromedriver] found in cache\n",
      "INFO:WDM:Driver [/Users/leuzinger/.wdm/drivers/chromedriver/mac64/92.0.4515.107/chromedriver] found in cache\n",
      "\n",
      "\n",
      "INFO:WDM:\n",
      "\n",
      "====== WebDriver manager ======\n",
      "INFO:WDM:====== WebDriver manager ======\n",
      "Current google-chrome version is 92.0.4515\n",
      "INFO:WDM:Current google-chrome version is 92.0.4515\n",
      "Get LATEST driver version for 92.0.4515\n",
      "INFO:WDM:Get LATEST driver version for 92.0.4515\n"
     ]
    },
    {
     "name": "stdout",
     "output_type": "stream",
     "text": [
      "CEBR3 OK\n"
     ]
    },
    {
     "name": "stderr",
     "output_type": "stream",
     "text": [
      "Driver [/Users/leuzinger/.wdm/drivers/chromedriver/mac64/92.0.4515.107/chromedriver] found in cache\n",
      "INFO:WDM:Driver [/Users/leuzinger/.wdm/drivers/chromedriver/mac64/92.0.4515.107/chromedriver] found in cache\n",
      "\n",
      "\n",
      "INFO:WDM:\n",
      "\n",
      "====== WebDriver manager ======\n",
      "INFO:WDM:====== WebDriver manager ======\n",
      "Current google-chrome version is 92.0.4515\n",
      "INFO:WDM:Current google-chrome version is 92.0.4515\n",
      "Get LATEST driver version for 92.0.4515\n",
      "INFO:WDM:Get LATEST driver version for 92.0.4515\n"
     ]
    },
    {
     "name": "stdout",
     "output_type": "stream",
     "text": [
      "CEBR5 OK\n"
     ]
    },
    {
     "name": "stderr",
     "output_type": "stream",
     "text": [
      "Driver [/Users/leuzinger/.wdm/drivers/chromedriver/mac64/92.0.4515.107/chromedriver] found in cache\n",
      "INFO:WDM:Driver [/Users/leuzinger/.wdm/drivers/chromedriver/mac64/92.0.4515.107/chromedriver] found in cache\n",
      "\n",
      "\n",
      "INFO:WDM:\n",
      "\n",
      "====== WebDriver manager ======\n",
      "INFO:WDM:====== WebDriver manager ======\n",
      "Current google-chrome version is 92.0.4515\n",
      "INFO:WDM:Current google-chrome version is 92.0.4515\n",
      "Get LATEST driver version for 92.0.4515\n",
      "INFO:WDM:Get LATEST driver version for 92.0.4515\n"
     ]
    },
    {
     "name": "stdout",
     "output_type": "stream",
     "text": [
      "CEBR6 OK\n"
     ]
    },
    {
     "name": "stderr",
     "output_type": "stream",
     "text": [
      "Driver [/Users/leuzinger/.wdm/drivers/chromedriver/mac64/92.0.4515.107/chromedriver] found in cache\n",
      "INFO:WDM:Driver [/Users/leuzinger/.wdm/drivers/chromedriver/mac64/92.0.4515.107/chromedriver] found in cache\n",
      "\n",
      "\n",
      "INFO:WDM:\n",
      "\n",
      "====== WebDriver manager ======\n",
      "INFO:WDM:====== WebDriver manager ======\n",
      "Current google-chrome version is 92.0.4515\n",
      "INFO:WDM:Current google-chrome version is 92.0.4515\n",
      "Get LATEST driver version for 92.0.4515\n",
      "INFO:WDM:Get LATEST driver version for 92.0.4515\n"
     ]
    },
    {
     "name": "stdout",
     "output_type": "stream",
     "text": [
      "CEDO3 OK\n"
     ]
    },
    {
     "name": "stderr",
     "output_type": "stream",
     "text": [
      "Driver [/Users/leuzinger/.wdm/drivers/chromedriver/mac64/92.0.4515.107/chromedriver] found in cache\n",
      "INFO:WDM:Driver [/Users/leuzinger/.wdm/drivers/chromedriver/mac64/92.0.4515.107/chromedriver] found in cache\n",
      "\n",
      "\n",
      "INFO:WDM:\n",
      "\n",
      "====== WebDriver manager ======\n",
      "INFO:WDM:====== WebDriver manager ======\n",
      "Current google-chrome version is 92.0.4515\n",
      "INFO:WDM:Current google-chrome version is 92.0.4515\n",
      "Get LATEST driver version for 92.0.4515\n",
      "INFO:WDM:Get LATEST driver version for 92.0.4515\n"
     ]
    },
    {
     "name": "stdout",
     "output_type": "stream",
     "text": [
      "CEDO4 OK\n"
     ]
    },
    {
     "name": "stderr",
     "output_type": "stream",
     "text": [
      "Driver [/Users/leuzinger/.wdm/drivers/chromedriver/mac64/92.0.4515.107/chromedriver] found in cache\n",
      "INFO:WDM:Driver [/Users/leuzinger/.wdm/drivers/chromedriver/mac64/92.0.4515.107/chromedriver] found in cache\n",
      "\n",
      "\n",
      "INFO:WDM:\n",
      "\n",
      "====== WebDriver manager ======\n",
      "INFO:WDM:====== WebDriver manager ======\n",
      "Current google-chrome version is 92.0.4515\n",
      "INFO:WDM:Current google-chrome version is 92.0.4515\n",
      "Get LATEST driver version for 92.0.4515\n",
      "INFO:WDM:Get LATEST driver version for 92.0.4515\n"
     ]
    },
    {
     "name": "stdout",
     "output_type": "stream",
     "text": [
      "CEEB3 OK\n"
     ]
    },
    {
     "name": "stderr",
     "output_type": "stream",
     "text": [
      "Driver [/Users/leuzinger/.wdm/drivers/chromedriver/mac64/92.0.4515.107/chromedriver] found in cache\n",
      "INFO:WDM:Driver [/Users/leuzinger/.wdm/drivers/chromedriver/mac64/92.0.4515.107/chromedriver] found in cache\n",
      "\n",
      "\n",
      "INFO:WDM:\n",
      "\n",
      "====== WebDriver manager ======\n",
      "INFO:WDM:====== WebDriver manager ======\n",
      "Current google-chrome version is 92.0.4515\n",
      "INFO:WDM:Current google-chrome version is 92.0.4515\n",
      "Get LATEST driver version for 92.0.4515\n",
      "INFO:WDM:Get LATEST driver version for 92.0.4515\n"
     ]
    },
    {
     "name": "stdout",
     "output_type": "stream",
     "text": [
      "CEEB5 OK\n"
     ]
    },
    {
     "name": "stderr",
     "output_type": "stream",
     "text": [
      "Driver [/Users/leuzinger/.wdm/drivers/chromedriver/mac64/92.0.4515.107/chromedriver] found in cache\n",
      "INFO:WDM:Driver [/Users/leuzinger/.wdm/drivers/chromedriver/mac64/92.0.4515.107/chromedriver] found in cache\n",
      "\n",
      "\n",
      "INFO:WDM:\n",
      "\n",
      "====== WebDriver manager ======\n",
      "INFO:WDM:====== WebDriver manager ======\n",
      "Current google-chrome version is 92.0.4515\n",
      "INFO:WDM:Current google-chrome version is 92.0.4515\n",
      "Get LATEST driver version for 92.0.4515\n",
      "INFO:WDM:Get LATEST driver version for 92.0.4515\n"
     ]
    },
    {
     "name": "stdout",
     "output_type": "stream",
     "text": [
      "CEEB6 OK\n"
     ]
    },
    {
     "name": "stderr",
     "output_type": "stream",
     "text": [
      "Driver [/Users/leuzinger/.wdm/drivers/chromedriver/mac64/92.0.4515.107/chromedriver] found in cache\n",
      "INFO:WDM:Driver [/Users/leuzinger/.wdm/drivers/chromedriver/mac64/92.0.4515.107/chromedriver] found in cache\n",
      "\n",
      "\n",
      "INFO:WDM:\n",
      "\n",
      "====== WebDriver manager ======\n",
      "INFO:WDM:====== WebDriver manager ======\n",
      "Current google-chrome version is 92.0.4515\n",
      "INFO:WDM:Current google-chrome version is 92.0.4515\n",
      "Get LATEST driver version for 92.0.4515\n",
      "INFO:WDM:Get LATEST driver version for 92.0.4515\n"
     ]
    },
    {
     "name": "stdout",
     "output_type": "stream",
     "text": [
      "CEED3 OK\n"
     ]
    },
    {
     "name": "stderr",
     "output_type": "stream",
     "text": [
      "Driver [/Users/leuzinger/.wdm/drivers/chromedriver/mac64/92.0.4515.107/chromedriver] found in cache\n",
      "INFO:WDM:Driver [/Users/leuzinger/.wdm/drivers/chromedriver/mac64/92.0.4515.107/chromedriver] found in cache\n",
      "\n",
      "\n",
      "INFO:WDM:\n",
      "\n",
      "====== WebDriver manager ======\n",
      "INFO:WDM:====== WebDriver manager ======\n",
      "Current google-chrome version is 92.0.4515\n",
      "INFO:WDM:Current google-chrome version is 92.0.4515\n",
      "Get LATEST driver version for 92.0.4515\n",
      "INFO:WDM:Get LATEST driver version for 92.0.4515\n"
     ]
    },
    {
     "name": "stdout",
     "output_type": "stream",
     "text": [
      "CEED4 OK\n"
     ]
    },
    {
     "name": "stderr",
     "output_type": "stream",
     "text": [
      "Driver [/Users/leuzinger/.wdm/drivers/chromedriver/mac64/92.0.4515.107/chromedriver] found in cache\n",
      "INFO:WDM:Driver [/Users/leuzinger/.wdm/drivers/chromedriver/mac64/92.0.4515.107/chromedriver] found in cache\n",
      "\n",
      "\n",
      "INFO:WDM:\n",
      "\n",
      "====== WebDriver manager ======\n",
      "INFO:WDM:====== WebDriver manager ======\n",
      "Current google-chrome version is 92.0.4515\n",
      "INFO:WDM:Current google-chrome version is 92.0.4515\n",
      "Get LATEST driver version for 92.0.4515\n",
      "INFO:WDM:Get LATEST driver version for 92.0.4515\n"
     ]
    },
    {
     "name": "stdout",
     "output_type": "stream",
     "text": [
      "CEGR3 OK\n"
     ]
    },
    {
     "name": "stderr",
     "output_type": "stream",
     "text": [
      "Driver [/Users/leuzinger/.wdm/drivers/chromedriver/mac64/92.0.4515.107/chromedriver] found in cache\n",
      "INFO:WDM:Driver [/Users/leuzinger/.wdm/drivers/chromedriver/mac64/92.0.4515.107/chromedriver] found in cache\n",
      "\n",
      "\n",
      "INFO:WDM:\n",
      "\n",
      "====== WebDriver manager ======\n",
      "INFO:WDM:====== WebDriver manager ======\n",
      "Current google-chrome version is 92.0.4515\n",
      "INFO:WDM:Current google-chrome version is 92.0.4515\n",
      "Get LATEST driver version for 92.0.4515\n",
      "INFO:WDM:Get LATEST driver version for 92.0.4515\n"
     ]
    },
    {
     "name": "stdout",
     "output_type": "stream",
     "text": [
      "CEPE3 OK\n"
     ]
    },
    {
     "name": "stderr",
     "output_type": "stream",
     "text": [
      "Driver [/Users/leuzinger/.wdm/drivers/chromedriver/mac64/92.0.4515.107/chromedriver] found in cache\n",
      "INFO:WDM:Driver [/Users/leuzinger/.wdm/drivers/chromedriver/mac64/92.0.4515.107/chromedriver] found in cache\n",
      "\n",
      "\n",
      "INFO:WDM:\n",
      "\n",
      "====== WebDriver manager ======\n",
      "INFO:WDM:====== WebDriver manager ======\n",
      "Current google-chrome version is 92.0.4515\n",
      "INFO:WDM:Current google-chrome version is 92.0.4515\n",
      "Get LATEST driver version for 92.0.4515\n",
      "INFO:WDM:Get LATEST driver version for 92.0.4515\n"
     ]
    },
    {
     "name": "stdout",
     "output_type": "stream",
     "text": [
      "CEPE5 OK\n"
     ]
    },
    {
     "name": "stderr",
     "output_type": "stream",
     "text": [
      "Driver [/Users/leuzinger/.wdm/drivers/chromedriver/mac64/92.0.4515.107/chromedriver] found in cache\n",
      "INFO:WDM:Driver [/Users/leuzinger/.wdm/drivers/chromedriver/mac64/92.0.4515.107/chromedriver] found in cache\n",
      "\n",
      "\n",
      "INFO:WDM:\n",
      "\n",
      "====== WebDriver manager ======\n",
      "INFO:WDM:====== WebDriver manager ======\n",
      "Current google-chrome version is 92.0.4515\n",
      "INFO:WDM:Current google-chrome version is 92.0.4515\n"
     ]
    },
    {
     "name": "stdout",
     "output_type": "stream",
     "text": [
      "CEPE6 OK\n"
     ]
    },
    {
     "name": "stderr",
     "output_type": "stream",
     "text": [
      "Get LATEST driver version for 92.0.4515\n",
      "INFO:WDM:Get LATEST driver version for 92.0.4515\n",
      "Driver [/Users/leuzinger/.wdm/drivers/chromedriver/mac64/92.0.4515.107/chromedriver] found in cache\n",
      "INFO:WDM:Driver [/Users/leuzinger/.wdm/drivers/chromedriver/mac64/92.0.4515.107/chromedriver] found in cache\n",
      "\n",
      "\n",
      "INFO:WDM:\n",
      "\n",
      "====== WebDriver manager ======\n",
      "INFO:WDM:====== WebDriver manager ======\n",
      "Current google-chrome version is 92.0.4515\n",
      "INFO:WDM:Current google-chrome version is 92.0.4515\n",
      "Get LATEST driver version for 92.0.4515\n",
      "INFO:WDM:Get LATEST driver version for 92.0.4515\n"
     ]
    },
    {
     "name": "stdout",
     "output_type": "stream",
     "text": [
      "CESP3 OK\n"
     ]
    },
    {
     "name": "stderr",
     "output_type": "stream",
     "text": [
      "Driver [/Users/leuzinger/.wdm/drivers/chromedriver/mac64/92.0.4515.107/chromedriver] found in cache\n",
      "INFO:WDM:Driver [/Users/leuzinger/.wdm/drivers/chromedriver/mac64/92.0.4515.107/chromedriver] found in cache\n",
      "\n",
      "\n",
      "INFO:WDM:\n",
      "\n",
      "====== WebDriver manager ======\n",
      "INFO:WDM:====== WebDriver manager ======\n",
      "Current google-chrome version is 92.0.4515\n",
      "INFO:WDM:Current google-chrome version is 92.0.4515\n",
      "Get LATEST driver version for 92.0.4515\n",
      "INFO:WDM:Get LATEST driver version for 92.0.4515\n"
     ]
    },
    {
     "name": "stdout",
     "output_type": "stream",
     "text": [
      "CESP5 OK\n"
     ]
    },
    {
     "name": "stderr",
     "output_type": "stream",
     "text": [
      "Driver [/Users/leuzinger/.wdm/drivers/chromedriver/mac64/92.0.4515.107/chromedriver] found in cache\n",
      "INFO:WDM:Driver [/Users/leuzinger/.wdm/drivers/chromedriver/mac64/92.0.4515.107/chromedriver] found in cache\n",
      "\n",
      "\n",
      "INFO:WDM:\n",
      "\n",
      "====== WebDriver manager ======\n",
      "INFO:WDM:====== WebDriver manager ======\n",
      "Current google-chrome version is 92.0.4515\n",
      "INFO:WDM:Current google-chrome version is 92.0.4515\n",
      "Get LATEST driver version for 92.0.4515\n",
      "INFO:WDM:Get LATEST driver version for 92.0.4515\n"
     ]
    },
    {
     "name": "stdout",
     "output_type": "stream",
     "text": [
      "CESP6 OK\n"
     ]
    },
    {
     "name": "stderr",
     "output_type": "stream",
     "text": [
      "Driver [/Users/leuzinger/.wdm/drivers/chromedriver/mac64/92.0.4515.107/chromedriver] found in cache\n",
      "INFO:WDM:Driver [/Users/leuzinger/.wdm/drivers/chromedriver/mac64/92.0.4515.107/chromedriver] found in cache\n",
      "\n",
      "\n",
      "INFO:WDM:\n",
      "\n",
      "====== WebDriver manager ======\n",
      "INFO:WDM:====== WebDriver manager ======\n",
      "Current google-chrome version is 92.0.4515\n",
      "INFO:WDM:Current google-chrome version is 92.0.4515\n",
      "Get LATEST driver version for 92.0.4515\n",
      "INFO:WDM:Get LATEST driver version for 92.0.4515\n"
     ]
    },
    {
     "name": "stdout",
     "output_type": "stream",
     "text": [
      "CGAS3 OK\n"
     ]
    },
    {
     "name": "stderr",
     "output_type": "stream",
     "text": [
      "Driver [/Users/leuzinger/.wdm/drivers/chromedriver/mac64/92.0.4515.107/chromedriver] found in cache\n",
      "INFO:WDM:Driver [/Users/leuzinger/.wdm/drivers/chromedriver/mac64/92.0.4515.107/chromedriver] found in cache\n",
      "\n",
      "\n",
      "INFO:WDM:\n",
      "\n",
      "====== WebDriver manager ======\n",
      "INFO:WDM:====== WebDriver manager ======\n",
      "Current google-chrome version is 92.0.4515\n",
      "INFO:WDM:Current google-chrome version is 92.0.4515\n",
      "Get LATEST driver version for 92.0.4515\n",
      "INFO:WDM:Get LATEST driver version for 92.0.4515\n"
     ]
    },
    {
     "name": "stdout",
     "output_type": "stream",
     "text": [
      "CGAS5 OK\n"
     ]
    },
    {
     "name": "stderr",
     "output_type": "stream",
     "text": [
      "Driver [/Users/leuzinger/.wdm/drivers/chromedriver/mac64/92.0.4515.107/chromedriver] found in cache\n",
      "INFO:WDM:Driver [/Users/leuzinger/.wdm/drivers/chromedriver/mac64/92.0.4515.107/chromedriver] found in cache\n",
      "\n",
      "\n",
      "INFO:WDM:\n",
      "\n",
      "====== WebDriver manager ======\n",
      "INFO:WDM:====== WebDriver manager ======\n",
      "Current google-chrome version is 92.0.4515\n",
      "INFO:WDM:Current google-chrome version is 92.0.4515\n",
      "Get LATEST driver version for 92.0.4515\n",
      "INFO:WDM:Get LATEST driver version for 92.0.4515\n"
     ]
    },
    {
     "name": "stdout",
     "output_type": "stream",
     "text": [
      "CGRA3 OK\n"
     ]
    },
    {
     "name": "stderr",
     "output_type": "stream",
     "text": [
      "Driver [/Users/leuzinger/.wdm/drivers/chromedriver/mac64/92.0.4515.107/chromedriver] found in cache\n",
      "INFO:WDM:Driver [/Users/leuzinger/.wdm/drivers/chromedriver/mac64/92.0.4515.107/chromedriver] found in cache\n",
      "\n",
      "\n",
      "INFO:WDM:\n",
      "\n",
      "====== WebDriver manager ======\n",
      "INFO:WDM:====== WebDriver manager ======\n",
      "Current google-chrome version is 92.0.4515\n",
      "INFO:WDM:Current google-chrome version is 92.0.4515\n",
      "Get LATEST driver version for 92.0.4515\n",
      "INFO:WDM:Get LATEST driver version for 92.0.4515\n"
     ]
    },
    {
     "name": "stdout",
     "output_type": "stream",
     "text": [
      "CGRA4 OK\n"
     ]
    },
    {
     "name": "stderr",
     "output_type": "stream",
     "text": [
      "Driver [/Users/leuzinger/.wdm/drivers/chromedriver/mac64/92.0.4515.107/chromedriver] found in cache\n",
      "INFO:WDM:Driver [/Users/leuzinger/.wdm/drivers/chromedriver/mac64/92.0.4515.107/chromedriver] found in cache\n",
      "\n",
      "\n",
      "INFO:WDM:\n",
      "\n",
      "====== WebDriver manager ======\n",
      "INFO:WDM:====== WebDriver manager ======\n",
      "Current google-chrome version is 92.0.4515\n",
      "INFO:WDM:Current google-chrome version is 92.0.4515\n",
      "Get LATEST driver version for 92.0.4515\n",
      "INFO:WDM:Get LATEST driver version for 92.0.4515\n"
     ]
    },
    {
     "name": "stdout",
     "output_type": "stream",
     "text": [
      "CIEL3 OK\n"
     ]
    },
    {
     "name": "stderr",
     "output_type": "stream",
     "text": [
      "Driver [/Users/leuzinger/.wdm/drivers/chromedriver/mac64/92.0.4515.107/chromedriver] found in cache\n",
      "INFO:WDM:Driver [/Users/leuzinger/.wdm/drivers/chromedriver/mac64/92.0.4515.107/chromedriver] found in cache\n",
      "\n",
      "\n",
      "INFO:WDM:\n",
      "\n",
      "====== WebDriver manager ======\n",
      "INFO:WDM:====== WebDriver manager ======\n",
      "Current google-chrome version is 92.0.4515\n",
      "INFO:WDM:Current google-chrome version is 92.0.4515\n",
      "Get LATEST driver version for 92.0.4515\n",
      "INFO:WDM:Get LATEST driver version for 92.0.4515\n"
     ]
    },
    {
     "name": "stdout",
     "output_type": "stream",
     "text": [
      "CLSC3 OK\n"
     ]
    },
    {
     "name": "stderr",
     "output_type": "stream",
     "text": [
      "Driver [/Users/leuzinger/.wdm/drivers/chromedriver/mac64/92.0.4515.107/chromedriver] found in cache\n",
      "INFO:WDM:Driver [/Users/leuzinger/.wdm/drivers/chromedriver/mac64/92.0.4515.107/chromedriver] found in cache\n",
      "\n",
      "\n",
      "INFO:WDM:\n",
      "\n",
      "====== WebDriver manager ======\n",
      "INFO:WDM:====== WebDriver manager ======\n",
      "Current google-chrome version is 92.0.4515\n",
      "INFO:WDM:Current google-chrome version is 92.0.4515\n",
      "Get LATEST driver version for 92.0.4515\n",
      "INFO:WDM:Get LATEST driver version for 92.0.4515\n"
     ]
    },
    {
     "name": "stdout",
     "output_type": "stream",
     "text": [
      "CLSC4 OK\n"
     ]
    },
    {
     "name": "stderr",
     "output_type": "stream",
     "text": [
      "Driver [/Users/leuzinger/.wdm/drivers/chromedriver/mac64/92.0.4515.107/chromedriver] found in cache\n",
      "INFO:WDM:Driver [/Users/leuzinger/.wdm/drivers/chromedriver/mac64/92.0.4515.107/chromedriver] found in cache\n",
      "\n",
      "\n",
      "INFO:WDM:\n",
      "\n",
      "====== WebDriver manager ======\n",
      "INFO:WDM:====== WebDriver manager ======\n",
      "Current google-chrome version is 92.0.4515\n",
      "INFO:WDM:Current google-chrome version is 92.0.4515\n",
      "Get LATEST driver version for 92.0.4515\n",
      "INFO:WDM:Get LATEST driver version for 92.0.4515\n"
     ]
    },
    {
     "name": "stdout",
     "output_type": "stream",
     "text": [
      "CMIG3 OK\n"
     ]
    },
    {
     "name": "stderr",
     "output_type": "stream",
     "text": [
      "Driver [/Users/leuzinger/.wdm/drivers/chromedriver/mac64/92.0.4515.107/chromedriver] found in cache\n",
      "INFO:WDM:Driver [/Users/leuzinger/.wdm/drivers/chromedriver/mac64/92.0.4515.107/chromedriver] found in cache\n",
      "\n",
      "\n",
      "INFO:WDM:\n",
      "\n",
      "====== WebDriver manager ======\n",
      "INFO:WDM:====== WebDriver manager ======\n",
      "Current google-chrome version is 92.0.4515\n",
      "INFO:WDM:Current google-chrome version is 92.0.4515\n",
      "Get LATEST driver version for 92.0.4515\n",
      "INFO:WDM:Get LATEST driver version for 92.0.4515\n"
     ]
    },
    {
     "name": "stdout",
     "output_type": "stream",
     "text": [
      "CMIG4 OK\n"
     ]
    },
    {
     "name": "stderr",
     "output_type": "stream",
     "text": [
      "Driver [/Users/leuzinger/.wdm/drivers/chromedriver/mac64/92.0.4515.107/chromedriver] found in cache\n",
      "INFO:WDM:Driver [/Users/leuzinger/.wdm/drivers/chromedriver/mac64/92.0.4515.107/chromedriver] found in cache\n",
      "\n",
      "\n",
      "INFO:WDM:\n",
      "\n",
      "====== WebDriver manager ======\n",
      "INFO:WDM:====== WebDriver manager ======\n",
      "Current google-chrome version is 92.0.4515\n",
      "INFO:WDM:Current google-chrome version is 92.0.4515\n",
      "Get LATEST driver version for 92.0.4515\n",
      "INFO:WDM:Get LATEST driver version for 92.0.4515\n"
     ]
    },
    {
     "name": "stdout",
     "output_type": "stream",
     "text": [
      "CMIN3 OK\n"
     ]
    },
    {
     "name": "stderr",
     "output_type": "stream",
     "text": [
      "Driver [/Users/leuzinger/.wdm/drivers/chromedriver/mac64/92.0.4515.107/chromedriver] found in cache\n",
      "INFO:WDM:Driver [/Users/leuzinger/.wdm/drivers/chromedriver/mac64/92.0.4515.107/chromedriver] found in cache\n",
      "\n",
      "\n",
      "INFO:WDM:\n",
      "\n",
      "====== WebDriver manager ======\n",
      "INFO:WDM:====== WebDriver manager ======\n",
      "Current google-chrome version is 92.0.4515\n",
      "INFO:WDM:Current google-chrome version is 92.0.4515\n",
      "Get LATEST driver version for 92.0.4515\n",
      "INFO:WDM:Get LATEST driver version for 92.0.4515\n"
     ]
    },
    {
     "name": "stdout",
     "output_type": "stream",
     "text": [
      "CMSA3 OK\n"
     ]
    },
    {
     "name": "stderr",
     "output_type": "stream",
     "text": [
      "Driver [/Users/leuzinger/.wdm/drivers/chromedriver/mac64/92.0.4515.107/chromedriver] found in cache\n",
      "INFO:WDM:Driver [/Users/leuzinger/.wdm/drivers/chromedriver/mac64/92.0.4515.107/chromedriver] found in cache\n",
      "\n",
      "\n",
      "INFO:WDM:\n",
      "\n",
      "====== WebDriver manager ======\n",
      "INFO:WDM:====== WebDriver manager ======\n",
      "Current google-chrome version is 92.0.4515\n",
      "INFO:WDM:Current google-chrome version is 92.0.4515\n",
      "Get LATEST driver version for 92.0.4515\n",
      "INFO:WDM:Get LATEST driver version for 92.0.4515\n"
     ]
    },
    {
     "name": "stdout",
     "output_type": "stream",
     "text": [
      "CMSA4 OK\n"
     ]
    },
    {
     "name": "stderr",
     "output_type": "stream",
     "text": [
      "Driver [/Users/leuzinger/.wdm/drivers/chromedriver/mac64/92.0.4515.107/chromedriver] found in cache\n",
      "INFO:WDM:Driver [/Users/leuzinger/.wdm/drivers/chromedriver/mac64/92.0.4515.107/chromedriver] found in cache\n",
      "\n",
      "\n",
      "INFO:WDM:\n",
      "\n",
      "====== WebDriver manager ======\n",
      "INFO:WDM:====== WebDriver manager ======\n",
      "Current google-chrome version is 92.0.4515\n",
      "INFO:WDM:Current google-chrome version is 92.0.4515\n",
      "Get LATEST driver version for 92.0.4515\n",
      "INFO:WDM:Get LATEST driver version for 92.0.4515\n"
     ]
    },
    {
     "name": "stdout",
     "output_type": "stream",
     "text": [
      "CNSY3 OK\n"
     ]
    },
    {
     "name": "stderr",
     "output_type": "stream",
     "text": [
      "Driver [/Users/leuzinger/.wdm/drivers/chromedriver/mac64/92.0.4515.107/chromedriver] found in cache\n",
      "INFO:WDM:Driver [/Users/leuzinger/.wdm/drivers/chromedriver/mac64/92.0.4515.107/chromedriver] found in cache\n",
      "\n",
      "\n",
      "INFO:WDM:\n",
      "\n",
      "====== WebDriver manager ======\n",
      "INFO:WDM:====== WebDriver manager ======\n",
      "Current google-chrome version is 92.0.4515\n",
      "INFO:WDM:Current google-chrome version is 92.0.4515\n",
      "Get LATEST driver version for 92.0.4515\n",
      "INFO:WDM:Get LATEST driver version for 92.0.4515\n"
     ]
    },
    {
     "name": "stdout",
     "output_type": "stream",
     "text": [
      "COCE3 OK\n"
     ]
    },
    {
     "name": "stderr",
     "output_type": "stream",
     "text": [
      "Driver [/Users/leuzinger/.wdm/drivers/chromedriver/mac64/92.0.4515.107/chromedriver] found in cache\n",
      "INFO:WDM:Driver [/Users/leuzinger/.wdm/drivers/chromedriver/mac64/92.0.4515.107/chromedriver] found in cache\n",
      "\n",
      "\n",
      "INFO:WDM:\n",
      "\n",
      "====== WebDriver manager ======\n",
      "INFO:WDM:====== WebDriver manager ======\n",
      "Current google-chrome version is 92.0.4515\n",
      "INFO:WDM:Current google-chrome version is 92.0.4515\n",
      "Get LATEST driver version for 92.0.4515\n",
      "INFO:WDM:Get LATEST driver version for 92.0.4515\n"
     ]
    },
    {
     "name": "stdout",
     "output_type": "stream",
     "text": [
      "COCE5 OK\n"
     ]
    },
    {
     "name": "stderr",
     "output_type": "stream",
     "text": [
      "Driver [/Users/leuzinger/.wdm/drivers/chromedriver/mac64/92.0.4515.107/chromedriver] found in cache\n",
      "INFO:WDM:Driver [/Users/leuzinger/.wdm/drivers/chromedriver/mac64/92.0.4515.107/chromedriver] found in cache\n",
      "\n",
      "\n",
      "INFO:WDM:\n",
      "\n",
      "====== WebDriver manager ======\n",
      "INFO:WDM:====== WebDriver manager ======\n",
      "Current google-chrome version is 92.0.4515\n",
      "INFO:WDM:Current google-chrome version is 92.0.4515\n",
      "Get LATEST driver version for 92.0.4515\n",
      "INFO:WDM:Get LATEST driver version for 92.0.4515\n"
     ]
    },
    {
     "name": "stdout",
     "output_type": "stream",
     "text": [
      "COCE6 OK\n"
     ]
    },
    {
     "name": "stderr",
     "output_type": "stream",
     "text": [
      "Driver [/Users/leuzinger/.wdm/drivers/chromedriver/mac64/92.0.4515.107/chromedriver] found in cache\n",
      "INFO:WDM:Driver [/Users/leuzinger/.wdm/drivers/chromedriver/mac64/92.0.4515.107/chromedriver] found in cache\n",
      "\n",
      "\n",
      "INFO:WDM:\n",
      "\n",
      "====== WebDriver manager ======\n",
      "INFO:WDM:====== WebDriver manager ======\n",
      "Current google-chrome version is 92.0.4515\n",
      "INFO:WDM:Current google-chrome version is 92.0.4515\n",
      "Get LATEST driver version for 92.0.4515\n",
      "INFO:WDM:Get LATEST driver version for 92.0.4515\n"
     ]
    },
    {
     "name": "stdout",
     "output_type": "stream",
     "text": [
      "COGN3 OK\n"
     ]
    },
    {
     "name": "stderr",
     "output_type": "stream",
     "text": [
      "Driver [/Users/leuzinger/.wdm/drivers/chromedriver/mac64/92.0.4515.107/chromedriver] found in cache\n",
      "INFO:WDM:Driver [/Users/leuzinger/.wdm/drivers/chromedriver/mac64/92.0.4515.107/chromedriver] found in cache\n",
      "\n",
      "\n",
      "INFO:WDM:\n",
      "\n",
      "====== WebDriver manager ======\n",
      "INFO:WDM:====== WebDriver manager ======\n",
      "Current google-chrome version is 92.0.4515\n",
      "INFO:WDM:Current google-chrome version is 92.0.4515\n",
      "Get LATEST driver version for 92.0.4515\n",
      "INFO:WDM:Get LATEST driver version for 92.0.4515\n"
     ]
    },
    {
     "name": "stdout",
     "output_type": "stream",
     "text": [
      "CORR3 OK\n"
     ]
    },
    {
     "name": "stderr",
     "output_type": "stream",
     "text": [
      "Driver [/Users/leuzinger/.wdm/drivers/chromedriver/mac64/92.0.4515.107/chromedriver] found in cache\n",
      "INFO:WDM:Driver [/Users/leuzinger/.wdm/drivers/chromedriver/mac64/92.0.4515.107/chromedriver] found in cache\n",
      "\n",
      "\n",
      "INFO:WDM:\n",
      "\n",
      "====== WebDriver manager ======\n",
      "INFO:WDM:====== WebDriver manager ======\n",
      "Current google-chrome version is 92.0.4515\n",
      "INFO:WDM:Current google-chrome version is 92.0.4515\n",
      "Get LATEST driver version for 92.0.4515\n",
      "INFO:WDM:Get LATEST driver version for 92.0.4515\n"
     ]
    },
    {
     "name": "stdout",
     "output_type": "stream",
     "text": [
      "CORR4 OK\n"
     ]
    },
    {
     "name": "stderr",
     "output_type": "stream",
     "text": [
      "Driver [/Users/leuzinger/.wdm/drivers/chromedriver/mac64/92.0.4515.107/chromedriver] found in cache\n",
      "INFO:WDM:Driver [/Users/leuzinger/.wdm/drivers/chromedriver/mac64/92.0.4515.107/chromedriver] found in cache\n",
      "\n",
      "\n",
      "INFO:WDM:\n",
      "\n",
      "====== WebDriver manager ======\n",
      "INFO:WDM:====== WebDriver manager ======\n",
      "Current google-chrome version is 92.0.4515\n",
      "INFO:WDM:Current google-chrome version is 92.0.4515\n",
      "Get LATEST driver version for 92.0.4515\n",
      "INFO:WDM:Get LATEST driver version for 92.0.4515\n"
     ]
    },
    {
     "name": "stdout",
     "output_type": "stream",
     "text": [
      "CPFE3 OK\n"
     ]
    },
    {
     "name": "stderr",
     "output_type": "stream",
     "text": [
      "Driver [/Users/leuzinger/.wdm/drivers/chromedriver/mac64/92.0.4515.107/chromedriver] found in cache\n",
      "INFO:WDM:Driver [/Users/leuzinger/.wdm/drivers/chromedriver/mac64/92.0.4515.107/chromedriver] found in cache\n",
      "\n",
      "\n",
      "INFO:WDM:\n",
      "\n",
      "====== WebDriver manager ======\n",
      "INFO:WDM:====== WebDriver manager ======\n",
      "Current google-chrome version is 92.0.4515\n",
      "INFO:WDM:Current google-chrome version is 92.0.4515\n",
      "Get LATEST driver version for 92.0.4515\n",
      "INFO:WDM:Get LATEST driver version for 92.0.4515\n"
     ]
    },
    {
     "name": "stdout",
     "output_type": "stream",
     "text": [
      "CPLE11 OK\n"
     ]
    },
    {
     "name": "stderr",
     "output_type": "stream",
     "text": [
      "Driver [/Users/leuzinger/.wdm/drivers/chromedriver/mac64/92.0.4515.107/chromedriver] found in cache\n",
      "INFO:WDM:Driver [/Users/leuzinger/.wdm/drivers/chromedriver/mac64/92.0.4515.107/chromedriver] found in cache\n",
      "\n",
      "\n",
      "INFO:WDM:\n",
      "\n",
      "====== WebDriver manager ======\n",
      "INFO:WDM:====== WebDriver manager ======\n",
      "Current google-chrome version is 92.0.4515\n",
      "INFO:WDM:Current google-chrome version is 92.0.4515\n",
      "Get LATEST driver version for 92.0.4515\n",
      "INFO:WDM:Get LATEST driver version for 92.0.4515\n"
     ]
    },
    {
     "name": "stdout",
     "output_type": "stream",
     "text": [
      "CPLE3 OK\n"
     ]
    },
    {
     "name": "stderr",
     "output_type": "stream",
     "text": [
      "Driver [/Users/leuzinger/.wdm/drivers/chromedriver/mac64/92.0.4515.107/chromedriver] found in cache\n",
      "INFO:WDM:Driver [/Users/leuzinger/.wdm/drivers/chromedriver/mac64/92.0.4515.107/chromedriver] found in cache\n",
      "\n",
      "\n",
      "INFO:WDM:\n",
      "\n",
      "====== WebDriver manager ======\n",
      "INFO:WDM:====== WebDriver manager ======\n",
      "Current google-chrome version is 92.0.4515\n",
      "INFO:WDM:Current google-chrome version is 92.0.4515\n",
      "Get LATEST driver version for 92.0.4515\n",
      "INFO:WDM:Get LATEST driver version for 92.0.4515\n"
     ]
    },
    {
     "name": "stdout",
     "output_type": "stream",
     "text": [
      "CPLE5 OK\n"
     ]
    },
    {
     "name": "stderr",
     "output_type": "stream",
     "text": [
      "Driver [/Users/leuzinger/.wdm/drivers/chromedriver/mac64/92.0.4515.107/chromedriver] found in cache\n",
      "INFO:WDM:Driver [/Users/leuzinger/.wdm/drivers/chromedriver/mac64/92.0.4515.107/chromedriver] found in cache\n",
      "\n",
      "\n",
      "INFO:WDM:\n",
      "\n",
      "====== WebDriver manager ======\n",
      "INFO:WDM:====== WebDriver manager ======\n",
      "Current google-chrome version is 92.0.4515\n",
      "INFO:WDM:Current google-chrome version is 92.0.4515\n",
      "Get LATEST driver version for 92.0.4515\n",
      "INFO:WDM:Get LATEST driver version for 92.0.4515\n"
     ]
    },
    {
     "name": "stdout",
     "output_type": "stream",
     "text": [
      "CPLE6 OK\n"
     ]
    },
    {
     "name": "stderr",
     "output_type": "stream",
     "text": [
      "Driver [/Users/leuzinger/.wdm/drivers/chromedriver/mac64/92.0.4515.107/chromedriver] found in cache\n",
      "INFO:WDM:Driver [/Users/leuzinger/.wdm/drivers/chromedriver/mac64/92.0.4515.107/chromedriver] found in cache\n",
      "\n",
      "\n",
      "INFO:WDM:\n",
      "\n",
      "====== WebDriver manager ======\n",
      "INFO:WDM:====== WebDriver manager ======\n",
      "Current google-chrome version is 92.0.4515\n",
      "INFO:WDM:Current google-chrome version is 92.0.4515\n",
      "Get LATEST driver version for 92.0.4515\n",
      "INFO:WDM:Get LATEST driver version for 92.0.4515\n"
     ]
    },
    {
     "name": "stdout",
     "output_type": "stream",
     "text": [
      "CPRE3 OK\n"
     ]
    },
    {
     "name": "stderr",
     "output_type": "stream",
     "text": [
      "Driver [/Users/leuzinger/.wdm/drivers/chromedriver/mac64/92.0.4515.107/chromedriver] found in cache\n",
      "INFO:WDM:Driver [/Users/leuzinger/.wdm/drivers/chromedriver/mac64/92.0.4515.107/chromedriver] found in cache\n",
      "\n",
      "\n",
      "INFO:WDM:\n",
      "\n",
      "====== WebDriver manager ======\n",
      "INFO:WDM:====== WebDriver manager ======\n",
      "Current google-chrome version is 92.0.4515\n",
      "INFO:WDM:Current google-chrome version is 92.0.4515\n",
      "Get LATEST driver version for 92.0.4515\n",
      "INFO:WDM:Get LATEST driver version for 92.0.4515\n"
     ]
    },
    {
     "name": "stdout",
     "output_type": "stream",
     "text": [
      "CRDE3 OK\n"
     ]
    },
    {
     "name": "stderr",
     "output_type": "stream",
     "text": [
      "Driver [/Users/leuzinger/.wdm/drivers/chromedriver/mac64/92.0.4515.107/chromedriver] found in cache\n",
      "INFO:WDM:Driver [/Users/leuzinger/.wdm/drivers/chromedriver/mac64/92.0.4515.107/chromedriver] found in cache\n",
      "\n",
      "\n",
      "INFO:WDM:\n",
      "\n",
      "====== WebDriver manager ======\n",
      "INFO:WDM:====== WebDriver manager ======\n",
      "Current google-chrome version is 92.0.4515\n",
      "INFO:WDM:Current google-chrome version is 92.0.4515\n",
      "Get LATEST driver version for 92.0.4515\n",
      "INFO:WDM:Get LATEST driver version for 92.0.4515\n"
     ]
    },
    {
     "name": "stdout",
     "output_type": "stream",
     "text": [
      "CREM3 OK\n"
     ]
    },
    {
     "name": "stderr",
     "output_type": "stream",
     "text": [
      "Driver [/Users/leuzinger/.wdm/drivers/chromedriver/mac64/92.0.4515.107/chromedriver] found in cache\n",
      "INFO:WDM:Driver [/Users/leuzinger/.wdm/drivers/chromedriver/mac64/92.0.4515.107/chromedriver] found in cache\n",
      "\n",
      "\n",
      "INFO:WDM:\n",
      "\n",
      "====== WebDriver manager ======\n",
      "INFO:WDM:====== WebDriver manager ======\n",
      "Current google-chrome version is 92.0.4515\n",
      "INFO:WDM:Current google-chrome version is 92.0.4515\n",
      "Get LATEST driver version for 92.0.4515\n",
      "INFO:WDM:Get LATEST driver version for 92.0.4515\n"
     ]
    },
    {
     "name": "stdout",
     "output_type": "stream",
     "text": [
      "CRFB3 OK\n"
     ]
    },
    {
     "name": "stderr",
     "output_type": "stream",
     "text": [
      "Driver [/Users/leuzinger/.wdm/drivers/chromedriver/mac64/92.0.4515.107/chromedriver] found in cache\n",
      "INFO:WDM:Driver [/Users/leuzinger/.wdm/drivers/chromedriver/mac64/92.0.4515.107/chromedriver] found in cache\n",
      "\n",
      "\n",
      "INFO:WDM:\n",
      "\n",
      "====== WebDriver manager ======\n",
      "INFO:WDM:====== WebDriver manager ======\n",
      "Current google-chrome version is 92.0.4515\n",
      "INFO:WDM:Current google-chrome version is 92.0.4515\n",
      "Get LATEST driver version for 92.0.4515\n",
      "INFO:WDM:Get LATEST driver version for 92.0.4515\n"
     ]
    },
    {
     "name": "stdout",
     "output_type": "stream",
     "text": [
      "CRIV3 OK\n"
     ]
    },
    {
     "name": "stderr",
     "output_type": "stream",
     "text": [
      "Driver [/Users/leuzinger/.wdm/drivers/chromedriver/mac64/92.0.4515.107/chromedriver] found in cache\n",
      "INFO:WDM:Driver [/Users/leuzinger/.wdm/drivers/chromedriver/mac64/92.0.4515.107/chromedriver] found in cache\n",
      "\n",
      "\n",
      "INFO:WDM:\n",
      "\n",
      "====== WebDriver manager ======\n",
      "INFO:WDM:====== WebDriver manager ======\n",
      "Current google-chrome version is 92.0.4515\n",
      "INFO:WDM:Current google-chrome version is 92.0.4515\n",
      "Get LATEST driver version for 92.0.4515\n",
      "INFO:WDM:Get LATEST driver version for 92.0.4515\n"
     ]
    },
    {
     "name": "stdout",
     "output_type": "stream",
     "text": [
      "CRIV4 OK\n"
     ]
    },
    {
     "name": "stderr",
     "output_type": "stream",
     "text": [
      "Driver [/Users/leuzinger/.wdm/drivers/chromedriver/mac64/92.0.4515.107/chromedriver] found in cache\n",
      "INFO:WDM:Driver [/Users/leuzinger/.wdm/drivers/chromedriver/mac64/92.0.4515.107/chromedriver] found in cache\n",
      "\n",
      "\n",
      "INFO:WDM:\n",
      "\n",
      "====== WebDriver manager ======\n",
      "INFO:WDM:====== WebDriver manager ======\n",
      "Current google-chrome version is 92.0.4515\n",
      "INFO:WDM:Current google-chrome version is 92.0.4515\n",
      "Get LATEST driver version for 92.0.4515\n",
      "INFO:WDM:Get LATEST driver version for 92.0.4515\n"
     ]
    },
    {
     "name": "stdout",
     "output_type": "stream",
     "text": [
      "CRPG3 OK\n"
     ]
    },
    {
     "name": "stderr",
     "output_type": "stream",
     "text": [
      "Driver [/Users/leuzinger/.wdm/drivers/chromedriver/mac64/92.0.4515.107/chromedriver] found in cache\n",
      "INFO:WDM:Driver [/Users/leuzinger/.wdm/drivers/chromedriver/mac64/92.0.4515.107/chromedriver] found in cache\n",
      "\n",
      "\n",
      "INFO:WDM:\n",
      "\n",
      "====== WebDriver manager ======\n",
      "INFO:WDM:====== WebDriver manager ======\n",
      "Current google-chrome version is 92.0.4515\n",
      "INFO:WDM:Current google-chrome version is 92.0.4515\n",
      "Get LATEST driver version for 92.0.4515\n",
      "INFO:WDM:Get LATEST driver version for 92.0.4515\n"
     ]
    },
    {
     "name": "stdout",
     "output_type": "stream",
     "text": [
      "CRPG5 OK\n"
     ]
    },
    {
     "name": "stderr",
     "output_type": "stream",
     "text": [
      "Driver [/Users/leuzinger/.wdm/drivers/chromedriver/mac64/92.0.4515.107/chromedriver] found in cache\n",
      "INFO:WDM:Driver [/Users/leuzinger/.wdm/drivers/chromedriver/mac64/92.0.4515.107/chromedriver] found in cache\n",
      "\n",
      "\n",
      "INFO:WDM:\n",
      "\n",
      "====== WebDriver manager ======\n",
      "INFO:WDM:====== WebDriver manager ======\n",
      "Current google-chrome version is 92.0.4515\n",
      "INFO:WDM:Current google-chrome version is 92.0.4515\n",
      "Get LATEST driver version for 92.0.4515\n",
      "INFO:WDM:Get LATEST driver version for 92.0.4515\n"
     ]
    },
    {
     "name": "stdout",
     "output_type": "stream",
     "text": [
      "CRPG6 OK\n"
     ]
    },
    {
     "name": "stderr",
     "output_type": "stream",
     "text": [
      "Driver [/Users/leuzinger/.wdm/drivers/chromedriver/mac64/92.0.4515.107/chromedriver] found in cache\n",
      "INFO:WDM:Driver [/Users/leuzinger/.wdm/drivers/chromedriver/mac64/92.0.4515.107/chromedriver] found in cache\n",
      "\n",
      "\n",
      "INFO:WDM:\n",
      "\n",
      "====== WebDriver manager ======\n",
      "INFO:WDM:====== WebDriver manager ======\n",
      "Current google-chrome version is 92.0.4515\n",
      "INFO:WDM:Current google-chrome version is 92.0.4515\n",
      "Get LATEST driver version for 92.0.4515\n",
      "INFO:WDM:Get LATEST driver version for 92.0.4515\n"
     ]
    },
    {
     "name": "stdout",
     "output_type": "stream",
     "text": [
      "CSAB3 OK\n"
     ]
    },
    {
     "name": "stderr",
     "output_type": "stream",
     "text": [
      "Driver [/Users/leuzinger/.wdm/drivers/chromedriver/mac64/92.0.4515.107/chromedriver] found in cache\n",
      "INFO:WDM:Driver [/Users/leuzinger/.wdm/drivers/chromedriver/mac64/92.0.4515.107/chromedriver] found in cache\n",
      "\n",
      "\n",
      "INFO:WDM:\n",
      "\n",
      "====== WebDriver manager ======\n",
      "INFO:WDM:====== WebDriver manager ======\n",
      "Current google-chrome version is 92.0.4515\n",
      "INFO:WDM:Current google-chrome version is 92.0.4515\n",
      "Get LATEST driver version for 92.0.4515\n",
      "INFO:WDM:Get LATEST driver version for 92.0.4515\n"
     ]
    },
    {
     "name": "stdout",
     "output_type": "stream",
     "text": [
      "CSAB4 OK\n"
     ]
    },
    {
     "name": "stderr",
     "output_type": "stream",
     "text": [
      "Driver [/Users/leuzinger/.wdm/drivers/chromedriver/mac64/92.0.4515.107/chromedriver] found in cache\n",
      "INFO:WDM:Driver [/Users/leuzinger/.wdm/drivers/chromedriver/mac64/92.0.4515.107/chromedriver] found in cache\n",
      "\n",
      "\n",
      "INFO:WDM:\n",
      "\n",
      "====== WebDriver manager ======\n",
      "INFO:WDM:====== WebDriver manager ======\n",
      "Current google-chrome version is 92.0.4515\n",
      "INFO:WDM:Current google-chrome version is 92.0.4515\n",
      "Get LATEST driver version for 92.0.4515\n",
      "INFO:WDM:Get LATEST driver version for 92.0.4515\n"
     ]
    },
    {
     "name": "stdout",
     "output_type": "stream",
     "text": [
      "CSAN3 OK\n"
     ]
    },
    {
     "name": "stderr",
     "output_type": "stream",
     "text": [
      "Driver [/Users/leuzinger/.wdm/drivers/chromedriver/mac64/92.0.4515.107/chromedriver] found in cache\n",
      "INFO:WDM:Driver [/Users/leuzinger/.wdm/drivers/chromedriver/mac64/92.0.4515.107/chromedriver] found in cache\n",
      "\n",
      "\n",
      "INFO:WDM:\n",
      "\n",
      "====== WebDriver manager ======\n",
      "INFO:WDM:====== WebDriver manager ======\n",
      "Current google-chrome version is 92.0.4515\n",
      "INFO:WDM:Current google-chrome version is 92.0.4515\n",
      "Get LATEST driver version for 92.0.4515\n",
      "INFO:WDM:Get LATEST driver version for 92.0.4515\n"
     ]
    },
    {
     "name": "stdout",
     "output_type": "stream",
     "text": [
      "CSED3 OK\n"
     ]
    },
    {
     "name": "stderr",
     "output_type": "stream",
     "text": [
      "Driver [/Users/leuzinger/.wdm/drivers/chromedriver/mac64/92.0.4515.107/chromedriver] found in cache\n",
      "INFO:WDM:Driver [/Users/leuzinger/.wdm/drivers/chromedriver/mac64/92.0.4515.107/chromedriver] found in cache\n",
      "\n",
      "\n",
      "INFO:WDM:\n",
      "\n",
      "====== WebDriver manager ======\n",
      "INFO:WDM:====== WebDriver manager ======\n",
      "Current google-chrome version is 92.0.4515\n",
      "INFO:WDM:Current google-chrome version is 92.0.4515\n",
      "Get LATEST driver version for 92.0.4515\n",
      "INFO:WDM:Get LATEST driver version for 92.0.4515\n"
     ]
    },
    {
     "name": "stdout",
     "output_type": "stream",
     "text": [
      "CSMG3 OK\n"
     ]
    },
    {
     "name": "stderr",
     "output_type": "stream",
     "text": [
      "Driver [/Users/leuzinger/.wdm/drivers/chromedriver/mac64/92.0.4515.107/chromedriver] found in cache\n",
      "INFO:WDM:Driver [/Users/leuzinger/.wdm/drivers/chromedriver/mac64/92.0.4515.107/chromedriver] found in cache\n",
      "\n",
      "\n",
      "INFO:WDM:\n",
      "\n",
      "====== WebDriver manager ======\n",
      "INFO:WDM:====== WebDriver manager ======\n",
      "Current google-chrome version is 92.0.4515\n",
      "INFO:WDM:Current google-chrome version is 92.0.4515\n",
      "Get LATEST driver version for 92.0.4515\n",
      "INFO:WDM:Get LATEST driver version for 92.0.4515\n"
     ]
    },
    {
     "name": "stdout",
     "output_type": "stream",
     "text": [
      "CSNA3 OK\n"
     ]
    },
    {
     "name": "stderr",
     "output_type": "stream",
     "text": [
      "Driver [/Users/leuzinger/.wdm/drivers/chromedriver/mac64/92.0.4515.107/chromedriver] found in cache\n",
      "INFO:WDM:Driver [/Users/leuzinger/.wdm/drivers/chromedriver/mac64/92.0.4515.107/chromedriver] found in cache\n",
      "\n",
      "\n",
      "INFO:WDM:\n",
      "\n",
      "====== WebDriver manager ======\n",
      "INFO:WDM:====== WebDriver manager ======\n",
      "Current google-chrome version is 92.0.4515\n",
      "INFO:WDM:Current google-chrome version is 92.0.4515\n",
      "Get LATEST driver version for 92.0.4515\n",
      "INFO:WDM:Get LATEST driver version for 92.0.4515\n"
     ]
    },
    {
     "name": "stdout",
     "output_type": "stream",
     "text": [
      "CSRN3 OK\n"
     ]
    },
    {
     "name": "stderr",
     "output_type": "stream",
     "text": [
      "Driver [/Users/leuzinger/.wdm/drivers/chromedriver/mac64/92.0.4515.107/chromedriver] found in cache\n",
      "INFO:WDM:Driver [/Users/leuzinger/.wdm/drivers/chromedriver/mac64/92.0.4515.107/chromedriver] found in cache\n",
      "\n",
      "\n",
      "INFO:WDM:\n",
      "\n",
      "====== WebDriver manager ======\n",
      "INFO:WDM:====== WebDriver manager ======\n",
      "Current google-chrome version is 92.0.4515\n",
      "INFO:WDM:Current google-chrome version is 92.0.4515\n",
      "Get LATEST driver version for 92.0.4515\n",
      "INFO:WDM:Get LATEST driver version for 92.0.4515\n"
     ]
    },
    {
     "name": "stdout",
     "output_type": "stream",
     "text": [
      "CSRN5 OK\n"
     ]
    },
    {
     "name": "stderr",
     "output_type": "stream",
     "text": [
      "Driver [/Users/leuzinger/.wdm/drivers/chromedriver/mac64/92.0.4515.107/chromedriver] found in cache\n",
      "INFO:WDM:Driver [/Users/leuzinger/.wdm/drivers/chromedriver/mac64/92.0.4515.107/chromedriver] found in cache\n",
      "\n",
      "\n",
      "INFO:WDM:\n",
      "\n",
      "====== WebDriver manager ======\n",
      "INFO:WDM:====== WebDriver manager ======\n",
      "Current google-chrome version is 92.0.4515\n",
      "INFO:WDM:Current google-chrome version is 92.0.4515\n",
      "Get LATEST driver version for 92.0.4515\n",
      "INFO:WDM:Get LATEST driver version for 92.0.4515\n"
     ]
    },
    {
     "name": "stdout",
     "output_type": "stream",
     "text": [
      "CSRN6 OK\n"
     ]
    },
    {
     "name": "stderr",
     "output_type": "stream",
     "text": [
      "Driver [/Users/leuzinger/.wdm/drivers/chromedriver/mac64/92.0.4515.107/chromedriver] found in cache\n",
      "INFO:WDM:Driver [/Users/leuzinger/.wdm/drivers/chromedriver/mac64/92.0.4515.107/chromedriver] found in cache\n",
      "\n",
      "\n",
      "INFO:WDM:\n",
      "\n",
      "====== WebDriver manager ======\n",
      "INFO:WDM:====== WebDriver manager ======\n",
      "Current google-chrome version is 92.0.4515\n",
      "INFO:WDM:Current google-chrome version is 92.0.4515\n",
      "Get LATEST driver version for 92.0.4515\n",
      "INFO:WDM:Get LATEST driver version for 92.0.4515\n"
     ]
    },
    {
     "name": "stdout",
     "output_type": "stream",
     "text": [
      "CTCA3 OK\n"
     ]
    },
    {
     "name": "stderr",
     "output_type": "stream",
     "text": [
      "Driver [/Users/leuzinger/.wdm/drivers/chromedriver/mac64/92.0.4515.107/chromedriver] found in cache\n",
      "INFO:WDM:Driver [/Users/leuzinger/.wdm/drivers/chromedriver/mac64/92.0.4515.107/chromedriver] found in cache\n",
      "\n",
      "\n",
      "INFO:WDM:\n",
      "\n",
      "====== WebDriver manager ======\n",
      "INFO:WDM:====== WebDriver manager ======\n",
      "Current google-chrome version is 92.0.4515\n",
      "INFO:WDM:Current google-chrome version is 92.0.4515\n",
      "Get LATEST driver version for 92.0.4515\n",
      "INFO:WDM:Get LATEST driver version for 92.0.4515\n"
     ]
    },
    {
     "name": "stdout",
     "output_type": "stream",
     "text": [
      "CTKA3 OK\n"
     ]
    },
    {
     "name": "stderr",
     "output_type": "stream",
     "text": [
      "Driver [/Users/leuzinger/.wdm/drivers/chromedriver/mac64/92.0.4515.107/chromedriver] found in cache\n",
      "INFO:WDM:Driver [/Users/leuzinger/.wdm/drivers/chromedriver/mac64/92.0.4515.107/chromedriver] found in cache\n",
      "\n",
      "\n",
      "INFO:WDM:\n",
      "\n",
      "====== WebDriver manager ======\n",
      "INFO:WDM:====== WebDriver manager ======\n",
      "Current google-chrome version is 92.0.4515\n",
      "INFO:WDM:Current google-chrome version is 92.0.4515\n",
      "Get LATEST driver version for 92.0.4515\n",
      "INFO:WDM:Get LATEST driver version for 92.0.4515\n"
     ]
    },
    {
     "name": "stdout",
     "output_type": "stream",
     "text": [
      "CTKA4 OK\n"
     ]
    },
    {
     "name": "stderr",
     "output_type": "stream",
     "text": [
      "Driver [/Users/leuzinger/.wdm/drivers/chromedriver/mac64/92.0.4515.107/chromedriver] found in cache\n",
      "INFO:WDM:Driver [/Users/leuzinger/.wdm/drivers/chromedriver/mac64/92.0.4515.107/chromedriver] found in cache\n",
      "\n",
      "\n",
      "INFO:WDM:\n",
      "\n",
      "====== WebDriver manager ======\n",
      "INFO:WDM:====== WebDriver manager ======\n",
      "Current google-chrome version is 92.0.4515\n",
      "INFO:WDM:Current google-chrome version is 92.0.4515\n",
      "Get LATEST driver version for 92.0.4515\n",
      "INFO:WDM:Get LATEST driver version for 92.0.4515\n"
     ]
    },
    {
     "name": "stdout",
     "output_type": "stream",
     "text": [
      "CTNM3 OK\n"
     ]
    },
    {
     "name": "stderr",
     "output_type": "stream",
     "text": [
      "Driver [/Users/leuzinger/.wdm/drivers/chromedriver/mac64/92.0.4515.107/chromedriver] found in cache\n",
      "INFO:WDM:Driver [/Users/leuzinger/.wdm/drivers/chromedriver/mac64/92.0.4515.107/chromedriver] found in cache\n",
      "\n",
      "\n",
      "INFO:WDM:\n",
      "\n",
      "====== WebDriver manager ======\n",
      "INFO:WDM:====== WebDriver manager ======\n",
      "Current google-chrome version is 92.0.4515\n",
      "INFO:WDM:Current google-chrome version is 92.0.4515\n",
      "Get LATEST driver version for 92.0.4515\n",
      "INFO:WDM:Get LATEST driver version for 92.0.4515\n"
     ]
    },
    {
     "name": "stdout",
     "output_type": "stream",
     "text": [
      "CTNM4 OK\n"
     ]
    },
    {
     "name": "stderr",
     "output_type": "stream",
     "text": [
      "Driver [/Users/leuzinger/.wdm/drivers/chromedriver/mac64/92.0.4515.107/chromedriver] found in cache\n",
      "INFO:WDM:Driver [/Users/leuzinger/.wdm/drivers/chromedriver/mac64/92.0.4515.107/chromedriver] found in cache\n",
      "\n",
      "\n",
      "INFO:WDM:\n",
      "\n",
      "====== WebDriver manager ======\n",
      "INFO:WDM:====== WebDriver manager ======\n",
      "Current google-chrome version is 92.0.4515\n",
      "INFO:WDM:Current google-chrome version is 92.0.4515\n",
      "Get LATEST driver version for 92.0.4515\n",
      "INFO:WDM:Get LATEST driver version for 92.0.4515\n"
     ]
    },
    {
     "name": "stdout",
     "output_type": "stream",
     "text": [
      "CTSA3 OK\n"
     ]
    },
    {
     "name": "stderr",
     "output_type": "stream",
     "text": [
      "Driver [/Users/leuzinger/.wdm/drivers/chromedriver/mac64/92.0.4515.107/chromedriver] found in cache\n",
      "INFO:WDM:Driver [/Users/leuzinger/.wdm/drivers/chromedriver/mac64/92.0.4515.107/chromedriver] found in cache\n",
      "\n",
      "\n",
      "INFO:WDM:\n",
      "\n",
      "====== WebDriver manager ======\n",
      "INFO:WDM:====== WebDriver manager ======\n",
      "Current google-chrome version is 92.0.4515\n",
      "INFO:WDM:Current google-chrome version is 92.0.4515\n",
      "Get LATEST driver version for 92.0.4515\n",
      "INFO:WDM:Get LATEST driver version for 92.0.4515\n"
     ]
    },
    {
     "name": "stdout",
     "output_type": "stream",
     "text": [
      "CTSA4 OK\n"
     ]
    },
    {
     "name": "stderr",
     "output_type": "stream",
     "text": [
      "Driver [/Users/leuzinger/.wdm/drivers/chromedriver/mac64/92.0.4515.107/chromedriver] found in cache\n",
      "INFO:WDM:Driver [/Users/leuzinger/.wdm/drivers/chromedriver/mac64/92.0.4515.107/chromedriver] found in cache\n",
      "\n",
      "\n",
      "INFO:WDM:\n",
      "\n",
      "====== WebDriver manager ======\n",
      "INFO:WDM:====== WebDriver manager ======\n",
      "Current google-chrome version is 92.0.4515\n",
      "INFO:WDM:Current google-chrome version is 92.0.4515\n",
      "Get LATEST driver version for 92.0.4515\n",
      "INFO:WDM:Get LATEST driver version for 92.0.4515\n"
     ]
    },
    {
     "name": "stdout",
     "output_type": "stream",
     "text": [
      "CTSA8 OK\n"
     ]
    },
    {
     "name": "stderr",
     "output_type": "stream",
     "text": [
      "Driver [/Users/leuzinger/.wdm/drivers/chromedriver/mac64/92.0.4515.107/chromedriver] found in cache\n",
      "INFO:WDM:Driver [/Users/leuzinger/.wdm/drivers/chromedriver/mac64/92.0.4515.107/chromedriver] found in cache\n",
      "\n",
      "\n",
      "INFO:WDM:\n",
      "\n",
      "====== WebDriver manager ======\n",
      "INFO:WDM:====== WebDriver manager ======\n",
      "Current google-chrome version is 92.0.4515\n",
      "INFO:WDM:Current google-chrome version is 92.0.4515\n",
      "Get LATEST driver version for 92.0.4515\n",
      "INFO:WDM:Get LATEST driver version for 92.0.4515\n"
     ]
    },
    {
     "name": "stdout",
     "output_type": "stream",
     "text": [
      "CURY3 OK\n"
     ]
    },
    {
     "name": "stderr",
     "output_type": "stream",
     "text": [
      "Driver [/Users/leuzinger/.wdm/drivers/chromedriver/mac64/92.0.4515.107/chromedriver] found in cache\n",
      "INFO:WDM:Driver [/Users/leuzinger/.wdm/drivers/chromedriver/mac64/92.0.4515.107/chromedriver] found in cache\n",
      "\n",
      "\n",
      "INFO:WDM:\n",
      "\n",
      "====== WebDriver manager ======\n",
      "INFO:WDM:====== WebDriver manager ======\n",
      "Current google-chrome version is 92.0.4515\n",
      "INFO:WDM:Current google-chrome version is 92.0.4515\n",
      "Get LATEST driver version for 92.0.4515\n",
      "INFO:WDM:Get LATEST driver version for 92.0.4515\n"
     ]
    },
    {
     "name": "stdout",
     "output_type": "stream",
     "text": [
      "CVCB3 OK\n"
     ]
    },
    {
     "name": "stderr",
     "output_type": "stream",
     "text": [
      "Driver [/Users/leuzinger/.wdm/drivers/chromedriver/mac64/92.0.4515.107/chromedriver] found in cache\n",
      "INFO:WDM:Driver [/Users/leuzinger/.wdm/drivers/chromedriver/mac64/92.0.4515.107/chromedriver] found in cache\n",
      "\n",
      "\n",
      "INFO:WDM:\n",
      "\n",
      "====== WebDriver manager ======\n",
      "INFO:WDM:====== WebDriver manager ======\n",
      "Current google-chrome version is 92.0.4515\n",
      "INFO:WDM:Current google-chrome version is 92.0.4515\n",
      "Get LATEST driver version for 92.0.4515\n",
      "INFO:WDM:Get LATEST driver version for 92.0.4515\n"
     ]
    },
    {
     "name": "stdout",
     "output_type": "stream",
     "text": [
      "CXSE3 OK\n"
     ]
    },
    {
     "name": "stderr",
     "output_type": "stream",
     "text": [
      "Driver [/Users/leuzinger/.wdm/drivers/chromedriver/mac64/92.0.4515.107/chromedriver] found in cache\n",
      "INFO:WDM:Driver [/Users/leuzinger/.wdm/drivers/chromedriver/mac64/92.0.4515.107/chromedriver] found in cache\n",
      "\n",
      "\n",
      "INFO:WDM:\n",
      "\n",
      "====== WebDriver manager ======\n",
      "INFO:WDM:====== WebDriver manager ======\n",
      "Current google-chrome version is 92.0.4515\n",
      "INFO:WDM:Current google-chrome version is 92.0.4515\n",
      "Get LATEST driver version for 92.0.4515\n",
      "INFO:WDM:Get LATEST driver version for 92.0.4515\n"
     ]
    },
    {
     "name": "stdout",
     "output_type": "stream",
     "text": [
      "CYRE3 OK\n"
     ]
    },
    {
     "name": "stderr",
     "output_type": "stream",
     "text": [
      "Driver [/Users/leuzinger/.wdm/drivers/chromedriver/mac64/92.0.4515.107/chromedriver] found in cache\n",
      "INFO:WDM:Driver [/Users/leuzinger/.wdm/drivers/chromedriver/mac64/92.0.4515.107/chromedriver] found in cache\n",
      "\n",
      "\n",
      "INFO:WDM:\n",
      "\n",
      "====== WebDriver manager ======\n",
      "INFO:WDM:====== WebDriver manager ======\n",
      "Current google-chrome version is 92.0.4515\n",
      "INFO:WDM:Current google-chrome version is 92.0.4515\n",
      "Get LATEST driver version for 92.0.4515\n",
      "INFO:WDM:Get LATEST driver version for 92.0.4515\n"
     ]
    },
    {
     "name": "stdout",
     "output_type": "stream",
     "text": [
      "DASA3 OK\n"
     ]
    },
    {
     "name": "stderr",
     "output_type": "stream",
     "text": [
      "Driver [/Users/leuzinger/.wdm/drivers/chromedriver/mac64/92.0.4515.107/chromedriver] found in cache\n",
      "INFO:WDM:Driver [/Users/leuzinger/.wdm/drivers/chromedriver/mac64/92.0.4515.107/chromedriver] found in cache\n",
      "\n",
      "\n",
      "INFO:WDM:\n",
      "\n",
      "====== WebDriver manager ======\n",
      "INFO:WDM:====== WebDriver manager ======\n",
      "Current google-chrome version is 92.0.4515\n",
      "INFO:WDM:Current google-chrome version is 92.0.4515\n",
      "Get LATEST driver version for 92.0.4515\n",
      "INFO:WDM:Get LATEST driver version for 92.0.4515\n"
     ]
    },
    {
     "name": "stdout",
     "output_type": "stream",
     "text": [
      "DEXP3 OK\n"
     ]
    },
    {
     "name": "stderr",
     "output_type": "stream",
     "text": [
      "Driver [/Users/leuzinger/.wdm/drivers/chromedriver/mac64/92.0.4515.107/chromedriver] found in cache\n",
      "INFO:WDM:Driver [/Users/leuzinger/.wdm/drivers/chromedriver/mac64/92.0.4515.107/chromedriver] found in cache\n",
      "\n",
      "\n",
      "INFO:WDM:\n",
      "\n",
      "====== WebDriver manager ======\n",
      "INFO:WDM:====== WebDriver manager ======\n",
      "Current google-chrome version is 92.0.4515\n",
      "INFO:WDM:Current google-chrome version is 92.0.4515\n",
      "Get LATEST driver version for 92.0.4515\n",
      "INFO:WDM:Get LATEST driver version for 92.0.4515\n"
     ]
    },
    {
     "name": "stdout",
     "output_type": "stream",
     "text": [
      "DEXP4 OK\n"
     ]
    },
    {
     "name": "stderr",
     "output_type": "stream",
     "text": [
      "Driver [/Users/leuzinger/.wdm/drivers/chromedriver/mac64/92.0.4515.107/chromedriver] found in cache\n",
      "INFO:WDM:Driver [/Users/leuzinger/.wdm/drivers/chromedriver/mac64/92.0.4515.107/chromedriver] found in cache\n",
      "\n",
      "\n",
      "INFO:WDM:\n",
      "\n",
      "====== WebDriver manager ======\n",
      "INFO:WDM:====== WebDriver manager ======\n",
      "Current google-chrome version is 92.0.4515\n",
      "INFO:WDM:Current google-chrome version is 92.0.4515\n",
      "Get LATEST driver version for 92.0.4515\n",
      "INFO:WDM:Get LATEST driver version for 92.0.4515\n"
     ]
    },
    {
     "name": "stdout",
     "output_type": "stream",
     "text": [
      "DIRR3 OK\n"
     ]
    },
    {
     "name": "stderr",
     "output_type": "stream",
     "text": [
      "Driver [/Users/leuzinger/.wdm/drivers/chromedriver/mac64/92.0.4515.107/chromedriver] found in cache\n",
      "INFO:WDM:Driver [/Users/leuzinger/.wdm/drivers/chromedriver/mac64/92.0.4515.107/chromedriver] found in cache\n",
      "\n",
      "\n",
      "INFO:WDM:\n",
      "\n",
      "====== WebDriver manager ======\n",
      "INFO:WDM:====== WebDriver manager ======\n",
      "Current google-chrome version is 92.0.4515\n",
      "INFO:WDM:Current google-chrome version is 92.0.4515\n",
      "Get LATEST driver version for 92.0.4515\n",
      "INFO:WDM:Get LATEST driver version for 92.0.4515\n"
     ]
    },
    {
     "name": "stdout",
     "output_type": "stream",
     "text": [
      "DMMO3 OK\n"
     ]
    },
    {
     "name": "stderr",
     "output_type": "stream",
     "text": [
      "Driver [/Users/leuzinger/.wdm/drivers/chromedriver/mac64/92.0.4515.107/chromedriver] found in cache\n",
      "INFO:WDM:Driver [/Users/leuzinger/.wdm/drivers/chromedriver/mac64/92.0.4515.107/chromedriver] found in cache\n",
      "\n",
      "\n",
      "INFO:WDM:\n",
      "\n",
      "====== WebDriver manager ======\n",
      "INFO:WDM:====== WebDriver manager ======\n",
      "Current google-chrome version is 92.0.4515\n",
      "INFO:WDM:Current google-chrome version is 92.0.4515\n",
      "Get LATEST driver version for 92.0.4515\n",
      "INFO:WDM:Get LATEST driver version for 92.0.4515\n"
     ]
    },
    {
     "name": "stdout",
     "output_type": "stream",
     "text": [
      "DMVF3 OK\n"
     ]
    },
    {
     "name": "stderr",
     "output_type": "stream",
     "text": [
      "Driver [/Users/leuzinger/.wdm/drivers/chromedriver/mac64/92.0.4515.107/chromedriver] found in cache\n",
      "INFO:WDM:Driver [/Users/leuzinger/.wdm/drivers/chromedriver/mac64/92.0.4515.107/chromedriver] found in cache\n",
      "\n",
      "\n",
      "INFO:WDM:\n",
      "\n",
      "====== WebDriver manager ======\n",
      "INFO:WDM:====== WebDriver manager ======\n",
      "Current google-chrome version is 92.0.4515\n",
      "INFO:WDM:Current google-chrome version is 92.0.4515\n",
      "Get LATEST driver version for 92.0.4515\n",
      "INFO:WDM:Get LATEST driver version for 92.0.4515\n"
     ]
    },
    {
     "name": "stdout",
     "output_type": "stream",
     "text": [
      "DOHL3 OK\n"
     ]
    },
    {
     "name": "stderr",
     "output_type": "stream",
     "text": [
      "Driver [/Users/leuzinger/.wdm/drivers/chromedriver/mac64/92.0.4515.107/chromedriver] found in cache\n",
      "INFO:WDM:Driver [/Users/leuzinger/.wdm/drivers/chromedriver/mac64/92.0.4515.107/chromedriver] found in cache\n",
      "\n",
      "\n",
      "INFO:WDM:\n",
      "\n",
      "====== WebDriver manager ======\n",
      "INFO:WDM:====== WebDriver manager ======\n",
      "Current google-chrome version is 92.0.4515\n",
      "INFO:WDM:Current google-chrome version is 92.0.4515\n",
      "Get LATEST driver version for 92.0.4515\n",
      "INFO:WDM:Get LATEST driver version for 92.0.4515\n"
     ]
    },
    {
     "name": "stdout",
     "output_type": "stream",
     "text": [
      "DOHL4 OK\n"
     ]
    },
    {
     "name": "stderr",
     "output_type": "stream",
     "text": [
      "Driver [/Users/leuzinger/.wdm/drivers/chromedriver/mac64/92.0.4515.107/chromedriver] found in cache\n",
      "INFO:WDM:Driver [/Users/leuzinger/.wdm/drivers/chromedriver/mac64/92.0.4515.107/chromedriver] found in cache\n",
      "\n",
      "\n",
      "INFO:WDM:\n",
      "\n",
      "====== WebDriver manager ======\n",
      "INFO:WDM:====== WebDriver manager ======\n",
      "Current google-chrome version is 92.0.4515\n",
      "INFO:WDM:Current google-chrome version is 92.0.4515\n",
      "Get LATEST driver version for 92.0.4515\n",
      "INFO:WDM:Get LATEST driver version for 92.0.4515\n"
     ]
    },
    {
     "name": "stdout",
     "output_type": "stream",
     "text": [
      "DOTZ3 OK\n"
     ]
    },
    {
     "name": "stderr",
     "output_type": "stream",
     "text": [
      "Driver [/Users/leuzinger/.wdm/drivers/chromedriver/mac64/92.0.4515.107/chromedriver] found in cache\n",
      "INFO:WDM:Driver [/Users/leuzinger/.wdm/drivers/chromedriver/mac64/92.0.4515.107/chromedriver] found in cache\n",
      "\n",
      "\n",
      "INFO:WDM:\n",
      "\n",
      "====== WebDriver manager ======\n",
      "INFO:WDM:====== WebDriver manager ======\n",
      "Current google-chrome version is 92.0.4515\n",
      "INFO:WDM:Current google-chrome version is 92.0.4515\n",
      "Get LATEST driver version for 92.0.4515\n",
      "INFO:WDM:Get LATEST driver version for 92.0.4515\n"
     ]
    },
    {
     "name": "stdout",
     "output_type": "stream",
     "text": [
      "DTCY3 OK\n"
     ]
    },
    {
     "name": "stderr",
     "output_type": "stream",
     "text": [
      "Driver [/Users/leuzinger/.wdm/drivers/chromedriver/mac64/92.0.4515.107/chromedriver] found in cache\n",
      "INFO:WDM:Driver [/Users/leuzinger/.wdm/drivers/chromedriver/mac64/92.0.4515.107/chromedriver] found in cache\n",
      "\n",
      "\n",
      "INFO:WDM:\n",
      "\n",
      "====== WebDriver manager ======\n",
      "INFO:WDM:====== WebDriver manager ======\n",
      "Current google-chrome version is 92.0.4515\n",
      "INFO:WDM:Current google-chrome version is 92.0.4515\n",
      "Get LATEST driver version for 92.0.4515\n",
      "INFO:WDM:Get LATEST driver version for 92.0.4515\n"
     ]
    },
    {
     "name": "stdout",
     "output_type": "stream",
     "text": [
      "DTCY4 OK\n"
     ]
    },
    {
     "name": "stderr",
     "output_type": "stream",
     "text": [
      "Driver [/Users/leuzinger/.wdm/drivers/chromedriver/mac64/92.0.4515.107/chromedriver] found in cache\n",
      "INFO:WDM:Driver [/Users/leuzinger/.wdm/drivers/chromedriver/mac64/92.0.4515.107/chromedriver] found in cache\n",
      "\n",
      "\n",
      "INFO:WDM:\n",
      "\n",
      "====== WebDriver manager ======\n",
      "INFO:WDM:====== WebDriver manager ======\n",
      "Current google-chrome version is 92.0.4515\n",
      "INFO:WDM:Current google-chrome version is 92.0.4515\n",
      "Get LATEST driver version for 92.0.4515\n",
      "INFO:WDM:Get LATEST driver version for 92.0.4515\n"
     ]
    },
    {
     "name": "stdout",
     "output_type": "stream",
     "text": [
      "DTEX3 OK\n"
     ]
    },
    {
     "name": "stderr",
     "output_type": "stream",
     "text": [
      "Driver [/Users/leuzinger/.wdm/drivers/chromedriver/mac64/92.0.4515.107/chromedriver] found in cache\n",
      "INFO:WDM:Driver [/Users/leuzinger/.wdm/drivers/chromedriver/mac64/92.0.4515.107/chromedriver] found in cache\n",
      "\n",
      "\n",
      "INFO:WDM:\n",
      "\n",
      "====== WebDriver manager ======\n",
      "INFO:WDM:====== WebDriver manager ======\n",
      "Current google-chrome version is 92.0.4515\n",
      "INFO:WDM:Current google-chrome version is 92.0.4515\n",
      "Get LATEST driver version for 92.0.4515\n",
      "INFO:WDM:Get LATEST driver version for 92.0.4515\n"
     ]
    },
    {
     "name": "stdout",
     "output_type": "stream",
     "text": [
      "EALT3 OK\n"
     ]
    },
    {
     "name": "stderr",
     "output_type": "stream",
     "text": [
      "Driver [/Users/leuzinger/.wdm/drivers/chromedriver/mac64/92.0.4515.107/chromedriver] found in cache\n",
      "INFO:WDM:Driver [/Users/leuzinger/.wdm/drivers/chromedriver/mac64/92.0.4515.107/chromedriver] found in cache\n",
      "\n",
      "\n",
      "INFO:WDM:\n",
      "\n",
      "====== WebDriver manager ======\n",
      "INFO:WDM:====== WebDriver manager ======\n",
      "Current google-chrome version is 92.0.4515\n",
      "INFO:WDM:Current google-chrome version is 92.0.4515\n",
      "Get LATEST driver version for 92.0.4515\n",
      "INFO:WDM:Get LATEST driver version for 92.0.4515\n"
     ]
    },
    {
     "name": "stdout",
     "output_type": "stream",
     "text": [
      "EALT4 OK\n"
     ]
    },
    {
     "name": "stderr",
     "output_type": "stream",
     "text": [
      "Driver [/Users/leuzinger/.wdm/drivers/chromedriver/mac64/92.0.4515.107/chromedriver] found in cache\n",
      "INFO:WDM:Driver [/Users/leuzinger/.wdm/drivers/chromedriver/mac64/92.0.4515.107/chromedriver] found in cache\n",
      "\n",
      "\n",
      "INFO:WDM:\n",
      "\n",
      "====== WebDriver manager ======\n",
      "INFO:WDM:====== WebDriver manager ======\n",
      "Current google-chrome version is 92.0.4515\n",
      "INFO:WDM:Current google-chrome version is 92.0.4515\n",
      "Get LATEST driver version for 92.0.4515\n",
      "INFO:WDM:Get LATEST driver version for 92.0.4515\n"
     ]
    },
    {
     "name": "stdout",
     "output_type": "stream",
     "text": [
      "ECOR3 OK\n"
     ]
    },
    {
     "name": "stderr",
     "output_type": "stream",
     "text": [
      "Driver [/Users/leuzinger/.wdm/drivers/chromedriver/mac64/92.0.4515.107/chromedriver] found in cache\n",
      "INFO:WDM:Driver [/Users/leuzinger/.wdm/drivers/chromedriver/mac64/92.0.4515.107/chromedriver] found in cache\n",
      "\n",
      "\n",
      "INFO:WDM:\n",
      "\n",
      "====== WebDriver manager ======\n",
      "INFO:WDM:====== WebDriver manager ======\n",
      "Current google-chrome version is 92.0.4515\n",
      "INFO:WDM:Current google-chrome version is 92.0.4515\n",
      "Get LATEST driver version for 92.0.4515\n",
      "INFO:WDM:Get LATEST driver version for 92.0.4515\n"
     ]
    },
    {
     "name": "stdout",
     "output_type": "stream",
     "text": [
      "ECPR3 OK\n"
     ]
    },
    {
     "name": "stderr",
     "output_type": "stream",
     "text": [
      "Driver [/Users/leuzinger/.wdm/drivers/chromedriver/mac64/92.0.4515.107/chromedriver] found in cache\n",
      "INFO:WDM:Driver [/Users/leuzinger/.wdm/drivers/chromedriver/mac64/92.0.4515.107/chromedriver] found in cache\n",
      "\n",
      "\n",
      "INFO:WDM:\n",
      "\n",
      "====== WebDriver manager ======\n",
      "INFO:WDM:====== WebDriver manager ======\n",
      "Current google-chrome version is 92.0.4515\n",
      "INFO:WDM:Current google-chrome version is 92.0.4515\n",
      "Get LATEST driver version for 92.0.4515\n",
      "INFO:WDM:Get LATEST driver version for 92.0.4515\n"
     ]
    },
    {
     "name": "stdout",
     "output_type": "stream",
     "text": [
      "ECPR4 OK\n"
     ]
    },
    {
     "name": "stderr",
     "output_type": "stream",
     "text": [
      "Driver [/Users/leuzinger/.wdm/drivers/chromedriver/mac64/92.0.4515.107/chromedriver] found in cache\n",
      "INFO:WDM:Driver [/Users/leuzinger/.wdm/drivers/chromedriver/mac64/92.0.4515.107/chromedriver] found in cache\n",
      "\n",
      "\n",
      "INFO:WDM:\n",
      "\n",
      "====== WebDriver manager ======\n",
      "INFO:WDM:====== WebDriver manager ======\n",
      "Current google-chrome version is 92.0.4515\n",
      "INFO:WDM:Current google-chrome version is 92.0.4515\n",
      "Get LATEST driver version for 92.0.4515\n",
      "INFO:WDM:Get LATEST driver version for 92.0.4515\n"
     ]
    },
    {
     "name": "stdout",
     "output_type": "stream",
     "text": [
      "EEEL3 OK\n"
     ]
    },
    {
     "name": "stderr",
     "output_type": "stream",
     "text": [
      "Driver [/Users/leuzinger/.wdm/drivers/chromedriver/mac64/92.0.4515.107/chromedriver] found in cache\n",
      "INFO:WDM:Driver [/Users/leuzinger/.wdm/drivers/chromedriver/mac64/92.0.4515.107/chromedriver] found in cache\n",
      "\n",
      "\n",
      "INFO:WDM:\n",
      "\n",
      "====== WebDriver manager ======\n",
      "INFO:WDM:====== WebDriver manager ======\n",
      "Current google-chrome version is 92.0.4515\n",
      "INFO:WDM:Current google-chrome version is 92.0.4515\n",
      "Get LATEST driver version for 92.0.4515\n",
      "INFO:WDM:Get LATEST driver version for 92.0.4515\n"
     ]
    },
    {
     "name": "stdout",
     "output_type": "stream",
     "text": [
      "EEEL4 OK\n"
     ]
    },
    {
     "name": "stderr",
     "output_type": "stream",
     "text": [
      "Driver [/Users/leuzinger/.wdm/drivers/chromedriver/mac64/92.0.4515.107/chromedriver] found in cache\n",
      "INFO:WDM:Driver [/Users/leuzinger/.wdm/drivers/chromedriver/mac64/92.0.4515.107/chromedriver] found in cache\n",
      "\n",
      "\n",
      "INFO:WDM:\n",
      "\n",
      "====== WebDriver manager ======\n",
      "INFO:WDM:====== WebDriver manager ======\n",
      "Current google-chrome version is 92.0.4515\n",
      "INFO:WDM:Current google-chrome version is 92.0.4515\n",
      "Get LATEST driver version for 92.0.4515\n",
      "INFO:WDM:Get LATEST driver version for 92.0.4515\n"
     ]
    },
    {
     "name": "stdout",
     "output_type": "stream",
     "text": [
      "EGIE3 OK\n"
     ]
    },
    {
     "name": "stderr",
     "output_type": "stream",
     "text": [
      "Driver [/Users/leuzinger/.wdm/drivers/chromedriver/mac64/92.0.4515.107/chromedriver] found in cache\n",
      "INFO:WDM:Driver [/Users/leuzinger/.wdm/drivers/chromedriver/mac64/92.0.4515.107/chromedriver] found in cache\n",
      "\n",
      "\n",
      "INFO:WDM:\n",
      "\n",
      "====== WebDriver manager ======\n",
      "INFO:WDM:====== WebDriver manager ======\n",
      "Current google-chrome version is 92.0.4515\n",
      "INFO:WDM:Current google-chrome version is 92.0.4515\n",
      "Get LATEST driver version for 92.0.4515\n",
      "INFO:WDM:Get LATEST driver version for 92.0.4515\n"
     ]
    },
    {
     "name": "stdout",
     "output_type": "stream",
     "text": [
      "EKTR3 OK\n"
     ]
    },
    {
     "name": "stderr",
     "output_type": "stream",
     "text": [
      "Driver [/Users/leuzinger/.wdm/drivers/chromedriver/mac64/92.0.4515.107/chromedriver] found in cache\n",
      "INFO:WDM:Driver [/Users/leuzinger/.wdm/drivers/chromedriver/mac64/92.0.4515.107/chromedriver] found in cache\n",
      "\n",
      "\n",
      "INFO:WDM:\n",
      "\n",
      "====== WebDriver manager ======\n",
      "INFO:WDM:====== WebDriver manager ======\n",
      "Current google-chrome version is 92.0.4515\n",
      "INFO:WDM:Current google-chrome version is 92.0.4515\n",
      "Get LATEST driver version for 92.0.4515\n",
      "INFO:WDM:Get LATEST driver version for 92.0.4515\n"
     ]
    },
    {
     "name": "stdout",
     "output_type": "stream",
     "text": [
      "EKTR4 OK\n"
     ]
    },
    {
     "name": "stderr",
     "output_type": "stream",
     "text": [
      "Driver [/Users/leuzinger/.wdm/drivers/chromedriver/mac64/92.0.4515.107/chromedriver] found in cache\n",
      "INFO:WDM:Driver [/Users/leuzinger/.wdm/drivers/chromedriver/mac64/92.0.4515.107/chromedriver] found in cache\n",
      "\n",
      "\n",
      "INFO:WDM:\n",
      "\n",
      "====== WebDriver manager ======\n",
      "INFO:WDM:====== WebDriver manager ======\n",
      "Current google-chrome version is 92.0.4515\n",
      "INFO:WDM:Current google-chrome version is 92.0.4515\n",
      "Get LATEST driver version for 92.0.4515\n",
      "INFO:WDM:Get LATEST driver version for 92.0.4515\n"
     ]
    },
    {
     "name": "stdout",
     "output_type": "stream",
     "text": [
      "ELEK3 OK\n"
     ]
    },
    {
     "name": "stderr",
     "output_type": "stream",
     "text": [
      "Driver [/Users/leuzinger/.wdm/drivers/chromedriver/mac64/92.0.4515.107/chromedriver] found in cache\n",
      "INFO:WDM:Driver [/Users/leuzinger/.wdm/drivers/chromedriver/mac64/92.0.4515.107/chromedriver] found in cache\n",
      "\n",
      "\n",
      "INFO:WDM:\n",
      "\n",
      "====== WebDriver manager ======\n",
      "INFO:WDM:====== WebDriver manager ======\n",
      "Current google-chrome version is 92.0.4515\n",
      "INFO:WDM:Current google-chrome version is 92.0.4515\n",
      "Get LATEST driver version for 92.0.4515\n",
      "INFO:WDM:Get LATEST driver version for 92.0.4515\n"
     ]
    },
    {
     "name": "stdout",
     "output_type": "stream",
     "text": [
      "ELEK4 OK\n"
     ]
    },
    {
     "name": "stderr",
     "output_type": "stream",
     "text": [
      "Driver [/Users/leuzinger/.wdm/drivers/chromedriver/mac64/92.0.4515.107/chromedriver] found in cache\n",
      "INFO:WDM:Driver [/Users/leuzinger/.wdm/drivers/chromedriver/mac64/92.0.4515.107/chromedriver] found in cache\n",
      "\n",
      "\n",
      "INFO:WDM:\n",
      "\n",
      "====== WebDriver manager ======\n",
      "INFO:WDM:====== WebDriver manager ======\n",
      "Current google-chrome version is 92.0.4515\n",
      "INFO:WDM:Current google-chrome version is 92.0.4515\n",
      "Get LATEST driver version for 92.0.4515\n",
      "INFO:WDM:Get LATEST driver version for 92.0.4515\n"
     ]
    },
    {
     "name": "stdout",
     "output_type": "stream",
     "text": [
      "ELET3 OK\n"
     ]
    },
    {
     "name": "stderr",
     "output_type": "stream",
     "text": [
      "Driver [/Users/leuzinger/.wdm/drivers/chromedriver/mac64/92.0.4515.107/chromedriver] found in cache\n",
      "INFO:WDM:Driver [/Users/leuzinger/.wdm/drivers/chromedriver/mac64/92.0.4515.107/chromedriver] found in cache\n",
      "\n",
      "\n",
      "INFO:WDM:\n",
      "\n",
      "====== WebDriver manager ======\n",
      "INFO:WDM:====== WebDriver manager ======\n",
      "Current google-chrome version is 92.0.4515\n",
      "INFO:WDM:Current google-chrome version is 92.0.4515\n",
      "Get LATEST driver version for 92.0.4515\n",
      "INFO:WDM:Get LATEST driver version for 92.0.4515\n"
     ]
    },
    {
     "name": "stdout",
     "output_type": "stream",
     "text": [
      "ELET5 OK\n"
     ]
    },
    {
     "name": "stderr",
     "output_type": "stream",
     "text": [
      "Driver [/Users/leuzinger/.wdm/drivers/chromedriver/mac64/92.0.4515.107/chromedriver] found in cache\n",
      "INFO:WDM:Driver [/Users/leuzinger/.wdm/drivers/chromedriver/mac64/92.0.4515.107/chromedriver] found in cache\n",
      "\n",
      "\n",
      "INFO:WDM:\n",
      "\n",
      "====== WebDriver manager ======\n",
      "INFO:WDM:====== WebDriver manager ======\n",
      "Current google-chrome version is 92.0.4515\n",
      "INFO:WDM:Current google-chrome version is 92.0.4515\n",
      "Get LATEST driver version for 92.0.4515\n",
      "INFO:WDM:Get LATEST driver version for 92.0.4515\n"
     ]
    },
    {
     "name": "stdout",
     "output_type": "stream",
     "text": [
      "ELET6 OK\n"
     ]
    },
    {
     "name": "stderr",
     "output_type": "stream",
     "text": [
      "Driver [/Users/leuzinger/.wdm/drivers/chromedriver/mac64/92.0.4515.107/chromedriver] found in cache\n",
      "INFO:WDM:Driver [/Users/leuzinger/.wdm/drivers/chromedriver/mac64/92.0.4515.107/chromedriver] found in cache\n",
      "\n",
      "\n",
      "INFO:WDM:\n",
      "\n",
      "====== WebDriver manager ======\n",
      "INFO:WDM:====== WebDriver manager ======\n",
      "Current google-chrome version is 92.0.4515\n",
      "INFO:WDM:Current google-chrome version is 92.0.4515\n",
      "Get LATEST driver version for 92.0.4515\n",
      "INFO:WDM:Get LATEST driver version for 92.0.4515\n"
     ]
    },
    {
     "name": "stdout",
     "output_type": "stream",
     "text": [
      "ELMD3 OK\n"
     ]
    },
    {
     "name": "stderr",
     "output_type": "stream",
     "text": [
      "Driver [/Users/leuzinger/.wdm/drivers/chromedriver/mac64/92.0.4515.107/chromedriver] found in cache\n",
      "INFO:WDM:Driver [/Users/leuzinger/.wdm/drivers/chromedriver/mac64/92.0.4515.107/chromedriver] found in cache\n",
      "\n",
      "\n",
      "INFO:WDM:\n",
      "\n",
      "====== WebDriver manager ======\n",
      "INFO:WDM:====== WebDriver manager ======\n",
      "Current google-chrome version is 92.0.4515\n",
      "INFO:WDM:Current google-chrome version is 92.0.4515\n",
      "Get LATEST driver version for 92.0.4515\n",
      "INFO:WDM:Get LATEST driver version for 92.0.4515\n"
     ]
    },
    {
     "name": "stdout",
     "output_type": "stream",
     "text": [
      "ELPL3 OK\n"
     ]
    },
    {
     "name": "stderr",
     "output_type": "stream",
     "text": [
      "Driver [/Users/leuzinger/.wdm/drivers/chromedriver/mac64/92.0.4515.107/chromedriver] found in cache\n",
      "INFO:WDM:Driver [/Users/leuzinger/.wdm/drivers/chromedriver/mac64/92.0.4515.107/chromedriver] found in cache\n",
      "\n",
      "\n",
      "INFO:WDM:\n",
      "\n",
      "====== WebDriver manager ======\n",
      "INFO:WDM:====== WebDriver manager ======\n",
      "Current google-chrome version is 92.0.4515\n",
      "INFO:WDM:Current google-chrome version is 92.0.4515\n",
      "Get LATEST driver version for 92.0.4515\n",
      "INFO:WDM:Get LATEST driver version for 92.0.4515\n"
     ]
    },
    {
     "name": "stdout",
     "output_type": "stream",
     "text": [
      "EMAE3 OK\n"
     ]
    },
    {
     "name": "stderr",
     "output_type": "stream",
     "text": [
      "Driver [/Users/leuzinger/.wdm/drivers/chromedriver/mac64/92.0.4515.107/chromedriver] found in cache\n",
      "INFO:WDM:Driver [/Users/leuzinger/.wdm/drivers/chromedriver/mac64/92.0.4515.107/chromedriver] found in cache\n",
      "\n",
      "\n",
      "INFO:WDM:\n",
      "\n",
      "====== WebDriver manager ======\n",
      "INFO:WDM:====== WebDriver manager ======\n",
      "Current google-chrome version is 92.0.4515\n",
      "INFO:WDM:Current google-chrome version is 92.0.4515\n",
      "Get LATEST driver version for 92.0.4515\n",
      "INFO:WDM:Get LATEST driver version for 92.0.4515\n"
     ]
    },
    {
     "name": "stdout",
     "output_type": "stream",
     "text": [
      "EMAE4 OK\n"
     ]
    },
    {
     "name": "stderr",
     "output_type": "stream",
     "text": [
      "Driver [/Users/leuzinger/.wdm/drivers/chromedriver/mac64/92.0.4515.107/chromedriver] found in cache\n",
      "INFO:WDM:Driver [/Users/leuzinger/.wdm/drivers/chromedriver/mac64/92.0.4515.107/chromedriver] found in cache\n",
      "\n",
      "\n",
      "INFO:WDM:\n",
      "\n",
      "====== WebDriver manager ======\n",
      "INFO:WDM:====== WebDriver manager ======\n",
      "Current google-chrome version is 92.0.4515\n",
      "INFO:WDM:Current google-chrome version is 92.0.4515\n",
      "Get LATEST driver version for 92.0.4515\n",
      "INFO:WDM:Get LATEST driver version for 92.0.4515\n"
     ]
    },
    {
     "name": "stdout",
     "output_type": "stream",
     "text": [
      "EMBR3 OK\n"
     ]
    },
    {
     "name": "stderr",
     "output_type": "stream",
     "text": [
      "Driver [/Users/leuzinger/.wdm/drivers/chromedriver/mac64/92.0.4515.107/chromedriver] found in cache\n",
      "INFO:WDM:Driver [/Users/leuzinger/.wdm/drivers/chromedriver/mac64/92.0.4515.107/chromedriver] found in cache\n",
      "\n",
      "\n",
      "INFO:WDM:\n",
      "\n",
      "====== WebDriver manager ======\n",
      "INFO:WDM:====== WebDriver manager ======\n",
      "Current google-chrome version is 92.0.4515\n",
      "INFO:WDM:Current google-chrome version is 92.0.4515\n",
      "Get LATEST driver version for 92.0.4515\n",
      "INFO:WDM:Get LATEST driver version for 92.0.4515\n"
     ]
    },
    {
     "name": "stdout",
     "output_type": "stream",
     "text": [
      "ENAT3 OK\n"
     ]
    },
    {
     "name": "stderr",
     "output_type": "stream",
     "text": [
      "Driver [/Users/leuzinger/.wdm/drivers/chromedriver/mac64/92.0.4515.107/chromedriver] found in cache\n",
      "INFO:WDM:Driver [/Users/leuzinger/.wdm/drivers/chromedriver/mac64/92.0.4515.107/chromedriver] found in cache\n",
      "\n",
      "\n",
      "INFO:WDM:\n",
      "\n",
      "====== WebDriver manager ======\n",
      "INFO:WDM:====== WebDriver manager ======\n",
      "Current google-chrome version is 92.0.4515\n",
      "INFO:WDM:Current google-chrome version is 92.0.4515\n",
      "Get LATEST driver version for 92.0.4515\n",
      "INFO:WDM:Get LATEST driver version for 92.0.4515\n"
     ]
    },
    {
     "name": "stdout",
     "output_type": "stream",
     "text": [
      "ENBR3 OK\n"
     ]
    },
    {
     "name": "stderr",
     "output_type": "stream",
     "text": [
      "Driver [/Users/leuzinger/.wdm/drivers/chromedriver/mac64/92.0.4515.107/chromedriver] found in cache\n",
      "INFO:WDM:Driver [/Users/leuzinger/.wdm/drivers/chromedriver/mac64/92.0.4515.107/chromedriver] found in cache\n",
      "\n",
      "\n",
      "INFO:WDM:\n",
      "\n",
      "====== WebDriver manager ======\n",
      "INFO:WDM:====== WebDriver manager ======\n",
      "Current google-chrome version is 92.0.4515\n",
      "INFO:WDM:Current google-chrome version is 92.0.4515\n",
      "Get LATEST driver version for 92.0.4515\n",
      "INFO:WDM:Get LATEST driver version for 92.0.4515\n"
     ]
    },
    {
     "name": "stdout",
     "output_type": "stream",
     "text": [
      "ENEV3 OK\n"
     ]
    },
    {
     "name": "stderr",
     "output_type": "stream",
     "text": [
      "Driver [/Users/leuzinger/.wdm/drivers/chromedriver/mac64/92.0.4515.107/chromedriver] found in cache\n",
      "INFO:WDM:Driver [/Users/leuzinger/.wdm/drivers/chromedriver/mac64/92.0.4515.107/chromedriver] found in cache\n",
      "\n",
      "\n",
      "INFO:WDM:\n",
      "\n",
      "====== WebDriver manager ======\n",
      "INFO:WDM:====== WebDriver manager ======\n",
      "Current google-chrome version is 92.0.4515\n",
      "INFO:WDM:Current google-chrome version is 92.0.4515\n",
      "Get LATEST driver version for 92.0.4515\n",
      "INFO:WDM:Get LATEST driver version for 92.0.4515\n"
     ]
    },
    {
     "name": "stdout",
     "output_type": "stream",
     "text": [
      "ENGI11 OK\n"
     ]
    },
    {
     "name": "stderr",
     "output_type": "stream",
     "text": [
      "Driver [/Users/leuzinger/.wdm/drivers/chromedriver/mac64/92.0.4515.107/chromedriver] found in cache\n",
      "INFO:WDM:Driver [/Users/leuzinger/.wdm/drivers/chromedriver/mac64/92.0.4515.107/chromedriver] found in cache\n",
      "\n",
      "\n",
      "INFO:WDM:\n",
      "\n",
      "====== WebDriver manager ======\n",
      "INFO:WDM:====== WebDriver manager ======\n",
      "Current google-chrome version is 92.0.4515\n",
      "INFO:WDM:Current google-chrome version is 92.0.4515\n",
      "Get LATEST driver version for 92.0.4515\n",
      "INFO:WDM:Get LATEST driver version for 92.0.4515\n"
     ]
    },
    {
     "name": "stdout",
     "output_type": "stream",
     "text": [
      "ENGI3 OK\n"
     ]
    },
    {
     "name": "stderr",
     "output_type": "stream",
     "text": [
      "Driver [/Users/leuzinger/.wdm/drivers/chromedriver/mac64/92.0.4515.107/chromedriver] found in cache\n",
      "INFO:WDM:Driver [/Users/leuzinger/.wdm/drivers/chromedriver/mac64/92.0.4515.107/chromedriver] found in cache\n",
      "\n",
      "\n",
      "INFO:WDM:\n",
      "\n",
      "====== WebDriver manager ======\n",
      "INFO:WDM:====== WebDriver manager ======\n",
      "Current google-chrome version is 92.0.4515\n",
      "INFO:WDM:Current google-chrome version is 92.0.4515\n",
      "Get LATEST driver version for 92.0.4515\n",
      "INFO:WDM:Get LATEST driver version for 92.0.4515\n"
     ]
    },
    {
     "name": "stdout",
     "output_type": "stream",
     "text": [
      "ENGI4 OK\n"
     ]
    },
    {
     "name": "stderr",
     "output_type": "stream",
     "text": [
      "Driver [/Users/leuzinger/.wdm/drivers/chromedriver/mac64/92.0.4515.107/chromedriver] found in cache\n",
      "INFO:WDM:Driver [/Users/leuzinger/.wdm/drivers/chromedriver/mac64/92.0.4515.107/chromedriver] found in cache\n",
      "\n",
      "\n",
      "INFO:WDM:\n",
      "\n",
      "====== WebDriver manager ======\n",
      "INFO:WDM:====== WebDriver manager ======\n",
      "Current google-chrome version is 92.0.4515\n",
      "INFO:WDM:Current google-chrome version is 92.0.4515\n",
      "Get LATEST driver version for 92.0.4515\n",
      "INFO:WDM:Get LATEST driver version for 92.0.4515\n"
     ]
    },
    {
     "name": "stdout",
     "output_type": "stream",
     "text": [
      "ENJU3 OK\n"
     ]
    },
    {
     "name": "stderr",
     "output_type": "stream",
     "text": [
      "Driver [/Users/leuzinger/.wdm/drivers/chromedriver/mac64/92.0.4515.107/chromedriver] found in cache\n",
      "INFO:WDM:Driver [/Users/leuzinger/.wdm/drivers/chromedriver/mac64/92.0.4515.107/chromedriver] found in cache\n",
      "\n",
      "\n",
      "INFO:WDM:\n",
      "\n",
      "====== WebDriver manager ======\n",
      "INFO:WDM:====== WebDriver manager ======\n",
      "Current google-chrome version is 92.0.4515\n",
      "INFO:WDM:Current google-chrome version is 92.0.4515\n",
      "Get LATEST driver version for 92.0.4515\n",
      "INFO:WDM:Get LATEST driver version for 92.0.4515\n"
     ]
    },
    {
     "name": "stdout",
     "output_type": "stream",
     "text": [
      "ENMA3B OK\n"
     ]
    },
    {
     "name": "stderr",
     "output_type": "stream",
     "text": [
      "Driver [/Users/leuzinger/.wdm/drivers/chromedriver/mac64/92.0.4515.107/chromedriver] found in cache\n",
      "INFO:WDM:Driver [/Users/leuzinger/.wdm/drivers/chromedriver/mac64/92.0.4515.107/chromedriver] found in cache\n",
      "\n",
      "\n",
      "INFO:WDM:\n",
      "\n",
      "====== WebDriver manager ======\n",
      "INFO:WDM:====== WebDriver manager ======\n",
      "Current google-chrome version is 92.0.4515\n",
      "INFO:WDM:Current google-chrome version is 92.0.4515\n",
      "Get LATEST driver version for 92.0.4515\n",
      "INFO:WDM:Get LATEST driver version for 92.0.4515\n"
     ]
    },
    {
     "name": "stdout",
     "output_type": "stream",
     "text": [
      "ENMA6B OK\n"
     ]
    },
    {
     "name": "stderr",
     "output_type": "stream",
     "text": [
      "Driver [/Users/leuzinger/.wdm/drivers/chromedriver/mac64/92.0.4515.107/chromedriver] found in cache\n",
      "INFO:WDM:Driver [/Users/leuzinger/.wdm/drivers/chromedriver/mac64/92.0.4515.107/chromedriver] found in cache\n",
      "\n",
      "\n",
      "INFO:WDM:\n",
      "\n",
      "====== WebDriver manager ======\n",
      "INFO:WDM:====== WebDriver manager ======\n",
      "Current google-chrome version is 92.0.4515\n",
      "INFO:WDM:Current google-chrome version is 92.0.4515\n",
      "Get LATEST driver version for 92.0.4515\n",
      "INFO:WDM:Get LATEST driver version for 92.0.4515\n"
     ]
    },
    {
     "name": "stdout",
     "output_type": "stream",
     "text": [
      "ENMT3 OK\n"
     ]
    },
    {
     "name": "stderr",
     "output_type": "stream",
     "text": [
      "Driver [/Users/leuzinger/.wdm/drivers/chromedriver/mac64/92.0.4515.107/chromedriver] found in cache\n",
      "INFO:WDM:Driver [/Users/leuzinger/.wdm/drivers/chromedriver/mac64/92.0.4515.107/chromedriver] found in cache\n",
      "\n",
      "\n",
      "INFO:WDM:\n",
      "\n",
      "====== WebDriver manager ======\n",
      "INFO:WDM:====== WebDriver manager ======\n",
      "Current google-chrome version is 92.0.4515\n",
      "INFO:WDM:Current google-chrome version is 92.0.4515\n",
      "Get LATEST driver version for 92.0.4515\n",
      "INFO:WDM:Get LATEST driver version for 92.0.4515\n"
     ]
    },
    {
     "name": "stdout",
     "output_type": "stream",
     "text": [
      "ENMT4 OK\n"
     ]
    },
    {
     "name": "stderr",
     "output_type": "stream",
     "text": [
      "Driver [/Users/leuzinger/.wdm/drivers/chromedriver/mac64/92.0.4515.107/chromedriver] found in cache\n",
      "INFO:WDM:Driver [/Users/leuzinger/.wdm/drivers/chromedriver/mac64/92.0.4515.107/chromedriver] found in cache\n",
      "\n",
      "\n",
      "INFO:WDM:\n",
      "\n",
      "====== WebDriver manager ======\n",
      "INFO:WDM:====== WebDriver manager ======\n",
      "Current google-chrome version is 92.0.4515\n",
      "INFO:WDM:Current google-chrome version is 92.0.4515\n",
      "Get LATEST driver version for 92.0.4515\n",
      "INFO:WDM:Get LATEST driver version for 92.0.4515\n"
     ]
    },
    {
     "name": "stdout",
     "output_type": "stream",
     "text": [
      "EPAR3 OK\n"
     ]
    },
    {
     "name": "stderr",
     "output_type": "stream",
     "text": [
      "Driver [/Users/leuzinger/.wdm/drivers/chromedriver/mac64/92.0.4515.107/chromedriver] found in cache\n",
      "INFO:WDM:Driver [/Users/leuzinger/.wdm/drivers/chromedriver/mac64/92.0.4515.107/chromedriver] found in cache\n",
      "\n",
      "\n",
      "INFO:WDM:\n",
      "\n",
      "====== WebDriver manager ======\n",
      "INFO:WDM:====== WebDriver manager ======\n",
      "Current google-chrome version is 92.0.4515\n",
      "INFO:WDM:Current google-chrome version is 92.0.4515\n",
      "Get LATEST driver version for 92.0.4515\n",
      "INFO:WDM:Get LATEST driver version for 92.0.4515\n"
     ]
    },
    {
     "name": "stdout",
     "output_type": "stream",
     "text": [
      "EQPA3 OK\n"
     ]
    },
    {
     "name": "stderr",
     "output_type": "stream",
     "text": [
      "Driver [/Users/leuzinger/.wdm/drivers/chromedriver/mac64/92.0.4515.107/chromedriver] found in cache\n",
      "INFO:WDM:Driver [/Users/leuzinger/.wdm/drivers/chromedriver/mac64/92.0.4515.107/chromedriver] found in cache\n",
      "\n",
      "\n",
      "INFO:WDM:\n",
      "\n",
      "====== WebDriver manager ======\n",
      "INFO:WDM:====== WebDriver manager ======\n",
      "Current google-chrome version is 92.0.4515\n",
      "INFO:WDM:Current google-chrome version is 92.0.4515\n",
      "Get LATEST driver version for 92.0.4515\n",
      "INFO:WDM:Get LATEST driver version for 92.0.4515\n"
     ]
    },
    {
     "name": "stdout",
     "output_type": "stream",
     "text": [
      "EQPA5 OK\n"
     ]
    },
    {
     "name": "stderr",
     "output_type": "stream",
     "text": [
      "Driver [/Users/leuzinger/.wdm/drivers/chromedriver/mac64/92.0.4515.107/chromedriver] found in cache\n",
      "INFO:WDM:Driver [/Users/leuzinger/.wdm/drivers/chromedriver/mac64/92.0.4515.107/chromedriver] found in cache\n",
      "\n",
      "\n",
      "INFO:WDM:\n",
      "\n",
      "====== WebDriver manager ======\n",
      "INFO:WDM:====== WebDriver manager ======\n",
      "Current google-chrome version is 92.0.4515\n",
      "INFO:WDM:Current google-chrome version is 92.0.4515\n",
      "Get LATEST driver version for 92.0.4515\n",
      "INFO:WDM:Get LATEST driver version for 92.0.4515\n"
     ]
    },
    {
     "name": "stdout",
     "output_type": "stream",
     "text": [
      "EQPA6 OK\n"
     ]
    },
    {
     "name": "stderr",
     "output_type": "stream",
     "text": [
      "Driver [/Users/leuzinger/.wdm/drivers/chromedriver/mac64/92.0.4515.107/chromedriver] found in cache\n",
      "INFO:WDM:Driver [/Users/leuzinger/.wdm/drivers/chromedriver/mac64/92.0.4515.107/chromedriver] found in cache\n",
      "\n",
      "\n",
      "INFO:WDM:\n",
      "\n",
      "====== WebDriver manager ======\n",
      "INFO:WDM:====== WebDriver manager ======\n",
      "Current google-chrome version is 92.0.4515\n",
      "INFO:WDM:Current google-chrome version is 92.0.4515\n",
      "Get LATEST driver version for 92.0.4515\n",
      "INFO:WDM:Get LATEST driver version for 92.0.4515\n"
     ]
    },
    {
     "name": "stdout",
     "output_type": "stream",
     "text": [
      "EQPA7 OK\n"
     ]
    },
    {
     "name": "stderr",
     "output_type": "stream",
     "text": [
      "Driver [/Users/leuzinger/.wdm/drivers/chromedriver/mac64/92.0.4515.107/chromedriver] found in cache\n",
      "INFO:WDM:Driver [/Users/leuzinger/.wdm/drivers/chromedriver/mac64/92.0.4515.107/chromedriver] found in cache\n",
      "\n",
      "\n",
      "INFO:WDM:\n",
      "\n",
      "====== WebDriver manager ======\n",
      "INFO:WDM:====== WebDriver manager ======\n",
      "Current google-chrome version is 92.0.4515\n",
      "INFO:WDM:Current google-chrome version is 92.0.4515\n",
      "Get LATEST driver version for 92.0.4515\n",
      "INFO:WDM:Get LATEST driver version for 92.0.4515\n"
     ]
    },
    {
     "name": "stdout",
     "output_type": "stream",
     "text": [
      "EQTL3 OK\n"
     ]
    },
    {
     "name": "stderr",
     "output_type": "stream",
     "text": [
      "Driver [/Users/leuzinger/.wdm/drivers/chromedriver/mac64/92.0.4515.107/chromedriver] found in cache\n",
      "INFO:WDM:Driver [/Users/leuzinger/.wdm/drivers/chromedriver/mac64/92.0.4515.107/chromedriver] found in cache\n",
      "\n",
      "\n",
      "INFO:WDM:\n",
      "\n",
      "====== WebDriver manager ======\n",
      "INFO:WDM:====== WebDriver manager ======\n",
      "Current google-chrome version is 92.0.4515\n",
      "INFO:WDM:Current google-chrome version is 92.0.4515\n",
      "Get LATEST driver version for 92.0.4515\n",
      "INFO:WDM:Get LATEST driver version for 92.0.4515\n"
     ]
    },
    {
     "name": "stdout",
     "output_type": "stream",
     "text": [
      "ESPA3 OK\n"
     ]
    },
    {
     "name": "stderr",
     "output_type": "stream",
     "text": [
      "Driver [/Users/leuzinger/.wdm/drivers/chromedriver/mac64/92.0.4515.107/chromedriver] found in cache\n",
      "INFO:WDM:Driver [/Users/leuzinger/.wdm/drivers/chromedriver/mac64/92.0.4515.107/chromedriver] found in cache\n",
      "\n",
      "\n",
      "INFO:WDM:\n",
      "\n",
      "====== WebDriver manager ======\n",
      "INFO:WDM:====== WebDriver manager ======\n",
      "Current google-chrome version is 92.0.4515\n",
      "INFO:WDM:Current google-chrome version is 92.0.4515\n",
      "Get LATEST driver version for 92.0.4515\n",
      "INFO:WDM:Get LATEST driver version for 92.0.4515\n"
     ]
    },
    {
     "name": "stdout",
     "output_type": "stream",
     "text": [
      "ESTR3 OK\n"
     ]
    },
    {
     "name": "stderr",
     "output_type": "stream",
     "text": [
      "Driver [/Users/leuzinger/.wdm/drivers/chromedriver/mac64/92.0.4515.107/chromedriver] found in cache\n",
      "INFO:WDM:Driver [/Users/leuzinger/.wdm/drivers/chromedriver/mac64/92.0.4515.107/chromedriver] found in cache\n",
      "\n",
      "\n",
      "INFO:WDM:\n",
      "\n",
      "====== WebDriver manager ======\n",
      "INFO:WDM:====== WebDriver manager ======\n",
      "Current google-chrome version is 92.0.4515\n",
      "INFO:WDM:Current google-chrome version is 92.0.4515\n",
      "Get LATEST driver version for 92.0.4515\n",
      "INFO:WDM:Get LATEST driver version for 92.0.4515\n"
     ]
    },
    {
     "name": "stdout",
     "output_type": "stream",
     "text": [
      "ESTR4 OK\n"
     ]
    },
    {
     "name": "stderr",
     "output_type": "stream",
     "text": [
      "Driver [/Users/leuzinger/.wdm/drivers/chromedriver/mac64/92.0.4515.107/chromedriver] found in cache\n",
      "INFO:WDM:Driver [/Users/leuzinger/.wdm/drivers/chromedriver/mac64/92.0.4515.107/chromedriver] found in cache\n",
      "\n",
      "\n",
      "INFO:WDM:\n",
      "\n",
      "====== WebDriver manager ======\n",
      "INFO:WDM:====== WebDriver manager ======\n",
      "Current google-chrome version is 92.0.4515\n",
      "INFO:WDM:Current google-chrome version is 92.0.4515\n",
      "Get LATEST driver version for 92.0.4515\n",
      "INFO:WDM:Get LATEST driver version for 92.0.4515\n"
     ]
    },
    {
     "name": "stdout",
     "output_type": "stream",
     "text": [
      "ETER3 OK\n"
     ]
    },
    {
     "name": "stderr",
     "output_type": "stream",
     "text": [
      "Driver [/Users/leuzinger/.wdm/drivers/chromedriver/mac64/92.0.4515.107/chromedriver] found in cache\n",
      "INFO:WDM:Driver [/Users/leuzinger/.wdm/drivers/chromedriver/mac64/92.0.4515.107/chromedriver] found in cache\n",
      "\n",
      "\n",
      "INFO:WDM:\n",
      "\n",
      "====== WebDriver manager ======\n",
      "INFO:WDM:====== WebDriver manager ======\n",
      "Current google-chrome version is 92.0.4515\n",
      "INFO:WDM:Current google-chrome version is 92.0.4515\n",
      "Get LATEST driver version for 92.0.4515\n",
      "INFO:WDM:Get LATEST driver version for 92.0.4515\n"
     ]
    },
    {
     "name": "stdout",
     "output_type": "stream",
     "text": [
      "EUCA3 OK\n"
     ]
    },
    {
     "name": "stderr",
     "output_type": "stream",
     "text": [
      "Driver [/Users/leuzinger/.wdm/drivers/chromedriver/mac64/92.0.4515.107/chromedriver] found in cache\n",
      "INFO:WDM:Driver [/Users/leuzinger/.wdm/drivers/chromedriver/mac64/92.0.4515.107/chromedriver] found in cache\n",
      "\n",
      "\n",
      "INFO:WDM:\n",
      "\n",
      "====== WebDriver manager ======\n",
      "INFO:WDM:====== WebDriver manager ======\n",
      "Current google-chrome version is 92.0.4515\n",
      "INFO:WDM:Current google-chrome version is 92.0.4515\n",
      "Get LATEST driver version for 92.0.4515\n",
      "INFO:WDM:Get LATEST driver version for 92.0.4515\n"
     ]
    },
    {
     "name": "stdout",
     "output_type": "stream",
     "text": [
      "EUCA4 OK\n"
     ]
    },
    {
     "name": "stderr",
     "output_type": "stream",
     "text": [
      "Driver [/Users/leuzinger/.wdm/drivers/chromedriver/mac64/92.0.4515.107/chromedriver] found in cache\n",
      "INFO:WDM:Driver [/Users/leuzinger/.wdm/drivers/chromedriver/mac64/92.0.4515.107/chromedriver] found in cache\n",
      "\n",
      "\n",
      "INFO:WDM:\n",
      "\n",
      "====== WebDriver manager ======\n",
      "INFO:WDM:====== WebDriver manager ======\n",
      "Current google-chrome version is 92.0.4515\n",
      "INFO:WDM:Current google-chrome version is 92.0.4515\n",
      "Get LATEST driver version for 92.0.4515\n",
      "INFO:WDM:Get LATEST driver version for 92.0.4515\n"
     ]
    },
    {
     "name": "stdout",
     "output_type": "stream",
     "text": [
      "EVEN3 OK\n"
     ]
    },
    {
     "name": "stderr",
     "output_type": "stream",
     "text": [
      "Driver [/Users/leuzinger/.wdm/drivers/chromedriver/mac64/92.0.4515.107/chromedriver] found in cache\n",
      "INFO:WDM:Driver [/Users/leuzinger/.wdm/drivers/chromedriver/mac64/92.0.4515.107/chromedriver] found in cache\n",
      "\n",
      "\n",
      "INFO:WDM:\n",
      "\n",
      "====== WebDriver manager ======\n",
      "INFO:WDM:====== WebDriver manager ======\n",
      "Current google-chrome version is 92.0.4515\n",
      "INFO:WDM:Current google-chrome version is 92.0.4515\n",
      "Get LATEST driver version for 92.0.4515\n",
      "INFO:WDM:Get LATEST driver version for 92.0.4515\n"
     ]
    },
    {
     "name": "stdout",
     "output_type": "stream",
     "text": [
      "EZTC3 OK\n"
     ]
    },
    {
     "name": "stderr",
     "output_type": "stream",
     "text": [
      "Driver [/Users/leuzinger/.wdm/drivers/chromedriver/mac64/92.0.4515.107/chromedriver] found in cache\n",
      "INFO:WDM:Driver [/Users/leuzinger/.wdm/drivers/chromedriver/mac64/92.0.4515.107/chromedriver] found in cache\n",
      "\n",
      "\n",
      "INFO:WDM:\n",
      "\n",
      "====== WebDriver manager ======\n",
      "INFO:WDM:====== WebDriver manager ======\n",
      "Current google-chrome version is 92.0.4515\n",
      "INFO:WDM:Current google-chrome version is 92.0.4515\n",
      "Get LATEST driver version for 92.0.4515\n",
      "INFO:WDM:Get LATEST driver version for 92.0.4515\n"
     ]
    },
    {
     "name": "stdout",
     "output_type": "stream",
     "text": [
      "FBMC3 OK\n"
     ]
    },
    {
     "name": "stderr",
     "output_type": "stream",
     "text": [
      "Driver [/Users/leuzinger/.wdm/drivers/chromedriver/mac64/92.0.4515.107/chromedriver] found in cache\n",
      "INFO:WDM:Driver [/Users/leuzinger/.wdm/drivers/chromedriver/mac64/92.0.4515.107/chromedriver] found in cache\n",
      "\n",
      "\n",
      "INFO:WDM:\n",
      "\n",
      "====== WebDriver manager ======\n",
      "INFO:WDM:====== WebDriver manager ======\n",
      "Current google-chrome version is 92.0.4515\n",
      "INFO:WDM:Current google-chrome version is 92.0.4515\n",
      "Get LATEST driver version for 92.0.4515\n",
      "INFO:WDM:Get LATEST driver version for 92.0.4515\n"
     ]
    },
    {
     "name": "stdout",
     "output_type": "stream",
     "text": [
      "FBMC4 OK\n"
     ]
    },
    {
     "name": "stderr",
     "output_type": "stream",
     "text": [
      "Driver [/Users/leuzinger/.wdm/drivers/chromedriver/mac64/92.0.4515.107/chromedriver] found in cache\n",
      "INFO:WDM:Driver [/Users/leuzinger/.wdm/drivers/chromedriver/mac64/92.0.4515.107/chromedriver] found in cache\n",
      "\n",
      "\n",
      "INFO:WDM:\n",
      "\n",
      "====== WebDriver manager ======\n",
      "INFO:WDM:====== WebDriver manager ======\n",
      "Current google-chrome version is 92.0.4515\n",
      "INFO:WDM:Current google-chrome version is 92.0.4515\n",
      "Get LATEST driver version for 92.0.4515\n",
      "INFO:WDM:Get LATEST driver version for 92.0.4515\n"
     ]
    },
    {
     "name": "stdout",
     "output_type": "stream",
     "text": [
      "FESA3 OK\n"
     ]
    },
    {
     "name": "stderr",
     "output_type": "stream",
     "text": [
      "Driver [/Users/leuzinger/.wdm/drivers/chromedriver/mac64/92.0.4515.107/chromedriver] found in cache\n",
      "INFO:WDM:Driver [/Users/leuzinger/.wdm/drivers/chromedriver/mac64/92.0.4515.107/chromedriver] found in cache\n",
      "\n",
      "\n",
      "INFO:WDM:\n",
      "\n",
      "====== WebDriver manager ======\n",
      "INFO:WDM:====== WebDriver manager ======\n",
      "Current google-chrome version is 92.0.4515\n",
      "INFO:WDM:Current google-chrome version is 92.0.4515\n",
      "Get LATEST driver version for 92.0.4515\n",
      "INFO:WDM:Get LATEST driver version for 92.0.4515\n"
     ]
    },
    {
     "name": "stdout",
     "output_type": "stream",
     "text": [
      "FESA4 OK\n"
     ]
    },
    {
     "name": "stderr",
     "output_type": "stream",
     "text": [
      "Driver [/Users/leuzinger/.wdm/drivers/chromedriver/mac64/92.0.4515.107/chromedriver] found in cache\n",
      "INFO:WDM:Driver [/Users/leuzinger/.wdm/drivers/chromedriver/mac64/92.0.4515.107/chromedriver] found in cache\n",
      "\n",
      "\n",
      "INFO:WDM:\n",
      "\n",
      "====== WebDriver manager ======\n",
      "INFO:WDM:====== WebDriver manager ======\n",
      "Current google-chrome version is 92.0.4515\n",
      "INFO:WDM:Current google-chrome version is 92.0.4515\n",
      "Get LATEST driver version for 92.0.4515\n",
      "INFO:WDM:Get LATEST driver version for 92.0.4515\n"
     ]
    },
    {
     "name": "stdout",
     "output_type": "stream",
     "text": [
      "FHER3 OK\n"
     ]
    },
    {
     "name": "stderr",
     "output_type": "stream",
     "text": [
      "Driver [/Users/leuzinger/.wdm/drivers/chromedriver/mac64/92.0.4515.107/chromedriver] found in cache\n",
      "INFO:WDM:Driver [/Users/leuzinger/.wdm/drivers/chromedriver/mac64/92.0.4515.107/chromedriver] found in cache\n",
      "\n",
      "\n",
      "INFO:WDM:\n",
      "\n",
      "====== WebDriver manager ======\n",
      "INFO:WDM:====== WebDriver manager ======\n",
      "Current google-chrome version is 92.0.4515\n",
      "INFO:WDM:Current google-chrome version is 92.0.4515\n",
      "Get LATEST driver version for 92.0.4515\n",
      "INFO:WDM:Get LATEST driver version for 92.0.4515\n"
     ]
    },
    {
     "name": "stdout",
     "output_type": "stream",
     "text": [
      "FIGE3 OK\n"
     ]
    },
    {
     "name": "stderr",
     "output_type": "stream",
     "text": [
      "Driver [/Users/leuzinger/.wdm/drivers/chromedriver/mac64/92.0.4515.107/chromedriver] found in cache\n",
      "INFO:WDM:Driver [/Users/leuzinger/.wdm/drivers/chromedriver/mac64/92.0.4515.107/chromedriver] found in cache\n",
      "\n",
      "\n",
      "INFO:WDM:\n",
      "\n",
      "====== WebDriver manager ======\n",
      "INFO:WDM:====== WebDriver manager ======\n",
      "Current google-chrome version is 92.0.4515\n",
      "INFO:WDM:Current google-chrome version is 92.0.4515\n",
      "Get LATEST driver version for 92.0.4515\n",
      "INFO:WDM:Get LATEST driver version for 92.0.4515\n"
     ]
    },
    {
     "name": "stdout",
     "output_type": "stream",
     "text": [
      "FIGE4 OK\n"
     ]
    },
    {
     "name": "stderr",
     "output_type": "stream",
     "text": [
      "Driver [/Users/leuzinger/.wdm/drivers/chromedriver/mac64/92.0.4515.107/chromedriver] found in cache\n",
      "INFO:WDM:Driver [/Users/leuzinger/.wdm/drivers/chromedriver/mac64/92.0.4515.107/chromedriver] found in cache\n",
      "\n",
      "\n",
      "INFO:WDM:\n",
      "\n",
      "====== WebDriver manager ======\n",
      "INFO:WDM:====== WebDriver manager ======\n",
      "Current google-chrome version is 92.0.4515\n",
      "INFO:WDM:Current google-chrome version is 92.0.4515\n",
      "Get LATEST driver version for 92.0.4515\n",
      "INFO:WDM:Get LATEST driver version for 92.0.4515\n"
     ]
    },
    {
     "name": "stdout",
     "output_type": "stream",
     "text": [
      "FLEX3 OK\n"
     ]
    },
    {
     "name": "stderr",
     "output_type": "stream",
     "text": [
      "Driver [/Users/leuzinger/.wdm/drivers/chromedriver/mac64/92.0.4515.107/chromedriver] found in cache\n",
      "INFO:WDM:Driver [/Users/leuzinger/.wdm/drivers/chromedriver/mac64/92.0.4515.107/chromedriver] found in cache\n",
      "\n",
      "\n",
      "INFO:WDM:\n",
      "\n",
      "====== WebDriver manager ======\n",
      "INFO:WDM:====== WebDriver manager ======\n",
      "Current google-chrome version is 92.0.4515\n",
      "INFO:WDM:Current google-chrome version is 92.0.4515\n",
      "Get LATEST driver version for 92.0.4515\n",
      "INFO:WDM:Get LATEST driver version for 92.0.4515\n"
     ]
    },
    {
     "name": "stdout",
     "output_type": "stream",
     "text": [
      "FLRY3 OK\n"
     ]
    },
    {
     "name": "stderr",
     "output_type": "stream",
     "text": [
      "Driver [/Users/leuzinger/.wdm/drivers/chromedriver/mac64/92.0.4515.107/chromedriver] found in cache\n",
      "INFO:WDM:Driver [/Users/leuzinger/.wdm/drivers/chromedriver/mac64/92.0.4515.107/chromedriver] found in cache\n",
      "\n",
      "\n",
      "INFO:WDM:\n",
      "\n",
      "====== WebDriver manager ======\n",
      "INFO:WDM:====== WebDriver manager ======\n",
      "Current google-chrome version is 92.0.4515\n",
      "INFO:WDM:Current google-chrome version is 92.0.4515\n",
      "Get LATEST driver version for 92.0.4515\n",
      "INFO:WDM:Get LATEST driver version for 92.0.4515\n"
     ]
    },
    {
     "name": "stdout",
     "output_type": "stream",
     "text": [
      "FNCN3 OK\n"
     ]
    },
    {
     "name": "stderr",
     "output_type": "stream",
     "text": [
      "Driver [/Users/leuzinger/.wdm/drivers/chromedriver/mac64/92.0.4515.107/chromedriver] found in cache\n",
      "INFO:WDM:Driver [/Users/leuzinger/.wdm/drivers/chromedriver/mac64/92.0.4515.107/chromedriver] found in cache\n",
      "\n",
      "\n",
      "INFO:WDM:\n",
      "\n",
      "====== WebDriver manager ======\n",
      "INFO:WDM:====== WebDriver manager ======\n",
      "Current google-chrome version is 92.0.4515\n",
      "INFO:WDM:Current google-chrome version is 92.0.4515\n",
      "Get LATEST driver version for 92.0.4515\n",
      "INFO:WDM:Get LATEST driver version for 92.0.4515\n"
     ]
    },
    {
     "name": "stdout",
     "output_type": "stream",
     "text": [
      "FRAS3 OK\n"
     ]
    },
    {
     "name": "stderr",
     "output_type": "stream",
     "text": [
      "Driver [/Users/leuzinger/.wdm/drivers/chromedriver/mac64/92.0.4515.107/chromedriver] found in cache\n",
      "INFO:WDM:Driver [/Users/leuzinger/.wdm/drivers/chromedriver/mac64/92.0.4515.107/chromedriver] found in cache\n",
      "\n",
      "\n",
      "INFO:WDM:\n",
      "\n",
      "====== WebDriver manager ======\n",
      "INFO:WDM:====== WebDriver manager ======\n",
      "Current google-chrome version is 92.0.4515\n",
      "INFO:WDM:Current google-chrome version is 92.0.4515\n",
      "Get LATEST driver version for 92.0.4515\n",
      "INFO:WDM:Get LATEST driver version for 92.0.4515\n"
     ]
    },
    {
     "name": "stdout",
     "output_type": "stream",
     "text": [
      "FRIO3 OK\n"
     ]
    },
    {
     "name": "stderr",
     "output_type": "stream",
     "text": [
      "Driver [/Users/leuzinger/.wdm/drivers/chromedriver/mac64/92.0.4515.107/chromedriver] found in cache\n",
      "INFO:WDM:Driver [/Users/leuzinger/.wdm/drivers/chromedriver/mac64/92.0.4515.107/chromedriver] found in cache\n",
      "\n",
      "\n",
      "INFO:WDM:\n",
      "\n",
      "====== WebDriver manager ======\n",
      "INFO:WDM:====== WebDriver manager ======\n",
      "Current google-chrome version is 92.0.4515\n",
      "INFO:WDM:Current google-chrome version is 92.0.4515\n",
      "Get LATEST driver version for 92.0.4515\n",
      "INFO:WDM:Get LATEST driver version for 92.0.4515\n"
     ]
    },
    {
     "name": "stdout",
     "output_type": "stream",
     "text": [
      "FRTA3 OK\n"
     ]
    },
    {
     "name": "stderr",
     "output_type": "stream",
     "text": [
      "Driver [/Users/leuzinger/.wdm/drivers/chromedriver/mac64/92.0.4515.107/chromedriver] found in cache\n",
      "INFO:WDM:Driver [/Users/leuzinger/.wdm/drivers/chromedriver/mac64/92.0.4515.107/chromedriver] found in cache\n",
      "\n",
      "\n",
      "INFO:WDM:\n",
      "\n",
      "====== WebDriver manager ======\n",
      "INFO:WDM:====== WebDriver manager ======\n",
      "Current google-chrome version is 92.0.4515\n",
      "INFO:WDM:Current google-chrome version is 92.0.4515\n",
      "Get LATEST driver version for 92.0.4515\n",
      "INFO:WDM:Get LATEST driver version for 92.0.4515\n"
     ]
    },
    {
     "name": "stdout",
     "output_type": "stream",
     "text": [
      "FTRT3B OK\n"
     ]
    },
    {
     "name": "stderr",
     "output_type": "stream",
     "text": [
      "Driver [/Users/leuzinger/.wdm/drivers/chromedriver/mac64/92.0.4515.107/chromedriver] found in cache\n",
      "INFO:WDM:Driver [/Users/leuzinger/.wdm/drivers/chromedriver/mac64/92.0.4515.107/chromedriver] found in cache\n",
      "\n",
      "\n",
      "INFO:WDM:\n",
      "\n",
      "====== WebDriver manager ======\n",
      "INFO:WDM:====== WebDriver manager ======\n",
      "Current google-chrome version is 92.0.4515\n",
      "INFO:WDM:Current google-chrome version is 92.0.4515\n",
      "Get LATEST driver version for 92.0.4515\n",
      "INFO:WDM:Get LATEST driver version for 92.0.4515\n"
     ]
    },
    {
     "name": "stdout",
     "output_type": "stream",
     "text": [
      "G2DI33 OK\n"
     ]
    },
    {
     "name": "stderr",
     "output_type": "stream",
     "text": [
      "Driver [/Users/leuzinger/.wdm/drivers/chromedriver/mac64/92.0.4515.107/chromedriver] found in cache\n",
      "INFO:WDM:Driver [/Users/leuzinger/.wdm/drivers/chromedriver/mac64/92.0.4515.107/chromedriver] found in cache\n",
      "\n",
      "\n",
      "INFO:WDM:\n",
      "\n",
      "====== WebDriver manager ======\n",
      "INFO:WDM:====== WebDriver manager ======\n",
      "Current google-chrome version is 92.0.4515\n",
      "INFO:WDM:Current google-chrome version is 92.0.4515\n",
      "Get LATEST driver version for 92.0.4515\n",
      "INFO:WDM:Get LATEST driver version for 92.0.4515\n",
      "Driver [/Users/leuzinger/.wdm/drivers/chromedriver/mac64/92.0.4515.107/chromedriver] found in cache\n",
      "INFO:WDM:Driver [/Users/leuzinger/.wdm/drivers/chromedriver/mac64/92.0.4515.107/chromedriver] found in cache\n"
     ]
    },
    {
     "name": "stdout",
     "output_type": "stream",
     "text": [
      "GBIO33 OK\n"
     ]
    },
    {
     "name": "stderr",
     "output_type": "stream",
     "text": [
      "\n",
      "\n",
      "INFO:WDM:\n",
      "\n",
      "====== WebDriver manager ======\n",
      "INFO:WDM:====== WebDriver manager ======\n",
      "Current google-chrome version is 92.0.4515\n",
      "INFO:WDM:Current google-chrome version is 92.0.4515\n",
      "Get LATEST driver version for 92.0.4515\n",
      "INFO:WDM:Get LATEST driver version for 92.0.4515\n"
     ]
    },
    {
     "name": "stdout",
     "output_type": "stream",
     "text": [
      "GEPA3 OK\n"
     ]
    },
    {
     "name": "stderr",
     "output_type": "stream",
     "text": [
      "Driver [/Users/leuzinger/.wdm/drivers/chromedriver/mac64/92.0.4515.107/chromedriver] found in cache\n",
      "INFO:WDM:Driver [/Users/leuzinger/.wdm/drivers/chromedriver/mac64/92.0.4515.107/chromedriver] found in cache\n",
      "\n",
      "\n",
      "INFO:WDM:\n",
      "\n",
      "====== WebDriver manager ======\n",
      "INFO:WDM:====== WebDriver manager ======\n",
      "Current google-chrome version is 92.0.4515\n",
      "INFO:WDM:Current google-chrome version is 92.0.4515\n",
      "Get LATEST driver version for 92.0.4515\n",
      "INFO:WDM:Get LATEST driver version for 92.0.4515\n"
     ]
    },
    {
     "name": "stdout",
     "output_type": "stream",
     "text": [
      "GEPA4 OK\n"
     ]
    },
    {
     "name": "stderr",
     "output_type": "stream",
     "text": [
      "Driver [/Users/leuzinger/.wdm/drivers/chromedriver/mac64/92.0.4515.107/chromedriver] found in cache\n",
      "INFO:WDM:Driver [/Users/leuzinger/.wdm/drivers/chromedriver/mac64/92.0.4515.107/chromedriver] found in cache\n",
      "\n",
      "\n",
      "INFO:WDM:\n",
      "\n",
      "====== WebDriver manager ======\n",
      "INFO:WDM:====== WebDriver manager ======\n",
      "Current google-chrome version is 92.0.4515\n",
      "INFO:WDM:Current google-chrome version is 92.0.4515\n",
      "Get LATEST driver version for 92.0.4515\n",
      "INFO:WDM:Get LATEST driver version for 92.0.4515\n"
     ]
    },
    {
     "name": "stdout",
     "output_type": "stream",
     "text": [
      "GFSA3 OK\n"
     ]
    },
    {
     "name": "stderr",
     "output_type": "stream",
     "text": [
      "Driver [/Users/leuzinger/.wdm/drivers/chromedriver/mac64/92.0.4515.107/chromedriver] found in cache\n",
      "INFO:WDM:Driver [/Users/leuzinger/.wdm/drivers/chromedriver/mac64/92.0.4515.107/chromedriver] found in cache\n",
      "\n",
      "\n",
      "INFO:WDM:\n",
      "\n",
      "====== WebDriver manager ======\n",
      "INFO:WDM:====== WebDriver manager ======\n",
      "Current google-chrome version is 92.0.4515\n",
      "INFO:WDM:Current google-chrome version is 92.0.4515\n",
      "Get LATEST driver version for 92.0.4515\n",
      "INFO:WDM:Get LATEST driver version for 92.0.4515\n"
     ]
    },
    {
     "name": "stdout",
     "output_type": "stream",
     "text": [
      "GGBR3 OK\n"
     ]
    },
    {
     "name": "stderr",
     "output_type": "stream",
     "text": [
      "Driver [/Users/leuzinger/.wdm/drivers/chromedriver/mac64/92.0.4515.107/chromedriver] found in cache\n",
      "INFO:WDM:Driver [/Users/leuzinger/.wdm/drivers/chromedriver/mac64/92.0.4515.107/chromedriver] found in cache\n",
      "\n",
      "\n",
      "INFO:WDM:\n",
      "\n",
      "====== WebDriver manager ======\n",
      "INFO:WDM:====== WebDriver manager ======\n",
      "Current google-chrome version is 92.0.4515\n",
      "INFO:WDM:Current google-chrome version is 92.0.4515\n",
      "Get LATEST driver version for 92.0.4515\n",
      "INFO:WDM:Get LATEST driver version for 92.0.4515\n"
     ]
    },
    {
     "name": "stdout",
     "output_type": "stream",
     "text": [
      "GGBR4 OK\n"
     ]
    },
    {
     "name": "stderr",
     "output_type": "stream",
     "text": [
      "Driver [/Users/leuzinger/.wdm/drivers/chromedriver/mac64/92.0.4515.107/chromedriver] found in cache\n",
      "INFO:WDM:Driver [/Users/leuzinger/.wdm/drivers/chromedriver/mac64/92.0.4515.107/chromedriver] found in cache\n",
      "\n",
      "\n",
      "INFO:WDM:\n",
      "\n",
      "====== WebDriver manager ======\n",
      "INFO:WDM:====== WebDriver manager ======\n",
      "Current google-chrome version is 92.0.4515\n",
      "INFO:WDM:Current google-chrome version is 92.0.4515\n",
      "Get LATEST driver version for 92.0.4515\n",
      "INFO:WDM:Get LATEST driver version for 92.0.4515\n"
     ]
    },
    {
     "name": "stdout",
     "output_type": "stream",
     "text": [
      "GGPS3 OK\n"
     ]
    },
    {
     "name": "stderr",
     "output_type": "stream",
     "text": [
      "Driver [/Users/leuzinger/.wdm/drivers/chromedriver/mac64/92.0.4515.107/chromedriver] found in cache\n",
      "INFO:WDM:Driver [/Users/leuzinger/.wdm/drivers/chromedriver/mac64/92.0.4515.107/chromedriver] found in cache\n",
      "\n",
      "\n",
      "INFO:WDM:\n",
      "\n",
      "====== WebDriver manager ======\n",
      "INFO:WDM:====== WebDriver manager ======\n",
      "Current google-chrome version is 92.0.4515\n",
      "INFO:WDM:Current google-chrome version is 92.0.4515\n",
      "Get LATEST driver version for 92.0.4515\n",
      "INFO:WDM:Get LATEST driver version for 92.0.4515\n"
     ]
    },
    {
     "name": "stdout",
     "output_type": "stream",
     "text": [
      "GMAT3 OK\n"
     ]
    },
    {
     "name": "stderr",
     "output_type": "stream",
     "text": [
      "Driver [/Users/leuzinger/.wdm/drivers/chromedriver/mac64/92.0.4515.107/chromedriver] found in cache\n",
      "INFO:WDM:Driver [/Users/leuzinger/.wdm/drivers/chromedriver/mac64/92.0.4515.107/chromedriver] found in cache\n",
      "\n",
      "\n",
      "INFO:WDM:\n",
      "\n",
      "====== WebDriver manager ======\n",
      "INFO:WDM:====== WebDriver manager ======\n",
      "Current google-chrome version is 92.0.4515\n",
      "INFO:WDM:Current google-chrome version is 92.0.4515\n",
      "Get LATEST driver version for 92.0.4515\n",
      "INFO:WDM:Get LATEST driver version for 92.0.4515\n"
     ]
    },
    {
     "name": "stdout",
     "output_type": "stream",
     "text": [
      "GNDI3 OK\n"
     ]
    },
    {
     "name": "stderr",
     "output_type": "stream",
     "text": [
      "Driver [/Users/leuzinger/.wdm/drivers/chromedriver/mac64/92.0.4515.107/chromedriver] found in cache\n",
      "INFO:WDM:Driver [/Users/leuzinger/.wdm/drivers/chromedriver/mac64/92.0.4515.107/chromedriver] found in cache\n",
      "\n",
      "\n",
      "INFO:WDM:\n",
      "\n",
      "====== WebDriver manager ======\n",
      "INFO:WDM:====== WebDriver manager ======\n",
      "Current google-chrome version is 92.0.4515\n",
      "INFO:WDM:Current google-chrome version is 92.0.4515\n",
      "Get LATEST driver version for 92.0.4515\n",
      "INFO:WDM:Get LATEST driver version for 92.0.4515\n"
     ]
    },
    {
     "name": "stdout",
     "output_type": "stream",
     "text": [
      "GOAU3 OK\n"
     ]
    },
    {
     "name": "stderr",
     "output_type": "stream",
     "text": [
      "Driver [/Users/leuzinger/.wdm/drivers/chromedriver/mac64/92.0.4515.107/chromedriver] found in cache\n",
      "INFO:WDM:Driver [/Users/leuzinger/.wdm/drivers/chromedriver/mac64/92.0.4515.107/chromedriver] found in cache\n",
      "\n",
      "\n",
      "INFO:WDM:\n",
      "\n",
      "====== WebDriver manager ======\n",
      "INFO:WDM:====== WebDriver manager ======\n",
      "Current google-chrome version is 92.0.4515\n",
      "INFO:WDM:Current google-chrome version is 92.0.4515\n",
      "Get LATEST driver version for 92.0.4515\n",
      "INFO:WDM:Get LATEST driver version for 92.0.4515\n"
     ]
    },
    {
     "name": "stdout",
     "output_type": "stream",
     "text": [
      "GOAU4 OK\n"
     ]
    },
    {
     "name": "stderr",
     "output_type": "stream",
     "text": [
      "Driver [/Users/leuzinger/.wdm/drivers/chromedriver/mac64/92.0.4515.107/chromedriver] found in cache\n",
      "INFO:WDM:Driver [/Users/leuzinger/.wdm/drivers/chromedriver/mac64/92.0.4515.107/chromedriver] found in cache\n",
      "\n",
      "\n",
      "INFO:WDM:\n",
      "\n",
      "====== WebDriver manager ======\n",
      "INFO:WDM:====== WebDriver manager ======\n",
      "Current google-chrome version is 92.0.4515\n",
      "INFO:WDM:Current google-chrome version is 92.0.4515\n",
      "Get LATEST driver version for 92.0.4515\n",
      "INFO:WDM:Get LATEST driver version for 92.0.4515\n"
     ]
    },
    {
     "name": "stdout",
     "output_type": "stream",
     "text": [
      "GOLL4 OK\n"
     ]
    },
    {
     "name": "stderr",
     "output_type": "stream",
     "text": [
      "Driver [/Users/leuzinger/.wdm/drivers/chromedriver/mac64/92.0.4515.107/chromedriver] found in cache\n",
      "INFO:WDM:Driver [/Users/leuzinger/.wdm/drivers/chromedriver/mac64/92.0.4515.107/chromedriver] found in cache\n",
      "\n",
      "\n",
      "INFO:WDM:\n",
      "\n",
      "====== WebDriver manager ======\n",
      "INFO:WDM:====== WebDriver manager ======\n",
      "Current google-chrome version is 92.0.4515\n",
      "INFO:WDM:Current google-chrome version is 92.0.4515\n",
      "Get LATEST driver version for 92.0.4515\n",
      "INFO:WDM:Get LATEST driver version for 92.0.4515\n"
     ]
    },
    {
     "name": "stdout",
     "output_type": "stream",
     "text": [
      "GPAR3 OK\n"
     ]
    },
    {
     "name": "stderr",
     "output_type": "stream",
     "text": [
      "Driver [/Users/leuzinger/.wdm/drivers/chromedriver/mac64/92.0.4515.107/chromedriver] found in cache\n",
      "INFO:WDM:Driver [/Users/leuzinger/.wdm/drivers/chromedriver/mac64/92.0.4515.107/chromedriver] found in cache\n",
      "\n",
      "\n",
      "INFO:WDM:\n",
      "\n",
      "====== WebDriver manager ======\n",
      "INFO:WDM:====== WebDriver manager ======\n",
      "Current google-chrome version is 92.0.4515\n",
      "INFO:WDM:Current google-chrome version is 92.0.4515\n",
      "Get LATEST driver version for 92.0.4515\n",
      "INFO:WDM:Get LATEST driver version for 92.0.4515\n"
     ]
    },
    {
     "name": "stdout",
     "output_type": "stream",
     "text": [
      "GPIV33 OK\n"
     ]
    },
    {
     "name": "stderr",
     "output_type": "stream",
     "text": [
      "Driver [/Users/leuzinger/.wdm/drivers/chromedriver/mac64/92.0.4515.107/chromedriver] found in cache\n",
      "INFO:WDM:Driver [/Users/leuzinger/.wdm/drivers/chromedriver/mac64/92.0.4515.107/chromedriver] found in cache\n",
      "\n",
      "\n",
      "INFO:WDM:\n",
      "\n",
      "====== WebDriver manager ======\n",
      "INFO:WDM:====== WebDriver manager ======\n",
      "Current google-chrome version is 92.0.4515\n",
      "INFO:WDM:Current google-chrome version is 92.0.4515\n",
      "Get LATEST driver version for 92.0.4515\n",
      "INFO:WDM:Get LATEST driver version for 92.0.4515\n"
     ]
    },
    {
     "name": "stdout",
     "output_type": "stream",
     "text": [
      "GRND3 OK\n"
     ]
    },
    {
     "name": "stderr",
     "output_type": "stream",
     "text": [
      "Driver [/Users/leuzinger/.wdm/drivers/chromedriver/mac64/92.0.4515.107/chromedriver] found in cache\n",
      "INFO:WDM:Driver [/Users/leuzinger/.wdm/drivers/chromedriver/mac64/92.0.4515.107/chromedriver] found in cache\n",
      "\n",
      "\n",
      "INFO:WDM:\n",
      "\n",
      "====== WebDriver manager ======\n",
      "INFO:WDM:====== WebDriver manager ======\n",
      "Current google-chrome version is 92.0.4515\n",
      "INFO:WDM:Current google-chrome version is 92.0.4515\n",
      "Get LATEST driver version for 92.0.4515\n",
      "INFO:WDM:Get LATEST driver version for 92.0.4515\n"
     ]
    },
    {
     "name": "stdout",
     "output_type": "stream",
     "text": [
      "GSHP3 OK\n"
     ]
    },
    {
     "name": "stderr",
     "output_type": "stream",
     "text": [
      "Driver [/Users/leuzinger/.wdm/drivers/chromedriver/mac64/92.0.4515.107/chromedriver] found in cache\n",
      "INFO:WDM:Driver [/Users/leuzinger/.wdm/drivers/chromedriver/mac64/92.0.4515.107/chromedriver] found in cache\n",
      "\n",
      "\n",
      "INFO:WDM:\n",
      "\n",
      "====== WebDriver manager ======\n",
      "INFO:WDM:====== WebDriver manager ======\n",
      "Current google-chrome version is 92.0.4515\n",
      "INFO:WDM:Current google-chrome version is 92.0.4515\n",
      "Get LATEST driver version for 92.0.4515\n",
      "INFO:WDM:Get LATEST driver version for 92.0.4515\n"
     ]
    },
    {
     "name": "stdout",
     "output_type": "stream",
     "text": [
      "GUAR3 OK\n"
     ]
    },
    {
     "name": "stderr",
     "output_type": "stream",
     "text": [
      "Driver [/Users/leuzinger/.wdm/drivers/chromedriver/mac64/92.0.4515.107/chromedriver] found in cache\n",
      "INFO:WDM:Driver [/Users/leuzinger/.wdm/drivers/chromedriver/mac64/92.0.4515.107/chromedriver] found in cache\n",
      "\n",
      "\n",
      "INFO:WDM:\n",
      "\n",
      "====== WebDriver manager ======\n",
      "INFO:WDM:====== WebDriver manager ======\n",
      "Current google-chrome version is 92.0.4515\n",
      "INFO:WDM:Current google-chrome version is 92.0.4515\n",
      "Get LATEST driver version for 92.0.4515\n",
      "INFO:WDM:Get LATEST driver version for 92.0.4515\n"
     ]
    },
    {
     "name": "stdout",
     "output_type": "stream",
     "text": [
      "HAGA3 OK\n"
     ]
    },
    {
     "name": "stderr",
     "output_type": "stream",
     "text": [
      "Driver [/Users/leuzinger/.wdm/drivers/chromedriver/mac64/92.0.4515.107/chromedriver] found in cache\n",
      "INFO:WDM:Driver [/Users/leuzinger/.wdm/drivers/chromedriver/mac64/92.0.4515.107/chromedriver] found in cache\n",
      "\n",
      "\n",
      "INFO:WDM:\n",
      "\n",
      "====== WebDriver manager ======\n",
      "INFO:WDM:====== WebDriver manager ======\n",
      "Current google-chrome version is 92.0.4515\n",
      "INFO:WDM:Current google-chrome version is 92.0.4515\n",
      "Get LATEST driver version for 92.0.4515\n",
      "INFO:WDM:Get LATEST driver version for 92.0.4515\n"
     ]
    },
    {
     "name": "stdout",
     "output_type": "stream",
     "text": [
      "HAGA4 OK\n"
     ]
    },
    {
     "name": "stderr",
     "output_type": "stream",
     "text": [
      "Driver [/Users/leuzinger/.wdm/drivers/chromedriver/mac64/92.0.4515.107/chromedriver] found in cache\n",
      "INFO:WDM:Driver [/Users/leuzinger/.wdm/drivers/chromedriver/mac64/92.0.4515.107/chromedriver] found in cache\n",
      "\n",
      "\n",
      "INFO:WDM:\n",
      "\n",
      "====== WebDriver manager ======\n",
      "INFO:WDM:====== WebDriver manager ======\n",
      "Current google-chrome version is 92.0.4515\n",
      "INFO:WDM:Current google-chrome version is 92.0.4515\n",
      "Get LATEST driver version for 92.0.4515\n",
      "INFO:WDM:Get LATEST driver version for 92.0.4515\n"
     ]
    },
    {
     "name": "stdout",
     "output_type": "stream",
     "text": [
      "HAPV3 OK\n"
     ]
    },
    {
     "name": "stderr",
     "output_type": "stream",
     "text": [
      "Driver [/Users/leuzinger/.wdm/drivers/chromedriver/mac64/92.0.4515.107/chromedriver] found in cache\n",
      "INFO:WDM:Driver [/Users/leuzinger/.wdm/drivers/chromedriver/mac64/92.0.4515.107/chromedriver] found in cache\n",
      "\n",
      "\n",
      "INFO:WDM:\n",
      "\n",
      "====== WebDriver manager ======\n",
      "INFO:WDM:====== WebDriver manager ======\n",
      "Current google-chrome version is 92.0.4515\n",
      "INFO:WDM:Current google-chrome version is 92.0.4515\n",
      "Get LATEST driver version for 92.0.4515\n",
      "INFO:WDM:Get LATEST driver version for 92.0.4515\n"
     ]
    },
    {
     "name": "stdout",
     "output_type": "stream",
     "text": [
      "HBOR3 OK\n"
     ]
    },
    {
     "name": "stderr",
     "output_type": "stream",
     "text": [
      "Driver [/Users/leuzinger/.wdm/drivers/chromedriver/mac64/92.0.4515.107/chromedriver] found in cache\n",
      "INFO:WDM:Driver [/Users/leuzinger/.wdm/drivers/chromedriver/mac64/92.0.4515.107/chromedriver] found in cache\n",
      "\n",
      "\n",
      "INFO:WDM:\n",
      "\n",
      "====== WebDriver manager ======\n",
      "INFO:WDM:====== WebDriver manager ======\n",
      "Current google-chrome version is 92.0.4515\n",
      "INFO:WDM:Current google-chrome version is 92.0.4515\n",
      "Get LATEST driver version for 92.0.4515\n",
      "INFO:WDM:Get LATEST driver version for 92.0.4515\n",
      "Driver [/Users/leuzinger/.wdm/drivers/chromedriver/mac64/92.0.4515.107/chromedriver] found in cache\n"
     ]
    },
    {
     "name": "stdout",
     "output_type": "stream",
     "text": [
      "HBRE3 OK\n"
     ]
    },
    {
     "name": "stderr",
     "output_type": "stream",
     "text": [
      "INFO:WDM:Driver [/Users/leuzinger/.wdm/drivers/chromedriver/mac64/92.0.4515.107/chromedriver] found in cache\n",
      "\n",
      "\n",
      "INFO:WDM:\n",
      "\n",
      "====== WebDriver manager ======\n",
      "INFO:WDM:====== WebDriver manager ======\n",
      "Current google-chrome version is 92.0.4515\n",
      "INFO:WDM:Current google-chrome version is 92.0.4515\n",
      "Get LATEST driver version for 92.0.4515\n",
      "INFO:WDM:Get LATEST driver version for 92.0.4515\n"
     ]
    },
    {
     "name": "stdout",
     "output_type": "stream",
     "text": [
      "HBSA3 OK\n"
     ]
    },
    {
     "name": "stderr",
     "output_type": "stream",
     "text": [
      "Driver [/Users/leuzinger/.wdm/drivers/chromedriver/mac64/92.0.4515.107/chromedriver] found in cache\n",
      "INFO:WDM:Driver [/Users/leuzinger/.wdm/drivers/chromedriver/mac64/92.0.4515.107/chromedriver] found in cache\n",
      "\n",
      "\n",
      "INFO:WDM:\n",
      "\n",
      "====== WebDriver manager ======\n",
      "INFO:WDM:====== WebDriver manager ======\n",
      "Current google-chrome version is 92.0.4515\n",
      "INFO:WDM:Current google-chrome version is 92.0.4515\n",
      "Get LATEST driver version for 92.0.4515\n",
      "INFO:WDM:Get LATEST driver version for 92.0.4515\n"
     ]
    },
    {
     "name": "stdout",
     "output_type": "stream",
     "text": [
      "HBTS5 OK\n"
     ]
    },
    {
     "name": "stderr",
     "output_type": "stream",
     "text": [
      "Driver [/Users/leuzinger/.wdm/drivers/chromedriver/mac64/92.0.4515.107/chromedriver] found in cache\n",
      "INFO:WDM:Driver [/Users/leuzinger/.wdm/drivers/chromedriver/mac64/92.0.4515.107/chromedriver] found in cache\n",
      "\n",
      "\n",
      "INFO:WDM:\n",
      "\n",
      "====== WebDriver manager ======\n",
      "INFO:WDM:====== WebDriver manager ======\n",
      "Current google-chrome version is 92.0.4515\n",
      "INFO:WDM:Current google-chrome version is 92.0.4515\n",
      "Get LATEST driver version for 92.0.4515\n",
      "INFO:WDM:Get LATEST driver version for 92.0.4515\n"
     ]
    },
    {
     "name": "stdout",
     "output_type": "stream",
     "text": [
      "HETA3 OK\n"
     ]
    },
    {
     "name": "stderr",
     "output_type": "stream",
     "text": [
      "Driver [/Users/leuzinger/.wdm/drivers/chromedriver/mac64/92.0.4515.107/chromedriver] found in cache\n",
      "INFO:WDM:Driver [/Users/leuzinger/.wdm/drivers/chromedriver/mac64/92.0.4515.107/chromedriver] found in cache\n",
      "\n",
      "\n",
      "INFO:WDM:\n",
      "\n",
      "====== WebDriver manager ======\n",
      "INFO:WDM:====== WebDriver manager ======\n",
      "Current google-chrome version is 92.0.4515\n",
      "INFO:WDM:Current google-chrome version is 92.0.4515\n",
      "Get LATEST driver version for 92.0.4515\n",
      "INFO:WDM:Get LATEST driver version for 92.0.4515\n"
     ]
    },
    {
     "name": "stdout",
     "output_type": "stream",
     "text": [
      "HETA4 OK\n"
     ]
    },
    {
     "name": "stderr",
     "output_type": "stream",
     "text": [
      "Driver [/Users/leuzinger/.wdm/drivers/chromedriver/mac64/92.0.4515.107/chromedriver] found in cache\n",
      "INFO:WDM:Driver [/Users/leuzinger/.wdm/drivers/chromedriver/mac64/92.0.4515.107/chromedriver] found in cache\n",
      "\n",
      "\n",
      "INFO:WDM:\n",
      "\n",
      "====== WebDriver manager ======\n",
      "INFO:WDM:====== WebDriver manager ======\n",
      "Current google-chrome version is 92.0.4515\n",
      "INFO:WDM:Current google-chrome version is 92.0.4515\n",
      "Get LATEST driver version for 92.0.4515\n",
      "INFO:WDM:Get LATEST driver version for 92.0.4515\n"
     ]
    },
    {
     "name": "stdout",
     "output_type": "stream",
     "text": [
      "HGTX3 OK\n"
     ]
    },
    {
     "name": "stderr",
     "output_type": "stream",
     "text": [
      "Driver [/Users/leuzinger/.wdm/drivers/chromedriver/mac64/92.0.4515.107/chromedriver] found in cache\n",
      "INFO:WDM:Driver [/Users/leuzinger/.wdm/drivers/chromedriver/mac64/92.0.4515.107/chromedriver] found in cache\n",
      "\n",
      "\n",
      "INFO:WDM:\n",
      "\n",
      "====== WebDriver manager ======\n",
      "INFO:WDM:====== WebDriver manager ======\n",
      "Current google-chrome version is 92.0.4515\n",
      "INFO:WDM:Current google-chrome version is 92.0.4515\n",
      "Get LATEST driver version for 92.0.4515\n",
      "INFO:WDM:Get LATEST driver version for 92.0.4515\n"
     ]
    },
    {
     "name": "stdout",
     "output_type": "stream",
     "text": [
      "HOOT3 OK\n"
     ]
    },
    {
     "name": "stderr",
     "output_type": "stream",
     "text": [
      "Driver [/Users/leuzinger/.wdm/drivers/chromedriver/mac64/92.0.4515.107/chromedriver] found in cache\n",
      "INFO:WDM:Driver [/Users/leuzinger/.wdm/drivers/chromedriver/mac64/92.0.4515.107/chromedriver] found in cache\n",
      "\n",
      "\n",
      "INFO:WDM:\n",
      "\n",
      "====== WebDriver manager ======\n",
      "INFO:WDM:====== WebDriver manager ======\n",
      "Current google-chrome version is 92.0.4515\n",
      "INFO:WDM:Current google-chrome version is 92.0.4515\n",
      "Get LATEST driver version for 92.0.4515\n",
      "INFO:WDM:Get LATEST driver version for 92.0.4515\n"
     ]
    },
    {
     "name": "stdout",
     "output_type": "stream",
     "text": [
      "HOOT4 OK\n"
     ]
    },
    {
     "name": "stderr",
     "output_type": "stream",
     "text": [
      "Driver [/Users/leuzinger/.wdm/drivers/chromedriver/mac64/92.0.4515.107/chromedriver] found in cache\n",
      "INFO:WDM:Driver [/Users/leuzinger/.wdm/drivers/chromedriver/mac64/92.0.4515.107/chromedriver] found in cache\n",
      "\n",
      "\n",
      "INFO:WDM:\n",
      "\n",
      "====== WebDriver manager ======\n",
      "INFO:WDM:====== WebDriver manager ======\n",
      "Current google-chrome version is 92.0.4515\n",
      "INFO:WDM:Current google-chrome version is 92.0.4515\n",
      "Get LATEST driver version for 92.0.4515\n",
      "INFO:WDM:Get LATEST driver version for 92.0.4515\n"
     ]
    },
    {
     "name": "stdout",
     "output_type": "stream",
     "text": [
      "HYPE3 OK\n"
     ]
    },
    {
     "name": "stderr",
     "output_type": "stream",
     "text": [
      "Driver [/Users/leuzinger/.wdm/drivers/chromedriver/mac64/92.0.4515.107/chromedriver] found in cache\n",
      "INFO:WDM:Driver [/Users/leuzinger/.wdm/drivers/chromedriver/mac64/92.0.4515.107/chromedriver] found in cache\n",
      "\n",
      "\n",
      "INFO:WDM:\n",
      "\n",
      "====== WebDriver manager ======\n",
      "INFO:WDM:====== WebDriver manager ======\n",
      "Current google-chrome version is 92.0.4515\n",
      "INFO:WDM:Current google-chrome version is 92.0.4515\n",
      "Get LATEST driver version for 92.0.4515\n",
      "INFO:WDM:Get LATEST driver version for 92.0.4515\n"
     ]
    },
    {
     "name": "stdout",
     "output_type": "stream",
     "text": [
      "IDVL3 OK\n"
     ]
    },
    {
     "name": "stderr",
     "output_type": "stream",
     "text": [
      "Driver [/Users/leuzinger/.wdm/drivers/chromedriver/mac64/92.0.4515.107/chromedriver] found in cache\n",
      "INFO:WDM:Driver [/Users/leuzinger/.wdm/drivers/chromedriver/mac64/92.0.4515.107/chromedriver] found in cache\n",
      "\n",
      "\n",
      "INFO:WDM:\n",
      "\n",
      "====== WebDriver manager ======\n",
      "INFO:WDM:====== WebDriver manager ======\n",
      "Current google-chrome version is 92.0.4515\n",
      "INFO:WDM:Current google-chrome version is 92.0.4515\n",
      "Get LATEST driver version for 92.0.4515\n",
      "INFO:WDM:Get LATEST driver version for 92.0.4515\n"
     ]
    },
    {
     "name": "stdout",
     "output_type": "stream",
     "text": [
      "IDVL4 OK\n"
     ]
    },
    {
     "name": "stderr",
     "output_type": "stream",
     "text": [
      "Driver [/Users/leuzinger/.wdm/drivers/chromedriver/mac64/92.0.4515.107/chromedriver] found in cache\n",
      "INFO:WDM:Driver [/Users/leuzinger/.wdm/drivers/chromedriver/mac64/92.0.4515.107/chromedriver] found in cache\n",
      "\n",
      "\n",
      "INFO:WDM:\n",
      "\n",
      "====== WebDriver manager ======\n",
      "INFO:WDM:====== WebDriver manager ======\n",
      "Current google-chrome version is 92.0.4515\n",
      "INFO:WDM:Current google-chrome version is 92.0.4515\n",
      "Get LATEST driver version for 92.0.4515\n",
      "INFO:WDM:Get LATEST driver version for 92.0.4515\n"
     ]
    },
    {
     "name": "stdout",
     "output_type": "stream",
     "text": [
      "IFCM3 OK\n"
     ]
    },
    {
     "name": "stderr",
     "output_type": "stream",
     "text": [
      "Driver [/Users/leuzinger/.wdm/drivers/chromedriver/mac64/92.0.4515.107/chromedriver] found in cache\n",
      "INFO:WDM:Driver [/Users/leuzinger/.wdm/drivers/chromedriver/mac64/92.0.4515.107/chromedriver] found in cache\n",
      "\n",
      "\n",
      "INFO:WDM:\n",
      "\n",
      "====== WebDriver manager ======\n",
      "INFO:WDM:====== WebDriver manager ======\n",
      "Current google-chrome version is 92.0.4515\n",
      "INFO:WDM:Current google-chrome version is 92.0.4515\n",
      "Get LATEST driver version for 92.0.4515\n",
      "INFO:WDM:Get LATEST driver version for 92.0.4515\n"
     ]
    },
    {
     "name": "stdout",
     "output_type": "stream",
     "text": [
      "IGBR3 OK\n"
     ]
    },
    {
     "name": "stderr",
     "output_type": "stream",
     "text": [
      "Driver [/Users/leuzinger/.wdm/drivers/chromedriver/mac64/92.0.4515.107/chromedriver] found in cache\n",
      "INFO:WDM:Driver [/Users/leuzinger/.wdm/drivers/chromedriver/mac64/92.0.4515.107/chromedriver] found in cache\n",
      "\n",
      "\n",
      "INFO:WDM:\n",
      "\n",
      "====== WebDriver manager ======\n",
      "INFO:WDM:====== WebDriver manager ======\n",
      "Current google-chrome version is 92.0.4515\n",
      "INFO:WDM:Current google-chrome version is 92.0.4515\n",
      "Get LATEST driver version for 92.0.4515\n",
      "INFO:WDM:Get LATEST driver version for 92.0.4515\n"
     ]
    },
    {
     "name": "stdout",
     "output_type": "stream",
     "text": [
      "IGSN3 OK\n"
     ]
    },
    {
     "name": "stderr",
     "output_type": "stream",
     "text": [
      "Driver [/Users/leuzinger/.wdm/drivers/chromedriver/mac64/92.0.4515.107/chromedriver] found in cache\n",
      "INFO:WDM:Driver [/Users/leuzinger/.wdm/drivers/chromedriver/mac64/92.0.4515.107/chromedriver] found in cache\n",
      "\n",
      "\n",
      "INFO:WDM:\n",
      "\n",
      "====== WebDriver manager ======\n",
      "INFO:WDM:====== WebDriver manager ======\n",
      "Current google-chrome version is 92.0.4515\n",
      "INFO:WDM:Current google-chrome version is 92.0.4515\n",
      "Get LATEST driver version for 92.0.4515\n",
      "INFO:WDM:Get LATEST driver version for 92.0.4515\n"
     ]
    },
    {
     "name": "stdout",
     "output_type": "stream",
     "text": [
      "IGTA3 OK\n"
     ]
    },
    {
     "name": "stderr",
     "output_type": "stream",
     "text": [
      "Driver [/Users/leuzinger/.wdm/drivers/chromedriver/mac64/92.0.4515.107/chromedriver] found in cache\n",
      "INFO:WDM:Driver [/Users/leuzinger/.wdm/drivers/chromedriver/mac64/92.0.4515.107/chromedriver] found in cache\n",
      "\n",
      "\n",
      "INFO:WDM:\n",
      "\n",
      "====== WebDriver manager ======\n",
      "INFO:WDM:====== WebDriver manager ======\n",
      "Current google-chrome version is 92.0.4515\n",
      "INFO:WDM:Current google-chrome version is 92.0.4515\n",
      "Get LATEST driver version for 92.0.4515\n",
      "INFO:WDM:Get LATEST driver version for 92.0.4515\n"
     ]
    },
    {
     "name": "stdout",
     "output_type": "stream",
     "text": [
      "INEP3 OK\n"
     ]
    },
    {
     "name": "stderr",
     "output_type": "stream",
     "text": [
      "Driver [/Users/leuzinger/.wdm/drivers/chromedriver/mac64/92.0.4515.107/chromedriver] found in cache\n",
      "INFO:WDM:Driver [/Users/leuzinger/.wdm/drivers/chromedriver/mac64/92.0.4515.107/chromedriver] found in cache\n",
      "\n",
      "\n",
      "INFO:WDM:\n",
      "\n",
      "====== WebDriver manager ======\n",
      "INFO:WDM:====== WebDriver manager ======\n",
      "Current google-chrome version is 92.0.4515\n",
      "INFO:WDM:Current google-chrome version is 92.0.4515\n",
      "Get LATEST driver version for 92.0.4515\n",
      "INFO:WDM:Get LATEST driver version for 92.0.4515\n"
     ]
    },
    {
     "name": "stdout",
     "output_type": "stream",
     "text": [
      "INEP4 OK\n"
     ]
    },
    {
     "name": "stderr",
     "output_type": "stream",
     "text": [
      "Driver [/Users/leuzinger/.wdm/drivers/chromedriver/mac64/92.0.4515.107/chromedriver] found in cache\n",
      "INFO:WDM:Driver [/Users/leuzinger/.wdm/drivers/chromedriver/mac64/92.0.4515.107/chromedriver] found in cache\n",
      "\n",
      "\n",
      "INFO:WDM:\n",
      "\n",
      "====== WebDriver manager ======\n",
      "INFO:WDM:====== WebDriver manager ======\n",
      "Current google-chrome version is 92.0.4515\n",
      "INFO:WDM:Current google-chrome version is 92.0.4515\n",
      "Get LATEST driver version for 92.0.4515\n",
      "INFO:WDM:Get LATEST driver version for 92.0.4515\n"
     ]
    },
    {
     "name": "stdout",
     "output_type": "stream",
     "text": [
      "INNT3 OK\n"
     ]
    },
    {
     "name": "stderr",
     "output_type": "stream",
     "text": [
      "Driver [/Users/leuzinger/.wdm/drivers/chromedriver/mac64/92.0.4515.107/chromedriver] found in cache\n",
      "INFO:WDM:Driver [/Users/leuzinger/.wdm/drivers/chromedriver/mac64/92.0.4515.107/chromedriver] found in cache\n",
      "\n",
      "\n",
      "INFO:WDM:\n",
      "\n",
      "====== WebDriver manager ======\n",
      "INFO:WDM:====== WebDriver manager ======\n",
      "Current google-chrome version is 92.0.4515\n",
      "INFO:WDM:Current google-chrome version is 92.0.4515\n",
      "Get LATEST driver version for 92.0.4515\n",
      "INFO:WDM:Get LATEST driver version for 92.0.4515\n"
     ]
    },
    {
     "name": "stdout",
     "output_type": "stream",
     "text": [
      "INTB3 OK\n"
     ]
    },
    {
     "name": "stderr",
     "output_type": "stream",
     "text": [
      "Driver [/Users/leuzinger/.wdm/drivers/chromedriver/mac64/92.0.4515.107/chromedriver] found in cache\n",
      "INFO:WDM:Driver [/Users/leuzinger/.wdm/drivers/chromedriver/mac64/92.0.4515.107/chromedriver] found in cache\n",
      "\n",
      "\n",
      "INFO:WDM:\n",
      "\n",
      "====== WebDriver manager ======\n",
      "INFO:WDM:====== WebDriver manager ======\n",
      "Current google-chrome version is 92.0.4515\n",
      "INFO:WDM:Current google-chrome version is 92.0.4515\n",
      "Get LATEST driver version for 92.0.4515\n",
      "INFO:WDM:Get LATEST driver version for 92.0.4515\n"
     ]
    },
    {
     "name": "stdout",
     "output_type": "stream",
     "text": [
      "IRBR3 OK\n"
     ]
    },
    {
     "name": "stderr",
     "output_type": "stream",
     "text": [
      "Driver [/Users/leuzinger/.wdm/drivers/chromedriver/mac64/92.0.4515.107/chromedriver] found in cache\n",
      "INFO:WDM:Driver [/Users/leuzinger/.wdm/drivers/chromedriver/mac64/92.0.4515.107/chromedriver] found in cache\n",
      "\n",
      "\n",
      "INFO:WDM:\n",
      "\n",
      "====== WebDriver manager ======\n",
      "INFO:WDM:====== WebDriver manager ======\n",
      "Current google-chrome version is 92.0.4515\n",
      "INFO:WDM:Current google-chrome version is 92.0.4515\n",
      "Get LATEST driver version for 92.0.4515\n",
      "INFO:WDM:Get LATEST driver version for 92.0.4515\n"
     ]
    },
    {
     "name": "stdout",
     "output_type": "stream",
     "text": [
      "ITEC3 OK\n"
     ]
    },
    {
     "name": "stderr",
     "output_type": "stream",
     "text": [
      "Driver [/Users/leuzinger/.wdm/drivers/chromedriver/mac64/92.0.4515.107/chromedriver] found in cache\n",
      "INFO:WDM:Driver [/Users/leuzinger/.wdm/drivers/chromedriver/mac64/92.0.4515.107/chromedriver] found in cache\n",
      "\n",
      "\n",
      "INFO:WDM:\n",
      "\n",
      "====== WebDriver manager ======\n",
      "INFO:WDM:====== WebDriver manager ======\n",
      "Current google-chrome version is 92.0.4515\n",
      "INFO:WDM:Current google-chrome version is 92.0.4515\n",
      "Get LATEST driver version for 92.0.4515\n",
      "INFO:WDM:Get LATEST driver version for 92.0.4515\n"
     ]
    },
    {
     "name": "stdout",
     "output_type": "stream",
     "text": [
      "ITSA3 OK\n"
     ]
    },
    {
     "name": "stderr",
     "output_type": "stream",
     "text": [
      "Driver [/Users/leuzinger/.wdm/drivers/chromedriver/mac64/92.0.4515.107/chromedriver] found in cache\n",
      "INFO:WDM:Driver [/Users/leuzinger/.wdm/drivers/chromedriver/mac64/92.0.4515.107/chromedriver] found in cache\n",
      "\n",
      "\n",
      "INFO:WDM:\n",
      "\n",
      "====== WebDriver manager ======\n",
      "INFO:WDM:====== WebDriver manager ======\n",
      "Current google-chrome version is 92.0.4515\n",
      "INFO:WDM:Current google-chrome version is 92.0.4515\n",
      "Get LATEST driver version for 92.0.4515\n",
      "INFO:WDM:Get LATEST driver version for 92.0.4515\n"
     ]
    },
    {
     "name": "stdout",
     "output_type": "stream",
     "text": [
      "ITSA4 OK\n"
     ]
    },
    {
     "name": "stderr",
     "output_type": "stream",
     "text": [
      "Driver [/Users/leuzinger/.wdm/drivers/chromedriver/mac64/92.0.4515.107/chromedriver] found in cache\n",
      "INFO:WDM:Driver [/Users/leuzinger/.wdm/drivers/chromedriver/mac64/92.0.4515.107/chromedriver] found in cache\n",
      "\n",
      "\n",
      "INFO:WDM:\n",
      "\n",
      "====== WebDriver manager ======\n",
      "INFO:WDM:====== WebDriver manager ======\n",
      "Current google-chrome version is 92.0.4515\n",
      "INFO:WDM:Current google-chrome version is 92.0.4515\n",
      "Get LATEST driver version for 92.0.4515\n",
      "INFO:WDM:Get LATEST driver version for 92.0.4515\n"
     ]
    },
    {
     "name": "stdout",
     "output_type": "stream",
     "text": [
      "ITUB3 OK\n"
     ]
    },
    {
     "name": "stderr",
     "output_type": "stream",
     "text": [
      "Driver [/Users/leuzinger/.wdm/drivers/chromedriver/mac64/92.0.4515.107/chromedriver] found in cache\n",
      "INFO:WDM:Driver [/Users/leuzinger/.wdm/drivers/chromedriver/mac64/92.0.4515.107/chromedriver] found in cache\n",
      "\n",
      "\n",
      "INFO:WDM:\n",
      "\n",
      "====== WebDriver manager ======\n",
      "INFO:WDM:====== WebDriver manager ======\n",
      "Current google-chrome version is 92.0.4515\n",
      "INFO:WDM:Current google-chrome version is 92.0.4515\n",
      "Get LATEST driver version for 92.0.4515\n",
      "INFO:WDM:Get LATEST driver version for 92.0.4515\n"
     ]
    },
    {
     "name": "stdout",
     "output_type": "stream",
     "text": [
      "ITUB4 OK\n"
     ]
    },
    {
     "name": "stderr",
     "output_type": "stream",
     "text": [
      "Driver [/Users/leuzinger/.wdm/drivers/chromedriver/mac64/92.0.4515.107/chromedriver] found in cache\n",
      "INFO:WDM:Driver [/Users/leuzinger/.wdm/drivers/chromedriver/mac64/92.0.4515.107/chromedriver] found in cache\n",
      "\n",
      "\n",
      "INFO:WDM:\n",
      "\n",
      "====== WebDriver manager ======\n",
      "INFO:WDM:====== WebDriver manager ======\n",
      "Current google-chrome version is 92.0.4515\n",
      "INFO:WDM:Current google-chrome version is 92.0.4515\n",
      "Get LATEST driver version for 92.0.4515\n",
      "INFO:WDM:Get LATEST driver version for 92.0.4515\n"
     ]
    },
    {
     "name": "stdout",
     "output_type": "stream",
     "text": [
      "JALL3 OK\n"
     ]
    },
    {
     "name": "stderr",
     "output_type": "stream",
     "text": [
      "Driver [/Users/leuzinger/.wdm/drivers/chromedriver/mac64/92.0.4515.107/chromedriver] found in cache\n",
      "INFO:WDM:Driver [/Users/leuzinger/.wdm/drivers/chromedriver/mac64/92.0.4515.107/chromedriver] found in cache\n",
      "\n",
      "\n",
      "INFO:WDM:\n",
      "\n",
      "====== WebDriver manager ======\n",
      "INFO:WDM:====== WebDriver manager ======\n",
      "Current google-chrome version is 92.0.4515\n",
      "INFO:WDM:Current google-chrome version is 92.0.4515\n",
      "Get LATEST driver version for 92.0.4515\n",
      "INFO:WDM:Get LATEST driver version for 92.0.4515\n"
     ]
    },
    {
     "name": "stdout",
     "output_type": "stream",
     "text": [
      "JBDU3 OK\n"
     ]
    },
    {
     "name": "stderr",
     "output_type": "stream",
     "text": [
      "Driver [/Users/leuzinger/.wdm/drivers/chromedriver/mac64/92.0.4515.107/chromedriver] found in cache\n",
      "INFO:WDM:Driver [/Users/leuzinger/.wdm/drivers/chromedriver/mac64/92.0.4515.107/chromedriver] found in cache\n",
      "\n",
      "\n",
      "INFO:WDM:\n",
      "\n",
      "====== WebDriver manager ======\n",
      "INFO:WDM:====== WebDriver manager ======\n",
      "Current google-chrome version is 92.0.4515\n",
      "INFO:WDM:Current google-chrome version is 92.0.4515\n",
      "Get LATEST driver version for 92.0.4515\n",
      "INFO:WDM:Get LATEST driver version for 92.0.4515\n"
     ]
    },
    {
     "name": "stdout",
     "output_type": "stream",
     "text": [
      "JBDU4 OK\n"
     ]
    },
    {
     "name": "stderr",
     "output_type": "stream",
     "text": [
      "Driver [/Users/leuzinger/.wdm/drivers/chromedriver/mac64/92.0.4515.107/chromedriver] found in cache\n",
      "INFO:WDM:Driver [/Users/leuzinger/.wdm/drivers/chromedriver/mac64/92.0.4515.107/chromedriver] found in cache\n",
      "\n",
      "\n",
      "INFO:WDM:\n",
      "\n",
      "====== WebDriver manager ======\n",
      "INFO:WDM:====== WebDriver manager ======\n",
      "Current google-chrome version is 92.0.4515\n",
      "INFO:WDM:Current google-chrome version is 92.0.4515\n",
      "Get LATEST driver version for 92.0.4515\n",
      "INFO:WDM:Get LATEST driver version for 92.0.4515\n"
     ]
    },
    {
     "name": "stdout",
     "output_type": "stream",
     "text": [
      "JBSS3 OK\n"
     ]
    },
    {
     "name": "stderr",
     "output_type": "stream",
     "text": [
      "Driver [/Users/leuzinger/.wdm/drivers/chromedriver/mac64/92.0.4515.107/chromedriver] found in cache\n",
      "INFO:WDM:Driver [/Users/leuzinger/.wdm/drivers/chromedriver/mac64/92.0.4515.107/chromedriver] found in cache\n",
      "\n",
      "\n",
      "INFO:WDM:\n",
      "\n",
      "====== WebDriver manager ======\n",
      "INFO:WDM:====== WebDriver manager ======\n",
      "Current google-chrome version is 92.0.4515\n",
      "INFO:WDM:Current google-chrome version is 92.0.4515\n",
      "Get LATEST driver version for 92.0.4515\n",
      "INFO:WDM:Get LATEST driver version for 92.0.4515\n"
     ]
    },
    {
     "name": "stdout",
     "output_type": "stream",
     "text": [
      "JFEN3 OK\n"
     ]
    },
    {
     "name": "stderr",
     "output_type": "stream",
     "text": [
      "Driver [/Users/leuzinger/.wdm/drivers/chromedriver/mac64/92.0.4515.107/chromedriver] found in cache\n",
      "INFO:WDM:Driver [/Users/leuzinger/.wdm/drivers/chromedriver/mac64/92.0.4515.107/chromedriver] found in cache\n",
      "\n",
      "\n",
      "INFO:WDM:\n",
      "\n",
      "====== WebDriver manager ======\n",
      "INFO:WDM:====== WebDriver manager ======\n",
      "Current google-chrome version is 92.0.4515\n",
      "INFO:WDM:Current google-chrome version is 92.0.4515\n",
      "Get LATEST driver version for 92.0.4515\n",
      "INFO:WDM:Get LATEST driver version for 92.0.4515\n",
      "Driver [/Users/leuzinger/.wdm/drivers/chromedriver/mac64/92.0.4515.107/chromedriver] found in cache\n",
      "INFO:WDM:Driver [/Users/leuzinger/.wdm/drivers/chromedriver/mac64/92.0.4515.107/chromedriver] found in cache\n"
     ]
    },
    {
     "name": "stdout",
     "output_type": "stream",
     "text": [
      "JHSF3 OK\n"
     ]
    },
    {
     "name": "stderr",
     "output_type": "stream",
     "text": [
      "\n",
      "\n",
      "INFO:WDM:\n",
      "\n",
      "====== WebDriver manager ======\n",
      "INFO:WDM:====== WebDriver manager ======\n",
      "Current google-chrome version is 92.0.4515\n",
      "INFO:WDM:Current google-chrome version is 92.0.4515\n",
      "Get LATEST driver version for 92.0.4515\n",
      "INFO:WDM:Get LATEST driver version for 92.0.4515\n"
     ]
    },
    {
     "name": "stdout",
     "output_type": "stream",
     "text": [
      "JOPA3 OK\n"
     ]
    },
    {
     "name": "stderr",
     "output_type": "stream",
     "text": [
      "Driver [/Users/leuzinger/.wdm/drivers/chromedriver/mac64/92.0.4515.107/chromedriver] found in cache\n",
      "INFO:WDM:Driver [/Users/leuzinger/.wdm/drivers/chromedriver/mac64/92.0.4515.107/chromedriver] found in cache\n",
      "\n",
      "\n",
      "INFO:WDM:\n",
      "\n",
      "====== WebDriver manager ======\n",
      "INFO:WDM:====== WebDriver manager ======\n",
      "Current google-chrome version is 92.0.4515\n",
      "INFO:WDM:Current google-chrome version is 92.0.4515\n",
      "Get LATEST driver version for 92.0.4515\n",
      "INFO:WDM:Get LATEST driver version for 92.0.4515\n"
     ]
    },
    {
     "name": "stdout",
     "output_type": "stream",
     "text": [
      "JOPA4 OK\n"
     ]
    },
    {
     "name": "stderr",
     "output_type": "stream",
     "text": [
      "Driver [/Users/leuzinger/.wdm/drivers/chromedriver/mac64/92.0.4515.107/chromedriver] found in cache\n",
      "INFO:WDM:Driver [/Users/leuzinger/.wdm/drivers/chromedriver/mac64/92.0.4515.107/chromedriver] found in cache\n",
      "\n",
      "\n",
      "INFO:WDM:\n",
      "\n",
      "====== WebDriver manager ======\n",
      "INFO:WDM:====== WebDriver manager ======\n",
      "Current google-chrome version is 92.0.4515\n",
      "INFO:WDM:Current google-chrome version is 92.0.4515\n",
      "Get LATEST driver version for 92.0.4515\n",
      "INFO:WDM:Get LATEST driver version for 92.0.4515\n"
     ]
    },
    {
     "name": "stdout",
     "output_type": "stream",
     "text": [
      "JPSA3 OK\n"
     ]
    },
    {
     "name": "stderr",
     "output_type": "stream",
     "text": [
      "Driver [/Users/leuzinger/.wdm/drivers/chromedriver/mac64/92.0.4515.107/chromedriver] found in cache\n",
      "INFO:WDM:Driver [/Users/leuzinger/.wdm/drivers/chromedriver/mac64/92.0.4515.107/chromedriver] found in cache\n",
      "\n",
      "\n",
      "INFO:WDM:\n",
      "\n",
      "====== WebDriver manager ======\n",
      "INFO:WDM:====== WebDriver manager ======\n",
      "Current google-chrome version is 92.0.4515\n",
      "INFO:WDM:Current google-chrome version is 92.0.4515\n",
      "Get LATEST driver version for 92.0.4515\n",
      "INFO:WDM:Get LATEST driver version for 92.0.4515\n"
     ]
    },
    {
     "name": "stdout",
     "output_type": "stream",
     "text": [
      "JSLG3 OK\n"
     ]
    },
    {
     "name": "stderr",
     "output_type": "stream",
     "text": [
      "Driver [/Users/leuzinger/.wdm/drivers/chromedriver/mac64/92.0.4515.107/chromedriver] found in cache\n",
      "INFO:WDM:Driver [/Users/leuzinger/.wdm/drivers/chromedriver/mac64/92.0.4515.107/chromedriver] found in cache\n",
      "\n",
      "\n",
      "INFO:WDM:\n",
      "\n",
      "====== WebDriver manager ======\n",
      "INFO:WDM:====== WebDriver manager ======\n",
      "Current google-chrome version is 92.0.4515\n",
      "INFO:WDM:Current google-chrome version is 92.0.4515\n",
      "Get LATEST driver version for 92.0.4515\n",
      "INFO:WDM:Get LATEST driver version for 92.0.4515\n"
     ]
    },
    {
     "name": "stdout",
     "output_type": "stream",
     "text": [
      "KEPL3 OK\n"
     ]
    },
    {
     "name": "stderr",
     "output_type": "stream",
     "text": [
      "Driver [/Users/leuzinger/.wdm/drivers/chromedriver/mac64/92.0.4515.107/chromedriver] found in cache\n",
      "INFO:WDM:Driver [/Users/leuzinger/.wdm/drivers/chromedriver/mac64/92.0.4515.107/chromedriver] found in cache\n",
      "\n",
      "\n",
      "INFO:WDM:\n",
      "\n",
      "====== WebDriver manager ======\n",
      "INFO:WDM:====== WebDriver manager ======\n",
      "Current google-chrome version is 92.0.4515\n",
      "INFO:WDM:Current google-chrome version is 92.0.4515\n",
      "Get LATEST driver version for 92.0.4515\n",
      "INFO:WDM:Get LATEST driver version for 92.0.4515\n"
     ]
    },
    {
     "name": "stdout",
     "output_type": "stream",
     "text": [
      "KLBN11 OK\n"
     ]
    },
    {
     "name": "stderr",
     "output_type": "stream",
     "text": [
      "Driver [/Users/leuzinger/.wdm/drivers/chromedriver/mac64/92.0.4515.107/chromedriver] found in cache\n",
      "INFO:WDM:Driver [/Users/leuzinger/.wdm/drivers/chromedriver/mac64/92.0.4515.107/chromedriver] found in cache\n",
      "\n",
      "\n",
      "INFO:WDM:\n",
      "\n",
      "====== WebDriver manager ======\n",
      "INFO:WDM:====== WebDriver manager ======\n",
      "Current google-chrome version is 92.0.4515\n",
      "INFO:WDM:Current google-chrome version is 92.0.4515\n",
      "Get LATEST driver version for 92.0.4515\n",
      "INFO:WDM:Get LATEST driver version for 92.0.4515\n"
     ]
    },
    {
     "name": "stdout",
     "output_type": "stream",
     "text": [
      "KLBN3 OK\n"
     ]
    },
    {
     "name": "stderr",
     "output_type": "stream",
     "text": [
      "Driver [/Users/leuzinger/.wdm/drivers/chromedriver/mac64/92.0.4515.107/chromedriver] found in cache\n",
      "INFO:WDM:Driver [/Users/leuzinger/.wdm/drivers/chromedriver/mac64/92.0.4515.107/chromedriver] found in cache\n",
      "\n",
      "\n",
      "INFO:WDM:\n",
      "\n",
      "====== WebDriver manager ======\n",
      "INFO:WDM:====== WebDriver manager ======\n",
      "Current google-chrome version is 92.0.4515\n",
      "INFO:WDM:Current google-chrome version is 92.0.4515\n",
      "Get LATEST driver version for 92.0.4515\n",
      "INFO:WDM:Get LATEST driver version for 92.0.4515\n"
     ]
    },
    {
     "name": "stdout",
     "output_type": "stream",
     "text": [
      "KLBN4 OK\n"
     ]
    },
    {
     "name": "stderr",
     "output_type": "stream",
     "text": [
      "Driver [/Users/leuzinger/.wdm/drivers/chromedriver/mac64/92.0.4515.107/chromedriver] found in cache\n",
      "INFO:WDM:Driver [/Users/leuzinger/.wdm/drivers/chromedriver/mac64/92.0.4515.107/chromedriver] found in cache\n",
      "\n",
      "\n",
      "INFO:WDM:\n",
      "\n",
      "====== WebDriver manager ======\n",
      "INFO:WDM:====== WebDriver manager ======\n",
      "Current google-chrome version is 92.0.4515\n",
      "INFO:WDM:Current google-chrome version is 92.0.4515\n",
      "Get LATEST driver version for 92.0.4515\n",
      "INFO:WDM:Get LATEST driver version for 92.0.4515\n"
     ]
    },
    {
     "name": "stdout",
     "output_type": "stream",
     "text": [
      "LAME3 OK\n"
     ]
    },
    {
     "name": "stderr",
     "output_type": "stream",
     "text": [
      "Driver [/Users/leuzinger/.wdm/drivers/chromedriver/mac64/92.0.4515.107/chromedriver] found in cache\n",
      "INFO:WDM:Driver [/Users/leuzinger/.wdm/drivers/chromedriver/mac64/92.0.4515.107/chromedriver] found in cache\n",
      "\n",
      "\n",
      "INFO:WDM:\n",
      "\n",
      "====== WebDriver manager ======\n",
      "INFO:WDM:====== WebDriver manager ======\n",
      "Current google-chrome version is 92.0.4515\n",
      "INFO:WDM:Current google-chrome version is 92.0.4515\n",
      "Get LATEST driver version for 92.0.4515\n",
      "INFO:WDM:Get LATEST driver version for 92.0.4515\n"
     ]
    },
    {
     "name": "stdout",
     "output_type": "stream",
     "text": [
      "LAME4 OK\n"
     ]
    },
    {
     "name": "stderr",
     "output_type": "stream",
     "text": [
      "Driver [/Users/leuzinger/.wdm/drivers/chromedriver/mac64/92.0.4515.107/chromedriver] found in cache\n",
      "INFO:WDM:Driver [/Users/leuzinger/.wdm/drivers/chromedriver/mac64/92.0.4515.107/chromedriver] found in cache\n",
      "\n",
      "\n",
      "INFO:WDM:\n",
      "\n",
      "====== WebDriver manager ======\n",
      "INFO:WDM:====== WebDriver manager ======\n",
      "Current google-chrome version is 92.0.4515\n",
      "INFO:WDM:Current google-chrome version is 92.0.4515\n",
      "Get LATEST driver version for 92.0.4515\n",
      "INFO:WDM:Get LATEST driver version for 92.0.4515\n"
     ]
    },
    {
     "name": "stdout",
     "output_type": "stream",
     "text": [
      "LAVV3 OK\n"
     ]
    },
    {
     "name": "stderr",
     "output_type": "stream",
     "text": [
      "Driver [/Users/leuzinger/.wdm/drivers/chromedriver/mac64/92.0.4515.107/chromedriver] found in cache\n",
      "INFO:WDM:Driver [/Users/leuzinger/.wdm/drivers/chromedriver/mac64/92.0.4515.107/chromedriver] found in cache\n",
      "\n",
      "\n",
      "INFO:WDM:\n",
      "\n",
      "====== WebDriver manager ======\n",
      "INFO:WDM:====== WebDriver manager ======\n",
      "Current google-chrome version is 92.0.4515\n",
      "INFO:WDM:Current google-chrome version is 92.0.4515\n",
      "Get LATEST driver version for 92.0.4515\n",
      "INFO:WDM:Get LATEST driver version for 92.0.4515\n"
     ]
    },
    {
     "name": "stdout",
     "output_type": "stream",
     "text": [
      "LCAM3 OK\n"
     ]
    },
    {
     "name": "stderr",
     "output_type": "stream",
     "text": [
      "Driver [/Users/leuzinger/.wdm/drivers/chromedriver/mac64/92.0.4515.107/chromedriver] found in cache\n",
      "INFO:WDM:Driver [/Users/leuzinger/.wdm/drivers/chromedriver/mac64/92.0.4515.107/chromedriver] found in cache\n",
      "\n",
      "\n",
      "INFO:WDM:\n",
      "\n",
      "====== WebDriver manager ======\n",
      "INFO:WDM:====== WebDriver manager ======\n",
      "Current google-chrome version is 92.0.4515\n",
      "INFO:WDM:Current google-chrome version is 92.0.4515\n",
      "Get LATEST driver version for 92.0.4515\n",
      "INFO:WDM:Get LATEST driver version for 92.0.4515\n"
     ]
    },
    {
     "name": "stdout",
     "output_type": "stream",
     "text": [
      "LEVE3 OK\n"
     ]
    },
    {
     "name": "stderr",
     "output_type": "stream",
     "text": [
      "Driver [/Users/leuzinger/.wdm/drivers/chromedriver/mac64/92.0.4515.107/chromedriver] found in cache\n",
      "INFO:WDM:Driver [/Users/leuzinger/.wdm/drivers/chromedriver/mac64/92.0.4515.107/chromedriver] found in cache\n",
      "\n",
      "\n",
      "INFO:WDM:\n",
      "\n",
      "====== WebDriver manager ======\n",
      "INFO:WDM:====== WebDriver manager ======\n",
      "Current google-chrome version is 92.0.4515\n",
      "INFO:WDM:Current google-chrome version is 92.0.4515\n",
      "Get LATEST driver version for 92.0.4515\n",
      "INFO:WDM:Get LATEST driver version for 92.0.4515\n"
     ]
    },
    {
     "name": "stdout",
     "output_type": "stream",
     "text": [
      "LHER3 OK\n"
     ]
    },
    {
     "name": "stderr",
     "output_type": "stream",
     "text": [
      "Driver [/Users/leuzinger/.wdm/drivers/chromedriver/mac64/92.0.4515.107/chromedriver] found in cache\n",
      "INFO:WDM:Driver [/Users/leuzinger/.wdm/drivers/chromedriver/mac64/92.0.4515.107/chromedriver] found in cache\n",
      "\n",
      "\n",
      "INFO:WDM:\n",
      "\n",
      "====== WebDriver manager ======\n",
      "INFO:WDM:====== WebDriver manager ======\n",
      "Current google-chrome version is 92.0.4515\n",
      "INFO:WDM:Current google-chrome version is 92.0.4515\n",
      "Get LATEST driver version for 92.0.4515\n",
      "INFO:WDM:Get LATEST driver version for 92.0.4515\n",
      "Driver [/Users/leuzinger/.wdm/drivers/chromedriver/mac64/92.0.4515.107/chromedriver] found in cache\n"
     ]
    },
    {
     "name": "stdout",
     "output_type": "stream",
     "text": [
      "LHER4 OK\n"
     ]
    },
    {
     "name": "stderr",
     "output_type": "stream",
     "text": [
      "INFO:WDM:Driver [/Users/leuzinger/.wdm/drivers/chromedriver/mac64/92.0.4515.107/chromedriver] found in cache\n",
      "\n",
      "\n",
      "INFO:WDM:\n",
      "\n",
      "====== WebDriver manager ======\n",
      "INFO:WDM:====== WebDriver manager ======\n",
      "Current google-chrome version is 92.0.4515\n",
      "INFO:WDM:Current google-chrome version is 92.0.4515\n",
      "Get LATEST driver version for 92.0.4515\n",
      "INFO:WDM:Get LATEST driver version for 92.0.4515\n"
     ]
    },
    {
     "name": "stdout",
     "output_type": "stream",
     "text": [
      "LIGT3 OK\n"
     ]
    },
    {
     "name": "stderr",
     "output_type": "stream",
     "text": [
      "Driver [/Users/leuzinger/.wdm/drivers/chromedriver/mac64/92.0.4515.107/chromedriver] found in cache\n",
      "INFO:WDM:Driver [/Users/leuzinger/.wdm/drivers/chromedriver/mac64/92.0.4515.107/chromedriver] found in cache\n",
      "\n",
      "\n",
      "INFO:WDM:\n",
      "\n",
      "====== WebDriver manager ======\n",
      "INFO:WDM:====== WebDriver manager ======\n",
      "Current google-chrome version is 92.0.4515\n",
      "INFO:WDM:Current google-chrome version is 92.0.4515\n",
      "Get LATEST driver version for 92.0.4515\n",
      "INFO:WDM:Get LATEST driver version for 92.0.4515\n"
     ]
    },
    {
     "name": "stdout",
     "output_type": "stream",
     "text": [
      "LINX3 OK\n"
     ]
    },
    {
     "name": "stderr",
     "output_type": "stream",
     "text": [
      "Driver [/Users/leuzinger/.wdm/drivers/chromedriver/mac64/92.0.4515.107/chromedriver] found in cache\n",
      "INFO:WDM:Driver [/Users/leuzinger/.wdm/drivers/chromedriver/mac64/92.0.4515.107/chromedriver] found in cache\n",
      "\n",
      "\n",
      "INFO:WDM:\n",
      "\n",
      "====== WebDriver manager ======\n",
      "INFO:WDM:====== WebDriver manager ======\n",
      "Current google-chrome version is 92.0.4515\n",
      "INFO:WDM:Current google-chrome version is 92.0.4515\n",
      "Get LATEST driver version for 92.0.4515\n",
      "INFO:WDM:Get LATEST driver version for 92.0.4515\n"
     ]
    },
    {
     "name": "stdout",
     "output_type": "stream",
     "text": [
      "LIPR3 OK\n"
     ]
    },
    {
     "name": "stderr",
     "output_type": "stream",
     "text": [
      "Driver [/Users/leuzinger/.wdm/drivers/chromedriver/mac64/92.0.4515.107/chromedriver] found in cache\n",
      "INFO:WDM:Driver [/Users/leuzinger/.wdm/drivers/chromedriver/mac64/92.0.4515.107/chromedriver] found in cache\n",
      "\n",
      "\n",
      "INFO:WDM:\n",
      "\n",
      "====== WebDriver manager ======\n",
      "INFO:WDM:====== WebDriver manager ======\n",
      "Current google-chrome version is 92.0.4515\n",
      "INFO:WDM:Current google-chrome version is 92.0.4515\n",
      "Get LATEST driver version for 92.0.4515\n",
      "INFO:WDM:Get LATEST driver version for 92.0.4515\n"
     ]
    },
    {
     "name": "stdout",
     "output_type": "stream",
     "text": [
      "LJQQ3 OK\n"
     ]
    },
    {
     "name": "stderr",
     "output_type": "stream",
     "text": [
      "Driver [/Users/leuzinger/.wdm/drivers/chromedriver/mac64/92.0.4515.107/chromedriver] found in cache\n",
      "INFO:WDM:Driver [/Users/leuzinger/.wdm/drivers/chromedriver/mac64/92.0.4515.107/chromedriver] found in cache\n",
      "\n",
      "\n",
      "INFO:WDM:\n",
      "\n",
      "====== WebDriver manager ======\n",
      "INFO:WDM:====== WebDriver manager ======\n",
      "Current google-chrome version is 92.0.4515\n",
      "INFO:WDM:Current google-chrome version is 92.0.4515\n",
      "Get LATEST driver version for 92.0.4515\n",
      "INFO:WDM:Get LATEST driver version for 92.0.4515\n"
     ]
    },
    {
     "name": "stdout",
     "output_type": "stream",
     "text": [
      "LLIS3 OK\n"
     ]
    },
    {
     "name": "stderr",
     "output_type": "stream",
     "text": [
      "Driver [/Users/leuzinger/.wdm/drivers/chromedriver/mac64/92.0.4515.107/chromedriver] found in cache\n",
      "INFO:WDM:Driver [/Users/leuzinger/.wdm/drivers/chromedriver/mac64/92.0.4515.107/chromedriver] found in cache\n",
      "\n",
      "\n",
      "INFO:WDM:\n",
      "\n",
      "====== WebDriver manager ======\n",
      "INFO:WDM:====== WebDriver manager ======\n",
      "Current google-chrome version is 92.0.4515\n",
      "INFO:WDM:Current google-chrome version is 92.0.4515\n",
      "Get LATEST driver version for 92.0.4515\n",
      "INFO:WDM:Get LATEST driver version for 92.0.4515\n"
     ]
    },
    {
     "name": "stdout",
     "output_type": "stream",
     "text": [
      "LOGG3 OK\n"
     ]
    },
    {
     "name": "stderr",
     "output_type": "stream",
     "text": [
      "Driver [/Users/leuzinger/.wdm/drivers/chromedriver/mac64/92.0.4515.107/chromedriver] found in cache\n",
      "INFO:WDM:Driver [/Users/leuzinger/.wdm/drivers/chromedriver/mac64/92.0.4515.107/chromedriver] found in cache\n",
      "\n",
      "\n",
      "INFO:WDM:\n",
      "\n",
      "====== WebDriver manager ======\n",
      "INFO:WDM:====== WebDriver manager ======\n",
      "Current google-chrome version is 92.0.4515\n",
      "INFO:WDM:Current google-chrome version is 92.0.4515\n",
      "Get LATEST driver version for 92.0.4515\n",
      "INFO:WDM:Get LATEST driver version for 92.0.4515\n"
     ]
    },
    {
     "name": "stdout",
     "output_type": "stream",
     "text": [
      "LOGN3 OK\n"
     ]
    },
    {
     "name": "stderr",
     "output_type": "stream",
     "text": [
      "Driver [/Users/leuzinger/.wdm/drivers/chromedriver/mac64/92.0.4515.107/chromedriver] found in cache\n",
      "INFO:WDM:Driver [/Users/leuzinger/.wdm/drivers/chromedriver/mac64/92.0.4515.107/chromedriver] found in cache\n",
      "\n",
      "\n",
      "INFO:WDM:\n",
      "\n",
      "====== WebDriver manager ======\n",
      "INFO:WDM:====== WebDriver manager ======\n",
      "Current google-chrome version is 92.0.4515\n",
      "INFO:WDM:Current google-chrome version is 92.0.4515\n",
      "Get LATEST driver version for 92.0.4515\n",
      "INFO:WDM:Get LATEST driver version for 92.0.4515\n"
     ]
    },
    {
     "name": "stdout",
     "output_type": "stream",
     "text": [
      "LPSB3 OK\n"
     ]
    },
    {
     "name": "stderr",
     "output_type": "stream",
     "text": [
      "Driver [/Users/leuzinger/.wdm/drivers/chromedriver/mac64/92.0.4515.107/chromedriver] found in cache\n",
      "INFO:WDM:Driver [/Users/leuzinger/.wdm/drivers/chromedriver/mac64/92.0.4515.107/chromedriver] found in cache\n",
      "\n",
      "\n",
      "INFO:WDM:\n",
      "\n",
      "====== WebDriver manager ======\n",
      "INFO:WDM:====== WebDriver manager ======\n",
      "Current google-chrome version is 92.0.4515\n",
      "INFO:WDM:Current google-chrome version is 92.0.4515\n",
      "Get LATEST driver version for 92.0.4515\n",
      "INFO:WDM:Get LATEST driver version for 92.0.4515\n"
     ]
    },
    {
     "name": "stdout",
     "output_type": "stream",
     "text": [
      "LREN3 OK\n"
     ]
    },
    {
     "name": "stderr",
     "output_type": "stream",
     "text": [
      "Driver [/Users/leuzinger/.wdm/drivers/chromedriver/mac64/92.0.4515.107/chromedriver] found in cache\n",
      "INFO:WDM:Driver [/Users/leuzinger/.wdm/drivers/chromedriver/mac64/92.0.4515.107/chromedriver] found in cache\n",
      "\n",
      "\n",
      "INFO:WDM:\n",
      "\n",
      "====== WebDriver manager ======\n",
      "INFO:WDM:====== WebDriver manager ======\n",
      "Current google-chrome version is 92.0.4515\n",
      "INFO:WDM:Current google-chrome version is 92.0.4515\n",
      "Get LATEST driver version for 92.0.4515\n",
      "INFO:WDM:Get LATEST driver version for 92.0.4515\n"
     ]
    },
    {
     "name": "stdout",
     "output_type": "stream",
     "text": [
      "LTEL3B OK\n"
     ]
    },
    {
     "name": "stderr",
     "output_type": "stream",
     "text": [
      "Driver [/Users/leuzinger/.wdm/drivers/chromedriver/mac64/92.0.4515.107/chromedriver] found in cache\n",
      "INFO:WDM:Driver [/Users/leuzinger/.wdm/drivers/chromedriver/mac64/92.0.4515.107/chromedriver] found in cache\n",
      "\n",
      "\n",
      "INFO:WDM:\n",
      "\n",
      "====== WebDriver manager ======\n",
      "INFO:WDM:====== WebDriver manager ======\n",
      "Current google-chrome version is 92.0.4515\n",
      "INFO:WDM:Current google-chrome version is 92.0.4515\n",
      "Get LATEST driver version for 92.0.4515\n",
      "INFO:WDM:Get LATEST driver version for 92.0.4515\n"
     ]
    },
    {
     "name": "stdout",
     "output_type": "stream",
     "text": [
      "LUPA3 OK\n"
     ]
    },
    {
     "name": "stderr",
     "output_type": "stream",
     "text": [
      "Driver [/Users/leuzinger/.wdm/drivers/chromedriver/mac64/92.0.4515.107/chromedriver] found in cache\n",
      "INFO:WDM:Driver [/Users/leuzinger/.wdm/drivers/chromedriver/mac64/92.0.4515.107/chromedriver] found in cache\n",
      "\n",
      "\n",
      "INFO:WDM:\n",
      "\n",
      "====== WebDriver manager ======\n",
      "INFO:WDM:====== WebDriver manager ======\n",
      "Current google-chrome version is 92.0.4515\n",
      "INFO:WDM:Current google-chrome version is 92.0.4515\n",
      "Get LATEST driver version for 92.0.4515\n",
      "INFO:WDM:Get LATEST driver version for 92.0.4515\n"
     ]
    },
    {
     "name": "stdout",
     "output_type": "stream",
     "text": [
      "LUXM3 OK\n"
     ]
    },
    {
     "name": "stderr",
     "output_type": "stream",
     "text": [
      "Driver [/Users/leuzinger/.wdm/drivers/chromedriver/mac64/92.0.4515.107/chromedriver] found in cache\n",
      "INFO:WDM:Driver [/Users/leuzinger/.wdm/drivers/chromedriver/mac64/92.0.4515.107/chromedriver] found in cache\n",
      "\n",
      "\n",
      "INFO:WDM:\n",
      "\n",
      "====== WebDriver manager ======\n",
      "INFO:WDM:====== WebDriver manager ======\n",
      "Current google-chrome version is 92.0.4515\n",
      "INFO:WDM:Current google-chrome version is 92.0.4515\n",
      "Get LATEST driver version for 92.0.4515\n",
      "INFO:WDM:Get LATEST driver version for 92.0.4515\n"
     ]
    },
    {
     "name": "stdout",
     "output_type": "stream",
     "text": [
      "LUXM4 OK\n"
     ]
    },
    {
     "name": "stderr",
     "output_type": "stream",
     "text": [
      "Driver [/Users/leuzinger/.wdm/drivers/chromedriver/mac64/92.0.4515.107/chromedriver] found in cache\n",
      "INFO:WDM:Driver [/Users/leuzinger/.wdm/drivers/chromedriver/mac64/92.0.4515.107/chromedriver] found in cache\n",
      "\n",
      "\n",
      "INFO:WDM:\n",
      "\n",
      "====== WebDriver manager ======\n",
      "INFO:WDM:====== WebDriver manager ======\n",
      "Current google-chrome version is 92.0.4515\n",
      "INFO:WDM:Current google-chrome version is 92.0.4515\n",
      "Get LATEST driver version for 92.0.4515\n",
      "INFO:WDM:Get LATEST driver version for 92.0.4515\n"
     ]
    },
    {
     "name": "stdout",
     "output_type": "stream",
     "text": [
      "LWSA3 OK\n"
     ]
    },
    {
     "name": "stderr",
     "output_type": "stream",
     "text": [
      "Driver [/Users/leuzinger/.wdm/drivers/chromedriver/mac64/92.0.4515.107/chromedriver] found in cache\n",
      "INFO:WDM:Driver [/Users/leuzinger/.wdm/drivers/chromedriver/mac64/92.0.4515.107/chromedriver] found in cache\n",
      "\n",
      "\n",
      "INFO:WDM:\n",
      "\n",
      "====== WebDriver manager ======\n",
      "INFO:WDM:====== WebDriver manager ======\n",
      "Current google-chrome version is 92.0.4515\n",
      "INFO:WDM:Current google-chrome version is 92.0.4515\n",
      "Get LATEST driver version for 92.0.4515\n",
      "INFO:WDM:Get LATEST driver version for 92.0.4515\n"
     ]
    },
    {
     "name": "stdout",
     "output_type": "stream",
     "text": [
      "MAPT3 OK\n"
     ]
    },
    {
     "name": "stderr",
     "output_type": "stream",
     "text": [
      "Driver [/Users/leuzinger/.wdm/drivers/chromedriver/mac64/92.0.4515.107/chromedriver] found in cache\n",
      "INFO:WDM:Driver [/Users/leuzinger/.wdm/drivers/chromedriver/mac64/92.0.4515.107/chromedriver] found in cache\n",
      "\n",
      "\n",
      "INFO:WDM:\n",
      "\n",
      "====== WebDriver manager ======\n",
      "INFO:WDM:====== WebDriver manager ======\n",
      "Current google-chrome version is 92.0.4515\n",
      "INFO:WDM:Current google-chrome version is 92.0.4515\n",
      "Get LATEST driver version for 92.0.4515\n",
      "INFO:WDM:Get LATEST driver version for 92.0.4515\n"
     ]
    },
    {
     "name": "stdout",
     "output_type": "stream",
     "text": [
      "MAPT4 OK\n"
     ]
    },
    {
     "name": "stderr",
     "output_type": "stream",
     "text": [
      "Driver [/Users/leuzinger/.wdm/drivers/chromedriver/mac64/92.0.4515.107/chromedriver] found in cache\n",
      "INFO:WDM:Driver [/Users/leuzinger/.wdm/drivers/chromedriver/mac64/92.0.4515.107/chromedriver] found in cache\n",
      "\n",
      "\n",
      "INFO:WDM:\n",
      "\n",
      "====== WebDriver manager ======\n",
      "INFO:WDM:====== WebDriver manager ======\n",
      "Current google-chrome version is 92.0.4515\n",
      "INFO:WDM:Current google-chrome version is 92.0.4515\n",
      "Get LATEST driver version for 92.0.4515\n",
      "INFO:WDM:Get LATEST driver version for 92.0.4515\n"
     ]
    },
    {
     "name": "stdout",
     "output_type": "stream",
     "text": [
      "MATD3 OK\n"
     ]
    },
    {
     "name": "stderr",
     "output_type": "stream",
     "text": [
      "Driver [/Users/leuzinger/.wdm/drivers/chromedriver/mac64/92.0.4515.107/chromedriver] found in cache\n",
      "INFO:WDM:Driver [/Users/leuzinger/.wdm/drivers/chromedriver/mac64/92.0.4515.107/chromedriver] found in cache\n",
      "\n",
      "\n",
      "INFO:WDM:\n",
      "\n",
      "====== WebDriver manager ======\n",
      "INFO:WDM:====== WebDriver manager ======\n",
      "Current google-chrome version is 92.0.4515\n",
      "INFO:WDM:Current google-chrome version is 92.0.4515\n",
      "Get LATEST driver version for 92.0.4515\n",
      "INFO:WDM:Get LATEST driver version for 92.0.4515\n"
     ]
    },
    {
     "name": "stdout",
     "output_type": "stream",
     "text": [
      "MBLY3 OK\n"
     ]
    },
    {
     "name": "stderr",
     "output_type": "stream",
     "text": [
      "Driver [/Users/leuzinger/.wdm/drivers/chromedriver/mac64/92.0.4515.107/chromedriver] found in cache\n",
      "INFO:WDM:Driver [/Users/leuzinger/.wdm/drivers/chromedriver/mac64/92.0.4515.107/chromedriver] found in cache\n",
      "\n",
      "\n",
      "INFO:WDM:\n",
      "\n",
      "====== WebDriver manager ======\n",
      "INFO:WDM:====== WebDriver manager ======\n",
      "Current google-chrome version is 92.0.4515\n",
      "INFO:WDM:Current google-chrome version is 92.0.4515\n",
      "Get LATEST driver version for 92.0.4515\n",
      "INFO:WDM:Get LATEST driver version for 92.0.4515\n"
     ]
    },
    {
     "name": "stdout",
     "output_type": "stream",
     "text": [
      "MDIA3 OK\n"
     ]
    },
    {
     "name": "stderr",
     "output_type": "stream",
     "text": [
      "Driver [/Users/leuzinger/.wdm/drivers/chromedriver/mac64/92.0.4515.107/chromedriver] found in cache\n",
      "INFO:WDM:Driver [/Users/leuzinger/.wdm/drivers/chromedriver/mac64/92.0.4515.107/chromedriver] found in cache\n",
      "\n",
      "\n",
      "INFO:WDM:\n",
      "\n",
      "====== WebDriver manager ======\n",
      "INFO:WDM:====== WebDriver manager ======\n",
      "Current google-chrome version is 92.0.4515\n",
      "INFO:WDM:Current google-chrome version is 92.0.4515\n",
      "Get LATEST driver version for 92.0.4515\n",
      "INFO:WDM:Get LATEST driver version for 92.0.4515\n"
     ]
    },
    {
     "name": "stdout",
     "output_type": "stream",
     "text": [
      "MDNE3 OK\n"
     ]
    },
    {
     "name": "stderr",
     "output_type": "stream",
     "text": [
      "Driver [/Users/leuzinger/.wdm/drivers/chromedriver/mac64/92.0.4515.107/chromedriver] found in cache\n",
      "INFO:WDM:Driver [/Users/leuzinger/.wdm/drivers/chromedriver/mac64/92.0.4515.107/chromedriver] found in cache\n",
      "\n",
      "\n",
      "INFO:WDM:\n",
      "\n",
      "====== WebDriver manager ======\n",
      "INFO:WDM:====== WebDriver manager ======\n",
      "Current google-chrome version is 92.0.4515\n",
      "INFO:WDM:Current google-chrome version is 92.0.4515\n",
      "Get LATEST driver version for 92.0.4515\n",
      "INFO:WDM:Get LATEST driver version for 92.0.4515\n"
     ]
    },
    {
     "name": "stdout",
     "output_type": "stream",
     "text": [
      "MEAL3 OK\n"
     ]
    },
    {
     "name": "stderr",
     "output_type": "stream",
     "text": [
      "Driver [/Users/leuzinger/.wdm/drivers/chromedriver/mac64/92.0.4515.107/chromedriver] found in cache\n",
      "INFO:WDM:Driver [/Users/leuzinger/.wdm/drivers/chromedriver/mac64/92.0.4515.107/chromedriver] found in cache\n",
      "\n",
      "\n",
      "INFO:WDM:\n",
      "\n",
      "====== WebDriver manager ======\n",
      "INFO:WDM:====== WebDriver manager ======\n",
      "Current google-chrome version is 92.0.4515\n",
      "INFO:WDM:Current google-chrome version is 92.0.4515\n",
      "Get LATEST driver version for 92.0.4515\n",
      "INFO:WDM:Get LATEST driver version for 92.0.4515\n"
     ]
    },
    {
     "name": "stdout",
     "output_type": "stream",
     "text": [
      "MELK3 OK\n"
     ]
    },
    {
     "name": "stderr",
     "output_type": "stream",
     "text": [
      "Driver [/Users/leuzinger/.wdm/drivers/chromedriver/mac64/92.0.4515.107/chromedriver] found in cache\n",
      "INFO:WDM:Driver [/Users/leuzinger/.wdm/drivers/chromedriver/mac64/92.0.4515.107/chromedriver] found in cache\n",
      "\n",
      "\n",
      "INFO:WDM:\n",
      "\n",
      "====== WebDriver manager ======\n",
      "INFO:WDM:====== WebDriver manager ======\n",
      "Current google-chrome version is 92.0.4515\n",
      "INFO:WDM:Current google-chrome version is 92.0.4515\n",
      "Get LATEST driver version for 92.0.4515\n",
      "INFO:WDM:Get LATEST driver version for 92.0.4515\n"
     ]
    },
    {
     "name": "stdout",
     "output_type": "stream",
     "text": [
      "MERC3 OK\n"
     ]
    },
    {
     "name": "stderr",
     "output_type": "stream",
     "text": [
      "Driver [/Users/leuzinger/.wdm/drivers/chromedriver/mac64/92.0.4515.107/chromedriver] found in cache\n",
      "INFO:WDM:Driver [/Users/leuzinger/.wdm/drivers/chromedriver/mac64/92.0.4515.107/chromedriver] found in cache\n",
      "\n",
      "\n",
      "INFO:WDM:\n",
      "\n",
      "====== WebDriver manager ======\n",
      "INFO:WDM:====== WebDriver manager ======\n",
      "Current google-chrome version is 92.0.4515\n",
      "INFO:WDM:Current google-chrome version is 92.0.4515\n",
      "Get LATEST driver version for 92.0.4515\n",
      "INFO:WDM:Get LATEST driver version for 92.0.4515\n"
     ]
    },
    {
     "name": "stdout",
     "output_type": "stream",
     "text": [
      "MERC4 OK\n"
     ]
    },
    {
     "name": "stderr",
     "output_type": "stream",
     "text": [
      "Driver [/Users/leuzinger/.wdm/drivers/chromedriver/mac64/92.0.4515.107/chromedriver] found in cache\n",
      "INFO:WDM:Driver [/Users/leuzinger/.wdm/drivers/chromedriver/mac64/92.0.4515.107/chromedriver] found in cache\n",
      "\n",
      "\n",
      "INFO:WDM:\n",
      "\n",
      "====== WebDriver manager ======\n",
      "INFO:WDM:====== WebDriver manager ======\n",
      "Current google-chrome version is 92.0.4515\n",
      "INFO:WDM:Current google-chrome version is 92.0.4515\n",
      "Get LATEST driver version for 92.0.4515\n",
      "INFO:WDM:Get LATEST driver version for 92.0.4515\n"
     ]
    },
    {
     "name": "stdout",
     "output_type": "stream",
     "text": [
      "MGEL3 OK\n"
     ]
    },
    {
     "name": "stderr",
     "output_type": "stream",
     "text": [
      "Driver [/Users/leuzinger/.wdm/drivers/chromedriver/mac64/92.0.4515.107/chromedriver] found in cache\n",
      "INFO:WDM:Driver [/Users/leuzinger/.wdm/drivers/chromedriver/mac64/92.0.4515.107/chromedriver] found in cache\n",
      "\n",
      "\n",
      "INFO:WDM:\n",
      "\n",
      "====== WebDriver manager ======\n",
      "INFO:WDM:====== WebDriver manager ======\n",
      "Current google-chrome version is 92.0.4515\n",
      "INFO:WDM:Current google-chrome version is 92.0.4515\n",
      "Get LATEST driver version for 92.0.4515\n",
      "INFO:WDM:Get LATEST driver version for 92.0.4515\n"
     ]
    },
    {
     "name": "stdout",
     "output_type": "stream",
     "text": [
      "MGEL4 OK\n"
     ]
    },
    {
     "name": "stderr",
     "output_type": "stream",
     "text": [
      "Driver [/Users/leuzinger/.wdm/drivers/chromedriver/mac64/92.0.4515.107/chromedriver] found in cache\n",
      "INFO:WDM:Driver [/Users/leuzinger/.wdm/drivers/chromedriver/mac64/92.0.4515.107/chromedriver] found in cache\n",
      "\n",
      "\n",
      "INFO:WDM:\n",
      "\n",
      "====== WebDriver manager ======\n",
      "INFO:WDM:====== WebDriver manager ======\n",
      "Current google-chrome version is 92.0.4515\n",
      "INFO:WDM:Current google-chrome version is 92.0.4515\n",
      "Get LATEST driver version for 92.0.4515\n",
      "INFO:WDM:Get LATEST driver version for 92.0.4515\n"
     ]
    },
    {
     "name": "stdout",
     "output_type": "stream",
     "text": [
      "MGLU3 OK\n"
     ]
    },
    {
     "name": "stderr",
     "output_type": "stream",
     "text": [
      "Driver [/Users/leuzinger/.wdm/drivers/chromedriver/mac64/92.0.4515.107/chromedriver] found in cache\n",
      "INFO:WDM:Driver [/Users/leuzinger/.wdm/drivers/chromedriver/mac64/92.0.4515.107/chromedriver] found in cache\n",
      "\n",
      "\n",
      "INFO:WDM:\n",
      "\n",
      "====== WebDriver manager ======\n",
      "INFO:WDM:====== WebDriver manager ======\n",
      "Current google-chrome version is 92.0.4515\n",
      "INFO:WDM:Current google-chrome version is 92.0.4515\n",
      "Get LATEST driver version for 92.0.4515\n",
      "INFO:WDM:Get LATEST driver version for 92.0.4515\n"
     ]
    },
    {
     "name": "stdout",
     "output_type": "stream",
     "text": [
      "MILS3 OK\n"
     ]
    },
    {
     "name": "stderr",
     "output_type": "stream",
     "text": [
      "Driver [/Users/leuzinger/.wdm/drivers/chromedriver/mac64/92.0.4515.107/chromedriver] found in cache\n",
      "INFO:WDM:Driver [/Users/leuzinger/.wdm/drivers/chromedriver/mac64/92.0.4515.107/chromedriver] found in cache\n",
      "\n",
      "\n",
      "INFO:WDM:\n",
      "\n",
      "====== WebDriver manager ======\n",
      "INFO:WDM:====== WebDriver manager ======\n",
      "Current google-chrome version is 92.0.4515\n",
      "INFO:WDM:Current google-chrome version is 92.0.4515\n",
      "Get LATEST driver version for 92.0.4515\n",
      "INFO:WDM:Get LATEST driver version for 92.0.4515\n"
     ]
    },
    {
     "name": "stdout",
     "output_type": "stream",
     "text": [
      "MMXM3 OK\n"
     ]
    },
    {
     "name": "stderr",
     "output_type": "stream",
     "text": [
      "Driver [/Users/leuzinger/.wdm/drivers/chromedriver/mac64/92.0.4515.107/chromedriver] found in cache\n",
      "INFO:WDM:Driver [/Users/leuzinger/.wdm/drivers/chromedriver/mac64/92.0.4515.107/chromedriver] found in cache\n",
      "\n",
      "\n",
      "INFO:WDM:\n",
      "\n",
      "====== WebDriver manager ======\n",
      "INFO:WDM:====== WebDriver manager ======\n",
      "Current google-chrome version is 92.0.4515\n",
      "INFO:WDM:Current google-chrome version is 92.0.4515\n",
      "Get LATEST driver version for 92.0.4515\n",
      "INFO:WDM:Get LATEST driver version for 92.0.4515\n"
     ]
    },
    {
     "name": "stdout",
     "output_type": "stream",
     "text": [
      "MNDL3 OK\n"
     ]
    },
    {
     "name": "stderr",
     "output_type": "stream",
     "text": [
      "Driver [/Users/leuzinger/.wdm/drivers/chromedriver/mac64/92.0.4515.107/chromedriver] found in cache\n",
      "INFO:WDM:Driver [/Users/leuzinger/.wdm/drivers/chromedriver/mac64/92.0.4515.107/chromedriver] found in cache\n",
      "\n",
      "\n",
      "INFO:WDM:\n",
      "\n",
      "====== WebDriver manager ======\n",
      "INFO:WDM:====== WebDriver manager ======\n",
      "Current google-chrome version is 92.0.4515\n",
      "INFO:WDM:Current google-chrome version is 92.0.4515\n",
      "Get LATEST driver version for 92.0.4515\n",
      "INFO:WDM:Get LATEST driver version for 92.0.4515\n"
     ]
    },
    {
     "name": "stdout",
     "output_type": "stream",
     "text": [
      "MNPR3 OK\n"
     ]
    },
    {
     "name": "stderr",
     "output_type": "stream",
     "text": [
      "Driver [/Users/leuzinger/.wdm/drivers/chromedriver/mac64/92.0.4515.107/chromedriver] found in cache\n",
      "INFO:WDM:Driver [/Users/leuzinger/.wdm/drivers/chromedriver/mac64/92.0.4515.107/chromedriver] found in cache\n",
      "\n",
      "\n",
      "INFO:WDM:\n",
      "\n",
      "====== WebDriver manager ======\n",
      "INFO:WDM:====== WebDriver manager ======\n",
      "Current google-chrome version is 92.0.4515\n",
      "INFO:WDM:Current google-chrome version is 92.0.4515\n",
      "Get LATEST driver version for 92.0.4515\n",
      "INFO:WDM:Get LATEST driver version for 92.0.4515\n"
     ]
    },
    {
     "name": "stdout",
     "output_type": "stream",
     "text": [
      "MOAR3 OK\n"
     ]
    },
    {
     "name": "stderr",
     "output_type": "stream",
     "text": [
      "Driver [/Users/leuzinger/.wdm/drivers/chromedriver/mac64/92.0.4515.107/chromedriver] found in cache\n",
      "INFO:WDM:Driver [/Users/leuzinger/.wdm/drivers/chromedriver/mac64/92.0.4515.107/chromedriver] found in cache\n",
      "\n",
      "\n",
      "INFO:WDM:\n",
      "\n",
      "====== WebDriver manager ======\n",
      "INFO:WDM:====== WebDriver manager ======\n",
      "Current google-chrome version is 92.0.4515\n",
      "INFO:WDM:Current google-chrome version is 92.0.4515\n",
      "Get LATEST driver version for 92.0.4515\n",
      "INFO:WDM:Get LATEST driver version for 92.0.4515\n"
     ]
    },
    {
     "name": "stdout",
     "output_type": "stream",
     "text": [
      "MODL11 OK\n"
     ]
    },
    {
     "name": "stderr",
     "output_type": "stream",
     "text": [
      "Driver [/Users/leuzinger/.wdm/drivers/chromedriver/mac64/92.0.4515.107/chromedriver] found in cache\n",
      "INFO:WDM:Driver [/Users/leuzinger/.wdm/drivers/chromedriver/mac64/92.0.4515.107/chromedriver] found in cache\n",
      "\n",
      "\n",
      "INFO:WDM:\n",
      "\n",
      "====== WebDriver manager ======\n",
      "INFO:WDM:====== WebDriver manager ======\n",
      "Current google-chrome version is 92.0.4515\n",
      "INFO:WDM:Current google-chrome version is 92.0.4515\n",
      "Get LATEST driver version for 92.0.4515\n",
      "INFO:WDM:Get LATEST driver version for 92.0.4515\n"
     ]
    },
    {
     "name": "stdout",
     "output_type": "stream",
     "text": [
      "MODL3 OK\n"
     ]
    },
    {
     "name": "stderr",
     "output_type": "stream",
     "text": [
      "Driver [/Users/leuzinger/.wdm/drivers/chromedriver/mac64/92.0.4515.107/chromedriver] found in cache\n",
      "INFO:WDM:Driver [/Users/leuzinger/.wdm/drivers/chromedriver/mac64/92.0.4515.107/chromedriver] found in cache\n",
      "\n",
      "\n",
      "INFO:WDM:\n",
      "\n",
      "====== WebDriver manager ======\n",
      "INFO:WDM:====== WebDriver manager ======\n",
      "Current google-chrome version is 92.0.4515\n",
      "INFO:WDM:Current google-chrome version is 92.0.4515\n",
      "Get LATEST driver version for 92.0.4515\n",
      "INFO:WDM:Get LATEST driver version for 92.0.4515\n"
     ]
    },
    {
     "name": "stdout",
     "output_type": "stream",
     "text": [
      "MODL4 OK\n"
     ]
    },
    {
     "name": "stderr",
     "output_type": "stream",
     "text": [
      "Driver [/Users/leuzinger/.wdm/drivers/chromedriver/mac64/92.0.4515.107/chromedriver] found in cache\n",
      "INFO:WDM:Driver [/Users/leuzinger/.wdm/drivers/chromedriver/mac64/92.0.4515.107/chromedriver] found in cache\n",
      "\n",
      "\n",
      "INFO:WDM:\n",
      "\n",
      "====== WebDriver manager ======\n",
      "INFO:WDM:====== WebDriver manager ======\n",
      "Current google-chrome version is 92.0.4515\n",
      "INFO:WDM:Current google-chrome version is 92.0.4515\n",
      "Get LATEST driver version for 92.0.4515\n",
      "INFO:WDM:Get LATEST driver version for 92.0.4515\n"
     ]
    },
    {
     "name": "stdout",
     "output_type": "stream",
     "text": [
      "MOSI3 OK\n"
     ]
    },
    {
     "name": "stderr",
     "output_type": "stream",
     "text": [
      "Driver [/Users/leuzinger/.wdm/drivers/chromedriver/mac64/92.0.4515.107/chromedriver] found in cache\n",
      "INFO:WDM:Driver [/Users/leuzinger/.wdm/drivers/chromedriver/mac64/92.0.4515.107/chromedriver] found in cache\n",
      "\n",
      "\n",
      "INFO:WDM:\n",
      "\n",
      "====== WebDriver manager ======\n",
      "INFO:WDM:====== WebDriver manager ======\n",
      "Current google-chrome version is 92.0.4515\n",
      "INFO:WDM:Current google-chrome version is 92.0.4515\n",
      "Get LATEST driver version for 92.0.4515\n",
      "INFO:WDM:Get LATEST driver version for 92.0.4515\n",
      "Driver [/Users/leuzinger/.wdm/drivers/chromedriver/mac64/92.0.4515.107/chromedriver] found in cache\n",
      "INFO:WDM:Driver [/Users/leuzinger/.wdm/drivers/chromedriver/mac64/92.0.4515.107/chromedriver] found in cache\n"
     ]
    },
    {
     "name": "stdout",
     "output_type": "stream",
     "text": [
      "MOVI3 OK\n"
     ]
    },
    {
     "name": "stderr",
     "output_type": "stream",
     "text": [
      "\n",
      "\n",
      "INFO:WDM:\n",
      "\n",
      "====== WebDriver manager ======\n",
      "INFO:WDM:====== WebDriver manager ======\n",
      "Current google-chrome version is 92.0.4515\n",
      "INFO:WDM:Current google-chrome version is 92.0.4515\n",
      "Get LATEST driver version for 92.0.4515\n",
      "INFO:WDM:Get LATEST driver version for 92.0.4515\n"
     ]
    },
    {
     "name": "stdout",
     "output_type": "stream",
     "text": [
      "MRFG3 OK\n"
     ]
    },
    {
     "name": "stderr",
     "output_type": "stream",
     "text": [
      "Driver [/Users/leuzinger/.wdm/drivers/chromedriver/mac64/92.0.4515.107/chromedriver] found in cache\n",
      "INFO:WDM:Driver [/Users/leuzinger/.wdm/drivers/chromedriver/mac64/92.0.4515.107/chromedriver] found in cache\n",
      "\n",
      "\n",
      "INFO:WDM:\n",
      "\n",
      "====== WebDriver manager ======\n",
      "INFO:WDM:====== WebDriver manager ======\n",
      "Current google-chrome version is 92.0.4515\n",
      "INFO:WDM:Current google-chrome version is 92.0.4515\n",
      "Get LATEST driver version for 92.0.4515\n",
      "INFO:WDM:Get LATEST driver version for 92.0.4515\n"
     ]
    },
    {
     "name": "stdout",
     "output_type": "stream",
     "text": [
      "MRSA3B OK\n"
     ]
    },
    {
     "name": "stderr",
     "output_type": "stream",
     "text": [
      "Driver [/Users/leuzinger/.wdm/drivers/chromedriver/mac64/92.0.4515.107/chromedriver] found in cache\n",
      "INFO:WDM:Driver [/Users/leuzinger/.wdm/drivers/chromedriver/mac64/92.0.4515.107/chromedriver] found in cache\n",
      "\n",
      "\n",
      "INFO:WDM:\n",
      "\n",
      "====== WebDriver manager ======\n",
      "INFO:WDM:====== WebDriver manager ======\n",
      "Current google-chrome version is 92.0.4515\n",
      "INFO:WDM:Current google-chrome version is 92.0.4515\n",
      "Get LATEST driver version for 92.0.4515\n",
      "INFO:WDM:Get LATEST driver version for 92.0.4515\n"
     ]
    },
    {
     "name": "stdout",
     "output_type": "stream",
     "text": [
      "MRSA5B OK\n"
     ]
    },
    {
     "name": "stderr",
     "output_type": "stream",
     "text": [
      "Driver [/Users/leuzinger/.wdm/drivers/chromedriver/mac64/92.0.4515.107/chromedriver] found in cache\n",
      "INFO:WDM:Driver [/Users/leuzinger/.wdm/drivers/chromedriver/mac64/92.0.4515.107/chromedriver] found in cache\n",
      "\n",
      "\n",
      "INFO:WDM:\n",
      "\n",
      "====== WebDriver manager ======\n",
      "INFO:WDM:====== WebDriver manager ======\n",
      "Current google-chrome version is 92.0.4515\n",
      "INFO:WDM:Current google-chrome version is 92.0.4515\n",
      "Get LATEST driver version for 92.0.4515\n",
      "INFO:WDM:Get LATEST driver version for 92.0.4515\n"
     ]
    },
    {
     "name": "stdout",
     "output_type": "stream",
     "text": [
      "MRSA6B OK\n"
     ]
    },
    {
     "name": "stderr",
     "output_type": "stream",
     "text": [
      "Driver [/Users/leuzinger/.wdm/drivers/chromedriver/mac64/92.0.4515.107/chromedriver] found in cache\n",
      "INFO:WDM:Driver [/Users/leuzinger/.wdm/drivers/chromedriver/mac64/92.0.4515.107/chromedriver] found in cache\n",
      "\n",
      "\n",
      "INFO:WDM:\n",
      "\n",
      "====== WebDriver manager ======\n",
      "INFO:WDM:====== WebDriver manager ======\n",
      "Current google-chrome version is 92.0.4515\n",
      "INFO:WDM:Current google-chrome version is 92.0.4515\n",
      "Get LATEST driver version for 92.0.4515\n",
      "INFO:WDM:Get LATEST driver version for 92.0.4515\n"
     ]
    },
    {
     "name": "stdout",
     "output_type": "stream",
     "text": [
      "MRVE3 OK\n"
     ]
    },
    {
     "name": "stderr",
     "output_type": "stream",
     "text": [
      "Driver [/Users/leuzinger/.wdm/drivers/chromedriver/mac64/92.0.4515.107/chromedriver] found in cache\n",
      "INFO:WDM:Driver [/Users/leuzinger/.wdm/drivers/chromedriver/mac64/92.0.4515.107/chromedriver] found in cache\n",
      "\n",
      "\n",
      "INFO:WDM:\n",
      "\n",
      "====== WebDriver manager ======\n",
      "INFO:WDM:====== WebDriver manager ======\n",
      "Current google-chrome version is 92.0.4515\n",
      "INFO:WDM:Current google-chrome version is 92.0.4515\n",
      "Get LATEST driver version for 92.0.4515\n",
      "INFO:WDM:Get LATEST driver version for 92.0.4515\n"
     ]
    },
    {
     "name": "stdout",
     "output_type": "stream",
     "text": [
      "MSPA3 OK\n"
     ]
    },
    {
     "name": "stderr",
     "output_type": "stream",
     "text": [
      "Driver [/Users/leuzinger/.wdm/drivers/chromedriver/mac64/92.0.4515.107/chromedriver] found in cache\n",
      "INFO:WDM:Driver [/Users/leuzinger/.wdm/drivers/chromedriver/mac64/92.0.4515.107/chromedriver] found in cache\n",
      "\n",
      "\n",
      "INFO:WDM:\n",
      "\n",
      "====== WebDriver manager ======\n",
      "INFO:WDM:====== WebDriver manager ======\n"
     ]
    },
    {
     "name": "stdout",
     "output_type": "stream",
     "text": [
      "MSPA4 OK\n"
     ]
    },
    {
     "name": "stderr",
     "output_type": "stream",
     "text": [
      "Current google-chrome version is 92.0.4515\n",
      "INFO:WDM:Current google-chrome version is 92.0.4515\n",
      "Get LATEST driver version for 92.0.4515\n",
      "INFO:WDM:Get LATEST driver version for 92.0.4515\n",
      "Driver [/Users/leuzinger/.wdm/drivers/chromedriver/mac64/92.0.4515.107/chromedriver] found in cache\n",
      "INFO:WDM:Driver [/Users/leuzinger/.wdm/drivers/chromedriver/mac64/92.0.4515.107/chromedriver] found in cache\n",
      "\n",
      "\n",
      "INFO:WDM:\n",
      "\n",
      "====== WebDriver manager ======\n",
      "INFO:WDM:====== WebDriver manager ======\n",
      "Current google-chrome version is 92.0.4515\n",
      "INFO:WDM:Current google-chrome version is 92.0.4515\n",
      "Get LATEST driver version for 92.0.4515\n",
      "INFO:WDM:Get LATEST driver version for 92.0.4515\n"
     ]
    },
    {
     "name": "stdout",
     "output_type": "stream",
     "text": [
      "MSRO3 OK\n"
     ]
    },
    {
     "name": "stderr",
     "output_type": "stream",
     "text": [
      "Driver [/Users/leuzinger/.wdm/drivers/chromedriver/mac64/92.0.4515.107/chromedriver] found in cache\n",
      "INFO:WDM:Driver [/Users/leuzinger/.wdm/drivers/chromedriver/mac64/92.0.4515.107/chromedriver] found in cache\n",
      "\n",
      "\n",
      "INFO:WDM:\n",
      "\n",
      "====== WebDriver manager ======\n",
      "INFO:WDM:====== WebDriver manager ======\n"
     ]
    },
    {
     "name": "stdout",
     "output_type": "stream",
     "text": [
      "MTIG3 OK\n"
     ]
    },
    {
     "name": "stderr",
     "output_type": "stream",
     "text": [
      "Current google-chrome version is 92.0.4515\n",
      "INFO:WDM:Current google-chrome version is 92.0.4515\n",
      "Get LATEST driver version for 92.0.4515\n",
      "INFO:WDM:Get LATEST driver version for 92.0.4515\n",
      "Driver [/Users/leuzinger/.wdm/drivers/chromedriver/mac64/92.0.4515.107/chromedriver] found in cache\n",
      "INFO:WDM:Driver [/Users/leuzinger/.wdm/drivers/chromedriver/mac64/92.0.4515.107/chromedriver] found in cache\n",
      "\n",
      "\n",
      "INFO:WDM:\n",
      "\n",
      "====== WebDriver manager ======\n",
      "INFO:WDM:====== WebDriver manager ======\n"
     ]
    },
    {
     "name": "stdout",
     "output_type": "stream",
     "text": [
      "MTIG4 OK\n"
     ]
    },
    {
     "name": "stderr",
     "output_type": "stream",
     "text": [
      "Current google-chrome version is 92.0.4515\n",
      "INFO:WDM:Current google-chrome version is 92.0.4515\n",
      "Get LATEST driver version for 92.0.4515\n",
      "INFO:WDM:Get LATEST driver version for 92.0.4515\n",
      "Driver [/Users/leuzinger/.wdm/drivers/chromedriver/mac64/92.0.4515.107/chromedriver] found in cache\n",
      "INFO:WDM:Driver [/Users/leuzinger/.wdm/drivers/chromedriver/mac64/92.0.4515.107/chromedriver] found in cache\n",
      "\n",
      "\n",
      "INFO:WDM:\n",
      "\n",
      "====== WebDriver manager ======\n",
      "INFO:WDM:====== WebDriver manager ======\n",
      "Current google-chrome version is 92.0.4515\n",
      "INFO:WDM:Current google-chrome version is 92.0.4515\n",
      "Get LATEST driver version for 92.0.4515\n",
      "INFO:WDM:Get LATEST driver version for 92.0.4515\n"
     ]
    },
    {
     "name": "stdout",
     "output_type": "stream",
     "text": [
      "MTRE3 OK\n"
     ]
    },
    {
     "name": "stderr",
     "output_type": "stream",
     "text": [
      "Driver [/Users/leuzinger/.wdm/drivers/chromedriver/mac64/92.0.4515.107/chromedriver] found in cache\n",
      "INFO:WDM:Driver [/Users/leuzinger/.wdm/drivers/chromedriver/mac64/92.0.4515.107/chromedriver] found in cache\n",
      "\n",
      "\n",
      "INFO:WDM:\n",
      "\n",
      "====== WebDriver manager ======\n",
      "INFO:WDM:====== WebDriver manager ======\n",
      "Current google-chrome version is 92.0.4515\n",
      "INFO:WDM:Current google-chrome version is 92.0.4515\n",
      "Get LATEST driver version for 92.0.4515\n",
      "INFO:WDM:Get LATEST driver version for 92.0.4515\n"
     ]
    },
    {
     "name": "stdout",
     "output_type": "stream",
     "text": [
      "MTSA3 OK\n"
     ]
    },
    {
     "name": "stderr",
     "output_type": "stream",
     "text": [
      "Driver [/Users/leuzinger/.wdm/drivers/chromedriver/mac64/92.0.4515.107/chromedriver] found in cache\n",
      "INFO:WDM:Driver [/Users/leuzinger/.wdm/drivers/chromedriver/mac64/92.0.4515.107/chromedriver] found in cache\n",
      "\n",
      "\n",
      "INFO:WDM:\n",
      "\n",
      "====== WebDriver manager ======\n",
      "INFO:WDM:====== WebDriver manager ======\n",
      "Current google-chrome version is 92.0.4515\n",
      "INFO:WDM:Current google-chrome version is 92.0.4515\n",
      "Get LATEST driver version for 92.0.4515\n",
      "INFO:WDM:Get LATEST driver version for 92.0.4515\n"
     ]
    },
    {
     "name": "stdout",
     "output_type": "stream",
     "text": [
      "MTSA4 OK\n"
     ]
    },
    {
     "name": "stderr",
     "output_type": "stream",
     "text": [
      "Driver [/Users/leuzinger/.wdm/drivers/chromedriver/mac64/92.0.4515.107/chromedriver] found in cache\n",
      "INFO:WDM:Driver [/Users/leuzinger/.wdm/drivers/chromedriver/mac64/92.0.4515.107/chromedriver] found in cache\n",
      "\n",
      "\n",
      "INFO:WDM:\n",
      "\n",
      "====== WebDriver manager ======\n",
      "INFO:WDM:====== WebDriver manager ======\n",
      "Current google-chrome version is 92.0.4515\n",
      "INFO:WDM:Current google-chrome version is 92.0.4515\n",
      "Get LATEST driver version for 92.0.4515\n",
      "INFO:WDM:Get LATEST driver version for 92.0.4515\n"
     ]
    },
    {
     "name": "stdout",
     "output_type": "stream",
     "text": [
      "MULT3 OK\n"
     ]
    },
    {
     "name": "stderr",
     "output_type": "stream",
     "text": [
      "Driver [/Users/leuzinger/.wdm/drivers/chromedriver/mac64/92.0.4515.107/chromedriver] found in cache\n",
      "INFO:WDM:Driver [/Users/leuzinger/.wdm/drivers/chromedriver/mac64/92.0.4515.107/chromedriver] found in cache\n",
      "\n",
      "\n",
      "INFO:WDM:\n",
      "\n",
      "====== WebDriver manager ======\n",
      "INFO:WDM:====== WebDriver manager ======\n",
      "Current google-chrome version is 92.0.4515\n",
      "INFO:WDM:Current google-chrome version is 92.0.4515\n",
      "Get LATEST driver version for 92.0.4515\n",
      "INFO:WDM:Get LATEST driver version for 92.0.4515\n"
     ]
    },
    {
     "name": "stdout",
     "output_type": "stream",
     "text": [
      "MWET3 OK\n"
     ]
    },
    {
     "name": "stderr",
     "output_type": "stream",
     "text": [
      "Driver [/Users/leuzinger/.wdm/drivers/chromedriver/mac64/92.0.4515.107/chromedriver] found in cache\n",
      "INFO:WDM:Driver [/Users/leuzinger/.wdm/drivers/chromedriver/mac64/92.0.4515.107/chromedriver] found in cache\n",
      "\n",
      "\n",
      "INFO:WDM:\n",
      "\n",
      "====== WebDriver manager ======\n",
      "INFO:WDM:====== WebDriver manager ======\n",
      "Current google-chrome version is 92.0.4515\n",
      "INFO:WDM:Current google-chrome version is 92.0.4515\n",
      "Get LATEST driver version for 92.0.4515\n",
      "INFO:WDM:Get LATEST driver version for 92.0.4515\n"
     ]
    },
    {
     "name": "stdout",
     "output_type": "stream",
     "text": [
      "MWET4 OK\n"
     ]
    },
    {
     "name": "stderr",
     "output_type": "stream",
     "text": [
      "Driver [/Users/leuzinger/.wdm/drivers/chromedriver/mac64/92.0.4515.107/chromedriver] found in cache\n",
      "INFO:WDM:Driver [/Users/leuzinger/.wdm/drivers/chromedriver/mac64/92.0.4515.107/chromedriver] found in cache\n",
      "\n",
      "\n",
      "INFO:WDM:\n",
      "\n",
      "====== WebDriver manager ======\n",
      "INFO:WDM:====== WebDriver manager ======\n",
      "Current google-chrome version is 92.0.4515\n",
      "INFO:WDM:Current google-chrome version is 92.0.4515\n",
      "Get LATEST driver version for 92.0.4515\n",
      "INFO:WDM:Get LATEST driver version for 92.0.4515\n"
     ]
    },
    {
     "name": "stdout",
     "output_type": "stream",
     "text": [
      "MYPK3 OK\n"
     ]
    },
    {
     "name": "stderr",
     "output_type": "stream",
     "text": [
      "Driver [/Users/leuzinger/.wdm/drivers/chromedriver/mac64/92.0.4515.107/chromedriver] found in cache\n",
      "INFO:WDM:Driver [/Users/leuzinger/.wdm/drivers/chromedriver/mac64/92.0.4515.107/chromedriver] found in cache\n",
      "\n",
      "\n",
      "INFO:WDM:\n",
      "\n",
      "====== WebDriver manager ======\n",
      "INFO:WDM:====== WebDriver manager ======\n",
      "Current google-chrome version is 92.0.4515\n",
      "INFO:WDM:Current google-chrome version is 92.0.4515\n",
      "Get LATEST driver version for 92.0.4515\n",
      "INFO:WDM:Get LATEST driver version for 92.0.4515\n"
     ]
    },
    {
     "name": "stdout",
     "output_type": "stream",
     "text": [
      "NAFG3 OK\n"
     ]
    },
    {
     "name": "stderr",
     "output_type": "stream",
     "text": [
      "Driver [/Users/leuzinger/.wdm/drivers/chromedriver/mac64/92.0.4515.107/chromedriver] found in cache\n",
      "INFO:WDM:Driver [/Users/leuzinger/.wdm/drivers/chromedriver/mac64/92.0.4515.107/chromedriver] found in cache\n",
      "\n",
      "\n",
      "INFO:WDM:\n",
      "\n",
      "====== WebDriver manager ======\n",
      "INFO:WDM:====== WebDriver manager ======\n",
      "Current google-chrome version is 92.0.4515\n",
      "INFO:WDM:Current google-chrome version is 92.0.4515\n",
      "Get LATEST driver version for 92.0.4515\n",
      "INFO:WDM:Get LATEST driver version for 92.0.4515\n"
     ]
    },
    {
     "name": "stdout",
     "output_type": "stream",
     "text": [
      "NAFG4 OK\n"
     ]
    },
    {
     "name": "stderr",
     "output_type": "stream",
     "text": [
      "Driver [/Users/leuzinger/.wdm/drivers/chromedriver/mac64/92.0.4515.107/chromedriver] found in cache\n",
      "INFO:WDM:Driver [/Users/leuzinger/.wdm/drivers/chromedriver/mac64/92.0.4515.107/chromedriver] found in cache\n",
      "\n",
      "\n",
      "INFO:WDM:\n",
      "\n",
      "====== WebDriver manager ======\n",
      "INFO:WDM:====== WebDriver manager ======\n",
      "Current google-chrome version is 92.0.4515\n",
      "INFO:WDM:Current google-chrome version is 92.0.4515\n",
      "Get LATEST driver version for 92.0.4515\n",
      "INFO:WDM:Get LATEST driver version for 92.0.4515\n"
     ]
    },
    {
     "name": "stdout",
     "output_type": "stream",
     "text": [
      "NEMO3 OK\n"
     ]
    },
    {
     "name": "stderr",
     "output_type": "stream",
     "text": [
      "Driver [/Users/leuzinger/.wdm/drivers/chromedriver/mac64/92.0.4515.107/chromedriver] found in cache\n",
      "INFO:WDM:Driver [/Users/leuzinger/.wdm/drivers/chromedriver/mac64/92.0.4515.107/chromedriver] found in cache\n",
      "\n",
      "\n",
      "INFO:WDM:\n",
      "\n",
      "====== WebDriver manager ======\n",
      "INFO:WDM:====== WebDriver manager ======\n",
      "Current google-chrome version is 92.0.4515\n",
      "INFO:WDM:Current google-chrome version is 92.0.4515\n",
      "Get LATEST driver version for 92.0.4515\n",
      "INFO:WDM:Get LATEST driver version for 92.0.4515\n"
     ]
    },
    {
     "name": "stdout",
     "output_type": "stream",
     "text": [
      "NEMO5 OK\n"
     ]
    },
    {
     "name": "stderr",
     "output_type": "stream",
     "text": [
      "Driver [/Users/leuzinger/.wdm/drivers/chromedriver/mac64/92.0.4515.107/chromedriver] found in cache\n",
      "INFO:WDM:Driver [/Users/leuzinger/.wdm/drivers/chromedriver/mac64/92.0.4515.107/chromedriver] found in cache\n",
      "\n",
      "\n",
      "INFO:WDM:\n",
      "\n",
      "====== WebDriver manager ======\n",
      "INFO:WDM:====== WebDriver manager ======\n",
      "Current google-chrome version is 92.0.4515\n",
      "INFO:WDM:Current google-chrome version is 92.0.4515\n",
      "Get LATEST driver version for 92.0.4515\n",
      "INFO:WDM:Get LATEST driver version for 92.0.4515\n"
     ]
    },
    {
     "name": "stdout",
     "output_type": "stream",
     "text": [
      "NEMO6 OK\n"
     ]
    },
    {
     "name": "stderr",
     "output_type": "stream",
     "text": [
      "Driver [/Users/leuzinger/.wdm/drivers/chromedriver/mac64/92.0.4515.107/chromedriver] found in cache\n",
      "INFO:WDM:Driver [/Users/leuzinger/.wdm/drivers/chromedriver/mac64/92.0.4515.107/chromedriver] found in cache\n",
      "\n",
      "\n",
      "INFO:WDM:\n",
      "\n",
      "====== WebDriver manager ======\n",
      "INFO:WDM:====== WebDriver manager ======\n",
      "Current google-chrome version is 92.0.4515\n",
      "INFO:WDM:Current google-chrome version is 92.0.4515\n",
      "Get LATEST driver version for 92.0.4515\n",
      "INFO:WDM:Get LATEST driver version for 92.0.4515\n"
     ]
    },
    {
     "name": "stdout",
     "output_type": "stream",
     "text": [
      "NEOE3 OK\n"
     ]
    },
    {
     "name": "stderr",
     "output_type": "stream",
     "text": [
      "Driver [/Users/leuzinger/.wdm/drivers/chromedriver/mac64/92.0.4515.107/chromedriver] found in cache\n",
      "INFO:WDM:Driver [/Users/leuzinger/.wdm/drivers/chromedriver/mac64/92.0.4515.107/chromedriver] found in cache\n",
      "\n",
      "\n",
      "INFO:WDM:\n",
      "\n",
      "====== WebDriver manager ======\n",
      "INFO:WDM:====== WebDriver manager ======\n",
      "Current google-chrome version is 92.0.4515\n",
      "INFO:WDM:Current google-chrome version is 92.0.4515\n",
      "Get LATEST driver version for 92.0.4515\n",
      "INFO:WDM:Get LATEST driver version for 92.0.4515\n"
     ]
    },
    {
     "name": "stdout",
     "output_type": "stream",
     "text": [
      "NGRD3 OK\n"
     ]
    },
    {
     "name": "stderr",
     "output_type": "stream",
     "text": [
      "Driver [/Users/leuzinger/.wdm/drivers/chromedriver/mac64/92.0.4515.107/chromedriver] found in cache\n",
      "INFO:WDM:Driver [/Users/leuzinger/.wdm/drivers/chromedriver/mac64/92.0.4515.107/chromedriver] found in cache\n",
      "\n",
      "\n",
      "INFO:WDM:\n",
      "\n",
      "====== WebDriver manager ======\n",
      "INFO:WDM:====== WebDriver manager ======\n",
      "Current google-chrome version is 92.0.4515\n",
      "INFO:WDM:Current google-chrome version is 92.0.4515\n",
      "Get LATEST driver version for 92.0.4515\n",
      "INFO:WDM:Get LATEST driver version for 92.0.4515\n"
     ]
    },
    {
     "name": "stdout",
     "output_type": "stream",
     "text": [
      "NINJ3 OK\n"
     ]
    },
    {
     "name": "stderr",
     "output_type": "stream",
     "text": [
      "Driver [/Users/leuzinger/.wdm/drivers/chromedriver/mac64/92.0.4515.107/chromedriver] found in cache\n",
      "INFO:WDM:Driver [/Users/leuzinger/.wdm/drivers/chromedriver/mac64/92.0.4515.107/chromedriver] found in cache\n",
      "\n",
      "\n",
      "INFO:WDM:\n",
      "\n",
      "====== WebDriver manager ======\n",
      "INFO:WDM:====== WebDriver manager ======\n",
      "Current google-chrome version is 92.0.4515\n",
      "INFO:WDM:Current google-chrome version is 92.0.4515\n",
      "Get LATEST driver version for 92.0.4515\n",
      "INFO:WDM:Get LATEST driver version for 92.0.4515\n"
     ]
    },
    {
     "name": "stdout",
     "output_type": "stream",
     "text": [
      "NORD3 OK\n"
     ]
    },
    {
     "name": "stderr",
     "output_type": "stream",
     "text": [
      "Driver [/Users/leuzinger/.wdm/drivers/chromedriver/mac64/92.0.4515.107/chromedriver] found in cache\n",
      "INFO:WDM:Driver [/Users/leuzinger/.wdm/drivers/chromedriver/mac64/92.0.4515.107/chromedriver] found in cache\n",
      "\n",
      "\n",
      "INFO:WDM:\n",
      "\n",
      "====== WebDriver manager ======\n",
      "INFO:WDM:====== WebDriver manager ======\n",
      "Current google-chrome version is 92.0.4515\n",
      "INFO:WDM:Current google-chrome version is 92.0.4515\n",
      "Get LATEST driver version for 92.0.4515\n",
      "INFO:WDM:Get LATEST driver version for 92.0.4515\n"
     ]
    },
    {
     "name": "stdout",
     "output_type": "stream",
     "text": [
      "NRTQ3 OK\n"
     ]
    },
    {
     "name": "stderr",
     "output_type": "stream",
     "text": [
      "Driver [/Users/leuzinger/.wdm/drivers/chromedriver/mac64/92.0.4515.107/chromedriver] found in cache\n",
      "INFO:WDM:Driver [/Users/leuzinger/.wdm/drivers/chromedriver/mac64/92.0.4515.107/chromedriver] found in cache\n",
      "\n",
      "\n",
      "INFO:WDM:\n",
      "\n",
      "====== WebDriver manager ======\n",
      "INFO:WDM:====== WebDriver manager ======\n",
      "Current google-chrome version is 92.0.4515\n",
      "INFO:WDM:Current google-chrome version is 92.0.4515\n",
      "Get LATEST driver version for 92.0.4515\n",
      "INFO:WDM:Get LATEST driver version for 92.0.4515\n"
     ]
    },
    {
     "name": "stdout",
     "output_type": "stream",
     "text": [
      "NTCO3 OK\n"
     ]
    },
    {
     "name": "stderr",
     "output_type": "stream",
     "text": [
      "Driver [/Users/leuzinger/.wdm/drivers/chromedriver/mac64/92.0.4515.107/chromedriver] found in cache\n",
      "INFO:WDM:Driver [/Users/leuzinger/.wdm/drivers/chromedriver/mac64/92.0.4515.107/chromedriver] found in cache\n",
      "\n",
      "\n",
      "INFO:WDM:\n",
      "\n",
      "====== WebDriver manager ======\n",
      "INFO:WDM:====== WebDriver manager ======\n",
      "Current google-chrome version is 92.0.4515\n",
      "INFO:WDM:Current google-chrome version is 92.0.4515\n",
      "Get LATEST driver version for 92.0.4515\n",
      "INFO:WDM:Get LATEST driver version for 92.0.4515\n"
     ]
    },
    {
     "name": "stdout",
     "output_type": "stream",
     "text": [
      "NUTR3 OK\n"
     ]
    },
    {
     "name": "stderr",
     "output_type": "stream",
     "text": [
      "Driver [/Users/leuzinger/.wdm/drivers/chromedriver/mac64/92.0.4515.107/chromedriver] found in cache\n",
      "INFO:WDM:Driver [/Users/leuzinger/.wdm/drivers/chromedriver/mac64/92.0.4515.107/chromedriver] found in cache\n",
      "\n",
      "\n",
      "INFO:WDM:\n",
      "\n",
      "====== WebDriver manager ======\n",
      "INFO:WDM:====== WebDriver manager ======\n",
      "Current google-chrome version is 92.0.4515\n",
      "INFO:WDM:Current google-chrome version is 92.0.4515\n",
      "Get LATEST driver version for 92.0.4515\n",
      "INFO:WDM:Get LATEST driver version for 92.0.4515\n"
     ]
    },
    {
     "name": "stdout",
     "output_type": "stream",
     "text": [
      "ODER4 OK\n"
     ]
    },
    {
     "name": "stderr",
     "output_type": "stream",
     "text": [
      "Driver [/Users/leuzinger/.wdm/drivers/chromedriver/mac64/92.0.4515.107/chromedriver] found in cache\n",
      "INFO:WDM:Driver [/Users/leuzinger/.wdm/drivers/chromedriver/mac64/92.0.4515.107/chromedriver] found in cache\n",
      "\n",
      "\n",
      "INFO:WDM:\n",
      "\n",
      "====== WebDriver manager ======\n",
      "INFO:WDM:====== WebDriver manager ======\n",
      "Current google-chrome version is 92.0.4515\n",
      "INFO:WDM:Current google-chrome version is 92.0.4515\n",
      "Get LATEST driver version for 92.0.4515\n",
      "INFO:WDM:Get LATEST driver version for 92.0.4515\n"
     ]
    },
    {
     "name": "stdout",
     "output_type": "stream",
     "text": [
      "ODPV3 OK\n"
     ]
    },
    {
     "name": "stderr",
     "output_type": "stream",
     "text": [
      "Driver [/Users/leuzinger/.wdm/drivers/chromedriver/mac64/92.0.4515.107/chromedriver] found in cache\n",
      "INFO:WDM:Driver [/Users/leuzinger/.wdm/drivers/chromedriver/mac64/92.0.4515.107/chromedriver] found in cache\n",
      "\n",
      "\n",
      "INFO:WDM:\n",
      "\n",
      "====== WebDriver manager ======\n",
      "INFO:WDM:====== WebDriver manager ======\n",
      "Current google-chrome version is 92.0.4515\n",
      "INFO:WDM:Current google-chrome version is 92.0.4515\n",
      "Get LATEST driver version for 92.0.4515\n",
      "INFO:WDM:Get LATEST driver version for 92.0.4515\n"
     ]
    },
    {
     "name": "stdout",
     "output_type": "stream",
     "text": [
      "OFSA3 OK\n"
     ]
    },
    {
     "name": "stderr",
     "output_type": "stream",
     "text": [
      "Driver [/Users/leuzinger/.wdm/drivers/chromedriver/mac64/92.0.4515.107/chromedriver] found in cache\n",
      "INFO:WDM:Driver [/Users/leuzinger/.wdm/drivers/chromedriver/mac64/92.0.4515.107/chromedriver] found in cache\n",
      "\n",
      "\n",
      "INFO:WDM:\n",
      "\n",
      "====== WebDriver manager ======\n",
      "INFO:WDM:====== WebDriver manager ======\n"
     ]
    },
    {
     "name": "stdout",
     "output_type": "stream",
     "text": [
      "OGXP3 OK\n"
     ]
    },
    {
     "name": "stderr",
     "output_type": "stream",
     "text": [
      "Current google-chrome version is 92.0.4515\n",
      "INFO:WDM:Current google-chrome version is 92.0.4515\n",
      "Get LATEST driver version for 92.0.4515\n",
      "INFO:WDM:Get LATEST driver version for 92.0.4515\n",
      "Driver [/Users/leuzinger/.wdm/drivers/chromedriver/mac64/92.0.4515.107/chromedriver] found in cache\n",
      "INFO:WDM:Driver [/Users/leuzinger/.wdm/drivers/chromedriver/mac64/92.0.4515.107/chromedriver] found in cache\n",
      "\n",
      "\n",
      "INFO:WDM:\n",
      "\n",
      "====== WebDriver manager ======\n",
      "INFO:WDM:====== WebDriver manager ======\n",
      "Current google-chrome version is 92.0.4515\n",
      "INFO:WDM:Current google-chrome version is 92.0.4515\n",
      "Get LATEST driver version for 92.0.4515\n",
      "INFO:WDM:Get LATEST driver version for 92.0.4515\n"
     ]
    },
    {
     "name": "stdout",
     "output_type": "stream",
     "text": [
      "OIBR3 OK\n"
     ]
    },
    {
     "name": "stderr",
     "output_type": "stream",
     "text": [
      "Driver [/Users/leuzinger/.wdm/drivers/chromedriver/mac64/92.0.4515.107/chromedriver] found in cache\n",
      "INFO:WDM:Driver [/Users/leuzinger/.wdm/drivers/chromedriver/mac64/92.0.4515.107/chromedriver] found in cache\n",
      "\n",
      "\n",
      "INFO:WDM:\n",
      "\n",
      "====== WebDriver manager ======\n",
      "INFO:WDM:====== WebDriver manager ======\n",
      "Current google-chrome version is 92.0.4515\n",
      "INFO:WDM:Current google-chrome version is 92.0.4515\n",
      "Get LATEST driver version for 92.0.4515\n",
      "INFO:WDM:Get LATEST driver version for 92.0.4515\n"
     ]
    },
    {
     "name": "stdout",
     "output_type": "stream",
     "text": [
      "OIBR4 OK\n"
     ]
    },
    {
     "name": "stderr",
     "output_type": "stream",
     "text": [
      "Driver [/Users/leuzinger/.wdm/drivers/chromedriver/mac64/92.0.4515.107/chromedriver] found in cache\n",
      "INFO:WDM:Driver [/Users/leuzinger/.wdm/drivers/chromedriver/mac64/92.0.4515.107/chromedriver] found in cache\n",
      "\n",
      "\n",
      "INFO:WDM:\n",
      "\n",
      "====== WebDriver manager ======\n",
      "INFO:WDM:====== WebDriver manager ======\n",
      "Current google-chrome version is 92.0.4515\n",
      "INFO:WDM:Current google-chrome version is 92.0.4515\n",
      "Get LATEST driver version for 92.0.4515\n",
      "INFO:WDM:Get LATEST driver version for 92.0.4515\n"
     ]
    },
    {
     "name": "stdout",
     "output_type": "stream",
     "text": [
      "OMGE3 OK\n"
     ]
    },
    {
     "name": "stderr",
     "output_type": "stream",
     "text": [
      "Driver [/Users/leuzinger/.wdm/drivers/chromedriver/mac64/92.0.4515.107/chromedriver] found in cache\n",
      "INFO:WDM:Driver [/Users/leuzinger/.wdm/drivers/chromedriver/mac64/92.0.4515.107/chromedriver] found in cache\n",
      "\n",
      "\n",
      "INFO:WDM:\n",
      "\n",
      "====== WebDriver manager ======\n",
      "INFO:WDM:====== WebDriver manager ======\n",
      "Current google-chrome version is 92.0.4515\n",
      "INFO:WDM:Current google-chrome version is 92.0.4515\n",
      "Get LATEST driver version for 92.0.4515\n",
      "INFO:WDM:Get LATEST driver version for 92.0.4515\n"
     ]
    },
    {
     "name": "stdout",
     "output_type": "stream",
     "text": [
      "OPCT3 OK\n"
     ]
    },
    {
     "name": "stderr",
     "output_type": "stream",
     "text": [
      "Driver [/Users/leuzinger/.wdm/drivers/chromedriver/mac64/92.0.4515.107/chromedriver] found in cache\n",
      "INFO:WDM:Driver [/Users/leuzinger/.wdm/drivers/chromedriver/mac64/92.0.4515.107/chromedriver] found in cache\n",
      "\n",
      "\n",
      "INFO:WDM:\n",
      "\n",
      "====== WebDriver manager ======\n",
      "INFO:WDM:====== WebDriver manager ======\n",
      "Current google-chrome version is 92.0.4515\n",
      "INFO:WDM:Current google-chrome version is 92.0.4515\n",
      "Get LATEST driver version for 92.0.4515\n",
      "INFO:WDM:Get LATEST driver version for 92.0.4515\n"
     ]
    },
    {
     "name": "stdout",
     "output_type": "stream",
     "text": [
      "ORVR3 OK\n"
     ]
    },
    {
     "name": "stderr",
     "output_type": "stream",
     "text": [
      "Driver [/Users/leuzinger/.wdm/drivers/chromedriver/mac64/92.0.4515.107/chromedriver] found in cache\n",
      "INFO:WDM:Driver [/Users/leuzinger/.wdm/drivers/chromedriver/mac64/92.0.4515.107/chromedriver] found in cache\n",
      "\n",
      "\n",
      "INFO:WDM:\n",
      "\n",
      "====== WebDriver manager ======\n",
      "INFO:WDM:====== WebDriver manager ======\n",
      "Current google-chrome version is 92.0.4515\n",
      "INFO:WDM:Current google-chrome version is 92.0.4515\n",
      "Get LATEST driver version for 92.0.4515\n",
      "INFO:WDM:Get LATEST driver version for 92.0.4515\n"
     ]
    },
    {
     "name": "stdout",
     "output_type": "stream",
     "text": [
      "OSXB3 OK\n"
     ]
    },
    {
     "name": "stderr",
     "output_type": "stream",
     "text": [
      "Driver [/Users/leuzinger/.wdm/drivers/chromedriver/mac64/92.0.4515.107/chromedriver] found in cache\n",
      "INFO:WDM:Driver [/Users/leuzinger/.wdm/drivers/chromedriver/mac64/92.0.4515.107/chromedriver] found in cache\n",
      "\n",
      "\n",
      "INFO:WDM:\n",
      "\n",
      "====== WebDriver manager ======\n",
      "INFO:WDM:====== WebDriver manager ======\n",
      "Current google-chrome version is 92.0.4515\n",
      "INFO:WDM:Current google-chrome version is 92.0.4515\n",
      "Get LATEST driver version for 92.0.4515\n",
      "INFO:WDM:Get LATEST driver version for 92.0.4515\n"
     ]
    },
    {
     "name": "stdout",
     "output_type": "stream",
     "text": [
      "PARD3 OK\n"
     ]
    },
    {
     "name": "stderr",
     "output_type": "stream",
     "text": [
      "Driver [/Users/leuzinger/.wdm/drivers/chromedriver/mac64/92.0.4515.107/chromedriver] found in cache\n",
      "INFO:WDM:Driver [/Users/leuzinger/.wdm/drivers/chromedriver/mac64/92.0.4515.107/chromedriver] found in cache\n",
      "\n",
      "\n",
      "INFO:WDM:\n",
      "\n",
      "====== WebDriver manager ======\n",
      "INFO:WDM:====== WebDriver manager ======\n",
      "Current google-chrome version is 92.0.4515\n",
      "INFO:WDM:Current google-chrome version is 92.0.4515\n",
      "Get LATEST driver version for 92.0.4515\n",
      "INFO:WDM:Get LATEST driver version for 92.0.4515\n"
     ]
    },
    {
     "name": "stdout",
     "output_type": "stream",
     "text": [
      "PATI3 OK\n"
     ]
    },
    {
     "name": "stderr",
     "output_type": "stream",
     "text": [
      "Driver [/Users/leuzinger/.wdm/drivers/chromedriver/mac64/92.0.4515.107/chromedriver] found in cache\n",
      "INFO:WDM:Driver [/Users/leuzinger/.wdm/drivers/chromedriver/mac64/92.0.4515.107/chromedriver] found in cache\n",
      "\n",
      "\n",
      "INFO:WDM:\n",
      "\n",
      "====== WebDriver manager ======\n",
      "INFO:WDM:====== WebDriver manager ======\n",
      "Current google-chrome version is 92.0.4515\n",
      "INFO:WDM:Current google-chrome version is 92.0.4515\n",
      "Get LATEST driver version for 92.0.4515\n",
      "INFO:WDM:Get LATEST driver version for 92.0.4515\n"
     ]
    },
    {
     "name": "stdout",
     "output_type": "stream",
     "text": [
      "PATI4 OK\n"
     ]
    },
    {
     "name": "stderr",
     "output_type": "stream",
     "text": [
      "Driver [/Users/leuzinger/.wdm/drivers/chromedriver/mac64/92.0.4515.107/chromedriver] found in cache\n",
      "INFO:WDM:Driver [/Users/leuzinger/.wdm/drivers/chromedriver/mac64/92.0.4515.107/chromedriver] found in cache\n",
      "\n",
      "\n",
      "INFO:WDM:\n",
      "\n",
      "====== WebDriver manager ======\n",
      "INFO:WDM:====== WebDriver manager ======\n"
     ]
    },
    {
     "name": "stdout",
     "output_type": "stream",
     "text": [
      "PCAR3 OK\n"
     ]
    },
    {
     "name": "stderr",
     "output_type": "stream",
     "text": [
      "Current google-chrome version is 92.0.4515\n",
      "INFO:WDM:Current google-chrome version is 92.0.4515\n",
      "Get LATEST driver version for 92.0.4515\n",
      "INFO:WDM:Get LATEST driver version for 92.0.4515\n",
      "Driver [/Users/leuzinger/.wdm/drivers/chromedriver/mac64/92.0.4515.107/chromedriver] found in cache\n",
      "INFO:WDM:Driver [/Users/leuzinger/.wdm/drivers/chromedriver/mac64/92.0.4515.107/chromedriver] found in cache\n",
      "\n",
      "\n",
      "INFO:WDM:\n",
      "\n",
      "====== WebDriver manager ======\n",
      "INFO:WDM:====== WebDriver manager ======\n",
      "Current google-chrome version is 92.0.4515\n",
      "INFO:WDM:Current google-chrome version is 92.0.4515\n",
      "Get LATEST driver version for 92.0.4515\n",
      "INFO:WDM:Get LATEST driver version for 92.0.4515\n"
     ]
    },
    {
     "name": "stdout",
     "output_type": "stream",
     "text": [
      "PCAR4 OK\n"
     ]
    },
    {
     "name": "stderr",
     "output_type": "stream",
     "text": [
      "Driver [/Users/leuzinger/.wdm/drivers/chromedriver/mac64/92.0.4515.107/chromedriver] found in cache\n",
      "INFO:WDM:Driver [/Users/leuzinger/.wdm/drivers/chromedriver/mac64/92.0.4515.107/chromedriver] found in cache\n",
      "\n",
      "\n",
      "INFO:WDM:\n",
      "\n",
      "====== WebDriver manager ======\n",
      "INFO:WDM:====== WebDriver manager ======\n",
      "Current google-chrome version is 92.0.4515\n",
      "INFO:WDM:Current google-chrome version is 92.0.4515\n",
      "Get LATEST driver version for 92.0.4515\n",
      "INFO:WDM:Get LATEST driver version for 92.0.4515\n"
     ]
    },
    {
     "name": "stdout",
     "output_type": "stream",
     "text": [
      "PDGR3 OK\n"
     ]
    },
    {
     "name": "stderr",
     "output_type": "stream",
     "text": [
      "Driver [/Users/leuzinger/.wdm/drivers/chromedriver/mac64/92.0.4515.107/chromedriver] found in cache\n",
      "INFO:WDM:Driver [/Users/leuzinger/.wdm/drivers/chromedriver/mac64/92.0.4515.107/chromedriver] found in cache\n",
      "\n",
      "\n",
      "INFO:WDM:\n",
      "\n",
      "====== WebDriver manager ======\n",
      "INFO:WDM:====== WebDriver manager ======\n",
      "Current google-chrome version is 92.0.4515\n",
      "INFO:WDM:Current google-chrome version is 92.0.4515\n",
      "Get LATEST driver version for 92.0.4515\n",
      "INFO:WDM:Get LATEST driver version for 92.0.4515\n"
     ]
    },
    {
     "name": "stdout",
     "output_type": "stream",
     "text": [
      "PDTC3 OK\n"
     ]
    },
    {
     "name": "stderr",
     "output_type": "stream",
     "text": [
      "Driver [/Users/leuzinger/.wdm/drivers/chromedriver/mac64/92.0.4515.107/chromedriver] found in cache\n",
      "INFO:WDM:Driver [/Users/leuzinger/.wdm/drivers/chromedriver/mac64/92.0.4515.107/chromedriver] found in cache\n",
      "\n",
      "\n",
      "INFO:WDM:\n",
      "\n",
      "====== WebDriver manager ======\n",
      "INFO:WDM:====== WebDriver manager ======\n",
      "Current google-chrome version is 92.0.4515\n",
      "INFO:WDM:Current google-chrome version is 92.0.4515\n",
      "Get LATEST driver version for 92.0.4515\n",
      "INFO:WDM:Get LATEST driver version for 92.0.4515\n"
     ]
    },
    {
     "name": "stdout",
     "output_type": "stream",
     "text": [
      "PEAB3 OK\n"
     ]
    },
    {
     "name": "stderr",
     "output_type": "stream",
     "text": [
      "Driver [/Users/leuzinger/.wdm/drivers/chromedriver/mac64/92.0.4515.107/chromedriver] found in cache\n",
      "INFO:WDM:Driver [/Users/leuzinger/.wdm/drivers/chromedriver/mac64/92.0.4515.107/chromedriver] found in cache\n",
      "\n",
      "\n",
      "INFO:WDM:\n",
      "\n",
      "====== WebDriver manager ======\n",
      "INFO:WDM:====== WebDriver manager ======\n",
      "Current google-chrome version is 92.0.4515\n",
      "INFO:WDM:Current google-chrome version is 92.0.4515\n",
      "Get LATEST driver version for 92.0.4515\n",
      "INFO:WDM:Get LATEST driver version for 92.0.4515\n"
     ]
    },
    {
     "name": "stdout",
     "output_type": "stream",
     "text": [
      "PEAB4 OK\n"
     ]
    },
    {
     "name": "stderr",
     "output_type": "stream",
     "text": [
      "Driver [/Users/leuzinger/.wdm/drivers/chromedriver/mac64/92.0.4515.107/chromedriver] found in cache\n",
      "INFO:WDM:Driver [/Users/leuzinger/.wdm/drivers/chromedriver/mac64/92.0.4515.107/chromedriver] found in cache\n",
      "\n",
      "\n",
      "INFO:WDM:\n",
      "\n",
      "====== WebDriver manager ======\n",
      "INFO:WDM:====== WebDriver manager ======\n",
      "Current google-chrome version is 92.0.4515\n",
      "INFO:WDM:Current google-chrome version is 92.0.4515\n",
      "Get LATEST driver version for 92.0.4515\n",
      "INFO:WDM:Get LATEST driver version for 92.0.4515\n"
     ]
    },
    {
     "name": "stdout",
     "output_type": "stream",
     "text": [
      "PETR3 OK\n"
     ]
    },
    {
     "name": "stderr",
     "output_type": "stream",
     "text": [
      "Driver [/Users/leuzinger/.wdm/drivers/chromedriver/mac64/92.0.4515.107/chromedriver] found in cache\n",
      "INFO:WDM:Driver [/Users/leuzinger/.wdm/drivers/chromedriver/mac64/92.0.4515.107/chromedriver] found in cache\n",
      "\n",
      "\n",
      "INFO:WDM:\n",
      "\n",
      "====== WebDriver manager ======\n",
      "INFO:WDM:====== WebDriver manager ======\n",
      "Current google-chrome version is 92.0.4515\n",
      "INFO:WDM:Current google-chrome version is 92.0.4515\n",
      "Get LATEST driver version for 92.0.4515\n",
      "INFO:WDM:Get LATEST driver version for 92.0.4515\n"
     ]
    },
    {
     "name": "stdout",
     "output_type": "stream",
     "text": [
      "PETR4 OK\n"
     ]
    },
    {
     "name": "stderr",
     "output_type": "stream",
     "text": [
      "Driver [/Users/leuzinger/.wdm/drivers/chromedriver/mac64/92.0.4515.107/chromedriver] found in cache\n",
      "INFO:WDM:Driver [/Users/leuzinger/.wdm/drivers/chromedriver/mac64/92.0.4515.107/chromedriver] found in cache\n",
      "\n",
      "\n",
      "INFO:WDM:\n",
      "\n",
      "====== WebDriver manager ======\n",
      "INFO:WDM:====== WebDriver manager ======\n",
      "Current google-chrome version is 92.0.4515\n",
      "INFO:WDM:Current google-chrome version is 92.0.4515\n",
      "Get LATEST driver version for 92.0.4515\n",
      "INFO:WDM:Get LATEST driver version for 92.0.4515\n"
     ]
    },
    {
     "name": "stdout",
     "output_type": "stream",
     "text": [
      "PETZ3 OK\n"
     ]
    },
    {
     "name": "stderr",
     "output_type": "stream",
     "text": [
      "Driver [/Users/leuzinger/.wdm/drivers/chromedriver/mac64/92.0.4515.107/chromedriver] found in cache\n",
      "INFO:WDM:Driver [/Users/leuzinger/.wdm/drivers/chromedriver/mac64/92.0.4515.107/chromedriver] found in cache\n",
      "\n",
      "\n",
      "INFO:WDM:\n",
      "\n",
      "====== WebDriver manager ======\n",
      "INFO:WDM:====== WebDriver manager ======\n",
      "Current google-chrome version is 92.0.4515\n",
      "INFO:WDM:Current google-chrome version is 92.0.4515\n",
      "Get LATEST driver version for 92.0.4515\n",
      "INFO:WDM:Get LATEST driver version for 92.0.4515\n"
     ]
    },
    {
     "name": "stdout",
     "output_type": "stream",
     "text": [
      "PFRM3 OK\n"
     ]
    },
    {
     "name": "stderr",
     "output_type": "stream",
     "text": [
      "Driver [/Users/leuzinger/.wdm/drivers/chromedriver/mac64/92.0.4515.107/chromedriver] found in cache\n",
      "INFO:WDM:Driver [/Users/leuzinger/.wdm/drivers/chromedriver/mac64/92.0.4515.107/chromedriver] found in cache\n",
      "\n",
      "\n",
      "INFO:WDM:\n",
      "\n",
      "====== WebDriver manager ======\n",
      "INFO:WDM:====== WebDriver manager ======\n",
      "Current google-chrome version is 92.0.4515\n",
      "INFO:WDM:Current google-chrome version is 92.0.4515\n",
      "Get LATEST driver version for 92.0.4515\n",
      "INFO:WDM:Get LATEST driver version for 92.0.4515\n"
     ]
    },
    {
     "name": "stdout",
     "output_type": "stream",
     "text": [
      "PGMN3 OK\n"
     ]
    },
    {
     "name": "stderr",
     "output_type": "stream",
     "text": [
      "Driver [/Users/leuzinger/.wdm/drivers/chromedriver/mac64/92.0.4515.107/chromedriver] found in cache\n",
      "INFO:WDM:Driver [/Users/leuzinger/.wdm/drivers/chromedriver/mac64/92.0.4515.107/chromedriver] found in cache\n",
      "\n",
      "\n",
      "INFO:WDM:\n",
      "\n",
      "====== WebDriver manager ======\n",
      "INFO:WDM:====== WebDriver manager ======\n",
      "Current google-chrome version is 92.0.4515\n",
      "INFO:WDM:Current google-chrome version is 92.0.4515\n",
      "Get LATEST driver version for 92.0.4515\n",
      "INFO:WDM:Get LATEST driver version for 92.0.4515\n"
     ]
    },
    {
     "name": "stdout",
     "output_type": "stream",
     "text": [
      "PINE3 OK\n"
     ]
    },
    {
     "name": "stderr",
     "output_type": "stream",
     "text": [
      "Driver [/Users/leuzinger/.wdm/drivers/chromedriver/mac64/92.0.4515.107/chromedriver] found in cache\n",
      "INFO:WDM:Driver [/Users/leuzinger/.wdm/drivers/chromedriver/mac64/92.0.4515.107/chromedriver] found in cache\n",
      "\n",
      "\n",
      "INFO:WDM:\n",
      "\n",
      "====== WebDriver manager ======\n",
      "INFO:WDM:====== WebDriver manager ======\n",
      "Current google-chrome version is 92.0.4515\n",
      "INFO:WDM:Current google-chrome version is 92.0.4515\n",
      "Get LATEST driver version for 92.0.4515\n",
      "INFO:WDM:Get LATEST driver version for 92.0.4515\n"
     ]
    },
    {
     "name": "stdout",
     "output_type": "stream",
     "text": [
      "PINE4 OK\n"
     ]
    },
    {
     "name": "stderr",
     "output_type": "stream",
     "text": [
      "Driver [/Users/leuzinger/.wdm/drivers/chromedriver/mac64/92.0.4515.107/chromedriver] found in cache\n",
      "INFO:WDM:Driver [/Users/leuzinger/.wdm/drivers/chromedriver/mac64/92.0.4515.107/chromedriver] found in cache\n",
      "\n",
      "\n",
      "INFO:WDM:\n",
      "\n",
      "====== WebDriver manager ======\n",
      "INFO:WDM:====== WebDriver manager ======\n",
      "Current google-chrome version is 92.0.4515\n",
      "INFO:WDM:Current google-chrome version is 92.0.4515\n",
      "Get LATEST driver version for 92.0.4515\n",
      "INFO:WDM:Get LATEST driver version for 92.0.4515\n"
     ]
    },
    {
     "name": "stdout",
     "output_type": "stream",
     "text": [
      "PLAS3 OK\n"
     ]
    },
    {
     "name": "stderr",
     "output_type": "stream",
     "text": [
      "Driver [/Users/leuzinger/.wdm/drivers/chromedriver/mac64/92.0.4515.107/chromedriver] found in cache\n",
      "INFO:WDM:Driver [/Users/leuzinger/.wdm/drivers/chromedriver/mac64/92.0.4515.107/chromedriver] found in cache\n",
      "\n",
      "\n",
      "INFO:WDM:\n",
      "\n",
      "====== WebDriver manager ======\n",
      "INFO:WDM:====== WebDriver manager ======\n",
      "Current google-chrome version is 92.0.4515\n",
      "INFO:WDM:Current google-chrome version is 92.0.4515\n",
      "Get LATEST driver version for 92.0.4515\n",
      "INFO:WDM:Get LATEST driver version for 92.0.4515\n"
     ]
    },
    {
     "name": "stdout",
     "output_type": "stream",
     "text": [
      "PLPL3 OK\n"
     ]
    },
    {
     "name": "stderr",
     "output_type": "stream",
     "text": [
      "Driver [/Users/leuzinger/.wdm/drivers/chromedriver/mac64/92.0.4515.107/chromedriver] found in cache\n",
      "INFO:WDM:Driver [/Users/leuzinger/.wdm/drivers/chromedriver/mac64/92.0.4515.107/chromedriver] found in cache\n",
      "\n",
      "\n",
      "INFO:WDM:\n",
      "\n",
      "====== WebDriver manager ======\n",
      "INFO:WDM:====== WebDriver manager ======\n",
      "Current google-chrome version is 92.0.4515\n",
      "INFO:WDM:Current google-chrome version is 92.0.4515\n",
      "Get LATEST driver version for 92.0.4515\n",
      "INFO:WDM:Get LATEST driver version for 92.0.4515\n"
     ]
    },
    {
     "name": "stdout",
     "output_type": "stream",
     "text": [
      "PMAM3 OK\n"
     ]
    },
    {
     "name": "stderr",
     "output_type": "stream",
     "text": [
      "Driver [/Users/leuzinger/.wdm/drivers/chromedriver/mac64/92.0.4515.107/chromedriver] found in cache\n",
      "INFO:WDM:Driver [/Users/leuzinger/.wdm/drivers/chromedriver/mac64/92.0.4515.107/chromedriver] found in cache\n",
      "\n",
      "\n",
      "INFO:WDM:\n",
      "\n",
      "====== WebDriver manager ======\n",
      "INFO:WDM:====== WebDriver manager ======\n",
      "Current google-chrome version is 92.0.4515\n",
      "INFO:WDM:Current google-chrome version is 92.0.4515\n",
      "Get LATEST driver version for 92.0.4515\n",
      "INFO:WDM:Get LATEST driver version for 92.0.4515\n"
     ]
    },
    {
     "name": "stdout",
     "output_type": "stream",
     "text": [
      "PNVL3 OK\n"
     ]
    },
    {
     "name": "stderr",
     "output_type": "stream",
     "text": [
      "Driver [/Users/leuzinger/.wdm/drivers/chromedriver/mac64/92.0.4515.107/chromedriver] found in cache\n",
      "INFO:WDM:Driver [/Users/leuzinger/.wdm/drivers/chromedriver/mac64/92.0.4515.107/chromedriver] found in cache\n",
      "\n",
      "\n",
      "INFO:WDM:\n",
      "\n",
      "====== WebDriver manager ======\n",
      "INFO:WDM:====== WebDriver manager ======\n",
      "Current google-chrome version is 92.0.4515\n",
      "INFO:WDM:Current google-chrome version is 92.0.4515\n",
      "Get LATEST driver version for 92.0.4515\n",
      "INFO:WDM:Get LATEST driver version for 92.0.4515\n"
     ]
    },
    {
     "name": "stdout",
     "output_type": "stream",
     "text": [
      "PNVL4 OK\n"
     ]
    },
    {
     "name": "stderr",
     "output_type": "stream",
     "text": [
      "Driver [/Users/leuzinger/.wdm/drivers/chromedriver/mac64/92.0.4515.107/chromedriver] found in cache\n",
      "INFO:WDM:Driver [/Users/leuzinger/.wdm/drivers/chromedriver/mac64/92.0.4515.107/chromedriver] found in cache\n",
      "\n",
      "\n",
      "INFO:WDM:\n",
      "\n",
      "====== WebDriver manager ======\n",
      "INFO:WDM:====== WebDriver manager ======\n",
      "Current google-chrome version is 92.0.4515\n",
      "INFO:WDM:Current google-chrome version is 92.0.4515\n",
      "Get LATEST driver version for 92.0.4515\n",
      "INFO:WDM:Get LATEST driver version for 92.0.4515\n"
     ]
    },
    {
     "name": "stdout",
     "output_type": "stream",
     "text": [
      "POMO3 OK\n"
     ]
    },
    {
     "name": "stderr",
     "output_type": "stream",
     "text": [
      "Driver [/Users/leuzinger/.wdm/drivers/chromedriver/mac64/92.0.4515.107/chromedriver] found in cache\n",
      "INFO:WDM:Driver [/Users/leuzinger/.wdm/drivers/chromedriver/mac64/92.0.4515.107/chromedriver] found in cache\n",
      "\n",
      "\n",
      "INFO:WDM:\n",
      "\n",
      "====== WebDriver manager ======\n",
      "INFO:WDM:====== WebDriver manager ======\n",
      "Current google-chrome version is 92.0.4515\n",
      "INFO:WDM:Current google-chrome version is 92.0.4515\n",
      "Get LATEST driver version for 92.0.4515\n",
      "INFO:WDM:Get LATEST driver version for 92.0.4515\n"
     ]
    },
    {
     "name": "stdout",
     "output_type": "stream",
     "text": [
      "POMO4 OK\n"
     ]
    },
    {
     "name": "stderr",
     "output_type": "stream",
     "text": [
      "Driver [/Users/leuzinger/.wdm/drivers/chromedriver/mac64/92.0.4515.107/chromedriver] found in cache\n",
      "INFO:WDM:Driver [/Users/leuzinger/.wdm/drivers/chromedriver/mac64/92.0.4515.107/chromedriver] found in cache\n",
      "\n",
      "\n",
      "INFO:WDM:\n",
      "\n",
      "====== WebDriver manager ======\n",
      "INFO:WDM:====== WebDriver manager ======\n",
      "Current google-chrome version is 92.0.4515\n",
      "INFO:WDM:Current google-chrome version is 92.0.4515\n",
      "Get LATEST driver version for 92.0.4515\n",
      "INFO:WDM:Get LATEST driver version for 92.0.4515\n"
     ]
    },
    {
     "name": "stdout",
     "output_type": "stream",
     "text": [
      "POSI3 OK\n"
     ]
    },
    {
     "name": "stderr",
     "output_type": "stream",
     "text": [
      "Driver [/Users/leuzinger/.wdm/drivers/chromedriver/mac64/92.0.4515.107/chromedriver] found in cache\n",
      "INFO:WDM:Driver [/Users/leuzinger/.wdm/drivers/chromedriver/mac64/92.0.4515.107/chromedriver] found in cache\n",
      "\n",
      "\n",
      "INFO:WDM:\n",
      "\n",
      "====== WebDriver manager ======\n",
      "INFO:WDM:====== WebDriver manager ======\n",
      "Current google-chrome version is 92.0.4515\n",
      "INFO:WDM:Current google-chrome version is 92.0.4515\n",
      "Get LATEST driver version for 92.0.4515\n",
      "INFO:WDM:Get LATEST driver version for 92.0.4515\n"
     ]
    },
    {
     "name": "stdout",
     "output_type": "stream",
     "text": [
      "POWE3 OK\n"
     ]
    },
    {
     "name": "stderr",
     "output_type": "stream",
     "text": [
      "Driver [/Users/leuzinger/.wdm/drivers/chromedriver/mac64/92.0.4515.107/chromedriver] found in cache\n",
      "INFO:WDM:Driver [/Users/leuzinger/.wdm/drivers/chromedriver/mac64/92.0.4515.107/chromedriver] found in cache\n",
      "\n",
      "\n",
      "INFO:WDM:\n",
      "\n",
      "====== WebDriver manager ======\n",
      "INFO:WDM:====== WebDriver manager ======\n",
      "Current google-chrome version is 92.0.4515\n",
      "INFO:WDM:Current google-chrome version is 92.0.4515\n",
      "Get LATEST driver version for 92.0.4515\n",
      "INFO:WDM:Get LATEST driver version for 92.0.4515\n"
     ]
    },
    {
     "name": "stdout",
     "output_type": "stream",
     "text": [
      "PPAR3 OK\n"
     ]
    },
    {
     "name": "stderr",
     "output_type": "stream",
     "text": [
      "Driver [/Users/leuzinger/.wdm/drivers/chromedriver/mac64/92.0.4515.107/chromedriver] found in cache\n",
      "INFO:WDM:Driver [/Users/leuzinger/.wdm/drivers/chromedriver/mac64/92.0.4515.107/chromedriver] found in cache\n",
      "\n",
      "\n",
      "INFO:WDM:\n",
      "\n",
      "====== WebDriver manager ======\n",
      "INFO:WDM:====== WebDriver manager ======\n",
      "Current google-chrome version is 92.0.4515\n",
      "INFO:WDM:Current google-chrome version is 92.0.4515\n",
      "Get LATEST driver version for 92.0.4515\n",
      "INFO:WDM:Get LATEST driver version for 92.0.4515\n"
     ]
    },
    {
     "name": "stdout",
     "output_type": "stream",
     "text": [
      "PPLA11 OK\n"
     ]
    },
    {
     "name": "stderr",
     "output_type": "stream",
     "text": [
      "Driver [/Users/leuzinger/.wdm/drivers/chromedriver/mac64/92.0.4515.107/chromedriver] found in cache\n",
      "INFO:WDM:Driver [/Users/leuzinger/.wdm/drivers/chromedriver/mac64/92.0.4515.107/chromedriver] found in cache\n",
      "\n",
      "\n",
      "INFO:WDM:\n",
      "\n",
      "====== WebDriver manager ======\n",
      "INFO:WDM:====== WebDriver manager ======\n",
      "Current google-chrome version is 92.0.4515\n",
      "INFO:WDM:Current google-chrome version is 92.0.4515\n",
      "Get LATEST driver version for 92.0.4515\n",
      "INFO:WDM:Get LATEST driver version for 92.0.4515\n"
     ]
    },
    {
     "name": "stdout",
     "output_type": "stream",
     "text": [
      "PRIO3 OK\n"
     ]
    },
    {
     "name": "stderr",
     "output_type": "stream",
     "text": [
      "Driver [/Users/leuzinger/.wdm/drivers/chromedriver/mac64/92.0.4515.107/chromedriver] found in cache\n",
      "INFO:WDM:Driver [/Users/leuzinger/.wdm/drivers/chromedriver/mac64/92.0.4515.107/chromedriver] found in cache\n",
      "\n",
      "\n",
      "INFO:WDM:\n",
      "\n",
      "====== WebDriver manager ======\n",
      "INFO:WDM:====== WebDriver manager ======\n",
      "Current google-chrome version is 92.0.4515\n",
      "INFO:WDM:Current google-chrome version is 92.0.4515\n",
      "Get LATEST driver version for 92.0.4515\n",
      "INFO:WDM:Get LATEST driver version for 92.0.4515\n"
     ]
    },
    {
     "name": "stdout",
     "output_type": "stream",
     "text": [
      "PRNR3 OK\n"
     ]
    },
    {
     "name": "stderr",
     "output_type": "stream",
     "text": [
      "Driver [/Users/leuzinger/.wdm/drivers/chromedriver/mac64/92.0.4515.107/chromedriver] found in cache\n",
      "INFO:WDM:Driver [/Users/leuzinger/.wdm/drivers/chromedriver/mac64/92.0.4515.107/chromedriver] found in cache\n",
      "\n",
      "\n",
      "INFO:WDM:\n",
      "\n",
      "====== WebDriver manager ======\n",
      "INFO:WDM:====== WebDriver manager ======\n",
      "Current google-chrome version is 92.0.4515\n",
      "INFO:WDM:Current google-chrome version is 92.0.4515\n",
      "Get LATEST driver version for 92.0.4515\n",
      "INFO:WDM:Get LATEST driver version for 92.0.4515\n"
     ]
    },
    {
     "name": "stdout",
     "output_type": "stream",
     "text": [
      "PSSA3 OK\n"
     ]
    },
    {
     "name": "stderr",
     "output_type": "stream",
     "text": [
      "Driver [/Users/leuzinger/.wdm/drivers/chromedriver/mac64/92.0.4515.107/chromedriver] found in cache\n",
      "INFO:WDM:Driver [/Users/leuzinger/.wdm/drivers/chromedriver/mac64/92.0.4515.107/chromedriver] found in cache\n",
      "\n",
      "\n",
      "INFO:WDM:\n",
      "\n",
      "====== WebDriver manager ======\n",
      "INFO:WDM:====== WebDriver manager ======\n",
      "Current google-chrome version is 92.0.4515\n",
      "INFO:WDM:Current google-chrome version is 92.0.4515\n",
      "Get LATEST driver version for 92.0.4515\n",
      "INFO:WDM:Get LATEST driver version for 92.0.4515\n"
     ]
    },
    {
     "name": "stdout",
     "output_type": "stream",
     "text": [
      "PTBL3 OK\n"
     ]
    },
    {
     "name": "stderr",
     "output_type": "stream",
     "text": [
      "Driver [/Users/leuzinger/.wdm/drivers/chromedriver/mac64/92.0.4515.107/chromedriver] found in cache\n",
      "INFO:WDM:Driver [/Users/leuzinger/.wdm/drivers/chromedriver/mac64/92.0.4515.107/chromedriver] found in cache\n",
      "\n",
      "\n",
      "INFO:WDM:\n",
      "\n",
      "====== WebDriver manager ======\n",
      "INFO:WDM:====== WebDriver manager ======\n",
      "Current google-chrome version is 92.0.4515\n",
      "INFO:WDM:Current google-chrome version is 92.0.4515\n",
      "Get LATEST driver version for 92.0.4515\n",
      "INFO:WDM:Get LATEST driver version for 92.0.4515\n"
     ]
    },
    {
     "name": "stdout",
     "output_type": "stream",
     "text": [
      "PTCA11 OK\n"
     ]
    },
    {
     "name": "stderr",
     "output_type": "stream",
     "text": [
      "Driver [/Users/leuzinger/.wdm/drivers/chromedriver/mac64/92.0.4515.107/chromedriver] found in cache\n",
      "INFO:WDM:Driver [/Users/leuzinger/.wdm/drivers/chromedriver/mac64/92.0.4515.107/chromedriver] found in cache\n",
      "\n",
      "\n",
      "INFO:WDM:\n",
      "\n",
      "====== WebDriver manager ======\n",
      "INFO:WDM:====== WebDriver manager ======\n",
      "Current google-chrome version is 92.0.4515\n",
      "INFO:WDM:Current google-chrome version is 92.0.4515\n",
      "Get LATEST driver version for 92.0.4515\n",
      "INFO:WDM:Get LATEST driver version for 92.0.4515\n"
     ]
    },
    {
     "name": "stdout",
     "output_type": "stream",
     "text": [
      "PTCA3 OK\n"
     ]
    },
    {
     "name": "stderr",
     "output_type": "stream",
     "text": [
      "Driver [/Users/leuzinger/.wdm/drivers/chromedriver/mac64/92.0.4515.107/chromedriver] found in cache\n",
      "INFO:WDM:Driver [/Users/leuzinger/.wdm/drivers/chromedriver/mac64/92.0.4515.107/chromedriver] found in cache\n",
      "\n",
      "\n",
      "INFO:WDM:\n",
      "\n",
      "====== WebDriver manager ======\n",
      "INFO:WDM:====== WebDriver manager ======\n",
      "Current google-chrome version is 92.0.4515\n",
      "INFO:WDM:Current google-chrome version is 92.0.4515\n",
      "Get LATEST driver version for 92.0.4515\n",
      "INFO:WDM:Get LATEST driver version for 92.0.4515\n"
     ]
    },
    {
     "name": "stdout",
     "output_type": "stream",
     "text": [
      "PTNT3 OK\n"
     ]
    },
    {
     "name": "stderr",
     "output_type": "stream",
     "text": [
      "Driver [/Users/leuzinger/.wdm/drivers/chromedriver/mac64/92.0.4515.107/chromedriver] found in cache\n",
      "INFO:WDM:Driver [/Users/leuzinger/.wdm/drivers/chromedriver/mac64/92.0.4515.107/chromedriver] found in cache\n",
      "\n",
      "\n",
      "INFO:WDM:\n",
      "\n",
      "====== WebDriver manager ======\n",
      "INFO:WDM:====== WebDriver manager ======\n",
      "Current google-chrome version is 92.0.4515\n",
      "INFO:WDM:Current google-chrome version is 92.0.4515\n",
      "Get LATEST driver version for 92.0.4515\n",
      "INFO:WDM:Get LATEST driver version for 92.0.4515\n"
     ]
    },
    {
     "name": "stdout",
     "output_type": "stream",
     "text": [
      "PTNT4 OK\n"
     ]
    },
    {
     "name": "stderr",
     "output_type": "stream",
     "text": [
      "Driver [/Users/leuzinger/.wdm/drivers/chromedriver/mac64/92.0.4515.107/chromedriver] found in cache\n",
      "INFO:WDM:Driver [/Users/leuzinger/.wdm/drivers/chromedriver/mac64/92.0.4515.107/chromedriver] found in cache\n",
      "\n",
      "\n",
      "INFO:WDM:\n",
      "\n",
      "====== WebDriver manager ======\n",
      "INFO:WDM:====== WebDriver manager ======\n",
      "Current google-chrome version is 92.0.4515\n",
      "INFO:WDM:Current google-chrome version is 92.0.4515\n",
      "Get LATEST driver version for 92.0.4515\n",
      "INFO:WDM:Get LATEST driver version for 92.0.4515\n"
     ]
    },
    {
     "name": "stdout",
     "output_type": "stream",
     "text": [
      "QUAL3 OK\n"
     ]
    },
    {
     "name": "stderr",
     "output_type": "stream",
     "text": [
      "Driver [/Users/leuzinger/.wdm/drivers/chromedriver/mac64/92.0.4515.107/chromedriver] found in cache\n",
      "INFO:WDM:Driver [/Users/leuzinger/.wdm/drivers/chromedriver/mac64/92.0.4515.107/chromedriver] found in cache\n",
      "\n",
      "\n",
      "INFO:WDM:\n",
      "\n",
      "====== WebDriver manager ======\n",
      "INFO:WDM:====== WebDriver manager ======\n",
      "Current google-chrome version is 92.0.4515\n",
      "INFO:WDM:Current google-chrome version is 92.0.4515\n",
      "Get LATEST driver version for 92.0.4515\n",
      "INFO:WDM:Get LATEST driver version for 92.0.4515\n"
     ]
    },
    {
     "name": "stdout",
     "output_type": "stream",
     "text": [
      "QUSW3 OK\n"
     ]
    },
    {
     "name": "stderr",
     "output_type": "stream",
     "text": [
      "Driver [/Users/leuzinger/.wdm/drivers/chromedriver/mac64/92.0.4515.107/chromedriver] found in cache\n",
      "INFO:WDM:Driver [/Users/leuzinger/.wdm/drivers/chromedriver/mac64/92.0.4515.107/chromedriver] found in cache\n",
      "\n",
      "\n",
      "INFO:WDM:\n",
      "\n",
      "====== WebDriver manager ======\n",
      "INFO:WDM:====== WebDriver manager ======\n",
      "Current google-chrome version is 92.0.4515\n",
      "INFO:WDM:Current google-chrome version is 92.0.4515\n",
      "Get LATEST driver version for 92.0.4515\n",
      "INFO:WDM:Get LATEST driver version for 92.0.4515\n"
     ]
    },
    {
     "name": "stdout",
     "output_type": "stream",
     "text": [
      "QVQP3B OK\n"
     ]
    },
    {
     "name": "stderr",
     "output_type": "stream",
     "text": [
      "Driver [/Users/leuzinger/.wdm/drivers/chromedriver/mac64/92.0.4515.107/chromedriver] found in cache\n",
      "INFO:WDM:Driver [/Users/leuzinger/.wdm/drivers/chromedriver/mac64/92.0.4515.107/chromedriver] found in cache\n",
      "\n",
      "\n",
      "INFO:WDM:\n",
      "\n",
      "====== WebDriver manager ======\n",
      "INFO:WDM:====== WebDriver manager ======\n",
      "Current google-chrome version is 92.0.4515\n",
      "INFO:WDM:Current google-chrome version is 92.0.4515\n",
      "Get LATEST driver version for 92.0.4515\n",
      "INFO:WDM:Get LATEST driver version for 92.0.4515\n"
     ]
    },
    {
     "name": "stdout",
     "output_type": "stream",
     "text": [
      "RADL3 OK\n"
     ]
    },
    {
     "name": "stderr",
     "output_type": "stream",
     "text": [
      "Driver [/Users/leuzinger/.wdm/drivers/chromedriver/mac64/92.0.4515.107/chromedriver] found in cache\n",
      "INFO:WDM:Driver [/Users/leuzinger/.wdm/drivers/chromedriver/mac64/92.0.4515.107/chromedriver] found in cache\n",
      "\n",
      "\n",
      "INFO:WDM:\n",
      "\n",
      "====== WebDriver manager ======\n",
      "INFO:WDM:====== WebDriver manager ======\n",
      "Current google-chrome version is 92.0.4515\n",
      "INFO:WDM:Current google-chrome version is 92.0.4515\n",
      "Get LATEST driver version for 92.0.4515\n",
      "INFO:WDM:Get LATEST driver version for 92.0.4515\n"
     ]
    },
    {
     "name": "stdout",
     "output_type": "stream",
     "text": [
      "RAIL3 OK\n"
     ]
    },
    {
     "name": "stderr",
     "output_type": "stream",
     "text": [
      "Driver [/Users/leuzinger/.wdm/drivers/chromedriver/mac64/92.0.4515.107/chromedriver] found in cache\n",
      "INFO:WDM:Driver [/Users/leuzinger/.wdm/drivers/chromedriver/mac64/92.0.4515.107/chromedriver] found in cache\n",
      "\n",
      "\n",
      "INFO:WDM:\n",
      "\n",
      "====== WebDriver manager ======\n",
      "INFO:WDM:====== WebDriver manager ======\n",
      "Current google-chrome version is 92.0.4515\n",
      "INFO:WDM:Current google-chrome version is 92.0.4515\n",
      "Get LATEST driver version for 92.0.4515\n",
      "INFO:WDM:Get LATEST driver version for 92.0.4515\n"
     ]
    },
    {
     "name": "stdout",
     "output_type": "stream",
     "text": [
      "RANI3 OK\n"
     ]
    },
    {
     "name": "stderr",
     "output_type": "stream",
     "text": [
      "Driver [/Users/leuzinger/.wdm/drivers/chromedriver/mac64/92.0.4515.107/chromedriver] found in cache\n",
      "INFO:WDM:Driver [/Users/leuzinger/.wdm/drivers/chromedriver/mac64/92.0.4515.107/chromedriver] found in cache\n",
      "\n",
      "\n",
      "INFO:WDM:\n",
      "\n",
      "====== WebDriver manager ======\n",
      "INFO:WDM:====== WebDriver manager ======\n",
      "Current google-chrome version is 92.0.4515\n",
      "INFO:WDM:Current google-chrome version is 92.0.4515\n",
      "Get LATEST driver version for 92.0.4515\n",
      "INFO:WDM:Get LATEST driver version for 92.0.4515\n"
     ]
    },
    {
     "name": "stdout",
     "output_type": "stream",
     "text": [
      "RANI4 OK\n"
     ]
    },
    {
     "name": "stderr",
     "output_type": "stream",
     "text": [
      "Driver [/Users/leuzinger/.wdm/drivers/chromedriver/mac64/92.0.4515.107/chromedriver] found in cache\n",
      "INFO:WDM:Driver [/Users/leuzinger/.wdm/drivers/chromedriver/mac64/92.0.4515.107/chromedriver] found in cache\n",
      "\n",
      "\n",
      "INFO:WDM:\n",
      "\n",
      "====== WebDriver manager ======\n",
      "INFO:WDM:====== WebDriver manager ======\n",
      "Current google-chrome version is 92.0.4515\n",
      "INFO:WDM:Current google-chrome version is 92.0.4515\n",
      "Get LATEST driver version for 92.0.4515\n",
      "INFO:WDM:Get LATEST driver version for 92.0.4515\n"
     ]
    },
    {
     "name": "stdout",
     "output_type": "stream",
     "text": [
      "RAPT3 OK\n"
     ]
    },
    {
     "name": "stderr",
     "output_type": "stream",
     "text": [
      "Driver [/Users/leuzinger/.wdm/drivers/chromedriver/mac64/92.0.4515.107/chromedriver] found in cache\n",
      "INFO:WDM:Driver [/Users/leuzinger/.wdm/drivers/chromedriver/mac64/92.0.4515.107/chromedriver] found in cache\n",
      "\n",
      "\n",
      "INFO:WDM:\n",
      "\n",
      "====== WebDriver manager ======\n",
      "INFO:WDM:====== WebDriver manager ======\n",
      "Current google-chrome version is 92.0.4515\n",
      "INFO:WDM:Current google-chrome version is 92.0.4515\n",
      "Get LATEST driver version for 92.0.4515\n",
      "INFO:WDM:Get LATEST driver version for 92.0.4515\n"
     ]
    },
    {
     "name": "stdout",
     "output_type": "stream",
     "text": [
      "RAPT4 OK\n"
     ]
    },
    {
     "name": "stderr",
     "output_type": "stream",
     "text": [
      "Driver [/Users/leuzinger/.wdm/drivers/chromedriver/mac64/92.0.4515.107/chromedriver] found in cache\n",
      "INFO:WDM:Driver [/Users/leuzinger/.wdm/drivers/chromedriver/mac64/92.0.4515.107/chromedriver] found in cache\n",
      "\n",
      "\n",
      "INFO:WDM:\n",
      "\n",
      "====== WebDriver manager ======\n",
      "INFO:WDM:====== WebDriver manager ======\n",
      "Current google-chrome version is 92.0.4515\n",
      "INFO:WDM:Current google-chrome version is 92.0.4515\n",
      "Get LATEST driver version for 92.0.4515\n",
      "INFO:WDM:Get LATEST driver version for 92.0.4515\n"
     ]
    },
    {
     "name": "stdout",
     "output_type": "stream",
     "text": [
      "RCSL3 OK\n"
     ]
    },
    {
     "name": "stderr",
     "output_type": "stream",
     "text": [
      "Driver [/Users/leuzinger/.wdm/drivers/chromedriver/mac64/92.0.4515.107/chromedriver] found in cache\n",
      "INFO:WDM:Driver [/Users/leuzinger/.wdm/drivers/chromedriver/mac64/92.0.4515.107/chromedriver] found in cache\n",
      "\n",
      "\n",
      "INFO:WDM:\n",
      "\n",
      "====== WebDriver manager ======\n",
      "INFO:WDM:====== WebDriver manager ======\n",
      "Current google-chrome version is 92.0.4515\n",
      "INFO:WDM:Current google-chrome version is 92.0.4515\n",
      "Get LATEST driver version for 92.0.4515\n",
      "INFO:WDM:Get LATEST driver version for 92.0.4515\n"
     ]
    },
    {
     "name": "stdout",
     "output_type": "stream",
     "text": [
      "RCSL4 OK\n"
     ]
    },
    {
     "name": "stderr",
     "output_type": "stream",
     "text": [
      "Driver [/Users/leuzinger/.wdm/drivers/chromedriver/mac64/92.0.4515.107/chromedriver] found in cache\n",
      "INFO:WDM:Driver [/Users/leuzinger/.wdm/drivers/chromedriver/mac64/92.0.4515.107/chromedriver] found in cache\n",
      "\n",
      "\n",
      "INFO:WDM:\n",
      "\n",
      "====== WebDriver manager ======\n",
      "INFO:WDM:====== WebDriver manager ======\n",
      "Current google-chrome version is 92.0.4515\n",
      "INFO:WDM:Current google-chrome version is 92.0.4515\n",
      "Get LATEST driver version for 92.0.4515\n",
      "INFO:WDM:Get LATEST driver version for 92.0.4515\n"
     ]
    },
    {
     "name": "stdout",
     "output_type": "stream",
     "text": [
      "RDNI3 OK\n"
     ]
    },
    {
     "name": "stderr",
     "output_type": "stream",
     "text": [
      "Driver [/Users/leuzinger/.wdm/drivers/chromedriver/mac64/92.0.4515.107/chromedriver] found in cache\n",
      "INFO:WDM:Driver [/Users/leuzinger/.wdm/drivers/chromedriver/mac64/92.0.4515.107/chromedriver] found in cache\n",
      "\n",
      "\n",
      "INFO:WDM:\n",
      "\n",
      "====== WebDriver manager ======\n",
      "INFO:WDM:====== WebDriver manager ======\n",
      "Current google-chrome version is 92.0.4515\n",
      "INFO:WDM:Current google-chrome version is 92.0.4515\n",
      "Get LATEST driver version for 92.0.4515\n",
      "INFO:WDM:Get LATEST driver version for 92.0.4515\n"
     ]
    },
    {
     "name": "stdout",
     "output_type": "stream",
     "text": [
      "RDOR3 OK\n"
     ]
    },
    {
     "name": "stderr",
     "output_type": "stream",
     "text": [
      "Driver [/Users/leuzinger/.wdm/drivers/chromedriver/mac64/92.0.4515.107/chromedriver] found in cache\n",
      "INFO:WDM:Driver [/Users/leuzinger/.wdm/drivers/chromedriver/mac64/92.0.4515.107/chromedriver] found in cache\n",
      "\n",
      "\n",
      "INFO:WDM:\n",
      "\n",
      "====== WebDriver manager ======\n",
      "INFO:WDM:====== WebDriver manager ======\n",
      "Current google-chrome version is 92.0.4515\n",
      "INFO:WDM:Current google-chrome version is 92.0.4515\n",
      "Get LATEST driver version for 92.0.4515\n",
      "INFO:WDM:Get LATEST driver version for 92.0.4515\n"
     ]
    },
    {
     "name": "stdout",
     "output_type": "stream",
     "text": [
      "RECV3 OK\n"
     ]
    },
    {
     "name": "stderr",
     "output_type": "stream",
     "text": [
      "Driver [/Users/leuzinger/.wdm/drivers/chromedriver/mac64/92.0.4515.107/chromedriver] found in cache\n",
      "INFO:WDM:Driver [/Users/leuzinger/.wdm/drivers/chromedriver/mac64/92.0.4515.107/chromedriver] found in cache\n",
      "\n",
      "\n",
      "INFO:WDM:\n",
      "\n",
      "====== WebDriver manager ======\n",
      "INFO:WDM:====== WebDriver manager ======\n",
      "Current google-chrome version is 92.0.4515\n",
      "INFO:WDM:Current google-chrome version is 92.0.4515\n",
      "Get LATEST driver version for 92.0.4515\n",
      "INFO:WDM:Get LATEST driver version for 92.0.4515\n"
     ]
    },
    {
     "name": "stdout",
     "output_type": "stream",
     "text": [
      "REDE3 OK\n"
     ]
    },
    {
     "name": "stderr",
     "output_type": "stream",
     "text": [
      "Driver [/Users/leuzinger/.wdm/drivers/chromedriver/mac64/92.0.4515.107/chromedriver] found in cache\n",
      "INFO:WDM:Driver [/Users/leuzinger/.wdm/drivers/chromedriver/mac64/92.0.4515.107/chromedriver] found in cache\n",
      "\n",
      "\n",
      "INFO:WDM:\n",
      "\n",
      "====== WebDriver manager ======\n",
      "INFO:WDM:====== WebDriver manager ======\n",
      "Current google-chrome version is 92.0.4515\n",
      "INFO:WDM:Current google-chrome version is 92.0.4515\n",
      "Get LATEST driver version for 92.0.4515\n",
      "INFO:WDM:Get LATEST driver version for 92.0.4515\n"
     ]
    },
    {
     "name": "stdout",
     "output_type": "stream",
     "text": [
      "RENT3 OK\n"
     ]
    },
    {
     "name": "stderr",
     "output_type": "stream",
     "text": [
      "Driver [/Users/leuzinger/.wdm/drivers/chromedriver/mac64/92.0.4515.107/chromedriver] found in cache\n",
      "INFO:WDM:Driver [/Users/leuzinger/.wdm/drivers/chromedriver/mac64/92.0.4515.107/chromedriver] found in cache\n",
      "\n",
      "\n",
      "INFO:WDM:\n",
      "\n",
      "====== WebDriver manager ======\n",
      "INFO:WDM:====== WebDriver manager ======\n",
      "Current google-chrome version is 92.0.4515\n",
      "INFO:WDM:Current google-chrome version is 92.0.4515\n",
      "Get LATEST driver version for 92.0.4515\n",
      "INFO:WDM:Get LATEST driver version for 92.0.4515\n"
     ]
    },
    {
     "name": "stdout",
     "output_type": "stream",
     "text": [
      "RLOG3 OK\n"
     ]
    },
    {
     "name": "stderr",
     "output_type": "stream",
     "text": [
      "Driver [/Users/leuzinger/.wdm/drivers/chromedriver/mac64/92.0.4515.107/chromedriver] found in cache\n",
      "INFO:WDM:Driver [/Users/leuzinger/.wdm/drivers/chromedriver/mac64/92.0.4515.107/chromedriver] found in cache\n",
      "\n",
      "\n",
      "INFO:WDM:\n",
      "\n",
      "====== WebDriver manager ======\n",
      "INFO:WDM:====== WebDriver manager ======\n",
      "Current google-chrome version is 92.0.4515\n",
      "INFO:WDM:Current google-chrome version is 92.0.4515\n",
      "Get LATEST driver version for 92.0.4515\n",
      "INFO:WDM:Get LATEST driver version for 92.0.4515\n"
     ]
    },
    {
     "name": "stdout",
     "output_type": "stream",
     "text": [
      "RNEW11 OK\n"
     ]
    },
    {
     "name": "stderr",
     "output_type": "stream",
     "text": [
      "Driver [/Users/leuzinger/.wdm/drivers/chromedriver/mac64/92.0.4515.107/chromedriver] found in cache\n",
      "INFO:WDM:Driver [/Users/leuzinger/.wdm/drivers/chromedriver/mac64/92.0.4515.107/chromedriver] found in cache\n",
      "\n",
      "\n",
      "INFO:WDM:\n",
      "\n",
      "====== WebDriver manager ======\n",
      "INFO:WDM:====== WebDriver manager ======\n",
      "Current google-chrome version is 92.0.4515\n",
      "INFO:WDM:Current google-chrome version is 92.0.4515\n",
      "Get LATEST driver version for 92.0.4515\n",
      "INFO:WDM:Get LATEST driver version for 92.0.4515\n"
     ]
    },
    {
     "name": "stdout",
     "output_type": "stream",
     "text": [
      "RNEW3 OK\n"
     ]
    },
    {
     "name": "stderr",
     "output_type": "stream",
     "text": [
      "Driver [/Users/leuzinger/.wdm/drivers/chromedriver/mac64/92.0.4515.107/chromedriver] found in cache\n",
      "INFO:WDM:Driver [/Users/leuzinger/.wdm/drivers/chromedriver/mac64/92.0.4515.107/chromedriver] found in cache\n",
      "\n",
      "\n",
      "INFO:WDM:\n",
      "\n",
      "====== WebDriver manager ======\n",
      "INFO:WDM:====== WebDriver manager ======\n",
      "Current google-chrome version is 92.0.4515\n",
      "INFO:WDM:Current google-chrome version is 92.0.4515\n",
      "Get LATEST driver version for 92.0.4515\n",
      "INFO:WDM:Get LATEST driver version for 92.0.4515\n"
     ]
    },
    {
     "name": "stdout",
     "output_type": "stream",
     "text": [
      "RNEW4 OK\n"
     ]
    },
    {
     "name": "stderr",
     "output_type": "stream",
     "text": [
      "Driver [/Users/leuzinger/.wdm/drivers/chromedriver/mac64/92.0.4515.107/chromedriver] found in cache\n",
      "INFO:WDM:Driver [/Users/leuzinger/.wdm/drivers/chromedriver/mac64/92.0.4515.107/chromedriver] found in cache\n",
      "\n",
      "\n",
      "INFO:WDM:\n",
      "\n",
      "====== WebDriver manager ======\n",
      "INFO:WDM:====== WebDriver manager ======\n",
      "Current google-chrome version is 92.0.4515\n",
      "INFO:WDM:Current google-chrome version is 92.0.4515\n",
      "Get LATEST driver version for 92.0.4515\n",
      "INFO:WDM:Get LATEST driver version for 92.0.4515\n"
     ]
    },
    {
     "name": "stdout",
     "output_type": "stream",
     "text": [
      "ROMI3 OK\n"
     ]
    },
    {
     "name": "stderr",
     "output_type": "stream",
     "text": [
      "Driver [/Users/leuzinger/.wdm/drivers/chromedriver/mac64/92.0.4515.107/chromedriver] found in cache\n",
      "INFO:WDM:Driver [/Users/leuzinger/.wdm/drivers/chromedriver/mac64/92.0.4515.107/chromedriver] found in cache\n",
      "\n",
      "\n",
      "INFO:WDM:\n",
      "\n",
      "====== WebDriver manager ======\n",
      "INFO:WDM:====== WebDriver manager ======\n",
      "Current google-chrome version is 92.0.4515\n",
      "INFO:WDM:Current google-chrome version is 92.0.4515\n",
      "Get LATEST driver version for 92.0.4515\n",
      "INFO:WDM:Get LATEST driver version for 92.0.4515\n"
     ]
    },
    {
     "name": "stdout",
     "output_type": "stream",
     "text": [
      "RPAD3 OK\n"
     ]
    },
    {
     "name": "stderr",
     "output_type": "stream",
     "text": [
      "Driver [/Users/leuzinger/.wdm/drivers/chromedriver/mac64/92.0.4515.107/chromedriver] found in cache\n",
      "INFO:WDM:Driver [/Users/leuzinger/.wdm/drivers/chromedriver/mac64/92.0.4515.107/chromedriver] found in cache\n",
      "\n",
      "\n",
      "INFO:WDM:\n",
      "\n",
      "====== WebDriver manager ======\n",
      "INFO:WDM:====== WebDriver manager ======\n",
      "Current google-chrome version is 92.0.4515\n",
      "INFO:WDM:Current google-chrome version is 92.0.4515\n",
      "Get LATEST driver version for 92.0.4515\n",
      "INFO:WDM:Get LATEST driver version for 92.0.4515\n"
     ]
    },
    {
     "name": "stdout",
     "output_type": "stream",
     "text": [
      "RPAD5 OK\n"
     ]
    },
    {
     "name": "stderr",
     "output_type": "stream",
     "text": [
      "Driver [/Users/leuzinger/.wdm/drivers/chromedriver/mac64/92.0.4515.107/chromedriver] found in cache\n",
      "INFO:WDM:Driver [/Users/leuzinger/.wdm/drivers/chromedriver/mac64/92.0.4515.107/chromedriver] found in cache\n",
      "\n",
      "\n",
      "INFO:WDM:\n",
      "\n",
      "====== WebDriver manager ======\n",
      "INFO:WDM:====== WebDriver manager ======\n",
      "Current google-chrome version is 92.0.4515\n",
      "INFO:WDM:Current google-chrome version is 92.0.4515\n",
      "Get LATEST driver version for 92.0.4515\n",
      "INFO:WDM:Get LATEST driver version for 92.0.4515\n"
     ]
    },
    {
     "name": "stdout",
     "output_type": "stream",
     "text": [
      "RPAD6 OK\n"
     ]
    },
    {
     "name": "stderr",
     "output_type": "stream",
     "text": [
      "Driver [/Users/leuzinger/.wdm/drivers/chromedriver/mac64/92.0.4515.107/chromedriver] found in cache\n",
      "INFO:WDM:Driver [/Users/leuzinger/.wdm/drivers/chromedriver/mac64/92.0.4515.107/chromedriver] found in cache\n",
      "\n",
      "\n",
      "INFO:WDM:\n",
      "\n",
      "====== WebDriver manager ======\n",
      "INFO:WDM:====== WebDriver manager ======\n",
      "Current google-chrome version is 92.0.4515\n",
      "INFO:WDM:Current google-chrome version is 92.0.4515\n",
      "Get LATEST driver version for 92.0.4515\n",
      "INFO:WDM:Get LATEST driver version for 92.0.4515\n"
     ]
    },
    {
     "name": "stdout",
     "output_type": "stream",
     "text": [
      "RPMG3 OK\n"
     ]
    },
    {
     "name": "stderr",
     "output_type": "stream",
     "text": [
      "Driver [/Users/leuzinger/.wdm/drivers/chromedriver/mac64/92.0.4515.107/chromedriver] found in cache\n",
      "INFO:WDM:Driver [/Users/leuzinger/.wdm/drivers/chromedriver/mac64/92.0.4515.107/chromedriver] found in cache\n",
      "\n",
      "\n",
      "INFO:WDM:\n",
      "\n",
      "====== WebDriver manager ======\n",
      "INFO:WDM:====== WebDriver manager ======\n",
      "Current google-chrome version is 92.0.4515\n",
      "INFO:WDM:Current google-chrome version is 92.0.4515\n",
      "Get LATEST driver version for 92.0.4515\n",
      "INFO:WDM:Get LATEST driver version for 92.0.4515\n"
     ]
    },
    {
     "name": "stdout",
     "output_type": "stream",
     "text": [
      "RRRP3 OK\n"
     ]
    },
    {
     "name": "stderr",
     "output_type": "stream",
     "text": [
      "Driver [/Users/leuzinger/.wdm/drivers/chromedriver/mac64/92.0.4515.107/chromedriver] found in cache\n",
      "INFO:WDM:Driver [/Users/leuzinger/.wdm/drivers/chromedriver/mac64/92.0.4515.107/chromedriver] found in cache\n",
      "\n",
      "\n",
      "INFO:WDM:\n",
      "\n",
      "====== WebDriver manager ======\n",
      "INFO:WDM:====== WebDriver manager ======\n",
      "Current google-chrome version is 92.0.4515\n",
      "INFO:WDM:Current google-chrome version is 92.0.4515\n",
      "Get LATEST driver version for 92.0.4515\n",
      "INFO:WDM:Get LATEST driver version for 92.0.4515\n"
     ]
    },
    {
     "name": "stdout",
     "output_type": "stream",
     "text": [
      "RSID3 OK\n"
     ]
    },
    {
     "name": "stderr",
     "output_type": "stream",
     "text": [
      "Driver [/Users/leuzinger/.wdm/drivers/chromedriver/mac64/92.0.4515.107/chromedriver] found in cache\n",
      "INFO:WDM:Driver [/Users/leuzinger/.wdm/drivers/chromedriver/mac64/92.0.4515.107/chromedriver] found in cache\n",
      "\n",
      "\n",
      "INFO:WDM:\n",
      "\n",
      "====== WebDriver manager ======\n",
      "INFO:WDM:====== WebDriver manager ======\n",
      "Current google-chrome version is 92.0.4515\n",
      "INFO:WDM:Current google-chrome version is 92.0.4515\n",
      "Get LATEST driver version for 92.0.4515\n",
      "INFO:WDM:Get LATEST driver version for 92.0.4515\n"
     ]
    },
    {
     "name": "stdout",
     "output_type": "stream",
     "text": [
      "RSUL3 OK\n"
     ]
    },
    {
     "name": "stderr",
     "output_type": "stream",
     "text": [
      "Driver [/Users/leuzinger/.wdm/drivers/chromedriver/mac64/92.0.4515.107/chromedriver] found in cache\n",
      "INFO:WDM:Driver [/Users/leuzinger/.wdm/drivers/chromedriver/mac64/92.0.4515.107/chromedriver] found in cache\n",
      "\n",
      "\n",
      "INFO:WDM:\n",
      "\n",
      "====== WebDriver manager ======\n",
      "INFO:WDM:====== WebDriver manager ======\n",
      "Current google-chrome version is 92.0.4515\n",
      "INFO:WDM:Current google-chrome version is 92.0.4515\n",
      "Get LATEST driver version for 92.0.4515\n",
      "INFO:WDM:Get LATEST driver version for 92.0.4515\n"
     ]
    },
    {
     "name": "stdout",
     "output_type": "stream",
     "text": [
      "RSUL4 OK\n"
     ]
    },
    {
     "name": "stderr",
     "output_type": "stream",
     "text": [
      "Driver [/Users/leuzinger/.wdm/drivers/chromedriver/mac64/92.0.4515.107/chromedriver] found in cache\n",
      "INFO:WDM:Driver [/Users/leuzinger/.wdm/drivers/chromedriver/mac64/92.0.4515.107/chromedriver] found in cache\n",
      "\n",
      "\n",
      "INFO:WDM:\n",
      "\n",
      "====== WebDriver manager ======\n",
      "INFO:WDM:====== WebDriver manager ======\n",
      "Current google-chrome version is 92.0.4515\n",
      "INFO:WDM:Current google-chrome version is 92.0.4515\n",
      "Get LATEST driver version for 92.0.4515\n",
      "INFO:WDM:Get LATEST driver version for 92.0.4515\n"
     ]
    },
    {
     "name": "stdout",
     "output_type": "stream",
     "text": [
      "SANB11 OK\n"
     ]
    },
    {
     "name": "stderr",
     "output_type": "stream",
     "text": [
      "Driver [/Users/leuzinger/.wdm/drivers/chromedriver/mac64/92.0.4515.107/chromedriver] found in cache\n",
      "INFO:WDM:Driver [/Users/leuzinger/.wdm/drivers/chromedriver/mac64/92.0.4515.107/chromedriver] found in cache\n",
      "\n",
      "\n",
      "INFO:WDM:\n",
      "\n",
      "====== WebDriver manager ======\n",
      "INFO:WDM:====== WebDriver manager ======\n",
      "Current google-chrome version is 92.0.4515\n",
      "INFO:WDM:Current google-chrome version is 92.0.4515\n",
      "Get LATEST driver version for 92.0.4515\n",
      "INFO:WDM:Get LATEST driver version for 92.0.4515\n"
     ]
    },
    {
     "name": "stdout",
     "output_type": "stream",
     "text": [
      "SANB3 OK\n"
     ]
    },
    {
     "name": "stderr",
     "output_type": "stream",
     "text": [
      "Driver [/Users/leuzinger/.wdm/drivers/chromedriver/mac64/92.0.4515.107/chromedriver] found in cache\n",
      "INFO:WDM:Driver [/Users/leuzinger/.wdm/drivers/chromedriver/mac64/92.0.4515.107/chromedriver] found in cache\n",
      "\n",
      "\n",
      "INFO:WDM:\n",
      "\n",
      "====== WebDriver manager ======\n",
      "INFO:WDM:====== WebDriver manager ======\n",
      "Current google-chrome version is 92.0.4515\n",
      "INFO:WDM:Current google-chrome version is 92.0.4515\n",
      "Get LATEST driver version for 92.0.4515\n",
      "INFO:WDM:Get LATEST driver version for 92.0.4515\n"
     ]
    },
    {
     "name": "stdout",
     "output_type": "stream",
     "text": [
      "SANB4 OK\n"
     ]
    },
    {
     "name": "stderr",
     "output_type": "stream",
     "text": [
      "Driver [/Users/leuzinger/.wdm/drivers/chromedriver/mac64/92.0.4515.107/chromedriver] found in cache\n",
      "INFO:WDM:Driver [/Users/leuzinger/.wdm/drivers/chromedriver/mac64/92.0.4515.107/chromedriver] found in cache\n",
      "\n",
      "\n",
      "INFO:WDM:\n",
      "\n",
      "====== WebDriver manager ======\n",
      "INFO:WDM:====== WebDriver manager ======\n",
      "Current google-chrome version is 92.0.4515\n",
      "INFO:WDM:Current google-chrome version is 92.0.4515\n",
      "Get LATEST driver version for 92.0.4515\n",
      "INFO:WDM:Get LATEST driver version for 92.0.4515\n"
     ]
    },
    {
     "name": "stdout",
     "output_type": "stream",
     "text": [
      "SAPR11 OK\n"
     ]
    },
    {
     "name": "stderr",
     "output_type": "stream",
     "text": [
      "Driver [/Users/leuzinger/.wdm/drivers/chromedriver/mac64/92.0.4515.107/chromedriver] found in cache\n",
      "INFO:WDM:Driver [/Users/leuzinger/.wdm/drivers/chromedriver/mac64/92.0.4515.107/chromedriver] found in cache\n",
      "\n",
      "\n",
      "INFO:WDM:\n",
      "\n",
      "====== WebDriver manager ======\n",
      "INFO:WDM:====== WebDriver manager ======\n",
      "Current google-chrome version is 92.0.4515\n",
      "INFO:WDM:Current google-chrome version is 92.0.4515\n",
      "Get LATEST driver version for 92.0.4515\n",
      "INFO:WDM:Get LATEST driver version for 92.0.4515\n"
     ]
    },
    {
     "name": "stdout",
     "output_type": "stream",
     "text": [
      "SAPR3 OK\n"
     ]
    },
    {
     "name": "stderr",
     "output_type": "stream",
     "text": [
      "Driver [/Users/leuzinger/.wdm/drivers/chromedriver/mac64/92.0.4515.107/chromedriver] found in cache\n",
      "INFO:WDM:Driver [/Users/leuzinger/.wdm/drivers/chromedriver/mac64/92.0.4515.107/chromedriver] found in cache\n",
      "\n",
      "\n",
      "INFO:WDM:\n",
      "\n",
      "====== WebDriver manager ======\n",
      "INFO:WDM:====== WebDriver manager ======\n",
      "Current google-chrome version is 92.0.4515\n",
      "INFO:WDM:Current google-chrome version is 92.0.4515\n",
      "Get LATEST driver version for 92.0.4515\n",
      "INFO:WDM:Get LATEST driver version for 92.0.4515\n"
     ]
    },
    {
     "name": "stdout",
     "output_type": "stream",
     "text": [
      "SAPR4 OK\n"
     ]
    },
    {
     "name": "stderr",
     "output_type": "stream",
     "text": [
      "Driver [/Users/leuzinger/.wdm/drivers/chromedriver/mac64/92.0.4515.107/chromedriver] found in cache\n",
      "INFO:WDM:Driver [/Users/leuzinger/.wdm/drivers/chromedriver/mac64/92.0.4515.107/chromedriver] found in cache\n",
      "\n",
      "\n",
      "INFO:WDM:\n",
      "\n",
      "====== WebDriver manager ======\n",
      "INFO:WDM:====== WebDriver manager ======\n",
      "Current google-chrome version is 92.0.4515\n",
      "INFO:WDM:Current google-chrome version is 92.0.4515\n",
      "Get LATEST driver version for 92.0.4515\n",
      "INFO:WDM:Get LATEST driver version for 92.0.4515\n"
     ]
    },
    {
     "name": "stdout",
     "output_type": "stream",
     "text": [
      "SBFG3 OK\n"
     ]
    },
    {
     "name": "stderr",
     "output_type": "stream",
     "text": [
      "Driver [/Users/leuzinger/.wdm/drivers/chromedriver/mac64/92.0.4515.107/chromedriver] found in cache\n",
      "INFO:WDM:Driver [/Users/leuzinger/.wdm/drivers/chromedriver/mac64/92.0.4515.107/chromedriver] found in cache\n",
      "\n",
      "\n",
      "INFO:WDM:\n",
      "\n",
      "====== WebDriver manager ======\n",
      "INFO:WDM:====== WebDriver manager ======\n",
      "Current google-chrome version is 92.0.4515\n",
      "INFO:WDM:Current google-chrome version is 92.0.4515\n",
      "Get LATEST driver version for 92.0.4515\n",
      "INFO:WDM:Get LATEST driver version for 92.0.4515\n"
     ]
    },
    {
     "name": "stdout",
     "output_type": "stream",
     "text": [
      "SBSP3 OK\n"
     ]
    },
    {
     "name": "stderr",
     "output_type": "stream",
     "text": [
      "Driver [/Users/leuzinger/.wdm/drivers/chromedriver/mac64/92.0.4515.107/chromedriver] found in cache\n",
      "INFO:WDM:Driver [/Users/leuzinger/.wdm/drivers/chromedriver/mac64/92.0.4515.107/chromedriver] found in cache\n",
      "\n",
      "\n",
      "INFO:WDM:\n",
      "\n",
      "====== WebDriver manager ======\n",
      "INFO:WDM:====== WebDriver manager ======\n",
      "Current google-chrome version is 92.0.4515\n",
      "INFO:WDM:Current google-chrome version is 92.0.4515\n",
      "Get LATEST driver version for 92.0.4515\n",
      "INFO:WDM:Get LATEST driver version for 92.0.4515\n"
     ]
    },
    {
     "name": "stdout",
     "output_type": "stream",
     "text": [
      "SCAR3 OK\n"
     ]
    },
    {
     "name": "stderr",
     "output_type": "stream",
     "text": [
      "Driver [/Users/leuzinger/.wdm/drivers/chromedriver/mac64/92.0.4515.107/chromedriver] found in cache\n",
      "INFO:WDM:Driver [/Users/leuzinger/.wdm/drivers/chromedriver/mac64/92.0.4515.107/chromedriver] found in cache\n",
      "\n",
      "\n",
      "INFO:WDM:\n",
      "\n",
      "====== WebDriver manager ======\n",
      "INFO:WDM:====== WebDriver manager ======\n",
      "Current google-chrome version is 92.0.4515\n",
      "INFO:WDM:Current google-chrome version is 92.0.4515\n",
      "Get LATEST driver version for 92.0.4515\n",
      "INFO:WDM:Get LATEST driver version for 92.0.4515\n"
     ]
    },
    {
     "name": "stdout",
     "output_type": "stream",
     "text": [
      "SEDU3 OK\n"
     ]
    },
    {
     "name": "stderr",
     "output_type": "stream",
     "text": [
      "Driver [/Users/leuzinger/.wdm/drivers/chromedriver/mac64/92.0.4515.107/chromedriver] found in cache\n",
      "INFO:WDM:Driver [/Users/leuzinger/.wdm/drivers/chromedriver/mac64/92.0.4515.107/chromedriver] found in cache\n",
      "\n",
      "\n",
      "INFO:WDM:\n",
      "\n",
      "====== WebDriver manager ======\n",
      "INFO:WDM:====== WebDriver manager ======\n",
      "Current google-chrome version is 92.0.4515\n",
      "INFO:WDM:Current google-chrome version is 92.0.4515\n",
      "Get LATEST driver version for 92.0.4515\n",
      "INFO:WDM:Get LATEST driver version for 92.0.4515\n"
     ]
    },
    {
     "name": "stdout",
     "output_type": "stream",
     "text": [
      "SEER3 OK\n"
     ]
    },
    {
     "name": "stderr",
     "output_type": "stream",
     "text": [
      "Driver [/Users/leuzinger/.wdm/drivers/chromedriver/mac64/92.0.4515.107/chromedriver] found in cache\n",
      "INFO:WDM:Driver [/Users/leuzinger/.wdm/drivers/chromedriver/mac64/92.0.4515.107/chromedriver] found in cache\n",
      "\n",
      "\n",
      "INFO:WDM:\n",
      "\n",
      "====== WebDriver manager ======\n",
      "INFO:WDM:====== WebDriver manager ======\n",
      "Current google-chrome version is 92.0.4515\n",
      "INFO:WDM:Current google-chrome version is 92.0.4515\n",
      "Get LATEST driver version for 92.0.4515\n",
      "INFO:WDM:Get LATEST driver version for 92.0.4515\n"
     ]
    },
    {
     "name": "stdout",
     "output_type": "stream",
     "text": [
      "SEQL3 OK\n"
     ]
    },
    {
     "name": "stderr",
     "output_type": "stream",
     "text": [
      "Driver [/Users/leuzinger/.wdm/drivers/chromedriver/mac64/92.0.4515.107/chromedriver] found in cache\n",
      "INFO:WDM:Driver [/Users/leuzinger/.wdm/drivers/chromedriver/mac64/92.0.4515.107/chromedriver] found in cache\n",
      "\n",
      "\n",
      "INFO:WDM:\n",
      "\n",
      "====== WebDriver manager ======\n",
      "INFO:WDM:====== WebDriver manager ======\n",
      "Current google-chrome version is 92.0.4515\n",
      "INFO:WDM:Current google-chrome version is 92.0.4515\n",
      "Get LATEST driver version for 92.0.4515\n",
      "INFO:WDM:Get LATEST driver version for 92.0.4515\n"
     ]
    },
    {
     "name": "stdout",
     "output_type": "stream",
     "text": [
      "SGPS3 OK\n"
     ]
    },
    {
     "name": "stderr",
     "output_type": "stream",
     "text": [
      "Driver [/Users/leuzinger/.wdm/drivers/chromedriver/mac64/92.0.4515.107/chromedriver] found in cache\n",
      "INFO:WDM:Driver [/Users/leuzinger/.wdm/drivers/chromedriver/mac64/92.0.4515.107/chromedriver] found in cache\n",
      "\n",
      "\n",
      "INFO:WDM:\n",
      "\n",
      "====== WebDriver manager ======\n",
      "INFO:WDM:====== WebDriver manager ======\n",
      "Current google-chrome version is 92.0.4515\n",
      "INFO:WDM:Current google-chrome version is 92.0.4515\n",
      "Get LATEST driver version for 92.0.4515\n",
      "INFO:WDM:Get LATEST driver version for 92.0.4515\n"
     ]
    },
    {
     "name": "stdout",
     "output_type": "stream",
     "text": [
      "SHOW3 OK\n"
     ]
    },
    {
     "name": "stderr",
     "output_type": "stream",
     "text": [
      "Driver [/Users/leuzinger/.wdm/drivers/chromedriver/mac64/92.0.4515.107/chromedriver] found in cache\n",
      "INFO:WDM:Driver [/Users/leuzinger/.wdm/drivers/chromedriver/mac64/92.0.4515.107/chromedriver] found in cache\n",
      "\n",
      "\n",
      "INFO:WDM:\n",
      "\n",
      "====== WebDriver manager ======\n",
      "INFO:WDM:====== WebDriver manager ======\n",
      "Current google-chrome version is 92.0.4515\n",
      "INFO:WDM:Current google-chrome version is 92.0.4515\n",
      "Get LATEST driver version for 92.0.4515\n",
      "INFO:WDM:Get LATEST driver version for 92.0.4515\n"
     ]
    },
    {
     "name": "stdout",
     "output_type": "stream",
     "text": [
      "SHUL3 OK\n"
     ]
    },
    {
     "name": "stderr",
     "output_type": "stream",
     "text": [
      "Driver [/Users/leuzinger/.wdm/drivers/chromedriver/mac64/92.0.4515.107/chromedriver] found in cache\n",
      "INFO:WDM:Driver [/Users/leuzinger/.wdm/drivers/chromedriver/mac64/92.0.4515.107/chromedriver] found in cache\n",
      "\n",
      "\n",
      "INFO:WDM:\n",
      "\n",
      "====== WebDriver manager ======\n",
      "INFO:WDM:====== WebDriver manager ======\n",
      "Current google-chrome version is 92.0.4515\n",
      "INFO:WDM:Current google-chrome version is 92.0.4515\n",
      "Get LATEST driver version for 92.0.4515\n",
      "INFO:WDM:Get LATEST driver version for 92.0.4515\n"
     ]
    },
    {
     "name": "stdout",
     "output_type": "stream",
     "text": [
      "SHUL4 OK\n"
     ]
    },
    {
     "name": "stderr",
     "output_type": "stream",
     "text": [
      "Driver [/Users/leuzinger/.wdm/drivers/chromedriver/mac64/92.0.4515.107/chromedriver] found in cache\n",
      "INFO:WDM:Driver [/Users/leuzinger/.wdm/drivers/chromedriver/mac64/92.0.4515.107/chromedriver] found in cache\n",
      "\n",
      "\n",
      "INFO:WDM:\n",
      "\n",
      "====== WebDriver manager ======\n",
      "INFO:WDM:====== WebDriver manager ======\n",
      "Current google-chrome version is 92.0.4515\n",
      "INFO:WDM:Current google-chrome version is 92.0.4515\n",
      "Get LATEST driver version for 92.0.4515\n",
      "INFO:WDM:Get LATEST driver version for 92.0.4515\n"
     ]
    },
    {
     "name": "stdout",
     "output_type": "stream",
     "text": [
      "SIMH3 OK\n"
     ]
    },
    {
     "name": "stderr",
     "output_type": "stream",
     "text": [
      "Driver [/Users/leuzinger/.wdm/drivers/chromedriver/mac64/92.0.4515.107/chromedriver] found in cache\n",
      "INFO:WDM:Driver [/Users/leuzinger/.wdm/drivers/chromedriver/mac64/92.0.4515.107/chromedriver] found in cache\n",
      "\n",
      "\n",
      "INFO:WDM:\n",
      "\n",
      "====== WebDriver manager ======\n",
      "INFO:WDM:====== WebDriver manager ======\n",
      "Current google-chrome version is 92.0.4515\n",
      "INFO:WDM:Current google-chrome version is 92.0.4515\n",
      "Get LATEST driver version for 92.0.4515\n",
      "INFO:WDM:Get LATEST driver version for 92.0.4515\n"
     ]
    },
    {
     "name": "stdout",
     "output_type": "stream",
     "text": [
      "SLCE3 OK\n"
     ]
    },
    {
     "name": "stderr",
     "output_type": "stream",
     "text": [
      "Driver [/Users/leuzinger/.wdm/drivers/chromedriver/mac64/92.0.4515.107/chromedriver] found in cache\n",
      "INFO:WDM:Driver [/Users/leuzinger/.wdm/drivers/chromedriver/mac64/92.0.4515.107/chromedriver] found in cache\n",
      "\n",
      "\n",
      "INFO:WDM:\n",
      "\n",
      "====== WebDriver manager ======\n",
      "INFO:WDM:====== WebDriver manager ======\n",
      "Current google-chrome version is 92.0.4515\n",
      "INFO:WDM:Current google-chrome version is 92.0.4515\n",
      "Get LATEST driver version for 92.0.4515\n",
      "INFO:WDM:Get LATEST driver version for 92.0.4515\n"
     ]
    },
    {
     "name": "stdout",
     "output_type": "stream",
     "text": [
      "SLED3 OK\n"
     ]
    },
    {
     "name": "stderr",
     "output_type": "stream",
     "text": [
      "Driver [/Users/leuzinger/.wdm/drivers/chromedriver/mac64/92.0.4515.107/chromedriver] found in cache\n",
      "INFO:WDM:Driver [/Users/leuzinger/.wdm/drivers/chromedriver/mac64/92.0.4515.107/chromedriver] found in cache\n",
      "\n",
      "\n",
      "INFO:WDM:\n",
      "\n",
      "====== WebDriver manager ======\n",
      "INFO:WDM:====== WebDriver manager ======\n",
      "Current google-chrome version is 92.0.4515\n",
      "INFO:WDM:Current google-chrome version is 92.0.4515\n",
      "Get LATEST driver version for 92.0.4515\n",
      "INFO:WDM:Get LATEST driver version for 92.0.4515\n"
     ]
    },
    {
     "name": "stdout",
     "output_type": "stream",
     "text": [
      "SLED4 OK\n"
     ]
    },
    {
     "name": "stderr",
     "output_type": "stream",
     "text": [
      "Driver [/Users/leuzinger/.wdm/drivers/chromedriver/mac64/92.0.4515.107/chromedriver] found in cache\n",
      "INFO:WDM:Driver [/Users/leuzinger/.wdm/drivers/chromedriver/mac64/92.0.4515.107/chromedriver] found in cache\n",
      "\n",
      "\n",
      "INFO:WDM:\n",
      "\n",
      "====== WebDriver manager ======\n",
      "INFO:WDM:====== WebDriver manager ======\n",
      "Current google-chrome version is 92.0.4515\n",
      "INFO:WDM:Current google-chrome version is 92.0.4515\n",
      "Get LATEST driver version for 92.0.4515\n",
      "INFO:WDM:Get LATEST driver version for 92.0.4515\n"
     ]
    },
    {
     "name": "stdout",
     "output_type": "stream",
     "text": [
      "SMFT3 OK\n"
     ]
    },
    {
     "name": "stderr",
     "output_type": "stream",
     "text": [
      "Driver [/Users/leuzinger/.wdm/drivers/chromedriver/mac64/92.0.4515.107/chromedriver] found in cache\n",
      "INFO:WDM:Driver [/Users/leuzinger/.wdm/drivers/chromedriver/mac64/92.0.4515.107/chromedriver] found in cache\n",
      "\n",
      "\n",
      "INFO:WDM:\n",
      "\n",
      "====== WebDriver manager ======\n",
      "INFO:WDM:====== WebDriver manager ======\n",
      "Current google-chrome version is 92.0.4515\n",
      "INFO:WDM:Current google-chrome version is 92.0.4515\n",
      "Get LATEST driver version for 92.0.4515\n",
      "INFO:WDM:Get LATEST driver version for 92.0.4515\n",
      "Driver [/Users/leuzinger/.wdm/drivers/chromedriver/mac64/92.0.4515.107/chromedriver] found in cache\n"
     ]
    },
    {
     "name": "stdout",
     "output_type": "stream",
     "text": [
      "SMLS3 OK\n"
     ]
    },
    {
     "name": "stderr",
     "output_type": "stream",
     "text": [
      "INFO:WDM:Driver [/Users/leuzinger/.wdm/drivers/chromedriver/mac64/92.0.4515.107/chromedriver] found in cache\n",
      "\n",
      "\n",
      "INFO:WDM:\n",
      "\n",
      "====== WebDriver manager ======\n",
      "INFO:WDM:====== WebDriver manager ======\n",
      "Current google-chrome version is 92.0.4515\n",
      "INFO:WDM:Current google-chrome version is 92.0.4515\n",
      "Get LATEST driver version for 92.0.4515\n",
      "INFO:WDM:Get LATEST driver version for 92.0.4515\n"
     ]
    },
    {
     "name": "stdout",
     "output_type": "stream",
     "text": [
      "SMTO3 OK\n"
     ]
    },
    {
     "name": "stderr",
     "output_type": "stream",
     "text": [
      "Driver [/Users/leuzinger/.wdm/drivers/chromedriver/mac64/92.0.4515.107/chromedriver] found in cache\n",
      "INFO:WDM:Driver [/Users/leuzinger/.wdm/drivers/chromedriver/mac64/92.0.4515.107/chromedriver] found in cache\n",
      "\n",
      "\n",
      "INFO:WDM:\n",
      "\n",
      "====== WebDriver manager ======\n",
      "INFO:WDM:====== WebDriver manager ======\n",
      "Current google-chrome version is 92.0.4515\n",
      "INFO:WDM:Current google-chrome version is 92.0.4515\n",
      "Get LATEST driver version for 92.0.4515\n",
      "INFO:WDM:Get LATEST driver version for 92.0.4515\n"
     ]
    },
    {
     "name": "stdout",
     "output_type": "stream",
     "text": [
      "SNSY3 OK\n"
     ]
    },
    {
     "name": "stderr",
     "output_type": "stream",
     "text": [
      "Driver [/Users/leuzinger/.wdm/drivers/chromedriver/mac64/92.0.4515.107/chromedriver] found in cache\n",
      "INFO:WDM:Driver [/Users/leuzinger/.wdm/drivers/chromedriver/mac64/92.0.4515.107/chromedriver] found in cache\n",
      "\n",
      "\n",
      "INFO:WDM:\n",
      "\n",
      "====== WebDriver manager ======\n",
      "INFO:WDM:====== WebDriver manager ======\n",
      "Current google-chrome version is 92.0.4515\n",
      "INFO:WDM:Current google-chrome version is 92.0.4515\n",
      "Get LATEST driver version for 92.0.4515\n",
      "INFO:WDM:Get LATEST driver version for 92.0.4515\n"
     ]
    },
    {
     "name": "stdout",
     "output_type": "stream",
     "text": [
      "SNSY5 OK\n"
     ]
    },
    {
     "name": "stderr",
     "output_type": "stream",
     "text": [
      "Driver [/Users/leuzinger/.wdm/drivers/chromedriver/mac64/92.0.4515.107/chromedriver] found in cache\n",
      "INFO:WDM:Driver [/Users/leuzinger/.wdm/drivers/chromedriver/mac64/92.0.4515.107/chromedriver] found in cache\n",
      "\n",
      "\n",
      "INFO:WDM:\n",
      "\n",
      "====== WebDriver manager ======\n",
      "INFO:WDM:====== WebDriver manager ======\n",
      "Current google-chrome version is 92.0.4515\n",
      "INFO:WDM:Current google-chrome version is 92.0.4515\n",
      "Get LATEST driver version for 92.0.4515\n",
      "INFO:WDM:Get LATEST driver version for 92.0.4515\n"
     ]
    },
    {
     "name": "stdout",
     "output_type": "stream",
     "text": [
      "SNSY6 OK\n"
     ]
    },
    {
     "name": "stderr",
     "output_type": "stream",
     "text": [
      "Driver [/Users/leuzinger/.wdm/drivers/chromedriver/mac64/92.0.4515.107/chromedriver] found in cache\n",
      "INFO:WDM:Driver [/Users/leuzinger/.wdm/drivers/chromedriver/mac64/92.0.4515.107/chromedriver] found in cache\n",
      "\n",
      "\n",
      "INFO:WDM:\n",
      "\n",
      "====== WebDriver manager ======\n",
      "INFO:WDM:====== WebDriver manager ======\n",
      "Current google-chrome version is 92.0.4515\n",
      "INFO:WDM:Current google-chrome version is 92.0.4515\n",
      "Get LATEST driver version for 92.0.4515\n",
      "INFO:WDM:Get LATEST driver version for 92.0.4515\n"
     ]
    },
    {
     "name": "stdout",
     "output_type": "stream",
     "text": [
      "SOJA3 OK\n"
     ]
    },
    {
     "name": "stderr",
     "output_type": "stream",
     "text": [
      "Driver [/Users/leuzinger/.wdm/drivers/chromedriver/mac64/92.0.4515.107/chromedriver] found in cache\n",
      "INFO:WDM:Driver [/Users/leuzinger/.wdm/drivers/chromedriver/mac64/92.0.4515.107/chromedriver] found in cache\n",
      "\n",
      "\n",
      "INFO:WDM:\n",
      "\n",
      "====== WebDriver manager ======\n",
      "INFO:WDM:====== WebDriver manager ======\n",
      "Current google-chrome version is 92.0.4515\n",
      "INFO:WDM:Current google-chrome version is 92.0.4515\n",
      "Get LATEST driver version for 92.0.4515\n",
      "INFO:WDM:Get LATEST driver version for 92.0.4515\n"
     ]
    },
    {
     "name": "stdout",
     "output_type": "stream",
     "text": [
      "SOMA3 OK\n"
     ]
    },
    {
     "name": "stderr",
     "output_type": "stream",
     "text": [
      "Driver [/Users/leuzinger/.wdm/drivers/chromedriver/mac64/92.0.4515.107/chromedriver] found in cache\n",
      "INFO:WDM:Driver [/Users/leuzinger/.wdm/drivers/chromedriver/mac64/92.0.4515.107/chromedriver] found in cache\n",
      "\n",
      "\n",
      "INFO:WDM:\n",
      "\n",
      "====== WebDriver manager ======\n",
      "INFO:WDM:====== WebDriver manager ======\n",
      "Current google-chrome version is 92.0.4515\n",
      "INFO:WDM:Current google-chrome version is 92.0.4515\n",
      "Get LATEST driver version for 92.0.4515\n",
      "INFO:WDM:Get LATEST driver version for 92.0.4515\n"
     ]
    },
    {
     "name": "stdout",
     "output_type": "stream",
     "text": [
      "SOND3 OK\n"
     ]
    },
    {
     "name": "stderr",
     "output_type": "stream",
     "text": [
      "Driver [/Users/leuzinger/.wdm/drivers/chromedriver/mac64/92.0.4515.107/chromedriver] found in cache\n",
      "INFO:WDM:Driver [/Users/leuzinger/.wdm/drivers/chromedriver/mac64/92.0.4515.107/chromedriver] found in cache\n",
      "\n",
      "\n",
      "INFO:WDM:\n",
      "\n",
      "====== WebDriver manager ======\n",
      "INFO:WDM:====== WebDriver manager ======\n",
      "Current google-chrome version is 92.0.4515\n",
      "INFO:WDM:Current google-chrome version is 92.0.4515\n",
      "Get LATEST driver version for 92.0.4515\n",
      "INFO:WDM:Get LATEST driver version for 92.0.4515\n"
     ]
    },
    {
     "name": "stdout",
     "output_type": "stream",
     "text": [
      "SOND5 OK\n"
     ]
    },
    {
     "name": "stderr",
     "output_type": "stream",
     "text": [
      "Driver [/Users/leuzinger/.wdm/drivers/chromedriver/mac64/92.0.4515.107/chromedriver] found in cache\n",
      "INFO:WDM:Driver [/Users/leuzinger/.wdm/drivers/chromedriver/mac64/92.0.4515.107/chromedriver] found in cache\n",
      "\n",
      "\n",
      "INFO:WDM:\n",
      "\n",
      "====== WebDriver manager ======\n",
      "INFO:WDM:====== WebDriver manager ======\n",
      "Current google-chrome version is 92.0.4515\n",
      "INFO:WDM:Current google-chrome version is 92.0.4515\n",
      "Get LATEST driver version for 92.0.4515\n",
      "INFO:WDM:Get LATEST driver version for 92.0.4515\n"
     ]
    },
    {
     "name": "stdout",
     "output_type": "stream",
     "text": [
      "SOND6 OK\n"
     ]
    },
    {
     "name": "stderr",
     "output_type": "stream",
     "text": [
      "Driver [/Users/leuzinger/.wdm/drivers/chromedriver/mac64/92.0.4515.107/chromedriver] found in cache\n",
      "INFO:WDM:Driver [/Users/leuzinger/.wdm/drivers/chromedriver/mac64/92.0.4515.107/chromedriver] found in cache\n",
      "\n",
      "\n",
      "INFO:WDM:\n",
      "\n",
      "====== WebDriver manager ======\n",
      "INFO:WDM:====== WebDriver manager ======\n",
      "Current google-chrome version is 92.0.4515\n",
      "INFO:WDM:Current google-chrome version is 92.0.4515\n",
      "Get LATEST driver version for 92.0.4515\n",
      "INFO:WDM:Get LATEST driver version for 92.0.4515\n"
     ]
    },
    {
     "name": "stdout",
     "output_type": "stream",
     "text": [
      "SPRT3B OK\n"
     ]
    },
    {
     "name": "stderr",
     "output_type": "stream",
     "text": [
      "Driver [/Users/leuzinger/.wdm/drivers/chromedriver/mac64/92.0.4515.107/chromedriver] found in cache\n",
      "INFO:WDM:Driver [/Users/leuzinger/.wdm/drivers/chromedriver/mac64/92.0.4515.107/chromedriver] found in cache\n",
      "\n",
      "\n",
      "INFO:WDM:\n",
      "\n",
      "====== WebDriver manager ======\n",
      "INFO:WDM:====== WebDriver manager ======\n",
      "Current google-chrome version is 92.0.4515\n",
      "INFO:WDM:Current google-chrome version is 92.0.4515\n",
      "Get LATEST driver version for 92.0.4515\n",
      "INFO:WDM:Get LATEST driver version for 92.0.4515\n"
     ]
    },
    {
     "name": "stdout",
     "output_type": "stream",
     "text": [
      "SQIA3 OK\n"
     ]
    },
    {
     "name": "stderr",
     "output_type": "stream",
     "text": [
      "Driver [/Users/leuzinger/.wdm/drivers/chromedriver/mac64/92.0.4515.107/chromedriver] found in cache\n",
      "INFO:WDM:Driver [/Users/leuzinger/.wdm/drivers/chromedriver/mac64/92.0.4515.107/chromedriver] found in cache\n",
      "\n",
      "\n",
      "INFO:WDM:\n",
      "\n",
      "====== WebDriver manager ======\n",
      "INFO:WDM:====== WebDriver manager ======\n",
      "Current google-chrome version is 92.0.4515\n",
      "INFO:WDM:Current google-chrome version is 92.0.4515\n",
      "Get LATEST driver version for 92.0.4515\n",
      "INFO:WDM:Get LATEST driver version for 92.0.4515\n"
     ]
    },
    {
     "name": "stdout",
     "output_type": "stream",
     "text": [
      "STBP3 OK\n"
     ]
    },
    {
     "name": "stderr",
     "output_type": "stream",
     "text": [
      "Driver [/Users/leuzinger/.wdm/drivers/chromedriver/mac64/92.0.4515.107/chromedriver] found in cache\n",
      "INFO:WDM:Driver [/Users/leuzinger/.wdm/drivers/chromedriver/mac64/92.0.4515.107/chromedriver] found in cache\n",
      "\n",
      "\n",
      "INFO:WDM:\n",
      "\n",
      "====== WebDriver manager ======\n",
      "INFO:WDM:====== WebDriver manager ======\n",
      "Current google-chrome version is 92.0.4515\n",
      "INFO:WDM:Current google-chrome version is 92.0.4515\n",
      "Get LATEST driver version for 92.0.4515\n",
      "INFO:WDM:Get LATEST driver version for 92.0.4515\n"
     ]
    },
    {
     "name": "stdout",
     "output_type": "stream",
     "text": [
      "STKF3 OK\n"
     ]
    },
    {
     "name": "stderr",
     "output_type": "stream",
     "text": [
      "Driver [/Users/leuzinger/.wdm/drivers/chromedriver/mac64/92.0.4515.107/chromedriver] found in cache\n",
      "INFO:WDM:Driver [/Users/leuzinger/.wdm/drivers/chromedriver/mac64/92.0.4515.107/chromedriver] found in cache\n",
      "\n",
      "\n",
      "INFO:WDM:\n",
      "\n",
      "====== WebDriver manager ======\n",
      "INFO:WDM:====== WebDriver manager ======\n",
      "Current google-chrome version is 92.0.4515\n",
      "INFO:WDM:Current google-chrome version is 92.0.4515\n",
      "Get LATEST driver version for 92.0.4515\n",
      "INFO:WDM:Get LATEST driver version for 92.0.4515\n"
     ]
    },
    {
     "name": "stdout",
     "output_type": "stream",
     "text": [
      "STTR3 OK\n"
     ]
    },
    {
     "name": "stderr",
     "output_type": "stream",
     "text": [
      "Driver [/Users/leuzinger/.wdm/drivers/chromedriver/mac64/92.0.4515.107/chromedriver] found in cache\n",
      "INFO:WDM:Driver [/Users/leuzinger/.wdm/drivers/chromedriver/mac64/92.0.4515.107/chromedriver] found in cache\n",
      "\n",
      "\n",
      "INFO:WDM:\n",
      "\n",
      "====== WebDriver manager ======\n",
      "INFO:WDM:====== WebDriver manager ======\n",
      "Current google-chrome version is 92.0.4515\n",
      "INFO:WDM:Current google-chrome version is 92.0.4515\n",
      "Get LATEST driver version for 92.0.4515\n",
      "INFO:WDM:Get LATEST driver version for 92.0.4515\n"
     ]
    },
    {
     "name": "stdout",
     "output_type": "stream",
     "text": [
      "SULA11 OK\n"
     ]
    },
    {
     "name": "stderr",
     "output_type": "stream",
     "text": [
      "Driver [/Users/leuzinger/.wdm/drivers/chromedriver/mac64/92.0.4515.107/chromedriver] found in cache\n",
      "INFO:WDM:Driver [/Users/leuzinger/.wdm/drivers/chromedriver/mac64/92.0.4515.107/chromedriver] found in cache\n",
      "\n",
      "\n",
      "INFO:WDM:\n",
      "\n",
      "====== WebDriver manager ======\n",
      "INFO:WDM:====== WebDriver manager ======\n",
      "Current google-chrome version is 92.0.4515\n",
      "INFO:WDM:Current google-chrome version is 92.0.4515\n",
      "Get LATEST driver version for 92.0.4515\n",
      "INFO:WDM:Get LATEST driver version for 92.0.4515\n"
     ]
    },
    {
     "name": "stdout",
     "output_type": "stream",
     "text": [
      "SULA3 OK\n"
     ]
    },
    {
     "name": "stderr",
     "output_type": "stream",
     "text": [
      "Driver [/Users/leuzinger/.wdm/drivers/chromedriver/mac64/92.0.4515.107/chromedriver] found in cache\n",
      "INFO:WDM:Driver [/Users/leuzinger/.wdm/drivers/chromedriver/mac64/92.0.4515.107/chromedriver] found in cache\n",
      "\n",
      "\n",
      "INFO:WDM:\n",
      "\n",
      "====== WebDriver manager ======\n",
      "INFO:WDM:====== WebDriver manager ======\n",
      "Current google-chrome version is 92.0.4515\n",
      "INFO:WDM:Current google-chrome version is 92.0.4515\n",
      "Get LATEST driver version for 92.0.4515\n",
      "INFO:WDM:Get LATEST driver version for 92.0.4515\n"
     ]
    },
    {
     "name": "stdout",
     "output_type": "stream",
     "text": [
      "SULA4 OK\n"
     ]
    },
    {
     "name": "stderr",
     "output_type": "stream",
     "text": [
      "Driver [/Users/leuzinger/.wdm/drivers/chromedriver/mac64/92.0.4515.107/chromedriver] found in cache\n",
      "INFO:WDM:Driver [/Users/leuzinger/.wdm/drivers/chromedriver/mac64/92.0.4515.107/chromedriver] found in cache\n",
      "\n",
      "\n",
      "INFO:WDM:\n",
      "\n",
      "====== WebDriver manager ======\n",
      "INFO:WDM:====== WebDriver manager ======\n",
      "Current google-chrome version is 92.0.4515\n",
      "INFO:WDM:Current google-chrome version is 92.0.4515\n",
      "Get LATEST driver version for 92.0.4515\n",
      "INFO:WDM:Get LATEST driver version for 92.0.4515\n"
     ]
    },
    {
     "name": "stdout",
     "output_type": "stream",
     "text": [
      "SUZB3 OK\n"
     ]
    },
    {
     "name": "stderr",
     "output_type": "stream",
     "text": [
      "Driver [/Users/leuzinger/.wdm/drivers/chromedriver/mac64/92.0.4515.107/chromedriver] found in cache\n",
      "INFO:WDM:Driver [/Users/leuzinger/.wdm/drivers/chromedriver/mac64/92.0.4515.107/chromedriver] found in cache\n",
      "\n",
      "\n",
      "INFO:WDM:\n",
      "\n",
      "====== WebDriver manager ======\n",
      "INFO:WDM:====== WebDriver manager ======\n",
      "Current google-chrome version is 92.0.4515\n",
      "INFO:WDM:Current google-chrome version is 92.0.4515\n",
      "Get LATEST driver version for 92.0.4515\n",
      "INFO:WDM:Get LATEST driver version for 92.0.4515\n"
     ]
    },
    {
     "name": "stdout",
     "output_type": "stream",
     "text": [
      "TAEE11 OK\n"
     ]
    },
    {
     "name": "stderr",
     "output_type": "stream",
     "text": [
      "Driver [/Users/leuzinger/.wdm/drivers/chromedriver/mac64/92.0.4515.107/chromedriver] found in cache\n",
      "INFO:WDM:Driver [/Users/leuzinger/.wdm/drivers/chromedriver/mac64/92.0.4515.107/chromedriver] found in cache\n",
      "\n",
      "\n",
      "INFO:WDM:\n",
      "\n",
      "====== WebDriver manager ======\n",
      "INFO:WDM:====== WebDriver manager ======\n",
      "Current google-chrome version is 92.0.4515\n",
      "INFO:WDM:Current google-chrome version is 92.0.4515\n",
      "Get LATEST driver version for 92.0.4515\n",
      "INFO:WDM:Get LATEST driver version for 92.0.4515\n"
     ]
    },
    {
     "name": "stdout",
     "output_type": "stream",
     "text": [
      "TAEE3 OK\n"
     ]
    },
    {
     "name": "stderr",
     "output_type": "stream",
     "text": [
      "Driver [/Users/leuzinger/.wdm/drivers/chromedriver/mac64/92.0.4515.107/chromedriver] found in cache\n",
      "INFO:WDM:Driver [/Users/leuzinger/.wdm/drivers/chromedriver/mac64/92.0.4515.107/chromedriver] found in cache\n",
      "\n",
      "\n",
      "INFO:WDM:\n",
      "\n",
      "====== WebDriver manager ======\n",
      "INFO:WDM:====== WebDriver manager ======\n",
      "Current google-chrome version is 92.0.4515\n",
      "INFO:WDM:Current google-chrome version is 92.0.4515\n",
      "Get LATEST driver version for 92.0.4515\n",
      "INFO:WDM:Get LATEST driver version for 92.0.4515\n"
     ]
    },
    {
     "name": "stdout",
     "output_type": "stream",
     "text": [
      "TAEE4 OK\n"
     ]
    },
    {
     "name": "stderr",
     "output_type": "stream",
     "text": [
      "Driver [/Users/leuzinger/.wdm/drivers/chromedriver/mac64/92.0.4515.107/chromedriver] found in cache\n",
      "INFO:WDM:Driver [/Users/leuzinger/.wdm/drivers/chromedriver/mac64/92.0.4515.107/chromedriver] found in cache\n",
      "\n",
      "\n",
      "INFO:WDM:\n",
      "\n",
      "====== WebDriver manager ======\n",
      "INFO:WDM:====== WebDriver manager ======\n",
      "Current google-chrome version is 92.0.4515\n",
      "INFO:WDM:Current google-chrome version is 92.0.4515\n",
      "Get LATEST driver version for 92.0.4515\n",
      "INFO:WDM:Get LATEST driver version for 92.0.4515\n"
     ]
    },
    {
     "name": "stdout",
     "output_type": "stream",
     "text": [
      "TASA3 OK\n"
     ]
    },
    {
     "name": "stderr",
     "output_type": "stream",
     "text": [
      "Driver [/Users/leuzinger/.wdm/drivers/chromedriver/mac64/92.0.4515.107/chromedriver] found in cache\n",
      "INFO:WDM:Driver [/Users/leuzinger/.wdm/drivers/chromedriver/mac64/92.0.4515.107/chromedriver] found in cache\n",
      "\n",
      "\n",
      "INFO:WDM:\n",
      "\n",
      "====== WebDriver manager ======\n",
      "INFO:WDM:====== WebDriver manager ======\n",
      "Current google-chrome version is 92.0.4515\n",
      "INFO:WDM:Current google-chrome version is 92.0.4515\n",
      "Get LATEST driver version for 92.0.4515\n",
      "INFO:WDM:Get LATEST driver version for 92.0.4515\n"
     ]
    },
    {
     "name": "stdout",
     "output_type": "stream",
     "text": [
      "TASA4 OK\n"
     ]
    },
    {
     "name": "stderr",
     "output_type": "stream",
     "text": [
      "Driver [/Users/leuzinger/.wdm/drivers/chromedriver/mac64/92.0.4515.107/chromedriver] found in cache\n",
      "INFO:WDM:Driver [/Users/leuzinger/.wdm/drivers/chromedriver/mac64/92.0.4515.107/chromedriver] found in cache\n",
      "\n",
      "\n",
      "INFO:WDM:\n",
      "\n",
      "====== WebDriver manager ======\n",
      "INFO:WDM:====== WebDriver manager ======\n",
      "Current google-chrome version is 92.0.4515\n",
      "INFO:WDM:Current google-chrome version is 92.0.4515\n",
      "Get LATEST driver version for 92.0.4515\n",
      "INFO:WDM:Get LATEST driver version for 92.0.4515\n"
     ]
    },
    {
     "name": "stdout",
     "output_type": "stream",
     "text": [
      "TCNO3 OK\n"
     ]
    },
    {
     "name": "stderr",
     "output_type": "stream",
     "text": [
      "Driver [/Users/leuzinger/.wdm/drivers/chromedriver/mac64/92.0.4515.107/chromedriver] found in cache\n",
      "INFO:WDM:Driver [/Users/leuzinger/.wdm/drivers/chromedriver/mac64/92.0.4515.107/chromedriver] found in cache\n",
      "\n",
      "\n",
      "INFO:WDM:\n",
      "\n",
      "====== WebDriver manager ======\n",
      "INFO:WDM:====== WebDriver manager ======\n",
      "Current google-chrome version is 92.0.4515\n",
      "INFO:WDM:Current google-chrome version is 92.0.4515\n",
      "Get LATEST driver version for 92.0.4515\n",
      "INFO:WDM:Get LATEST driver version for 92.0.4515\n"
     ]
    },
    {
     "name": "stdout",
     "output_type": "stream",
     "text": [
      "TCNO4 OK\n"
     ]
    },
    {
     "name": "stderr",
     "output_type": "stream",
     "text": [
      "Driver [/Users/leuzinger/.wdm/drivers/chromedriver/mac64/92.0.4515.107/chromedriver] found in cache\n",
      "INFO:WDM:Driver [/Users/leuzinger/.wdm/drivers/chromedriver/mac64/92.0.4515.107/chromedriver] found in cache\n",
      "\n",
      "\n",
      "INFO:WDM:\n",
      "\n",
      "====== WebDriver manager ======\n",
      "INFO:WDM:====== WebDriver manager ======\n",
      "Current google-chrome version is 92.0.4515\n",
      "INFO:WDM:Current google-chrome version is 92.0.4515\n",
      "Get LATEST driver version for 92.0.4515\n",
      "INFO:WDM:Get LATEST driver version for 92.0.4515\n"
     ]
    },
    {
     "name": "stdout",
     "output_type": "stream",
     "text": [
      "TCSA3 OK\n"
     ]
    },
    {
     "name": "stderr",
     "output_type": "stream",
     "text": [
      "Driver [/Users/leuzinger/.wdm/drivers/chromedriver/mac64/92.0.4515.107/chromedriver] found in cache\n",
      "INFO:WDM:Driver [/Users/leuzinger/.wdm/drivers/chromedriver/mac64/92.0.4515.107/chromedriver] found in cache\n",
      "\n",
      "\n",
      "INFO:WDM:\n",
      "\n",
      "====== WebDriver manager ======\n",
      "INFO:WDM:====== WebDriver manager ======\n",
      "Current google-chrome version is 92.0.4515\n",
      "INFO:WDM:Current google-chrome version is 92.0.4515\n",
      "Get LATEST driver version for 92.0.4515\n",
      "INFO:WDM:Get LATEST driver version for 92.0.4515\n"
     ]
    },
    {
     "name": "stdout",
     "output_type": "stream",
     "text": [
      "TECN3 OK\n"
     ]
    },
    {
     "name": "stderr",
     "output_type": "stream",
     "text": [
      "Driver [/Users/leuzinger/.wdm/drivers/chromedriver/mac64/92.0.4515.107/chromedriver] found in cache\n",
      "INFO:WDM:Driver [/Users/leuzinger/.wdm/drivers/chromedriver/mac64/92.0.4515.107/chromedriver] found in cache\n",
      "\n",
      "\n",
      "INFO:WDM:\n",
      "\n",
      "====== WebDriver manager ======\n",
      "INFO:WDM:====== WebDriver manager ======\n",
      "Current google-chrome version is 92.0.4515\n",
      "INFO:WDM:Current google-chrome version is 92.0.4515\n",
      "Get LATEST driver version for 92.0.4515\n",
      "INFO:WDM:Get LATEST driver version for 92.0.4515\n"
     ]
    },
    {
     "name": "stdout",
     "output_type": "stream",
     "text": [
      "TEKA3 OK\n"
     ]
    },
    {
     "name": "stderr",
     "output_type": "stream",
     "text": [
      "Driver [/Users/leuzinger/.wdm/drivers/chromedriver/mac64/92.0.4515.107/chromedriver] found in cache\n",
      "INFO:WDM:Driver [/Users/leuzinger/.wdm/drivers/chromedriver/mac64/92.0.4515.107/chromedriver] found in cache\n",
      "\n",
      "\n",
      "INFO:WDM:\n",
      "\n",
      "====== WebDriver manager ======\n",
      "INFO:WDM:====== WebDriver manager ======\n",
      "Current google-chrome version is 92.0.4515\n",
      "INFO:WDM:Current google-chrome version is 92.0.4515\n",
      "Get LATEST driver version for 92.0.4515\n",
      "INFO:WDM:Get LATEST driver version for 92.0.4515\n"
     ]
    },
    {
     "name": "stdout",
     "output_type": "stream",
     "text": [
      "TEKA4 OK\n"
     ]
    },
    {
     "name": "stderr",
     "output_type": "stream",
     "text": [
      "Driver [/Users/leuzinger/.wdm/drivers/chromedriver/mac64/92.0.4515.107/chromedriver] found in cache\n",
      "INFO:WDM:Driver [/Users/leuzinger/.wdm/drivers/chromedriver/mac64/92.0.4515.107/chromedriver] found in cache\n",
      "\n",
      "\n",
      "INFO:WDM:\n",
      "\n",
      "====== WebDriver manager ======\n",
      "INFO:WDM:====== WebDriver manager ======\n",
      "Current google-chrome version is 92.0.4515\n",
      "INFO:WDM:Current google-chrome version is 92.0.4515\n",
      "Get LATEST driver version for 92.0.4515\n",
      "INFO:WDM:Get LATEST driver version for 92.0.4515\n"
     ]
    },
    {
     "name": "stdout",
     "output_type": "stream",
     "text": [
      "TELB3 OK\n"
     ]
    },
    {
     "name": "stderr",
     "output_type": "stream",
     "text": [
      "Driver [/Users/leuzinger/.wdm/drivers/chromedriver/mac64/92.0.4515.107/chromedriver] found in cache\n",
      "INFO:WDM:Driver [/Users/leuzinger/.wdm/drivers/chromedriver/mac64/92.0.4515.107/chromedriver] found in cache\n",
      "\n",
      "\n",
      "INFO:WDM:\n",
      "\n",
      "====== WebDriver manager ======\n",
      "INFO:WDM:====== WebDriver manager ======\n",
      "Current google-chrome version is 92.0.4515\n",
      "INFO:WDM:Current google-chrome version is 92.0.4515\n",
      "Get LATEST driver version for 92.0.4515\n",
      "INFO:WDM:Get LATEST driver version for 92.0.4515\n"
     ]
    },
    {
     "name": "stdout",
     "output_type": "stream",
     "text": [
      "TELB4 OK\n"
     ]
    },
    {
     "name": "stderr",
     "output_type": "stream",
     "text": [
      "Driver [/Users/leuzinger/.wdm/drivers/chromedriver/mac64/92.0.4515.107/chromedriver] found in cache\n",
      "INFO:WDM:Driver [/Users/leuzinger/.wdm/drivers/chromedriver/mac64/92.0.4515.107/chromedriver] found in cache\n",
      "\n",
      "\n",
      "INFO:WDM:\n",
      "\n",
      "====== WebDriver manager ======\n",
      "INFO:WDM:====== WebDriver manager ======\n",
      "Current google-chrome version is 92.0.4515\n",
      "INFO:WDM:Current google-chrome version is 92.0.4515\n",
      "Get LATEST driver version for 92.0.4515\n",
      "INFO:WDM:Get LATEST driver version for 92.0.4515\n"
     ]
    },
    {
     "name": "stdout",
     "output_type": "stream",
     "text": [
      "TEND3 OK\n"
     ]
    },
    {
     "name": "stderr",
     "output_type": "stream",
     "text": [
      "Driver [/Users/leuzinger/.wdm/drivers/chromedriver/mac64/92.0.4515.107/chromedriver] found in cache\n",
      "INFO:WDM:Driver [/Users/leuzinger/.wdm/drivers/chromedriver/mac64/92.0.4515.107/chromedriver] found in cache\n",
      "\n",
      "\n",
      "INFO:WDM:\n",
      "\n",
      "====== WebDriver manager ======\n",
      "INFO:WDM:====== WebDriver manager ======\n",
      "Current google-chrome version is 92.0.4515\n",
      "INFO:WDM:Current google-chrome version is 92.0.4515\n",
      "Get LATEST driver version for 92.0.4515\n",
      "INFO:WDM:Get LATEST driver version for 92.0.4515\n"
     ]
    },
    {
     "name": "stdout",
     "output_type": "stream",
     "text": [
      "TESA3 OK\n"
     ]
    },
    {
     "name": "stderr",
     "output_type": "stream",
     "text": [
      "Driver [/Users/leuzinger/.wdm/drivers/chromedriver/mac64/92.0.4515.107/chromedriver] found in cache\n",
      "INFO:WDM:Driver [/Users/leuzinger/.wdm/drivers/chromedriver/mac64/92.0.4515.107/chromedriver] found in cache\n",
      "\n",
      "\n",
      "INFO:WDM:\n",
      "\n",
      "====== WebDriver manager ======\n",
      "INFO:WDM:====== WebDriver manager ======\n",
      "Current google-chrome version is 92.0.4515\n",
      "INFO:WDM:Current google-chrome version is 92.0.4515\n",
      "Get LATEST driver version for 92.0.4515\n",
      "INFO:WDM:Get LATEST driver version for 92.0.4515\n"
     ]
    },
    {
     "name": "stdout",
     "output_type": "stream",
     "text": [
      "TFCO4 OK\n"
     ]
    },
    {
     "name": "stderr",
     "output_type": "stream",
     "text": [
      "Driver [/Users/leuzinger/.wdm/drivers/chromedriver/mac64/92.0.4515.107/chromedriver] found in cache\n",
      "INFO:WDM:Driver [/Users/leuzinger/.wdm/drivers/chromedriver/mac64/92.0.4515.107/chromedriver] found in cache\n",
      "\n",
      "\n",
      "INFO:WDM:\n",
      "\n",
      "====== WebDriver manager ======\n",
      "INFO:WDM:====== WebDriver manager ======\n",
      "Current google-chrome version is 92.0.4515\n",
      "INFO:WDM:Current google-chrome version is 92.0.4515\n",
      "Get LATEST driver version for 92.0.4515\n",
      "INFO:WDM:Get LATEST driver version for 92.0.4515\n"
     ]
    },
    {
     "name": "stdout",
     "output_type": "stream",
     "text": [
      "TGMA3 OK\n"
     ]
    },
    {
     "name": "stderr",
     "output_type": "stream",
     "text": [
      "Driver [/Users/leuzinger/.wdm/drivers/chromedriver/mac64/92.0.4515.107/chromedriver] found in cache\n",
      "INFO:WDM:Driver [/Users/leuzinger/.wdm/drivers/chromedriver/mac64/92.0.4515.107/chromedriver] found in cache\n",
      "\n",
      "\n",
      "INFO:WDM:\n",
      "\n",
      "====== WebDriver manager ======\n",
      "INFO:WDM:====== WebDriver manager ======\n",
      "Current google-chrome version is 92.0.4515\n",
      "INFO:WDM:Current google-chrome version is 92.0.4515\n",
      "Get LATEST driver version for 92.0.4515\n",
      "INFO:WDM:Get LATEST driver version for 92.0.4515\n"
     ]
    },
    {
     "name": "stdout",
     "output_type": "stream",
     "text": [
      "TIET11 OK\n"
     ]
    },
    {
     "name": "stderr",
     "output_type": "stream",
     "text": [
      "Driver [/Users/leuzinger/.wdm/drivers/chromedriver/mac64/92.0.4515.107/chromedriver] found in cache\n",
      "INFO:WDM:Driver [/Users/leuzinger/.wdm/drivers/chromedriver/mac64/92.0.4515.107/chromedriver] found in cache\n",
      "\n",
      "\n",
      "INFO:WDM:\n",
      "\n",
      "====== WebDriver manager ======\n",
      "INFO:WDM:====== WebDriver manager ======\n",
      "Current google-chrome version is 92.0.4515\n",
      "INFO:WDM:Current google-chrome version is 92.0.4515\n",
      "Get LATEST driver version for 92.0.4515\n",
      "INFO:WDM:Get LATEST driver version for 92.0.4515\n"
     ]
    },
    {
     "name": "stdout",
     "output_type": "stream",
     "text": [
      "TIET3 OK\n"
     ]
    },
    {
     "name": "stderr",
     "output_type": "stream",
     "text": [
      "Driver [/Users/leuzinger/.wdm/drivers/chromedriver/mac64/92.0.4515.107/chromedriver] found in cache\n",
      "INFO:WDM:Driver [/Users/leuzinger/.wdm/drivers/chromedriver/mac64/92.0.4515.107/chromedriver] found in cache\n",
      "\n",
      "\n",
      "INFO:WDM:\n",
      "\n",
      "====== WebDriver manager ======\n",
      "INFO:WDM:====== WebDriver manager ======\n",
      "Current google-chrome version is 92.0.4515\n",
      "INFO:WDM:Current google-chrome version is 92.0.4515\n",
      "Get LATEST driver version for 92.0.4515\n",
      "INFO:WDM:Get LATEST driver version for 92.0.4515\n"
     ]
    },
    {
     "name": "stdout",
     "output_type": "stream",
     "text": [
      "TIET4 OK\n"
     ]
    },
    {
     "name": "stderr",
     "output_type": "stream",
     "text": [
      "Driver [/Users/leuzinger/.wdm/drivers/chromedriver/mac64/92.0.4515.107/chromedriver] found in cache\n",
      "INFO:WDM:Driver [/Users/leuzinger/.wdm/drivers/chromedriver/mac64/92.0.4515.107/chromedriver] found in cache\n",
      "\n",
      "\n",
      "INFO:WDM:\n",
      "\n",
      "====== WebDriver manager ======\n",
      "INFO:WDM:====== WebDriver manager ======\n",
      "Current google-chrome version is 92.0.4515\n",
      "INFO:WDM:Current google-chrome version is 92.0.4515\n",
      "Get LATEST driver version for 92.0.4515\n",
      "INFO:WDM:Get LATEST driver version for 92.0.4515\n"
     ]
    },
    {
     "name": "stdout",
     "output_type": "stream",
     "text": [
      "TIMS3 OK\n"
     ]
    },
    {
     "name": "stderr",
     "output_type": "stream",
     "text": [
      "Driver [/Users/leuzinger/.wdm/drivers/chromedriver/mac64/92.0.4515.107/chromedriver] found in cache\n",
      "INFO:WDM:Driver [/Users/leuzinger/.wdm/drivers/chromedriver/mac64/92.0.4515.107/chromedriver] found in cache\n",
      "\n",
      "\n",
      "INFO:WDM:\n",
      "\n",
      "====== WebDriver manager ======\n",
      "INFO:WDM:====== WebDriver manager ======\n",
      "Current google-chrome version is 92.0.4515\n",
      "INFO:WDM:Current google-chrome version is 92.0.4515\n",
      "Get LATEST driver version for 92.0.4515\n",
      "INFO:WDM:Get LATEST driver version for 92.0.4515\n"
     ]
    },
    {
     "name": "stdout",
     "output_type": "stream",
     "text": [
      "TKNO3 OK\n"
     ]
    },
    {
     "name": "stderr",
     "output_type": "stream",
     "text": [
      "Driver [/Users/leuzinger/.wdm/drivers/chromedriver/mac64/92.0.4515.107/chromedriver] found in cache\n",
      "INFO:WDM:Driver [/Users/leuzinger/.wdm/drivers/chromedriver/mac64/92.0.4515.107/chromedriver] found in cache\n",
      "\n",
      "\n",
      "INFO:WDM:\n",
      "\n",
      "====== WebDriver manager ======\n",
      "INFO:WDM:====== WebDriver manager ======\n",
      "Current google-chrome version is 92.0.4515\n",
      "INFO:WDM:Current google-chrome version is 92.0.4515\n",
      "Get LATEST driver version for 92.0.4515\n",
      "INFO:WDM:Get LATEST driver version for 92.0.4515\n"
     ]
    },
    {
     "name": "stdout",
     "output_type": "stream",
     "text": [
      "TKNO4 OK\n"
     ]
    },
    {
     "name": "stderr",
     "output_type": "stream",
     "text": [
      "Driver [/Users/leuzinger/.wdm/drivers/chromedriver/mac64/92.0.4515.107/chromedriver] found in cache\n",
      "INFO:WDM:Driver [/Users/leuzinger/.wdm/drivers/chromedriver/mac64/92.0.4515.107/chromedriver] found in cache\n",
      "\n",
      "\n",
      "INFO:WDM:\n",
      "\n",
      "====== WebDriver manager ======\n",
      "INFO:WDM:====== WebDriver manager ======\n",
      "Current google-chrome version is 92.0.4515\n",
      "INFO:WDM:Current google-chrome version is 92.0.4515\n",
      "Get LATEST driver version for 92.0.4515\n",
      "INFO:WDM:Get LATEST driver version for 92.0.4515\n"
     ]
    },
    {
     "name": "stdout",
     "output_type": "stream",
     "text": [
      "TOTS3 OK\n"
     ]
    },
    {
     "name": "stderr",
     "output_type": "stream",
     "text": [
      "Driver [/Users/leuzinger/.wdm/drivers/chromedriver/mac64/92.0.4515.107/chromedriver] found in cache\n",
      "INFO:WDM:Driver [/Users/leuzinger/.wdm/drivers/chromedriver/mac64/92.0.4515.107/chromedriver] found in cache\n",
      "\n",
      "\n",
      "INFO:WDM:\n",
      "\n",
      "====== WebDriver manager ======\n",
      "INFO:WDM:====== WebDriver manager ======\n",
      "Current google-chrome version is 92.0.4515\n",
      "INFO:WDM:Current google-chrome version is 92.0.4515\n",
      "Get LATEST driver version for 92.0.4515\n",
      "INFO:WDM:Get LATEST driver version for 92.0.4515\n"
     ]
    },
    {
     "name": "stdout",
     "output_type": "stream",
     "text": [
      "TOYB3 OK\n"
     ]
    },
    {
     "name": "stderr",
     "output_type": "stream",
     "text": [
      "Driver [/Users/leuzinger/.wdm/drivers/chromedriver/mac64/92.0.4515.107/chromedriver] found in cache\n",
      "INFO:WDM:Driver [/Users/leuzinger/.wdm/drivers/chromedriver/mac64/92.0.4515.107/chromedriver] found in cache\n",
      "\n",
      "\n",
      "INFO:WDM:\n",
      "\n",
      "====== WebDriver manager ======\n",
      "INFO:WDM:====== WebDriver manager ======\n",
      "Current google-chrome version is 92.0.4515\n",
      "INFO:WDM:Current google-chrome version is 92.0.4515\n",
      "Get LATEST driver version for 92.0.4515\n",
      "INFO:WDM:Get LATEST driver version for 92.0.4515\n"
     ]
    },
    {
     "name": "stdout",
     "output_type": "stream",
     "text": [
      "TOYB4 OK\n"
     ]
    },
    {
     "name": "stderr",
     "output_type": "stream",
     "text": [
      "Driver [/Users/leuzinger/.wdm/drivers/chromedriver/mac64/92.0.4515.107/chromedriver] found in cache\n",
      "INFO:WDM:Driver [/Users/leuzinger/.wdm/drivers/chromedriver/mac64/92.0.4515.107/chromedriver] found in cache\n",
      "\n",
      "\n",
      "INFO:WDM:\n",
      "\n",
      "====== WebDriver manager ======\n",
      "INFO:WDM:====== WebDriver manager ======\n",
      "Current google-chrome version is 92.0.4515\n",
      "INFO:WDM:Current google-chrome version is 92.0.4515\n",
      "Get LATEST driver version for 92.0.4515\n",
      "INFO:WDM:Get LATEST driver version for 92.0.4515\n"
     ]
    },
    {
     "name": "stdout",
     "output_type": "stream",
     "text": [
      "TPIS3 OK\n"
     ]
    },
    {
     "name": "stderr",
     "output_type": "stream",
     "text": [
      "Driver [/Users/leuzinger/.wdm/drivers/chromedriver/mac64/92.0.4515.107/chromedriver] found in cache\n",
      "INFO:WDM:Driver [/Users/leuzinger/.wdm/drivers/chromedriver/mac64/92.0.4515.107/chromedriver] found in cache\n",
      "\n",
      "\n",
      "INFO:WDM:\n",
      "\n",
      "====== WebDriver manager ======\n",
      "INFO:WDM:====== WebDriver manager ======\n",
      "Current google-chrome version is 92.0.4515\n",
      "INFO:WDM:Current google-chrome version is 92.0.4515\n",
      "Get LATEST driver version for 92.0.4515\n",
      "INFO:WDM:Get LATEST driver version for 92.0.4515\n"
     ]
    },
    {
     "name": "stdout",
     "output_type": "stream",
     "text": [
      "TRIS3 OK\n"
     ]
    },
    {
     "name": "stderr",
     "output_type": "stream",
     "text": [
      "Driver [/Users/leuzinger/.wdm/drivers/chromedriver/mac64/92.0.4515.107/chromedriver] found in cache\n",
      "INFO:WDM:Driver [/Users/leuzinger/.wdm/drivers/chromedriver/mac64/92.0.4515.107/chromedriver] found in cache\n",
      "\n",
      "\n",
      "INFO:WDM:\n",
      "\n",
      "====== WebDriver manager ======\n",
      "INFO:WDM:====== WebDriver manager ======\n",
      "Current google-chrome version is 92.0.4515\n",
      "INFO:WDM:Current google-chrome version is 92.0.4515\n",
      "Get LATEST driver version for 92.0.4515\n",
      "INFO:WDM:Get LATEST driver version for 92.0.4515\n"
     ]
    },
    {
     "name": "stdout",
     "output_type": "stream",
     "text": [
      "TRPL3 OK\n"
     ]
    },
    {
     "name": "stderr",
     "output_type": "stream",
     "text": [
      "Driver [/Users/leuzinger/.wdm/drivers/chromedriver/mac64/92.0.4515.107/chromedriver] found in cache\n",
      "INFO:WDM:Driver [/Users/leuzinger/.wdm/drivers/chromedriver/mac64/92.0.4515.107/chromedriver] found in cache\n",
      "\n",
      "\n",
      "INFO:WDM:\n",
      "\n",
      "====== WebDriver manager ======\n",
      "INFO:WDM:====== WebDriver manager ======\n",
      "Current google-chrome version is 92.0.4515\n",
      "INFO:WDM:Current google-chrome version is 92.0.4515\n",
      "Get LATEST driver version for 92.0.4515\n",
      "INFO:WDM:Get LATEST driver version for 92.0.4515\n"
     ]
    },
    {
     "name": "stdout",
     "output_type": "stream",
     "text": [
      "TRPL4 OK\n"
     ]
    },
    {
     "name": "stderr",
     "output_type": "stream",
     "text": [
      "Driver [/Users/leuzinger/.wdm/drivers/chromedriver/mac64/92.0.4515.107/chromedriver] found in cache\n",
      "INFO:WDM:Driver [/Users/leuzinger/.wdm/drivers/chromedriver/mac64/92.0.4515.107/chromedriver] found in cache\n",
      "\n",
      "\n",
      "INFO:WDM:\n",
      "\n",
      "====== WebDriver manager ======\n",
      "INFO:WDM:====== WebDriver manager ======\n",
      "Current google-chrome version is 92.0.4515\n",
      "INFO:WDM:Current google-chrome version is 92.0.4515\n",
      "Get LATEST driver version for 92.0.4515\n",
      "INFO:WDM:Get LATEST driver version for 92.0.4515\n"
     ]
    },
    {
     "name": "stdout",
     "output_type": "stream",
     "text": [
      "TTEN3 OK\n"
     ]
    },
    {
     "name": "stderr",
     "output_type": "stream",
     "text": [
      "Driver [/Users/leuzinger/.wdm/drivers/chromedriver/mac64/92.0.4515.107/chromedriver] found in cache\n",
      "INFO:WDM:Driver [/Users/leuzinger/.wdm/drivers/chromedriver/mac64/92.0.4515.107/chromedriver] found in cache\n",
      "\n",
      "\n",
      "INFO:WDM:\n",
      "\n",
      "====== WebDriver manager ======\n",
      "INFO:WDM:====== WebDriver manager ======\n",
      "Current google-chrome version is 92.0.4515\n",
      "INFO:WDM:Current google-chrome version is 92.0.4515\n",
      "Get LATEST driver version for 92.0.4515\n",
      "INFO:WDM:Get LATEST driver version for 92.0.4515\n"
     ]
    },
    {
     "name": "stdout",
     "output_type": "stream",
     "text": [
      "TUPY3 OK\n"
     ]
    },
    {
     "name": "stderr",
     "output_type": "stream",
     "text": [
      "Driver [/Users/leuzinger/.wdm/drivers/chromedriver/mac64/92.0.4515.107/chromedriver] found in cache\n",
      "INFO:WDM:Driver [/Users/leuzinger/.wdm/drivers/chromedriver/mac64/92.0.4515.107/chromedriver] found in cache\n",
      "\n",
      "\n",
      "INFO:WDM:\n",
      "\n",
      "====== WebDriver manager ======\n",
      "INFO:WDM:====== WebDriver manager ======\n",
      "Current google-chrome version is 92.0.4515\n",
      "INFO:WDM:Current google-chrome version is 92.0.4515\n",
      "Get LATEST driver version for 92.0.4515\n",
      "INFO:WDM:Get LATEST driver version for 92.0.4515\n"
     ]
    },
    {
     "name": "stdout",
     "output_type": "stream",
     "text": [
      "TXRX3 OK\n"
     ]
    },
    {
     "name": "stderr",
     "output_type": "stream",
     "text": [
      "Driver [/Users/leuzinger/.wdm/drivers/chromedriver/mac64/92.0.4515.107/chromedriver] found in cache\n",
      "INFO:WDM:Driver [/Users/leuzinger/.wdm/drivers/chromedriver/mac64/92.0.4515.107/chromedriver] found in cache\n",
      "\n",
      "\n",
      "INFO:WDM:\n",
      "\n",
      "====== WebDriver manager ======\n",
      "INFO:WDM:====== WebDriver manager ======\n",
      "Current google-chrome version is 92.0.4515\n",
      "INFO:WDM:Current google-chrome version is 92.0.4515\n",
      "Get LATEST driver version for 92.0.4515\n",
      "INFO:WDM:Get LATEST driver version for 92.0.4515\n"
     ]
    },
    {
     "name": "stdout",
     "output_type": "stream",
     "text": [
      "TXRX4 OK\n"
     ]
    },
    {
     "name": "stderr",
     "output_type": "stream",
     "text": [
      "Driver [/Users/leuzinger/.wdm/drivers/chromedriver/mac64/92.0.4515.107/chromedriver] found in cache\n",
      "INFO:WDM:Driver [/Users/leuzinger/.wdm/drivers/chromedriver/mac64/92.0.4515.107/chromedriver] found in cache\n",
      "\n",
      "\n",
      "INFO:WDM:\n",
      "\n",
      "====== WebDriver manager ======\n",
      "INFO:WDM:====== WebDriver manager ======\n",
      "Current google-chrome version is 92.0.4515\n",
      "INFO:WDM:Current google-chrome version is 92.0.4515\n",
      "Get LATEST driver version for 92.0.4515\n",
      "INFO:WDM:Get LATEST driver version for 92.0.4515\n"
     ]
    },
    {
     "name": "stdout",
     "output_type": "stream",
     "text": [
      "UCAS3 OK\n"
     ]
    },
    {
     "name": "stderr",
     "output_type": "stream",
     "text": [
      "Driver [/Users/leuzinger/.wdm/drivers/chromedriver/mac64/92.0.4515.107/chromedriver] found in cache\n",
      "INFO:WDM:Driver [/Users/leuzinger/.wdm/drivers/chromedriver/mac64/92.0.4515.107/chromedriver] found in cache\n",
      "\n",
      "\n",
      "INFO:WDM:\n",
      "\n",
      "====== WebDriver manager ======\n",
      "INFO:WDM:====== WebDriver manager ======\n",
      "Current google-chrome version is 92.0.4515\n",
      "INFO:WDM:Current google-chrome version is 92.0.4515\n",
      "Get LATEST driver version for 92.0.4515\n",
      "INFO:WDM:Get LATEST driver version for 92.0.4515\n"
     ]
    },
    {
     "name": "stdout",
     "output_type": "stream",
     "text": [
      "UGPA3 OK\n"
     ]
    },
    {
     "name": "stderr",
     "output_type": "stream",
     "text": [
      "Driver [/Users/leuzinger/.wdm/drivers/chromedriver/mac64/92.0.4515.107/chromedriver] found in cache\n",
      "INFO:WDM:Driver [/Users/leuzinger/.wdm/drivers/chromedriver/mac64/92.0.4515.107/chromedriver] found in cache\n",
      "\n",
      "\n",
      "INFO:WDM:\n",
      "\n",
      "====== WebDriver manager ======\n",
      "INFO:WDM:====== WebDriver manager ======\n",
      "Current google-chrome version is 92.0.4515\n",
      "INFO:WDM:Current google-chrome version is 92.0.4515\n",
      "Get LATEST driver version for 92.0.4515\n",
      "INFO:WDM:Get LATEST driver version for 92.0.4515\n"
     ]
    },
    {
     "name": "stdout",
     "output_type": "stream",
     "text": [
      "UNIP3 OK\n"
     ]
    },
    {
     "name": "stderr",
     "output_type": "stream",
     "text": [
      "Driver [/Users/leuzinger/.wdm/drivers/chromedriver/mac64/92.0.4515.107/chromedriver] found in cache\n",
      "INFO:WDM:Driver [/Users/leuzinger/.wdm/drivers/chromedriver/mac64/92.0.4515.107/chromedriver] found in cache\n",
      "\n",
      "\n",
      "INFO:WDM:\n",
      "\n",
      "====== WebDriver manager ======\n",
      "INFO:WDM:====== WebDriver manager ======\n",
      "Current google-chrome version is 92.0.4515\n",
      "INFO:WDM:Current google-chrome version is 92.0.4515\n",
      "Get LATEST driver version for 92.0.4515\n",
      "INFO:WDM:Get LATEST driver version for 92.0.4515\n"
     ]
    },
    {
     "name": "stdout",
     "output_type": "stream",
     "text": [
      "UNIP5 OK\n"
     ]
    },
    {
     "name": "stderr",
     "output_type": "stream",
     "text": [
      "Driver [/Users/leuzinger/.wdm/drivers/chromedriver/mac64/92.0.4515.107/chromedriver] found in cache\n",
      "INFO:WDM:Driver [/Users/leuzinger/.wdm/drivers/chromedriver/mac64/92.0.4515.107/chromedriver] found in cache\n",
      "\n",
      "\n",
      "INFO:WDM:\n",
      "\n",
      "====== WebDriver manager ======\n",
      "INFO:WDM:====== WebDriver manager ======\n",
      "Current google-chrome version is 92.0.4515\n",
      "INFO:WDM:Current google-chrome version is 92.0.4515\n",
      "Get LATEST driver version for 92.0.4515\n",
      "INFO:WDM:Get LATEST driver version for 92.0.4515\n"
     ]
    },
    {
     "name": "stdout",
     "output_type": "stream",
     "text": [
      "UNIP6 OK\n"
     ]
    },
    {
     "name": "stderr",
     "output_type": "stream",
     "text": [
      "Driver [/Users/leuzinger/.wdm/drivers/chromedriver/mac64/92.0.4515.107/chromedriver] found in cache\n",
      "INFO:WDM:Driver [/Users/leuzinger/.wdm/drivers/chromedriver/mac64/92.0.4515.107/chromedriver] found in cache\n",
      "\n",
      "\n",
      "INFO:WDM:\n",
      "\n",
      "====== WebDriver manager ======\n",
      "INFO:WDM:====== WebDriver manager ======\n",
      "Current google-chrome version is 92.0.4515\n",
      "INFO:WDM:Current google-chrome version is 92.0.4515\n",
      "Get LATEST driver version for 92.0.4515\n",
      "INFO:WDM:Get LATEST driver version for 92.0.4515\n"
     ]
    },
    {
     "name": "stdout",
     "output_type": "stream",
     "text": [
      "USIM3 OK\n"
     ]
    },
    {
     "name": "stderr",
     "output_type": "stream",
     "text": [
      "Driver [/Users/leuzinger/.wdm/drivers/chromedriver/mac64/92.0.4515.107/chromedriver] found in cache\n",
      "INFO:WDM:Driver [/Users/leuzinger/.wdm/drivers/chromedriver/mac64/92.0.4515.107/chromedriver] found in cache\n",
      "\n",
      "\n",
      "INFO:WDM:\n",
      "\n",
      "====== WebDriver manager ======\n",
      "INFO:WDM:====== WebDriver manager ======\n",
      "Current google-chrome version is 92.0.4515\n",
      "INFO:WDM:Current google-chrome version is 92.0.4515\n",
      "Get LATEST driver version for 92.0.4515\n",
      "INFO:WDM:Get LATEST driver version for 92.0.4515\n"
     ]
    },
    {
     "name": "stdout",
     "output_type": "stream",
     "text": [
      "USIM5 OK\n"
     ]
    },
    {
     "name": "stderr",
     "output_type": "stream",
     "text": [
      "Driver [/Users/leuzinger/.wdm/drivers/chromedriver/mac64/92.0.4515.107/chromedriver] found in cache\n",
      "INFO:WDM:Driver [/Users/leuzinger/.wdm/drivers/chromedriver/mac64/92.0.4515.107/chromedriver] found in cache\n",
      "\n",
      "\n",
      "INFO:WDM:\n",
      "\n",
      "====== WebDriver manager ======\n",
      "INFO:WDM:====== WebDriver manager ======\n",
      "Current google-chrome version is 92.0.4515\n",
      "INFO:WDM:Current google-chrome version is 92.0.4515\n",
      "Get LATEST driver version for 92.0.4515\n",
      "INFO:WDM:Get LATEST driver version for 92.0.4515\n"
     ]
    },
    {
     "name": "stdout",
     "output_type": "stream",
     "text": [
      "USIM6 OK\n"
     ]
    },
    {
     "name": "stderr",
     "output_type": "stream",
     "text": [
      "Driver [/Users/leuzinger/.wdm/drivers/chromedriver/mac64/92.0.4515.107/chromedriver] found in cache\n",
      "INFO:WDM:Driver [/Users/leuzinger/.wdm/drivers/chromedriver/mac64/92.0.4515.107/chromedriver] found in cache\n",
      "\n",
      "\n",
      "INFO:WDM:\n",
      "\n",
      "====== WebDriver manager ======\n",
      "INFO:WDM:====== WebDriver manager ======\n",
      "Current google-chrome version is 92.0.4515\n",
      "INFO:WDM:Current google-chrome version is 92.0.4515\n",
      "Get LATEST driver version for 92.0.4515\n",
      "INFO:WDM:Get LATEST driver version for 92.0.4515\n"
     ]
    },
    {
     "name": "stdout",
     "output_type": "stream",
     "text": [
      "VALE3 OK\n"
     ]
    },
    {
     "name": "stderr",
     "output_type": "stream",
     "text": [
      "Driver [/Users/leuzinger/.wdm/drivers/chromedriver/mac64/92.0.4515.107/chromedriver] found in cache\n",
      "INFO:WDM:Driver [/Users/leuzinger/.wdm/drivers/chromedriver/mac64/92.0.4515.107/chromedriver] found in cache\n",
      "\n",
      "\n",
      "INFO:WDM:\n",
      "\n",
      "====== WebDriver manager ======\n",
      "INFO:WDM:====== WebDriver manager ======\n",
      "Current google-chrome version is 92.0.4515\n",
      "INFO:WDM:Current google-chrome version is 92.0.4515\n",
      "Get LATEST driver version for 92.0.4515\n",
      "INFO:WDM:Get LATEST driver version for 92.0.4515\n"
     ]
    },
    {
     "name": "stdout",
     "output_type": "stream",
     "text": [
      "VAMO3 OK\n"
     ]
    },
    {
     "name": "stderr",
     "output_type": "stream",
     "text": [
      "Driver [/Users/leuzinger/.wdm/drivers/chromedriver/mac64/92.0.4515.107/chromedriver] found in cache\n",
      "INFO:WDM:Driver [/Users/leuzinger/.wdm/drivers/chromedriver/mac64/92.0.4515.107/chromedriver] found in cache\n",
      "\n",
      "\n",
      "INFO:WDM:\n",
      "\n",
      "====== WebDriver manager ======\n",
      "INFO:WDM:====== WebDriver manager ======\n",
      "Current google-chrome version is 92.0.4515\n",
      "INFO:WDM:Current google-chrome version is 92.0.4515\n",
      "Get LATEST driver version for 92.0.4515\n",
      "INFO:WDM:Get LATEST driver version for 92.0.4515\n"
     ]
    },
    {
     "name": "stdout",
     "output_type": "stream",
     "text": [
      "VIVA3 OK\n"
     ]
    },
    {
     "name": "stderr",
     "output_type": "stream",
     "text": [
      "Driver [/Users/leuzinger/.wdm/drivers/chromedriver/mac64/92.0.4515.107/chromedriver] found in cache\n",
      "INFO:WDM:Driver [/Users/leuzinger/.wdm/drivers/chromedriver/mac64/92.0.4515.107/chromedriver] found in cache\n",
      "\n",
      "\n",
      "INFO:WDM:\n",
      "\n",
      "====== WebDriver manager ======\n",
      "INFO:WDM:====== WebDriver manager ======\n",
      "Current google-chrome version is 92.0.4515\n",
      "INFO:WDM:Current google-chrome version is 92.0.4515\n",
      "Get LATEST driver version for 92.0.4515\n",
      "INFO:WDM:Get LATEST driver version for 92.0.4515\n"
     ]
    },
    {
     "name": "stdout",
     "output_type": "stream",
     "text": [
      "VIVR3 OK\n"
     ]
    },
    {
     "name": "stderr",
     "output_type": "stream",
     "text": [
      "Driver [/Users/leuzinger/.wdm/drivers/chromedriver/mac64/92.0.4515.107/chromedriver] found in cache\n",
      "INFO:WDM:Driver [/Users/leuzinger/.wdm/drivers/chromedriver/mac64/92.0.4515.107/chromedriver] found in cache\n",
      "\n",
      "\n",
      "INFO:WDM:\n",
      "\n",
      "====== WebDriver manager ======\n",
      "INFO:WDM:====== WebDriver manager ======\n",
      "Current google-chrome version is 92.0.4515\n",
      "INFO:WDM:Current google-chrome version is 92.0.4515\n",
      "Get LATEST driver version for 92.0.4515\n",
      "INFO:WDM:Get LATEST driver version for 92.0.4515\n"
     ]
    },
    {
     "name": "stdout",
     "output_type": "stream",
     "text": [
      "VIVT3 OK\n"
     ]
    },
    {
     "name": "stderr",
     "output_type": "stream",
     "text": [
      "Driver [/Users/leuzinger/.wdm/drivers/chromedriver/mac64/92.0.4515.107/chromedriver] found in cache\n",
      "INFO:WDM:Driver [/Users/leuzinger/.wdm/drivers/chromedriver/mac64/92.0.4515.107/chromedriver] found in cache\n",
      "\n",
      "\n",
      "INFO:WDM:\n",
      "\n",
      "====== WebDriver manager ======\n",
      "INFO:WDM:====== WebDriver manager ======\n",
      "Current google-chrome version is 92.0.4515\n",
      "INFO:WDM:Current google-chrome version is 92.0.4515\n",
      "Get LATEST driver version for 92.0.4515\n",
      "INFO:WDM:Get LATEST driver version for 92.0.4515\n"
     ]
    },
    {
     "name": "stdout",
     "output_type": "stream",
     "text": [
      "VIVT4 OK\n"
     ]
    },
    {
     "name": "stderr",
     "output_type": "stream",
     "text": [
      "Driver [/Users/leuzinger/.wdm/drivers/chromedriver/mac64/92.0.4515.107/chromedriver] found in cache\n",
      "INFO:WDM:Driver [/Users/leuzinger/.wdm/drivers/chromedriver/mac64/92.0.4515.107/chromedriver] found in cache\n",
      "\n",
      "\n",
      "INFO:WDM:\n",
      "\n",
      "====== WebDriver manager ======\n",
      "INFO:WDM:====== WebDriver manager ======\n",
      "Current google-chrome version is 92.0.4515\n",
      "INFO:WDM:Current google-chrome version is 92.0.4515\n",
      "Get LATEST driver version for 92.0.4515\n",
      "INFO:WDM:Get LATEST driver version for 92.0.4515\n"
     ]
    },
    {
     "name": "stdout",
     "output_type": "stream",
     "text": [
      "VLID3 OK\n"
     ]
    },
    {
     "name": "stderr",
     "output_type": "stream",
     "text": [
      "Driver [/Users/leuzinger/.wdm/drivers/chromedriver/mac64/92.0.4515.107/chromedriver] found in cache\n",
      "INFO:WDM:Driver [/Users/leuzinger/.wdm/drivers/chromedriver/mac64/92.0.4515.107/chromedriver] found in cache\n",
      "\n",
      "\n",
      "INFO:WDM:\n",
      "\n",
      "====== WebDriver manager ======\n",
      "INFO:WDM:====== WebDriver manager ======\n",
      "Current google-chrome version is 92.0.4515\n",
      "INFO:WDM:Current google-chrome version is 92.0.4515\n",
      "Get LATEST driver version for 92.0.4515\n",
      "INFO:WDM:Get LATEST driver version for 92.0.4515\n"
     ]
    },
    {
     "name": "stdout",
     "output_type": "stream",
     "text": [
      "VSPT3 OK\n"
     ]
    },
    {
     "name": "stderr",
     "output_type": "stream",
     "text": [
      "Driver [/Users/leuzinger/.wdm/drivers/chromedriver/mac64/92.0.4515.107/chromedriver] found in cache\n",
      "INFO:WDM:Driver [/Users/leuzinger/.wdm/drivers/chromedriver/mac64/92.0.4515.107/chromedriver] found in cache\n",
      "\n",
      "\n",
      "INFO:WDM:\n",
      "\n",
      "====== WebDriver manager ======\n",
      "INFO:WDM:====== WebDriver manager ======\n",
      "Current google-chrome version is 92.0.4515\n",
      "INFO:WDM:Current google-chrome version is 92.0.4515\n",
      "Get LATEST driver version for 92.0.4515\n",
      "INFO:WDM:Get LATEST driver version for 92.0.4515\n"
     ]
    },
    {
     "name": "stdout",
     "output_type": "stream",
     "text": [
      "VSPT4 OK\n"
     ]
    },
    {
     "name": "stderr",
     "output_type": "stream",
     "text": [
      "Driver [/Users/leuzinger/.wdm/drivers/chromedriver/mac64/92.0.4515.107/chromedriver] found in cache\n",
      "INFO:WDM:Driver [/Users/leuzinger/.wdm/drivers/chromedriver/mac64/92.0.4515.107/chromedriver] found in cache\n",
      "\n",
      "\n",
      "INFO:WDM:\n",
      "\n",
      "====== WebDriver manager ======\n",
      "INFO:WDM:====== WebDriver manager ======\n",
      "Current google-chrome version is 92.0.4515\n",
      "INFO:WDM:Current google-chrome version is 92.0.4515\n",
      "Get LATEST driver version for 92.0.4515\n",
      "INFO:WDM:Get LATEST driver version for 92.0.4515\n"
     ]
    },
    {
     "name": "stdout",
     "output_type": "stream",
     "text": [
      "VULC3 OK\n"
     ]
    },
    {
     "name": "stderr",
     "output_type": "stream",
     "text": [
      "Driver [/Users/leuzinger/.wdm/drivers/chromedriver/mac64/92.0.4515.107/chromedriver] found in cache\n",
      "INFO:WDM:Driver [/Users/leuzinger/.wdm/drivers/chromedriver/mac64/92.0.4515.107/chromedriver] found in cache\n",
      "\n",
      "\n",
      "INFO:WDM:\n",
      "\n",
      "====== WebDriver manager ======\n",
      "INFO:WDM:====== WebDriver manager ======\n",
      "Current google-chrome version is 92.0.4515\n",
      "INFO:WDM:Current google-chrome version is 92.0.4515\n",
      "Get LATEST driver version for 92.0.4515\n",
      "INFO:WDM:Get LATEST driver version for 92.0.4515\n"
     ]
    },
    {
     "name": "stdout",
     "output_type": "stream",
     "text": [
      "VVAR3 OK\n"
     ]
    },
    {
     "name": "stderr",
     "output_type": "stream",
     "text": [
      "Driver [/Users/leuzinger/.wdm/drivers/chromedriver/mac64/92.0.4515.107/chromedriver] found in cache\n",
      "INFO:WDM:Driver [/Users/leuzinger/.wdm/drivers/chromedriver/mac64/92.0.4515.107/chromedriver] found in cache\n",
      "\n",
      "\n",
      "INFO:WDM:\n",
      "\n",
      "====== WebDriver manager ======\n",
      "INFO:WDM:====== WebDriver manager ======\n",
      "Current google-chrome version is 92.0.4515\n",
      "INFO:WDM:Current google-chrome version is 92.0.4515\n",
      "Get LATEST driver version for 92.0.4515\n",
      "INFO:WDM:Get LATEST driver version for 92.0.4515\n"
     ]
    },
    {
     "name": "stdout",
     "output_type": "stream",
     "text": [
      "WEGE3 OK\n"
     ]
    },
    {
     "name": "stderr",
     "output_type": "stream",
     "text": [
      "Driver [/Users/leuzinger/.wdm/drivers/chromedriver/mac64/92.0.4515.107/chromedriver] found in cache\n",
      "INFO:WDM:Driver [/Users/leuzinger/.wdm/drivers/chromedriver/mac64/92.0.4515.107/chromedriver] found in cache\n",
      "\n",
      "\n",
      "INFO:WDM:\n",
      "\n",
      "====== WebDriver manager ======\n",
      "INFO:WDM:====== WebDriver manager ======\n",
      "Current google-chrome version is 92.0.4515\n",
      "INFO:WDM:Current google-chrome version is 92.0.4515\n",
      "Get LATEST driver version for 92.0.4515\n",
      "INFO:WDM:Get LATEST driver version for 92.0.4515\n",
      "Driver [/Users/leuzinger/.wdm/drivers/chromedriver/mac64/92.0.4515.107/chromedriver] found in cache\n"
     ]
    },
    {
     "name": "stdout",
     "output_type": "stream",
     "text": [
      "WEST3 OK\n"
     ]
    },
    {
     "name": "stderr",
     "output_type": "stream",
     "text": [
      "INFO:WDM:Driver [/Users/leuzinger/.wdm/drivers/chromedriver/mac64/92.0.4515.107/chromedriver] found in cache\n",
      "\n",
      "\n",
      "INFO:WDM:\n",
      "\n",
      "====== WebDriver manager ======\n",
      "INFO:WDM:====== WebDriver manager ======\n",
      "Current google-chrome version is 92.0.4515\n",
      "INFO:WDM:Current google-chrome version is 92.0.4515\n",
      "Get LATEST driver version for 92.0.4515\n",
      "INFO:WDM:Get LATEST driver version for 92.0.4515\n"
     ]
    },
    {
     "name": "stdout",
     "output_type": "stream",
     "text": [
      "WHRL3 OK\n"
     ]
    },
    {
     "name": "stderr",
     "output_type": "stream",
     "text": [
      "Driver [/Users/leuzinger/.wdm/drivers/chromedriver/mac64/92.0.4515.107/chromedriver] found in cache\n",
      "INFO:WDM:Driver [/Users/leuzinger/.wdm/drivers/chromedriver/mac64/92.0.4515.107/chromedriver] found in cache\n",
      "\n",
      "\n",
      "INFO:WDM:\n",
      "\n",
      "====== WebDriver manager ======\n",
      "INFO:WDM:====== WebDriver manager ======\n",
      "Current google-chrome version is 92.0.4515\n",
      "INFO:WDM:Current google-chrome version is 92.0.4515\n",
      "Get LATEST driver version for 92.0.4515\n",
      "INFO:WDM:Get LATEST driver version for 92.0.4515\n"
     ]
    },
    {
     "name": "stdout",
     "output_type": "stream",
     "text": [
      "WHRL4 OK\n"
     ]
    },
    {
     "name": "stderr",
     "output_type": "stream",
     "text": [
      "Driver [/Users/leuzinger/.wdm/drivers/chromedriver/mac64/92.0.4515.107/chromedriver] found in cache\n",
      "INFO:WDM:Driver [/Users/leuzinger/.wdm/drivers/chromedriver/mac64/92.0.4515.107/chromedriver] found in cache\n",
      "\n",
      "\n",
      "INFO:WDM:\n",
      "\n",
      "====== WebDriver manager ======\n",
      "INFO:WDM:====== WebDriver manager ======\n",
      "Current google-chrome version is 92.0.4515\n",
      "INFO:WDM:Current google-chrome version is 92.0.4515\n",
      "Get LATEST driver version for 92.0.4515\n",
      "INFO:WDM:Get LATEST driver version for 92.0.4515\n"
     ]
    },
    {
     "name": "stdout",
     "output_type": "stream",
     "text": [
      "WIZS3 OK\n"
     ]
    },
    {
     "name": "stderr",
     "output_type": "stream",
     "text": [
      "Driver [/Users/leuzinger/.wdm/drivers/chromedriver/mac64/92.0.4515.107/chromedriver] found in cache\n",
      "INFO:WDM:Driver [/Users/leuzinger/.wdm/drivers/chromedriver/mac64/92.0.4515.107/chromedriver] found in cache\n",
      "\n",
      "\n",
      "INFO:WDM:\n",
      "\n",
      "====== WebDriver manager ======\n",
      "INFO:WDM:====== WebDriver manager ======\n",
      "Current google-chrome version is 92.0.4515\n",
      "INFO:WDM:Current google-chrome version is 92.0.4515\n",
      "Get LATEST driver version for 92.0.4515\n",
      "INFO:WDM:Get LATEST driver version for 92.0.4515\n"
     ]
    },
    {
     "name": "stdout",
     "output_type": "stream",
     "text": [
      "WLMM3 OK\n"
     ]
    },
    {
     "name": "stderr",
     "output_type": "stream",
     "text": [
      "Driver [/Users/leuzinger/.wdm/drivers/chromedriver/mac64/92.0.4515.107/chromedriver] found in cache\n",
      "INFO:WDM:Driver [/Users/leuzinger/.wdm/drivers/chromedriver/mac64/92.0.4515.107/chromedriver] found in cache\n",
      "\n",
      "\n",
      "INFO:WDM:\n",
      "\n",
      "====== WebDriver manager ======\n",
      "INFO:WDM:====== WebDriver manager ======\n",
      "Current google-chrome version is 92.0.4515\n",
      "INFO:WDM:Current google-chrome version is 92.0.4515\n",
      "Get LATEST driver version for 92.0.4515\n",
      "INFO:WDM:Get LATEST driver version for 92.0.4515\n"
     ]
    },
    {
     "name": "stdout",
     "output_type": "stream",
     "text": [
      "WLMM4 OK\n"
     ]
    },
    {
     "name": "stderr",
     "output_type": "stream",
     "text": [
      "Driver [/Users/leuzinger/.wdm/drivers/chromedriver/mac64/92.0.4515.107/chromedriver] found in cache\n",
      "INFO:WDM:Driver [/Users/leuzinger/.wdm/drivers/chromedriver/mac64/92.0.4515.107/chromedriver] found in cache\n",
      "\n",
      "\n",
      "INFO:WDM:\n",
      "\n",
      "====== WebDriver manager ======\n",
      "INFO:WDM:====== WebDriver manager ======\n",
      "Current google-chrome version is 92.0.4515\n",
      "INFO:WDM:Current google-chrome version is 92.0.4515\n",
      "Get LATEST driver version for 92.0.4515\n",
      "INFO:WDM:Get LATEST driver version for 92.0.4515\n"
     ]
    },
    {
     "name": "stdout",
     "output_type": "stream",
     "text": [
      "WSON33 OK\n"
     ]
    },
    {
     "name": "stderr",
     "output_type": "stream",
     "text": [
      "Driver [/Users/leuzinger/.wdm/drivers/chromedriver/mac64/92.0.4515.107/chromedriver] found in cache\n",
      "INFO:WDM:Driver [/Users/leuzinger/.wdm/drivers/chromedriver/mac64/92.0.4515.107/chromedriver] found in cache\n"
     ]
    },
    {
     "name": "stdout",
     "output_type": "stream",
     "text": [
      "YDUQ3 OK\n"
     ]
    }
   ],
   "source": [
    "resultado_final=[]\n",
    "for i in df['TICKER']:\n",
    "    resultado = get_data(i)\n",
    "    resultado_final.append(resultado)\n",
    "    print(i,'OK')"
   ]
  },
  {
   "cell_type": "markdown",
   "metadata": {},
   "source": [
    "-----"
   ]
  },
  {
   "cell_type": "markdown",
   "metadata": {},
   "source": [
    "### Salvando dados em um arquivo csv"
   ]
  },
  {
   "cell_type": "code",
   "execution_count": 20,
   "metadata": {},
   "outputs": [
    {
     "name": "stdout",
     "output_type": "stream",
     "text": [
      "<class 'pandas.core.frame.DataFrame'>\n",
      "Index: 16072 entries, D.Y to GIRO ATIVOS\n",
      "Data columns (total 10 columns):\n",
      " #   Column  Non-Null Count  Dtype \n",
      "---  ------  --------------  ----- \n",
      " 0   ATUAL   16072 non-null  object\n",
      " 1   2020    15568 non-null  object\n",
      " 2   2019    15232 non-null  object\n",
      " 3   2018    14476 non-null  object\n",
      " 4   2017    14280 non-null  object\n",
      " 5   2016    13804 non-null  object\n",
      " 6   2015    13650 non-null  object\n",
      " 7   2014    13384 non-null  object\n",
      " 8   2013    13034 non-null  object\n",
      " 9   2012    12698 non-null  object\n",
      "dtypes: object(10)\n",
      "memory usage: 1.3+ MB\n"
     ]
    }
   ],
   "source": [
    "matriz = pd.DataFrame(columns=resultado_final[0].columns)\n",
    "\n",
    "for i in range(len(resultado_final)):\n",
    "    matriz = matriz.append(resultado_final[i])\n",
    "\n",
    "matriz.info()"
   ]
  },
  {
   "cell_type": "code",
   "execution_count": 21,
   "metadata": {},
   "outputs": [],
   "source": [
    "matriz.to_csv(r'/Users/leuzinger/Dropbox/Data Science/Awari/Projeto Final/dados_empresas.csv',index=False)"
   ]
  },
  {
   "cell_type": "markdown",
   "metadata": {},
   "source": [
    "-------"
   ]
  },
  {
   "cell_type": "markdown",
   "metadata": {},
   "source": [
    "### Variáveis que serão utilizadas na clusterização:\n",
    "\n",
    "* Valuation: Dividend Yiled e P/L\n",
    "* Endividamento: Dívida líquida/PL\n",
    "* Rentabilidade ROE e ROIC\n",
    "* Eficiência: Margem Bruta, Margem EBITDA, Margem EBIT, e Margem Líquida, \n",
    "* Crescimento: Lucro e Receita\n"
   ]
  },
  {
   "cell_type": "code",
   "execution_count": 455,
   "metadata": {},
   "outputs": [],
   "source": [
    "matriz_cluster = pd.DataFrame(index=df['TICKER'])\n",
    "\n",
    "for ano in resultado_final[0].columns:\n",
    "    matriz_cluster2 = pd.DataFrame(index=df['TICKER'],columns=[f'DY_{ano}',f'P/L_{ano}',f'Div_liq/PL_{ano}',\n",
    "                                                               f'ROE_{ano}',f'ROIC_{ano}',f'M_bruta_{ano}',\n",
    "                                                               f'M_EBTIDA_{ano}',f'M_EBIT_{ano}',\n",
    "                                                               f'M_liquida_{ano}'])\n",
    "\n",
    "    for i in range(len(resultado_final)):\n",
    "        if len(resultado_final[i]) >0:\n",
    "            resultado_cluster = resultado_final[i][ano][['D.Y', 'P/L','DÍV. LÍQUIDA/PL',\n",
    "                                                             'ROE','ROIC','M. BRUTA', 'M. EBITDA', 'M. EBIT', \n",
    "                                                             'M. LÍQUIDA']].replace('-',np.nan).replace('-%',np.nan)\n",
    "            for k in range(len(matriz_cluster2.columns)):\n",
    "                if pd.isna(resultado_cluster[k]) == False:\n",
    "                    if '%' in resultado_cluster[k]:\n",
    "                        matriz_cluster2.iloc[i,k] = float(resultado_cluster[k].strip('%').replace('.','').replace(',','.'))/100\n",
    "                    else:\n",
    "                        matriz_cluster2.iloc[i,k] = float(resultado_cluster[k].replace('.','').replace(',','.'))\n",
    "                else:\n",
    "                    pass\n",
    "        else:\n",
    "            pass\n",
    "    matriz_cluster = pd.concat([matriz_cluster,matriz_cluster2],axis=1)"
   ]
  },
  {
   "cell_type": "code",
   "execution_count": 456,
   "metadata": {},
   "outputs": [
    {
     "data": {
      "text/html": [
       "<div>\n",
       "<style scoped>\n",
       "    .dataframe tbody tr th:only-of-type {\n",
       "        vertical-align: middle;\n",
       "    }\n",
       "\n",
       "    .dataframe tbody tr th {\n",
       "        vertical-align: top;\n",
       "    }\n",
       "\n",
       "    .dataframe thead th {\n",
       "        text-align: right;\n",
       "    }\n",
       "</style>\n",
       "<table border=\"1\" class=\"dataframe\">\n",
       "  <thead>\n",
       "    <tr style=\"text-align: right;\">\n",
       "      <th></th>\n",
       "      <th>DY_ATUAL</th>\n",
       "      <th>P/L_ATUAL</th>\n",
       "      <th>Div_liq/PL_ATUAL</th>\n",
       "      <th>ROE_ATUAL</th>\n",
       "      <th>ROIC_ATUAL</th>\n",
       "      <th>M_bruta_ATUAL</th>\n",
       "      <th>M_EBTIDA_ATUAL</th>\n",
       "      <th>M_EBIT_ATUAL</th>\n",
       "      <th>M_liquida_ATUAL</th>\n",
       "      <th>DY_2020</th>\n",
       "      <th>...</th>\n",
       "      <th>M_liquida_2013</th>\n",
       "      <th>DY_2012</th>\n",
       "      <th>P/L_2012</th>\n",
       "      <th>Div_liq/PL_2012</th>\n",
       "      <th>ROE_2012</th>\n",
       "      <th>ROIC_2012</th>\n",
       "      <th>M_bruta_2012</th>\n",
       "      <th>M_EBTIDA_2012</th>\n",
       "      <th>M_EBIT_2012</th>\n",
       "      <th>M_liquida_2012</th>\n",
       "    </tr>\n",
       "    <tr>\n",
       "      <th>TICKER</th>\n",
       "      <th></th>\n",
       "      <th></th>\n",
       "      <th></th>\n",
       "      <th></th>\n",
       "      <th></th>\n",
       "      <th></th>\n",
       "      <th></th>\n",
       "      <th></th>\n",
       "      <th></th>\n",
       "      <th></th>\n",
       "      <th></th>\n",
       "      <th></th>\n",
       "      <th></th>\n",
       "      <th></th>\n",
       "      <th></th>\n",
       "      <th></th>\n",
       "      <th></th>\n",
       "      <th></th>\n",
       "      <th></th>\n",
       "      <th></th>\n",
       "      <th></th>\n",
       "    </tr>\n",
       "  </thead>\n",
       "  <tbody>\n",
       "    <tr>\n",
       "      <th>AALR3</th>\n",
       "      <td>NaN</td>\n",
       "      <td>-18.53</td>\n",
       "      <td>0.47</td>\n",
       "      <td>-0.0546</td>\n",
       "      <td>0.002</td>\n",
       "      <td>0.2141</td>\n",
       "      <td>0.1487</td>\n",
       "      <td>0.0255</td>\n",
       "      <td>-0.0671</td>\n",
       "      <td>0.0079</td>\n",
       "      <td>...</td>\n",
       "      <td>0.1003</td>\n",
       "      <td>NaN</td>\n",
       "      <td>NaN</td>\n",
       "      <td>NaN</td>\n",
       "      <td>NaN</td>\n",
       "      <td>NaN</td>\n",
       "      <td>NaN</td>\n",
       "      <td>NaN</td>\n",
       "      <td>NaN</td>\n",
       "      <td>NaN</td>\n",
       "    </tr>\n",
       "    <tr>\n",
       "      <th>ABCB4</th>\n",
       "      <td>0.0598</td>\n",
       "      <td>7.97</td>\n",
       "      <td>NaN</td>\n",
       "      <td>0.0987</td>\n",
       "      <td>NaN</td>\n",
       "      <td>0.6472</td>\n",
       "      <td>NaN</td>\n",
       "      <td>0.5116</td>\n",
       "      <td>0.289</td>\n",
       "      <td>0.0101</td>\n",
       "      <td>...</td>\n",
       "      <td>0.1578</td>\n",
       "      <td>0.0234</td>\n",
       "      <td>7.95</td>\n",
       "      <td>NaN</td>\n",
       "      <td>0.1388</td>\n",
       "      <td>NaN</td>\n",
       "      <td>0.2943</td>\n",
       "      <td>NaN</td>\n",
       "      <td>0.212</td>\n",
       "      <td>0.1639</td>\n",
       "    </tr>\n",
       "    <tr>\n",
       "      <th>ABEV3</th>\n",
       "      <td>0.0295</td>\n",
       "      <td>17.95</td>\n",
       "      <td>-0.15</td>\n",
       "      <td>0.1847</td>\n",
       "      <td>0.1969</td>\n",
       "      <td>0.5259</td>\n",
       "      <td>0.3628</td>\n",
       "      <td>0.2838</td>\n",
       "      <td>0.2191</td>\n",
       "      <td>0.0264</td>\n",
       "      <td>...</td>\n",
       "      <td>0.2725</td>\n",
       "      <td>NaN</td>\n",
       "      <td>NaN</td>\n",
       "      <td>-0.17</td>\n",
       "      <td>0.1698</td>\n",
       "      <td>0.2799</td>\n",
       "      <td>0.6755</td>\n",
       "      <td>0.4229</td>\n",
       "      <td>0.4229</td>\n",
       "      <td>0.1963</td>\n",
       "    </tr>\n",
       "    <tr>\n",
       "      <th>ADHM3</th>\n",
       "      <td>NaN</td>\n",
       "      <td>-4.09</td>\n",
       "      <td>NaN</td>\n",
       "      <td>-0.3147</td>\n",
       "      <td>0.2261</td>\n",
       "      <td>1.0</td>\n",
       "      <td>NaN</td>\n",
       "      <td>-135.4848</td>\n",
       "      <td>-188.6061</td>\n",
       "      <td>NaN</td>\n",
       "      <td>...</td>\n",
       "      <td>NaN</td>\n",
       "      <td>NaN</td>\n",
       "      <td>NaN</td>\n",
       "      <td>NaN</td>\n",
       "      <td>-1.3436</td>\n",
       "      <td>1.1512</td>\n",
       "      <td>NaN</td>\n",
       "      <td>NaN</td>\n",
       "      <td>NaN</td>\n",
       "      <td>NaN</td>\n",
       "    </tr>\n",
       "    <tr>\n",
       "      <th>AERI3</th>\n",
       "      <td>NaN</td>\n",
       "      <td>52.39</td>\n",
       "      <td>0.66</td>\n",
       "      <td>0.1209</td>\n",
       "      <td>0.0887</td>\n",
       "      <td>0.1082</td>\n",
       "      <td>0.0973</td>\n",
       "      <td>0.0871</td>\n",
       "      <td>0.0461</td>\n",
       "      <td>NaN</td>\n",
       "      <td>...</td>\n",
       "      <td>NaN</td>\n",
       "      <td>NaN</td>\n",
       "      <td>NaN</td>\n",
       "      <td>NaN</td>\n",
       "      <td>NaN</td>\n",
       "      <td>NaN</td>\n",
       "      <td>NaN</td>\n",
       "      <td>NaN</td>\n",
       "      <td>NaN</td>\n",
       "      <td>NaN</td>\n",
       "    </tr>\n",
       "  </tbody>\n",
       "</table>\n",
       "<p>5 rows × 90 columns</p>\n",
       "</div>"
      ],
      "text/plain": [
       "       DY_ATUAL P/L_ATUAL Div_liq/PL_ATUAL ROE_ATUAL ROIC_ATUAL M_bruta_ATUAL  \\\n",
       "TICKER                                                                          \n",
       "AALR3       NaN    -18.53             0.47   -0.0546      0.002        0.2141   \n",
       "ABCB4    0.0598      7.97              NaN    0.0987        NaN        0.6472   \n",
       "ABEV3    0.0295     17.95            -0.15    0.1847     0.1969        0.5259   \n",
       "ADHM3       NaN     -4.09              NaN   -0.3147     0.2261           1.0   \n",
       "AERI3       NaN     52.39             0.66    0.1209     0.0887        0.1082   \n",
       "\n",
       "       M_EBTIDA_ATUAL M_EBIT_ATUAL M_liquida_ATUAL DY_2020  ...  \\\n",
       "TICKER                                                      ...   \n",
       "AALR3          0.1487       0.0255         -0.0671  0.0079  ...   \n",
       "ABCB4             NaN       0.5116           0.289  0.0101  ...   \n",
       "ABEV3          0.3628       0.2838          0.2191  0.0264  ...   \n",
       "ADHM3             NaN    -135.4848       -188.6061     NaN  ...   \n",
       "AERI3          0.0973       0.0871          0.0461     NaN  ...   \n",
       "\n",
       "       M_liquida_2013 DY_2012 P/L_2012 Div_liq/PL_2012 ROE_2012 ROIC_2012  \\\n",
       "TICKER                                                                      \n",
       "AALR3          0.1003     NaN      NaN             NaN      NaN       NaN   \n",
       "ABCB4          0.1578  0.0234     7.95             NaN   0.1388       NaN   \n",
       "ABEV3          0.2725     NaN      NaN           -0.17   0.1698    0.2799   \n",
       "ADHM3             NaN     NaN      NaN             NaN  -1.3436    1.1512   \n",
       "AERI3             NaN     NaN      NaN             NaN      NaN       NaN   \n",
       "\n",
       "       M_bruta_2012 M_EBTIDA_2012 M_EBIT_2012 M_liquida_2012  \n",
       "TICKER                                                        \n",
       "AALR3           NaN           NaN         NaN            NaN  \n",
       "ABCB4        0.2943           NaN       0.212         0.1639  \n",
       "ABEV3        0.6755        0.4229      0.4229         0.1963  \n",
       "ADHM3           NaN           NaN         NaN            NaN  \n",
       "AERI3           NaN           NaN         NaN            NaN  \n",
       "\n",
       "[5 rows x 90 columns]"
      ]
     },
     "execution_count": 456,
     "metadata": {},
     "output_type": "execute_result"
    }
   ],
   "source": [
    "matriz_cluster.head()"
   ]
  },
  {
   "cell_type": "code",
   "execution_count": 452,
   "metadata": {},
   "outputs": [
    {
     "data": {
      "text/plain": [
       "(576, 90)"
      ]
     },
     "execution_count": 452,
     "metadata": {},
     "output_type": "execute_result"
    }
   ],
   "source": [
    "matriz_cluster.shape"
   ]
  },
  {
   "cell_type": "code",
   "execution_count": 453,
   "metadata": {},
   "outputs": [
    {
     "data": {
      "text/plain": [
       "26.346450617283953"
      ]
     },
     "execution_count": 453,
     "metadata": {},
     "output_type": "execute_result"
    }
   ],
   "source": [
    "matriz_cluster.isnull().sum().sum()/(5.76*90)"
   ]
  },
  {
   "cell_type": "code",
   "execution_count": 459,
   "metadata": {},
   "outputs": [
    {
     "data": {
      "text/plain": [
       "14.074074074074074"
      ]
     },
     "execution_count": 459,
     "metadata": {},
     "output_type": "execute_result"
    }
   ],
   "source": [
    "matriz_cluster.drop(columns=['DY_ATUAL','DY_2020','DY_2019','DY_2018','DY_2017','DY_2016',\n",
    "                             'DY_2015','DY_2014','DY_2013','DY_2012','M_EBTIDA_ATUAL','M_EBTIDA_2020',\n",
    "                             'M_EBTIDA_2019','M_EBTIDA_2018','M_EBTIDA_2017','M_EBTIDA_2016','M_EBTIDA_2015',\n",
    "                             'M_EBTIDA_2014','M_EBTIDA_2013','M_EBTIDA_2012']).isnull().sum().sum()/(5.76*90)"
   ]
  },
  {
   "cell_type": "code",
   "execution_count": 457,
   "metadata": {
    "scrolled": false
   },
   "outputs": [],
   "source": [
    "matriz_cluster_ = pd.DataFrame(index=df['TICKER'])\n",
    "\n",
    "for ano in ['ATUAL', '2020', '2019', '2018', '2017', '2016']:\n",
    "    matriz_cluster2_ = pd.DataFrame(index=df['TICKER'],columns=[f'P/L_{ano}',f'Div_liq/PL_{ano}',\n",
    "                                                               f'ROE_{ano}',f'ROIC_{ano}',f'M_bruta_{ano}',\n",
    "                                                               f'M_EBIT_{ano}',\n",
    "                                                               f'M_liquida_{ano}'])\n",
    "\n",
    "    for i in range(len(resultado_final)):\n",
    "        if len(resultado_final[i]) >0:\n",
    "            resultado_cluster_ = resultado_final[i][ano][['P/L','DÍV. LÍQUIDA/PL',\n",
    "                                                             'ROE','ROIC','M. BRUTA', 'M. EBIT', \n",
    "                                                             'M. LÍQUIDA']].replace('-',np.nan).replace('-%',np.nan)\n",
    "            for k in range(len(matriz_cluster2_.columns)):\n",
    "                if pd.isna(resultado_cluster_[k]) == False:\n",
    "                    if '%' in resultado_cluster_[k]:\n",
    "                        matriz_cluster2_.iloc[i,k] = float(resultado_cluster_[k].strip('%').replace('.','').replace(',','.'))/100\n",
    "                    else:\n",
    "                        matriz_cluster2_.iloc[i,k] = float(resultado_cluster_[k].replace('.','').replace(',','.'))\n",
    "                else:\n",
    "                    pass\n",
    "        else:\n",
    "            pass\n",
    "    matriz_cluster_ = pd.concat([matriz_cluster_,matriz_cluster2_],axis=1)"
   ]
  },
  {
   "cell_type": "code",
   "execution_count": 458,
   "metadata": {},
   "outputs": [
    {
     "data": {
      "text/plain": [
       "13.678075396825397"
      ]
     },
     "execution_count": 458,
     "metadata": {},
     "output_type": "execute_result"
    }
   ],
   "source": [
    "matriz_cluster_.isnull().sum().sum()/(5.76*42)"
   ]
  },
  {
   "cell_type": "code",
   "execution_count": 460,
   "metadata": {},
   "outputs": [
    {
     "data": {
      "text/html": [
       "<div>\n",
       "<style scoped>\n",
       "    .dataframe tbody tr th:only-of-type {\n",
       "        vertical-align: middle;\n",
       "    }\n",
       "\n",
       "    .dataframe tbody tr th {\n",
       "        vertical-align: top;\n",
       "    }\n",
       "\n",
       "    .dataframe thead th {\n",
       "        text-align: right;\n",
       "    }\n",
       "</style>\n",
       "<table border=\"1\" class=\"dataframe\">\n",
       "  <thead>\n",
       "    <tr style=\"text-align: right;\">\n",
       "      <th></th>\n",
       "      <th>P/L_ATUAL</th>\n",
       "      <th>Div_liq/PL_ATUAL</th>\n",
       "      <th>ROE_ATUAL</th>\n",
       "      <th>ROIC_ATUAL</th>\n",
       "      <th>M_bruta_ATUAL</th>\n",
       "      <th>M_EBIT_ATUAL</th>\n",
       "      <th>M_liquida_ATUAL</th>\n",
       "      <th>P/L_2020</th>\n",
       "      <th>Div_liq/PL_2020</th>\n",
       "      <th>ROE_2020</th>\n",
       "      <th>...</th>\n",
       "      <th>M_bruta_2017</th>\n",
       "      <th>M_EBIT_2017</th>\n",
       "      <th>M_liquida_2017</th>\n",
       "      <th>P/L_2016</th>\n",
       "      <th>Div_liq/PL_2016</th>\n",
       "      <th>ROE_2016</th>\n",
       "      <th>ROIC_2016</th>\n",
       "      <th>M_bruta_2016</th>\n",
       "      <th>M_EBIT_2016</th>\n",
       "      <th>M_liquida_2016</th>\n",
       "    </tr>\n",
       "    <tr>\n",
       "      <th>TICKER</th>\n",
       "      <th></th>\n",
       "      <th></th>\n",
       "      <th></th>\n",
       "      <th></th>\n",
       "      <th></th>\n",
       "      <th></th>\n",
       "      <th></th>\n",
       "      <th></th>\n",
       "      <th></th>\n",
       "      <th></th>\n",
       "      <th></th>\n",
       "      <th></th>\n",
       "      <th></th>\n",
       "      <th></th>\n",
       "      <th></th>\n",
       "      <th></th>\n",
       "      <th></th>\n",
       "      <th></th>\n",
       "      <th></th>\n",
       "      <th></th>\n",
       "      <th></th>\n",
       "    </tr>\n",
       "  </thead>\n",
       "  <tbody>\n",
       "    <tr>\n",
       "      <th>AALR3</th>\n",
       "      <td>-18.53</td>\n",
       "      <td>0.47</td>\n",
       "      <td>-0.0546</td>\n",
       "      <td>0.002</td>\n",
       "      <td>0.2141</td>\n",
       "      <td>0.0255</td>\n",
       "      <td>-0.0671</td>\n",
       "      <td>-13.48</td>\n",
       "      <td>0.47</td>\n",
       "      <td>-0.0818</td>\n",
       "      <td>...</td>\n",
       "      <td>0.2981</td>\n",
       "      <td>0.0653</td>\n",
       "      <td>0.0062</td>\n",
       "      <td>NaN</td>\n",
       "      <td>0.26</td>\n",
       "      <td>0.0126</td>\n",
       "      <td>0.0552</td>\n",
       "      <td>0.3788</td>\n",
       "      <td>0.1057</td>\n",
       "      <td>0.0155</td>\n",
       "    </tr>\n",
       "    <tr>\n",
       "      <th>ABCB4</th>\n",
       "      <td>7.97</td>\n",
       "      <td>NaN</td>\n",
       "      <td>0.0987</td>\n",
       "      <td>NaN</td>\n",
       "      <td>0.6472</td>\n",
       "      <td>0.5116</td>\n",
       "      <td>0.289</td>\n",
       "      <td>10.16</td>\n",
       "      <td>NaN</td>\n",
       "      <td>0.0787</td>\n",
       "      <td>...</td>\n",
       "      <td>0.2304</td>\n",
       "      <td>0.2098</td>\n",
       "      <td>0.1982</td>\n",
       "      <td>6.19</td>\n",
       "      <td>NaN</td>\n",
       "      <td>0.1308</td>\n",
       "      <td>NaN</td>\n",
       "      <td>0.1821</td>\n",
       "      <td>0.2882</td>\n",
       "      <td>0.1948</td>\n",
       "    </tr>\n",
       "    <tr>\n",
       "      <th>ABEV3</th>\n",
       "      <td>17.95</td>\n",
       "      <td>-0.15</td>\n",
       "      <td>0.1847</td>\n",
       "      <td>0.1969</td>\n",
       "      <td>0.5259</td>\n",
       "      <td>0.2838</td>\n",
       "      <td>0.2191</td>\n",
       "      <td>21.64</td>\n",
       "      <td>-0.19</td>\n",
       "      <td>0.1542</td>\n",
       "      <td>...</td>\n",
       "      <td>0.6236</td>\n",
       "      <td>0.3455</td>\n",
       "      <td>0.1518</td>\n",
       "      <td>20.54</td>\n",
       "      <td>-0.06</td>\n",
       "      <td>0.2799</td>\n",
       "      <td>0.3225</td>\n",
       "      <td>0.6343</td>\n",
       "      <td>0.375</td>\n",
       "      <td>0.2751</td>\n",
       "    </tr>\n",
       "    <tr>\n",
       "      <th>ADHM3</th>\n",
       "      <td>-4.09</td>\n",
       "      <td>NaN</td>\n",
       "      <td>-0.3147</td>\n",
       "      <td>0.2261</td>\n",
       "      <td>1.0</td>\n",
       "      <td>-135.4848</td>\n",
       "      <td>-188.6061</td>\n",
       "      <td>-4.09</td>\n",
       "      <td>NaN</td>\n",
       "      <td>-0.3147</td>\n",
       "      <td>...</td>\n",
       "      <td>1.0</td>\n",
       "      <td>-265.9444</td>\n",
       "      <td>-300.6111</td>\n",
       "      <td>NaN</td>\n",
       "      <td>NaN</td>\n",
       "      <td>-0.4293</td>\n",
       "      <td>2.6382</td>\n",
       "      <td>NaN</td>\n",
       "      <td>NaN</td>\n",
       "      <td>NaN</td>\n",
       "    </tr>\n",
       "    <tr>\n",
       "      <th>AERI3</th>\n",
       "      <td>52.39</td>\n",
       "      <td>0.66</td>\n",
       "      <td>0.1209</td>\n",
       "      <td>0.0887</td>\n",
       "      <td>0.1082</td>\n",
       "      <td>0.0871</td>\n",
       "      <td>0.0461</td>\n",
       "      <td>67.69</td>\n",
       "      <td>0.47</td>\n",
       "      <td>0.1172</td>\n",
       "      <td>...</td>\n",
       "      <td>NaN</td>\n",
       "      <td>NaN</td>\n",
       "      <td>NaN</td>\n",
       "      <td>NaN</td>\n",
       "      <td>NaN</td>\n",
       "      <td>NaN</td>\n",
       "      <td>NaN</td>\n",
       "      <td>NaN</td>\n",
       "      <td>NaN</td>\n",
       "      <td>NaN</td>\n",
       "    </tr>\n",
       "  </tbody>\n",
       "</table>\n",
       "<p>5 rows × 42 columns</p>\n",
       "</div>"
      ],
      "text/plain": [
       "       P/L_ATUAL Div_liq/PL_ATUAL ROE_ATUAL ROIC_ATUAL M_bruta_ATUAL  \\\n",
       "TICKER                                                                 \n",
       "AALR3     -18.53             0.47   -0.0546      0.002        0.2141   \n",
       "ABCB4       7.97              NaN    0.0987        NaN        0.6472   \n",
       "ABEV3      17.95            -0.15    0.1847     0.1969        0.5259   \n",
       "ADHM3      -4.09              NaN   -0.3147     0.2261           1.0   \n",
       "AERI3      52.39             0.66    0.1209     0.0887        0.1082   \n",
       "\n",
       "       M_EBIT_ATUAL M_liquida_ATUAL P/L_2020 Div_liq/PL_2020 ROE_2020  ...  \\\n",
       "TICKER                                                                 ...   \n",
       "AALR3        0.0255         -0.0671   -13.48            0.47  -0.0818  ...   \n",
       "ABCB4        0.5116           0.289    10.16             NaN   0.0787  ...   \n",
       "ABEV3        0.2838          0.2191    21.64           -0.19   0.1542  ...   \n",
       "ADHM3     -135.4848       -188.6061    -4.09             NaN  -0.3147  ...   \n",
       "AERI3        0.0871          0.0461    67.69            0.47   0.1172  ...   \n",
       "\n",
       "       M_bruta_2017 M_EBIT_2017 M_liquida_2017 P/L_2016 Div_liq/PL_2016  \\\n",
       "TICKER                                                                    \n",
       "AALR3        0.2981      0.0653         0.0062      NaN            0.26   \n",
       "ABCB4        0.2304      0.2098         0.1982     6.19             NaN   \n",
       "ABEV3        0.6236      0.3455         0.1518    20.54           -0.06   \n",
       "ADHM3           1.0   -265.9444      -300.6111      NaN             NaN   \n",
       "AERI3           NaN         NaN            NaN      NaN             NaN   \n",
       "\n",
       "       ROE_2016 ROIC_2016 M_bruta_2016 M_EBIT_2016 M_liquida_2016  \n",
       "TICKER                                                             \n",
       "AALR3    0.0126    0.0552       0.3788      0.1057         0.0155  \n",
       "ABCB4    0.1308       NaN       0.1821      0.2882         0.1948  \n",
       "ABEV3    0.2799    0.3225       0.6343       0.375         0.2751  \n",
       "ADHM3   -0.4293    2.6382          NaN         NaN            NaN  \n",
       "AERI3       NaN       NaN          NaN         NaN            NaN  \n",
       "\n",
       "[5 rows x 42 columns]"
      ]
     },
     "execution_count": 460,
     "metadata": {},
     "output_type": "execute_result"
    }
   ],
   "source": [
    "matriz_cluster_.head()"
   ]
  },
  {
   "cell_type": "code",
   "execution_count": 467,
   "metadata": {},
   "outputs": [
    {
     "name": "stdout",
     "output_type": "stream",
     "text": [
      "<class 'pandas.core.frame.DataFrame'>\n",
      "Index: 576 entries, AALR3 to YDUQ3\n",
      "Data columns (total 90 columns):\n",
      " #   Column            Non-Null Count  Dtype \n",
      "---  ------            --------------  ----- \n",
      " 0   DY_ATUAL          315 non-null    object\n",
      " 1   P/L_ATUAL         573 non-null    object\n",
      " 2   Div_liq/PL_ATUAL  444 non-null    object\n",
      " 3   ROE_ATUAL         573 non-null    object\n",
      " 4   ROIC_ATUAL        518 non-null    object\n",
      " 5   M_bruta_ATUAL     548 non-null    object\n",
      " 6   M_EBTIDA_ATUAL    396 non-null    object\n",
      " 7   M_EBIT_ATUAL      548 non-null    object\n",
      " 8   M_liquida_ATUAL   548 non-null    object\n",
      " 9   DY_2020           272 non-null    object\n",
      " 10  P/L_2020          454 non-null    object\n",
      " 11  Div_liq/PL_2020   440 non-null    object\n",
      " 12  ROE_2020          572 non-null    object\n",
      " 13  ROIC_2020         519 non-null    object\n",
      " 14  M_bruta_2020      547 non-null    object\n",
      " 15  M_EBTIDA_2020     463 non-null    object\n",
      " 16  M_EBIT_2020       547 non-null    object\n",
      " 17  M_liquida_2020    547 non-null    object\n",
      " 18  DY_2019           274 non-null    object\n",
      " 19  P/L_2019          400 non-null    object\n",
      " 20  Div_liq/PL_2019   436 non-null    object\n",
      " 21  ROE_2019          561 non-null    object\n",
      " 22  ROIC_2019         502 non-null    object\n",
      " 23  M_bruta_2019      547 non-null    object\n",
      " 24  M_EBTIDA_2019     482 non-null    object\n",
      " 25  M_EBIT_2019       547 non-null    object\n",
      " 26  M_liquida_2019    547 non-null    object\n",
      " 27  DY_2018           237 non-null    object\n",
      " 28  P/L_2018          358 non-null    object\n",
      " 29  Div_liq/PL_2018   426 non-null    object\n",
      " 30  ROE_2018          546 non-null    object\n",
      " 31  ROIC_2018         496 non-null    object\n",
      " 32  M_bruta_2018      527 non-null    object\n",
      " 33  M_EBTIDA_2018     231 non-null    object\n",
      " 34  M_EBIT_2018       527 non-null    object\n",
      " 35  M_liquida_2018    527 non-null    object\n",
      " 36  DY_2017           213 non-null    object\n",
      " 37  P/L_2017          347 non-null    object\n",
      " 38  Div_liq/PL_2017   429 non-null    object\n",
      " 39  ROE_2017          547 non-null    object\n",
      " 40  ROIC_2017         497 non-null    object\n",
      " 41  M_bruta_2017      526 non-null    object\n",
      " 42  M_EBTIDA_2017     233 non-null    object\n",
      " 43  M_EBIT_2017       526 non-null    object\n",
      " 44  M_liquida_2017    526 non-null    object\n",
      " 45  DY_2016           186 non-null    object\n",
      " 46  P/L_2016          317 non-null    object\n",
      " 47  Div_liq/PL_2016   399 non-null    object\n",
      " 48  ROE_2016          516 non-null    object\n",
      " 49  ROIC_2016         467 non-null    object\n",
      " 50  M_bruta_2016      487 non-null    object\n",
      " 51  M_EBTIDA_2016     207 non-null    object\n",
      " 52  M_EBIT_2016       487 non-null    object\n",
      " 53  M_liquida_2016    487 non-null    object\n",
      " 54  DY_2015           210 non-null    object\n",
      " 55  P/L_2015          305 non-null    object\n",
      " 56  Div_liq/PL_2015   398 non-null    object\n",
      " 57  ROE_2015          508 non-null    object\n",
      " 58  ROIC_2015         458 non-null    object\n",
      " 59  M_bruta_2015      483 non-null    object\n",
      " 60  M_EBTIDA_2015     204 non-null    object\n",
      " 61  M_EBIT_2015       483 non-null    object\n",
      " 62  M_liquida_2015    483 non-null    object\n",
      " 63  DY_2014           206 non-null    object\n",
      " 64  P/L_2014          300 non-null    object\n",
      " 65  Div_liq/PL_2014   407 non-null    object\n",
      " 66  ROE_2014          497 non-null    object\n",
      " 67  ROIC_2014         451 non-null    object\n",
      " 68  M_bruta_2014      471 non-null    object\n",
      " 69  M_EBTIDA_2014     214 non-null    object\n",
      " 70  M_EBIT_2014       471 non-null    object\n",
      " 71  M_liquida_2014    471 non-null    object\n",
      " 72  DY_2013           201 non-null    object\n",
      " 73  P/L_2013          292 non-null    object\n",
      " 74  Div_liq/PL_2013   396 non-null    object\n",
      " 75  ROE_2013          483 non-null    object\n",
      " 76  ROIC_2013         438 non-null    object\n",
      " 77  M_bruta_2013      460 non-null    object\n",
      " 78  M_EBTIDA_2013     209 non-null    object\n",
      " 79  M_EBIT_2013       460 non-null    object\n",
      " 80  M_liquida_2013    460 non-null    object\n",
      " 81  DY_2012           206 non-null    object\n",
      " 82  P/L_2012          283 non-null    object\n",
      " 83  Div_liq/PL_2012   398 non-null    object\n",
      " 84  ROE_2012          479 non-null    object\n",
      " 85  ROIC_2012         435 non-null    object\n",
      " 86  M_bruta_2012      457 non-null    object\n",
      " 87  M_EBTIDA_2012     199 non-null    object\n",
      " 88  M_EBIT_2012       457 non-null    object\n",
      " 89  M_liquida_2012    457 non-null    object\n",
      "dtypes: object(90)\n",
      "memory usage: 409.5+ KB\n"
     ]
    }
   ],
   "source": [
    "matriz_cluster.info()"
   ]
  },
  {
   "cell_type": "code",
   "execution_count": 475,
   "metadata": {},
   "outputs": [],
   "source": [
    "from sklearn.preprocessing import MinMaxScaler\n",
    "from sklearn.impute import SimpleImputer\n",
    "\n",
    "matriz_cluster = matriz_cluster.astype(float)\n",
    "imputer = SimpleImputer(strategy='mean')\n",
    "matriz_cluster_im = imputer.fit_transform(matriz_cluster)\n",
    "scaler = MinMaxScaler()\n",
    "matriz_cluster_imsc = scaler.fit_transform(matriz_cluster_im)"
   ]
  },
  {
   "cell_type": "code",
   "execution_count": 480,
   "metadata": {},
   "outputs": [
    {
     "data": {
      "text/plain": [
       "array([[0.09256683, 0.17385095, 0.07580679, ..., 0.95747607, 0.10249786,\n",
       "        0.07454769],\n",
       "       [0.1162836 , 0.17531443, 0.08103322, ..., 0.95747607, 0.09661803,\n",
       "        0.06831911],\n",
       "       [0.05726529, 0.17586558, 0.07392453, ..., 0.96825095, 0.09695693,\n",
       "        0.0683727 ],\n",
       "       ...,\n",
       "       [0.02941176, 0.17591141, 0.07368165, ..., 0.96200806, 0.09639419,\n",
       "        0.0681185 ],\n",
       "       [0.14978574, 0.17631953, 0.07708188, ..., 0.96343953, 0.09651728,\n",
       "        0.06817639],\n",
       "       [0.0368134 , 0.15895995, 0.07732475, ..., 0.96347295, 0.09645011,\n",
       "        0.0681792 ]])"
      ]
     },
     "execution_count": 480,
     "metadata": {},
     "output_type": "execute_result"
    }
   ],
   "source": [
    "matriz_cluster_imsc"
   ]
  },
  {
   "cell_type": "code",
   "execution_count": 489,
   "metadata": {},
   "outputs": [
    {
     "name": "stdout",
     "output_type": "stream",
     "text": [
      "k=1, inertia=173.80531781850522\n",
      "k=2, inertia=148.7833626697845\n",
      "k=3, inertia=125.18850547874482\n",
      "k=4, inertia=117.73229376305746\n",
      "k=5, inertia=111.0431491542969\n",
      "k=6, inertia=106.66562889179751\n",
      "k=7, inertia=102.85783917537113\n",
      "k=8, inertia=96.55297192730174\n",
      "k=9, inertia=93.17323480984079\n"
     ]
    }
   ],
   "source": [
    "from sklearn.cluster import KMeans\n",
    "\n",
    "inertias = []\n",
    "\n",
    "for k in range(1,10):\n",
    "    kmeans = KMeans(n_clusters=k)\n",
    "    kmeans.fit(matriz_cluster_imsc)\n",
    "    inertias.append(kmeans.inertia_)\n",
    "    print(f\"k={k}, inertia={kmeans.inertia_}\")\n",
    "    #plot_silhouette(scaled_X, kmeans.labels_)"
   ]
  },
  {
   "cell_type": "code",
   "execution_count": 490,
   "metadata": {},
   "outputs": [
    {
     "data": {
      "text/plain": [
       "[<matplotlib.lines.Line2D at 0x7f9109ba6880>]"
      ]
     },
     "execution_count": 490,
     "metadata": {},
     "output_type": "execute_result"
    },
    {
     "data": {
      "image/png": "[encoded data removed]",
      "text/plain": [
       "<Figure size 432x288 with 1 Axes>"
      ]
     },
     "metadata": {
      "needs_background": "light"
     },
     "output_type": "display_data"
    }
   ],
   "source": [
    "plt.plot(inertias)"
   ]
  },
  {
   "cell_type": "code",
   "execution_count": 492,
   "metadata": {},
   "outputs": [
    {
     "data": {
      "text/plain": [
       "KMeans(n_clusters=5)"
      ]
     },
     "execution_count": 492,
     "metadata": {},
     "output_type": "execute_result"
    }
   ],
   "source": [
    "from sklearn.cluster import KMeans\n",
    "\n",
    "df_cluster = pd.DataFrame(matriz_cluster_imsc,index = matriz_cluster.index,columns = matriz_cluster.columns)\n",
    "kmean = KMeans(n_clusters=5)\n",
    "kmean.fit(df_cluster)"
   ]
  },
  {
   "cell_type": "code",
   "execution_count": 493,
   "metadata": {},
   "outputs": [
    {
     "data": {
      "text/html": [
       "<div>\n",
       "<style scoped>\n",
       "    .dataframe tbody tr th:only-of-type {\n",
       "        vertical-align: middle;\n",
       "    }\n",
       "\n",
       "    .dataframe tbody tr th {\n",
       "        vertical-align: top;\n",
       "    }\n",
       "\n",
       "    .dataframe thead th {\n",
       "        text-align: right;\n",
       "    }\n",
       "</style>\n",
       "<table border=\"1\" class=\"dataframe\">\n",
       "  <thead>\n",
       "    <tr style=\"text-align: right;\">\n",
       "      <th></th>\n",
       "      <th>DY_ATUAL</th>\n",
       "      <th>P/L_ATUAL</th>\n",
       "      <th>Div_liq/PL_ATUAL</th>\n",
       "      <th>ROE_ATUAL</th>\n",
       "      <th>ROIC_ATUAL</th>\n",
       "      <th>M_bruta_ATUAL</th>\n",
       "      <th>M_EBTIDA_ATUAL</th>\n",
       "      <th>M_EBIT_ATUAL</th>\n",
       "      <th>M_liquida_ATUAL</th>\n",
       "      <th>DY_2020</th>\n",
       "      <th>...</th>\n",
       "      <th>DY_2012</th>\n",
       "      <th>P/L_2012</th>\n",
       "      <th>Div_liq/PL_2012</th>\n",
       "      <th>ROE_2012</th>\n",
       "      <th>ROIC_2012</th>\n",
       "      <th>M_bruta_2012</th>\n",
       "      <th>M_EBTIDA_2012</th>\n",
       "      <th>M_EBIT_2012</th>\n",
       "      <th>M_liquida_2012</th>\n",
       "      <th>cluster_label</th>\n",
       "    </tr>\n",
       "    <tr>\n",
       "      <th>TICKER</th>\n",
       "      <th></th>\n",
       "      <th></th>\n",
       "      <th></th>\n",
       "      <th></th>\n",
       "      <th></th>\n",
       "      <th></th>\n",
       "      <th></th>\n",
       "      <th></th>\n",
       "      <th></th>\n",
       "      <th></th>\n",
       "      <th></th>\n",
       "      <th></th>\n",
       "      <th></th>\n",
       "      <th></th>\n",
       "      <th></th>\n",
       "      <th></th>\n",
       "      <th></th>\n",
       "      <th></th>\n",
       "      <th></th>\n",
       "      <th></th>\n",
       "      <th></th>\n",
       "    </tr>\n",
       "  </thead>\n",
       "  <tbody>\n",
       "    <tr>\n",
       "      <th>AALR3</th>\n",
       "      <td>0.092567</td>\n",
       "      <td>0.173851</td>\n",
       "      <td>0.075807</td>\n",
       "      <td>0.044680</td>\n",
       "      <td>0.037161</td>\n",
       "      <td>0.755624</td>\n",
       "      <td>0.670887</td>\n",
       "      <td>0.151498</td>\n",
       "      <td>0.151205</td>\n",
       "      <td>0.012300</td>\n",
       "      <td>...</td>\n",
       "      <td>0.012172</td>\n",
       "      <td>0.303024</td>\n",
       "      <td>0.030700</td>\n",
       "      <td>0.973578</td>\n",
       "      <td>0.275965</td>\n",
       "      <td>0.835712</td>\n",
       "      <td>0.957476</td>\n",
       "      <td>0.102498</td>\n",
       "      <td>0.074548</td>\n",
       "      <td>0</td>\n",
       "    </tr>\n",
       "    <tr>\n",
       "      <th>MYPK3</th>\n",
       "      <td>0.092567</td>\n",
       "      <td>0.174590</td>\n",
       "      <td>0.077598</td>\n",
       "      <td>0.044520</td>\n",
       "      <td>0.037111</td>\n",
       "      <td>0.738179</td>\n",
       "      <td>0.670525</td>\n",
       "      <td>0.151473</td>\n",
       "      <td>0.151221</td>\n",
       "      <td>0.066636</td>\n",
       "      <td>...</td>\n",
       "      <td>0.003008</td>\n",
       "      <td>0.301944</td>\n",
       "      <td>0.039462</td>\n",
       "      <td>0.978967</td>\n",
       "      <td>0.273727</td>\n",
       "      <td>0.793213</td>\n",
       "      <td>0.962370</td>\n",
       "      <td>0.096364</td>\n",
       "      <td>0.068070</td>\n",
       "      <td>0</td>\n",
       "    </tr>\n",
       "    <tr>\n",
       "      <th>MWET4</th>\n",
       "      <td>0.092567</td>\n",
       "      <td>0.174973</td>\n",
       "      <td>0.081033</td>\n",
       "      <td>0.044391</td>\n",
       "      <td>0.036194</td>\n",
       "      <td>0.743229</td>\n",
       "      <td>0.671638</td>\n",
       "      <td>0.151730</td>\n",
       "      <td>0.151411</td>\n",
       "      <td>0.056465</td>\n",
       "      <td>...</td>\n",
       "      <td>0.012172</td>\n",
       "      <td>0.298815</td>\n",
       "      <td>0.030700</td>\n",
       "      <td>0.959580</td>\n",
       "      <td>0.260530</td>\n",
       "      <td>0.804192</td>\n",
       "      <td>0.962374</td>\n",
       "      <td>0.096341</td>\n",
       "      <td>0.067919</td>\n",
       "      <td>0</td>\n",
       "    </tr>\n",
       "    <tr>\n",
       "      <th>MWET3</th>\n",
       "      <td>0.092567</td>\n",
       "      <td>0.175096</td>\n",
       "      <td>0.081033</td>\n",
       "      <td>0.044391</td>\n",
       "      <td>0.036194</td>\n",
       "      <td>0.743229</td>\n",
       "      <td>0.671638</td>\n",
       "      <td>0.151730</td>\n",
       "      <td>0.151411</td>\n",
       "      <td>0.056465</td>\n",
       "      <td>...</td>\n",
       "      <td>0.012172</td>\n",
       "      <td>0.303024</td>\n",
       "      <td>0.030700</td>\n",
       "      <td>0.959580</td>\n",
       "      <td>0.260530</td>\n",
       "      <td>0.804192</td>\n",
       "      <td>0.962374</td>\n",
       "      <td>0.096341</td>\n",
       "      <td>0.067919</td>\n",
       "      <td>0</td>\n",
       "    </tr>\n",
       "    <tr>\n",
       "      <th>MULT3</th>\n",
       "      <td>0.039151</td>\n",
       "      <td>0.175747</td>\n",
       "      <td>0.075351</td>\n",
       "      <td>0.045162</td>\n",
       "      <td>0.037462</td>\n",
       "      <td>0.825387</td>\n",
       "      <td>0.674620</td>\n",
       "      <td>0.152219</td>\n",
       "      <td>0.151919</td>\n",
       "      <td>0.030048</td>\n",
       "      <td>...</td>\n",
       "      <td>0.001753</td>\n",
       "      <td>0.301086</td>\n",
       "      <td>0.026788</td>\n",
       "      <td>0.979801</td>\n",
       "      <td>0.276185</td>\n",
       "      <td>0.941988</td>\n",
       "      <td>0.957476</td>\n",
       "      <td>0.097185</td>\n",
       "      <td>0.068718</td>\n",
       "      <td>0</td>\n",
       "    </tr>\n",
       "    <tr>\n",
       "      <th>...</th>\n",
       "      <td>...</td>\n",
       "      <td>...</td>\n",
       "      <td>...</td>\n",
       "      <td>...</td>\n",
       "      <td>...</td>\n",
       "      <td>...</td>\n",
       "      <td>...</td>\n",
       "      <td>...</td>\n",
       "      <td>...</td>\n",
       "      <td>...</td>\n",
       "      <td>...</td>\n",
       "      <td>...</td>\n",
       "      <td>...</td>\n",
       "      <td>...</td>\n",
       "      <td>...</td>\n",
       "      <td>...</td>\n",
       "      <td>...</td>\n",
       "      <td>...</td>\n",
       "      <td>...</td>\n",
       "      <td>...</td>\n",
       "      <td>...</td>\n",
       "    </tr>\n",
       "    <tr>\n",
       "      <th>AVLL3</th>\n",
       "      <td>0.092567</td>\n",
       "      <td>0.174777</td>\n",
       "      <td>0.080786</td>\n",
       "      <td>0.042230</td>\n",
       "      <td>0.036479</td>\n",
       "      <td>0.710939</td>\n",
       "      <td>0.666550</td>\n",
       "      <td>0.150654</td>\n",
       "      <td>0.150247</td>\n",
       "      <td>0.056465</td>\n",
       "      <td>...</td>\n",
       "      <td>0.012172</td>\n",
       "      <td>0.303024</td>\n",
       "      <td>0.030700</td>\n",
       "      <td>0.973578</td>\n",
       "      <td>0.275965</td>\n",
       "      <td>0.835712</td>\n",
       "      <td>0.957476</td>\n",
       "      <td>0.102498</td>\n",
       "      <td>0.074548</td>\n",
       "      <td>3</td>\n",
       "    </tr>\n",
       "    <tr>\n",
       "      <th>AZEV4</th>\n",
       "      <td>0.092567</td>\n",
       "      <td>0.175002</td>\n",
       "      <td>0.081033</td>\n",
       "      <td>0.039104</td>\n",
       "      <td>0.029531</td>\n",
       "      <td>0.080918</td>\n",
       "      <td>1.000000</td>\n",
       "      <td>0.216496</td>\n",
       "      <td>0.212629</td>\n",
       "      <td>0.056465</td>\n",
       "      <td>...</td>\n",
       "      <td>0.012172</td>\n",
       "      <td>0.299391</td>\n",
       "      <td>0.024795</td>\n",
       "      <td>0.982457</td>\n",
       "      <td>0.283909</td>\n",
       "      <td>0.793050</td>\n",
       "      <td>0.962084</td>\n",
       "      <td>0.096362</td>\n",
       "      <td>0.068115</td>\n",
       "      <td>3</td>\n",
       "    </tr>\n",
       "    <tr>\n",
       "      <th>RPAD3</th>\n",
       "      <td>0.092567</td>\n",
       "      <td>0.176111</td>\n",
       "      <td>0.074350</td>\n",
       "      <td>0.044887</td>\n",
       "      <td>0.037240</td>\n",
       "      <td>0.854171</td>\n",
       "      <td>0.669100</td>\n",
       "      <td>1.000000</td>\n",
       "      <td>1.000000</td>\n",
       "      <td>0.000156</td>\n",
       "      <td>...</td>\n",
       "      <td>0.012172</td>\n",
       "      <td>0.303024</td>\n",
       "      <td>0.011733</td>\n",
       "      <td>0.978988</td>\n",
       "      <td>0.275114</td>\n",
       "      <td>0.967482</td>\n",
       "      <td>0.957476</td>\n",
       "      <td>1.000000</td>\n",
       "      <td>1.000000</td>\n",
       "      <td>4</td>\n",
       "    </tr>\n",
       "    <tr>\n",
       "      <th>RPAD5</th>\n",
       "      <td>0.123296</td>\n",
       "      <td>0.176336</td>\n",
       "      <td>0.074350</td>\n",
       "      <td>0.044887</td>\n",
       "      <td>0.037240</td>\n",
       "      <td>0.854171</td>\n",
       "      <td>0.669100</td>\n",
       "      <td>1.000000</td>\n",
       "      <td>1.000000</td>\n",
       "      <td>0.087187</td>\n",
       "      <td>...</td>\n",
       "      <td>0.012172</td>\n",
       "      <td>0.303024</td>\n",
       "      <td>0.011733</td>\n",
       "      <td>0.978988</td>\n",
       "      <td>0.275114</td>\n",
       "      <td>0.967482</td>\n",
       "      <td>0.957476</td>\n",
       "      <td>1.000000</td>\n",
       "      <td>1.000000</td>\n",
       "      <td>4</td>\n",
       "    </tr>\n",
       "    <tr>\n",
       "      <th>RPAD6</th>\n",
       "      <td>0.092567</td>\n",
       "      <td>0.175858</td>\n",
       "      <td>0.074350</td>\n",
       "      <td>0.044887</td>\n",
       "      <td>0.037240</td>\n",
       "      <td>0.854171</td>\n",
       "      <td>0.669100</td>\n",
       "      <td>1.000000</td>\n",
       "      <td>1.000000</td>\n",
       "      <td>0.000156</td>\n",
       "      <td>...</td>\n",
       "      <td>0.012172</td>\n",
       "      <td>0.303024</td>\n",
       "      <td>0.011733</td>\n",
       "      <td>0.978988</td>\n",
       "      <td>0.275114</td>\n",
       "      <td>0.967482</td>\n",
       "      <td>0.957476</td>\n",
       "      <td>1.000000</td>\n",
       "      <td>1.000000</td>\n",
       "      <td>4</td>\n",
       "    </tr>\n",
       "  </tbody>\n",
       "</table>\n",
       "<p>576 rows × 91 columns</p>\n",
       "</div>"
      ],
      "text/plain": [
       "        DY_ATUAL  P/L_ATUAL  Div_liq/PL_ATUAL  ROE_ATUAL  ROIC_ATUAL  \\\n",
       "TICKER                                                                 \n",
       "AALR3   0.092567   0.173851          0.075807   0.044680    0.037161   \n",
       "MYPK3   0.092567   0.174590          0.077598   0.044520    0.037111   \n",
       "MWET4   0.092567   0.174973          0.081033   0.044391    0.036194   \n",
       "MWET3   0.092567   0.175096          0.081033   0.044391    0.036194   \n",
       "MULT3   0.039151   0.175747          0.075351   0.045162    0.037462   \n",
       "...          ...        ...               ...        ...         ...   \n",
       "AVLL3   0.092567   0.174777          0.080786   0.042230    0.036479   \n",
       "AZEV4   0.092567   0.175002          0.081033   0.039104    0.029531   \n",
       "RPAD3   0.092567   0.176111          0.074350   0.044887    0.037240   \n",
       "RPAD5   0.123296   0.176336          0.074350   0.044887    0.037240   \n",
       "RPAD6   0.092567   0.175858          0.074350   0.044887    0.037240   \n",
       "\n",
       "        M_bruta_ATUAL  M_EBTIDA_ATUAL  M_EBIT_ATUAL  M_liquida_ATUAL  \\\n",
       "TICKER                                                                 \n",
       "AALR3        0.755624        0.670887      0.151498         0.151205   \n",
       "MYPK3        0.738179        0.670525      0.151473         0.151221   \n",
       "MWET4        0.743229        0.671638      0.151730         0.151411   \n",
       "MWET3        0.743229        0.671638      0.151730         0.151411   \n",
       "MULT3        0.825387        0.674620      0.152219         0.151919   \n",
       "...               ...             ...           ...              ...   \n",
       "AVLL3        0.710939        0.666550      0.150654         0.150247   \n",
       "AZEV4        0.080918        1.000000      0.216496         0.212629   \n",
       "RPAD3        0.854171        0.669100      1.000000         1.000000   \n",
       "RPAD5        0.854171        0.669100      1.000000         1.000000   \n",
       "RPAD6        0.854171        0.669100      1.000000         1.000000   \n",
       "\n",
       "         DY_2020  ...   DY_2012  P/L_2012  Div_liq/PL_2012  ROE_2012  \\\n",
       "TICKER            ...                                                  \n",
       "AALR3   0.012300  ...  0.012172  0.303024         0.030700  0.973578   \n",
       "MYPK3   0.066636  ...  0.003008  0.301944         0.039462  0.978967   \n",
       "MWET4   0.056465  ...  0.012172  0.298815         0.030700  0.959580   \n",
       "MWET3   0.056465  ...  0.012172  0.303024         0.030700  0.959580   \n",
       "MULT3   0.030048  ...  0.001753  0.301086         0.026788  0.979801   \n",
       "...          ...  ...       ...       ...              ...       ...   \n",
       "AVLL3   0.056465  ...  0.012172  0.303024         0.030700  0.973578   \n",
       "AZEV4   0.056465  ...  0.012172  0.299391         0.024795  0.982457   \n",
       "RPAD3   0.000156  ...  0.012172  0.303024         0.011733  0.978988   \n",
       "RPAD5   0.087187  ...  0.012172  0.303024         0.011733  0.978988   \n",
       "RPAD6   0.000156  ...  0.012172  0.303024         0.011733  0.978988   \n",
       "\n",
       "        ROIC_2012  M_bruta_2012  M_EBTIDA_2012  M_EBIT_2012  M_liquida_2012  \\\n",
       "TICKER                                                                        \n",
       "AALR3    0.275965      0.835712       0.957476     0.102498        0.074548   \n",
       "MYPK3    0.273727      0.793213       0.962370     0.096364        0.068070   \n",
       "MWET4    0.260530      0.804192       0.962374     0.096341        0.067919   \n",
       "MWET3    0.260530      0.804192       0.962374     0.096341        0.067919   \n",
       "MULT3    0.276185      0.941988       0.957476     0.097185        0.068718   \n",
       "...           ...           ...            ...          ...             ...   \n",
       "AVLL3    0.275965      0.835712       0.957476     0.102498        0.074548   \n",
       "AZEV4    0.283909      0.793050       0.962084     0.096362        0.068115   \n",
       "RPAD3    0.275114      0.967482       0.957476     1.000000        1.000000   \n",
       "RPAD5    0.275114      0.967482       0.957476     1.000000        1.000000   \n",
       "RPAD6    0.275114      0.967482       0.957476     1.000000        1.000000   \n",
       "\n",
       "        cluster_label  \n",
       "TICKER                 \n",
       "AALR3               0  \n",
       "MYPK3               0  \n",
       "MWET4               0  \n",
       "MWET3               0  \n",
       "MULT3               0  \n",
       "...               ...  \n",
       "AVLL3               3  \n",
       "AZEV4               3  \n",
       "RPAD3               4  \n",
       "RPAD5               4  \n",
       "RPAD6               4  \n",
       "\n",
       "[576 rows x 91 columns]"
      ]
     },
     "execution_count": 493,
     "metadata": {},
     "output_type": "execute_result"
    }
   ],
   "source": [
    "cluster_label = kmean.predict(df_cluster)\n",
    "df_cluster[\"cluster_label\"] = cluster_label\n",
    "df_cluster.sort_values('cluster_label')"
   ]
  },
  {
   "cell_type": "code",
   "execution_count": 494,
   "metadata": {},
   "outputs": [
    {
     "data": {
      "text/plain": [
       "0    559\n",
       "1      9\n",
       "3      3\n",
       "4      3\n",
       "2      2\n",
       "Name: cluster_label, dtype: int64"
      ]
     },
     "execution_count": 494,
     "metadata": {},
     "output_type": "execute_result"
    }
   ],
   "source": [
    "df_cluster['cluster_label'].value_counts()"
   ]
  },
  {
   "cell_type": "code",
   "execution_count": 495,
   "metadata": {},
   "outputs": [
    {
     "data": {
      "text/html": [
       "<div>\n",
       "<style scoped>\n",
       "    .dataframe tbody tr th:only-of-type {\n",
       "        vertical-align: middle;\n",
       "    }\n",
       "\n",
       "    .dataframe tbody tr th {\n",
       "        vertical-align: top;\n",
       "    }\n",
       "\n",
       "    .dataframe thead th {\n",
       "        text-align: right;\n",
       "    }\n",
       "</style>\n",
       "<table border=\"1\" class=\"dataframe\">\n",
       "  <thead>\n",
       "    <tr style=\"text-align: right;\">\n",
       "      <th></th>\n",
       "      <th>DY_ATUAL</th>\n",
       "      <th>P/L_ATUAL</th>\n",
       "      <th>Div_liq/PL_ATUAL</th>\n",
       "      <th>ROE_ATUAL</th>\n",
       "      <th>ROIC_ATUAL</th>\n",
       "      <th>M_bruta_ATUAL</th>\n",
       "      <th>M_EBTIDA_ATUAL</th>\n",
       "      <th>M_EBIT_ATUAL</th>\n",
       "      <th>M_liquida_ATUAL</th>\n",
       "      <th>DY_2020</th>\n",
       "      <th>...</th>\n",
       "      <th>M_liquida_2013</th>\n",
       "      <th>DY_2012</th>\n",
       "      <th>P/L_2012</th>\n",
       "      <th>Div_liq/PL_2012</th>\n",
       "      <th>ROE_2012</th>\n",
       "      <th>ROIC_2012</th>\n",
       "      <th>M_bruta_2012</th>\n",
       "      <th>M_EBTIDA_2012</th>\n",
       "      <th>M_EBIT_2012</th>\n",
       "      <th>M_liquida_2012</th>\n",
       "    </tr>\n",
       "    <tr>\n",
       "      <th>cluster_label</th>\n",
       "      <th></th>\n",
       "      <th></th>\n",
       "      <th></th>\n",
       "      <th></th>\n",
       "      <th></th>\n",
       "      <th></th>\n",
       "      <th></th>\n",
       "      <th></th>\n",
       "      <th></th>\n",
       "      <th></th>\n",
       "      <th></th>\n",
       "      <th></th>\n",
       "      <th></th>\n",
       "      <th></th>\n",
       "      <th></th>\n",
       "      <th></th>\n",
       "      <th></th>\n",
       "      <th></th>\n",
       "      <th></th>\n",
       "      <th></th>\n",
       "      <th></th>\n",
       "    </tr>\n",
       "  </thead>\n",
       "  <tbody>\n",
       "    <tr>\n",
       "      <th>0</th>\n",
       "      <td>0.092520</td>\n",
       "      <td>0.179390</td>\n",
       "      <td>0.081230</td>\n",
       "      <td>0.047061</td>\n",
       "      <td>0.039443</td>\n",
       "      <td>0.773085</td>\n",
       "      <td>0.667748</td>\n",
       "      <td>0.150734</td>\n",
       "      <td>0.150556</td>\n",
       "      <td>0.056643</td>\n",
       "      <td>...</td>\n",
       "      <td>0.702235</td>\n",
       "      <td>0.012172</td>\n",
       "      <td>0.303052</td>\n",
       "      <td>0.031155</td>\n",
       "      <td>0.973436</td>\n",
       "      <td>0.275965</td>\n",
       "      <td>0.844464</td>\n",
       "      <td>0.957477</td>\n",
       "      <td>0.097787</td>\n",
       "      <td>0.069585</td>\n",
       "    </tr>\n",
       "    <tr>\n",
       "      <th>1</th>\n",
       "      <td>0.092043</td>\n",
       "      <td>0.175382</td>\n",
       "      <td>0.071040</td>\n",
       "      <td>0.044831</td>\n",
       "      <td>0.037176</td>\n",
       "      <td>0.261369</td>\n",
       "      <td>0.679506</td>\n",
       "      <td>0.153160</td>\n",
       "      <td>0.152260</td>\n",
       "      <td>0.054550</td>\n",
       "      <td>...</td>\n",
       "      <td>0.704184</td>\n",
       "      <td>0.012172</td>\n",
       "      <td>0.302594</td>\n",
       "      <td>0.010073</td>\n",
       "      <td>0.979337</td>\n",
       "      <td>0.271222</td>\n",
       "      <td>0.259799</td>\n",
       "      <td>0.957476</td>\n",
       "      <td>0.098859</td>\n",
       "      <td>0.077591</td>\n",
       "    </tr>\n",
       "    <tr>\n",
       "      <th>2</th>\n",
       "      <td>0.092567</td>\n",
       "      <td>0.194411</td>\n",
       "      <td>0.081033</td>\n",
       "      <td>0.044779</td>\n",
       "      <td>0.037016</td>\n",
       "      <td>0.750890</td>\n",
       "      <td>0.670576</td>\n",
       "      <td>0.151512</td>\n",
       "      <td>0.151271</td>\n",
       "      <td>0.056465</td>\n",
       "      <td>...</td>\n",
       "      <td>0.702611</td>\n",
       "      <td>0.012172</td>\n",
       "      <td>0.298878</td>\n",
       "      <td>0.030700</td>\n",
       "      <td>0.970463</td>\n",
       "      <td>0.290669</td>\n",
       "      <td>0.826243</td>\n",
       "      <td>0.952533</td>\n",
       "      <td>0.095451</td>\n",
       "      <td>0.066166</td>\n",
       "    </tr>\n",
       "    <tr>\n",
       "      <th>3</th>\n",
       "      <td>0.092567</td>\n",
       "      <td>0.174935</td>\n",
       "      <td>0.080951</td>\n",
       "      <td>0.040146</td>\n",
       "      <td>0.031847</td>\n",
       "      <td>0.290925</td>\n",
       "      <td>0.888850</td>\n",
       "      <td>0.194549</td>\n",
       "      <td>0.191835</td>\n",
       "      <td>0.056465</td>\n",
       "      <td>...</td>\n",
       "      <td>0.703413</td>\n",
       "      <td>0.012172</td>\n",
       "      <td>0.301813</td>\n",
       "      <td>0.026763</td>\n",
       "      <td>0.979497</td>\n",
       "      <td>0.281261</td>\n",
       "      <td>0.807271</td>\n",
       "      <td>0.960548</td>\n",
       "      <td>0.098407</td>\n",
       "      <td>0.070259</td>\n",
       "    </tr>\n",
       "    <tr>\n",
       "      <th>4</th>\n",
       "      <td>0.102810</td>\n",
       "      <td>0.176102</td>\n",
       "      <td>0.074350</td>\n",
       "      <td>0.044887</td>\n",
       "      <td>0.037240</td>\n",
       "      <td>0.854171</td>\n",
       "      <td>0.669100</td>\n",
       "      <td>1.000000</td>\n",
       "      <td>1.000000</td>\n",
       "      <td>0.029166</td>\n",
       "      <td>...</td>\n",
       "      <td>1.000000</td>\n",
       "      <td>0.012172</td>\n",
       "      <td>0.303024</td>\n",
       "      <td>0.011733</td>\n",
       "      <td>0.978988</td>\n",
       "      <td>0.275114</td>\n",
       "      <td>0.967482</td>\n",
       "      <td>0.957476</td>\n",
       "      <td>1.000000</td>\n",
       "      <td>1.000000</td>\n",
       "    </tr>\n",
       "  </tbody>\n",
       "</table>\n",
       "<p>5 rows × 90 columns</p>\n",
       "</div>"
      ],
      "text/plain": [
       "               DY_ATUAL  P/L_ATUAL  Div_liq/PL_ATUAL  ROE_ATUAL  ROIC_ATUAL  \\\n",
       "cluster_label                                                                 \n",
       "0              0.092520   0.179390          0.081230   0.047061    0.039443   \n",
       "1              0.092043   0.175382          0.071040   0.044831    0.037176   \n",
       "2              0.092567   0.194411          0.081033   0.044779    0.037016   \n",
       "3              0.092567   0.174935          0.080951   0.040146    0.031847   \n",
       "4              0.102810   0.176102          0.074350   0.044887    0.037240   \n",
       "\n",
       "               M_bruta_ATUAL  M_EBTIDA_ATUAL  M_EBIT_ATUAL  M_liquida_ATUAL  \\\n",
       "cluster_label                                                                 \n",
       "0                   0.773085        0.667748      0.150734         0.150556   \n",
       "1                   0.261369        0.679506      0.153160         0.152260   \n",
       "2                   0.750890        0.670576      0.151512         0.151271   \n",
       "3                   0.290925        0.888850      0.194549         0.191835   \n",
       "4                   0.854171        0.669100      1.000000         1.000000   \n",
       "\n",
       "                DY_2020  ...  M_liquida_2013   DY_2012  P/L_2012  \\\n",
       "cluster_label            ...                                       \n",
       "0              0.056643  ...        0.702235  0.012172  0.303052   \n",
       "1              0.054550  ...        0.704184  0.012172  0.302594   \n",
       "2              0.056465  ...        0.702611  0.012172  0.298878   \n",
       "3              0.056465  ...        0.703413  0.012172  0.301813   \n",
       "4              0.029166  ...        1.000000  0.012172  0.303024   \n",
       "\n",
       "               Div_liq/PL_2012  ROE_2012  ROIC_2012  M_bruta_2012  \\\n",
       "cluster_label                                                       \n",
       "0                     0.031155  0.973436   0.275965      0.844464   \n",
       "1                     0.010073  0.979337   0.271222      0.259799   \n",
       "2                     0.030700  0.970463   0.290669      0.826243   \n",
       "3                     0.026763  0.979497   0.281261      0.807271   \n",
       "4                     0.011733  0.978988   0.275114      0.967482   \n",
       "\n",
       "               M_EBTIDA_2012  M_EBIT_2012  M_liquida_2012  \n",
       "cluster_label                                              \n",
       "0                   0.957477     0.097787        0.069585  \n",
       "1                   0.957476     0.098859        0.077591  \n",
       "2                   0.952533     0.095451        0.066166  \n",
       "3                   0.960548     0.098407        0.070259  \n",
       "4                   0.957476     1.000000        1.000000  \n",
       "\n",
       "[5 rows x 90 columns]"
      ]
     },
     "execution_count": 495,
     "metadata": {},
     "output_type": "execute_result"
    }
   ],
   "source": [
    "df_cluster.groupby(\"cluster_label\").mean()"
   ]
  },
  {
   "cell_type": "code",
   "execution_count": null,
   "metadata": {},
   "outputs": [],
   "source": []
  }
 ],
 "metadata": {
  "kernelspec": {
   "display_name": "Python 3",
   "language": "python",
   "name": "python3"
  },
  "language_info": {
   "codemirror_mode": {
    "name": "ipython",
    "version": 3
   },
   "file_extension": ".py",
   "mimetype": "text/x-python",
   "name": "python",
   "nbconvert_exporter": "python",
   "pygments_lexer": "ipython3",
   "version": "3.8.5"
  }
 },
 "nbformat": 4,
 "nbformat_minor": 4
}
